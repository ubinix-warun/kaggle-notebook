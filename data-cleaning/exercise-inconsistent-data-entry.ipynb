{
 "cells": [
  {
   "cell_type": "markdown",
   "id": "728b840f",
   "metadata": {
    "papermill": {
     "duration": 0.00459,
     "end_time": "2024-02-03T07:19:30.884708",
     "exception": false,
     "start_time": "2024-02-03T07:19:30.880118",
     "status": "completed"
    },
    "tags": []
   },
   "source": [
    "**This notebook is an exercise in the [Data Cleaning](https://www.kaggle.com/learn/data-cleaning) course.  You can reference the tutorial at [this link](https://www.kaggle.com/alexisbcook/inconsistent-data-entry).**\n",
    "\n",
    "---\n"
   ]
  },
  {
   "cell_type": "markdown",
   "id": "fa11430c",
   "metadata": {
    "papermill": {
     "duration": 0.003772,
     "end_time": "2024-02-03T07:19:30.892563",
     "exception": false,
     "start_time": "2024-02-03T07:19:30.888791",
     "status": "completed"
    },
    "tags": []
   },
   "source": [
    "In this exercise, you'll apply what you learned in the **Inconsistent data entry** tutorial.\n",
    "\n",
    "# Setup\n",
    "\n",
    "The questions below will give you feedback on your work. Run the following cell to set up the feedback system."
   ]
  },
  {
   "cell_type": "code",
   "execution_count": 1,
   "id": "92a3f8db",
   "metadata": {
    "execution": {
     "iopub.execute_input": "2024-02-03T07:19:30.902190Z",
     "iopub.status.busy": "2024-02-03T07:19:30.901838Z",
     "iopub.status.idle": "2024-02-03T07:19:31.721379Z",
     "shell.execute_reply": "2024-02-03T07:19:31.720088Z"
    },
    "papermill": {
     "duration": 0.826585,
     "end_time": "2024-02-03T07:19:31.723128",
     "exception": false,
     "start_time": "2024-02-03T07:19:30.896543",
     "status": "completed"
    },
    "tags": []
   },
   "outputs": [
    {
     "name": "stdout",
     "output_type": "stream",
     "text": [
      "Setup Complete\n"
     ]
    }
   ],
   "source": [
    "from learntools.core import binder\n",
    "binder.bind(globals())\n",
    "from learntools.data_cleaning.ex5 import *\n",
    "print(\"Setup Complete\")"
   ]
  },
  {
   "cell_type": "markdown",
   "id": "bbcc45e3",
   "metadata": {
    "papermill": {
     "duration": 0.003918,
     "end_time": "2024-02-03T07:19:31.731270",
     "exception": false,
     "start_time": "2024-02-03T07:19:31.727352",
     "status": "completed"
    },
    "tags": []
   },
   "source": [
    "# Get our environment set up\n",
    "\n",
    "The first thing we'll need to do is load in the libraries and dataset we'll be using.  We use the same dataset from the tutorial."
   ]
  },
  {
   "cell_type": "code",
   "execution_count": 2,
   "id": "1d10092f",
   "metadata": {
    "execution": {
     "iopub.execute_input": "2024-02-03T07:19:31.740848Z",
     "iopub.status.busy": "2024-02-03T07:19:31.740364Z",
     "iopub.status.idle": "2024-02-03T07:19:31.750762Z",
     "shell.execute_reply": "2024-02-03T07:19:31.750183Z"
    },
    "papermill": {
     "duration": 0.01709,
     "end_time": "2024-02-03T07:19:31.752376",
     "exception": false,
     "start_time": "2024-02-03T07:19:31.735286",
     "status": "completed"
    },
    "tags": []
   },
   "outputs": [],
   "source": [
    "# modules we'll use\n",
    "import pandas as pd\n",
    "import numpy as np\n",
    "\n",
    "# helpful modules\n",
    "import fuzzywuzzy\n",
    "from fuzzywuzzy import process\n",
    "import charset_normalizer\n",
    "\n",
    "# read in all our data\n",
    "professors = pd.read_csv(\"../input/pakistan-intellectual-capital/pakistan_intellectual_capital.csv\")\n",
    "\n",
    "# set seed for reproducibility\n",
    "np.random.seed(0)"
   ]
  },
  {
   "cell_type": "markdown",
   "id": "f37c7fdd",
   "metadata": {
    "papermill": {
     "duration": 0.003974,
     "end_time": "2024-02-03T07:19:31.760573",
     "exception": false,
     "start_time": "2024-02-03T07:19:31.756599",
     "status": "completed"
    },
    "tags": []
   },
   "source": [
    "Next, we'll redo all of the work that we did in the tutorial."
   ]
  },
  {
   "cell_type": "code",
   "execution_count": 3,
   "id": "ea6068fb",
   "metadata": {
    "execution": {
     "iopub.execute_input": "2024-02-03T07:19:31.770027Z",
     "iopub.status.busy": "2024-02-03T07:19:31.769513Z",
     "iopub.status.idle": "2024-02-03T07:19:31.780398Z",
     "shell.execute_reply": "2024-02-03T07:19:31.779347Z"
    },
    "papermill": {
     "duration": 0.017389,
     "end_time": "2024-02-03T07:19:31.781964",
     "exception": false,
     "start_time": "2024-02-03T07:19:31.764575",
     "status": "completed"
    },
    "tags": []
   },
   "outputs": [
    {
     "name": "stdout",
     "output_type": "stream",
     "text": [
      "All done!\n"
     ]
    }
   ],
   "source": [
    "# convert to lower case\n",
    "professors['Country'] = professors['Country'].str.lower()\n",
    "# remove trailing white spaces\n",
    "professors['Country'] = professors['Country'].str.strip()\n",
    "\n",
    "# get the top 10 closest matches to \"south korea\"\n",
    "countries = professors['Country'].unique()\n",
    "matches = fuzzywuzzy.process.extract(\"south korea\", countries, limit=10, scorer=fuzzywuzzy.fuzz.token_sort_ratio)\n",
    "\n",
    "def replace_matches_in_column(df, column, string_to_match, min_ratio = 47):\n",
    "    # get a list of unique strings\n",
    "    strings = df[column].unique()\n",
    "    \n",
    "    # get the top 10 closest matches to our input string\n",
    "    matches = fuzzywuzzy.process.extract(string_to_match, strings, \n",
    "                                         limit=10, scorer=fuzzywuzzy.fuzz.token_sort_ratio)\n",
    "\n",
    "    # only get matches with a ratio > 90\n",
    "    close_matches = [matches[0] for matches in matches if matches[1] >= min_ratio]\n",
    "\n",
    "    # get the rows of all the close matches in our dataframe\n",
    "    rows_with_matches = df[column].isin(close_matches)\n",
    "\n",
    "    # replace all rows with close matches with the input matches \n",
    "    df.loc[rows_with_matches, column] = string_to_match\n",
    "    \n",
    "    # let us know the function's done\n",
    "    print(\"All done!\")\n",
    "    \n",
    "replace_matches_in_column(df=professors, column='Country', string_to_match=\"south korea\")\n",
    "countries = professors['Country'].unique()"
   ]
  },
  {
   "cell_type": "markdown",
   "id": "5d5bb879",
   "metadata": {
    "papermill": {
     "duration": 0.003897,
     "end_time": "2024-02-03T07:19:31.790041",
     "exception": false,
     "start_time": "2024-02-03T07:19:31.786144",
     "status": "completed"
    },
    "tags": []
   },
   "source": [
    "# 1) Examine another column\n",
    "\n",
    "Write code below to take a look at all the unique values in the \"Graduated from\" column."
   ]
  },
  {
   "cell_type": "code",
   "execution_count": 4,
   "id": "d79d0014",
   "metadata": {
    "execution": {
     "iopub.execute_input": "2024-02-03T07:19:31.799448Z",
     "iopub.status.busy": "2024-02-03T07:19:31.798996Z",
     "iopub.status.idle": "2024-02-03T07:19:31.802501Z",
     "shell.execute_reply": "2024-02-03T07:19:31.801978Z"
    },
    "papermill": {
     "duration": 0.009833,
     "end_time": "2024-02-03T07:19:31.803843",
     "exception": false,
     "start_time": "2024-02-03T07:19:31.794010",
     "status": "completed"
    },
    "tags": []
   },
   "outputs": [],
   "source": [
    "# TODO: Your code here\n",
    "unis = professors['Graduated from'].unique()"
   ]
  },
  {
   "cell_type": "markdown",
   "id": "9a769d11",
   "metadata": {
    "papermill": {
     "duration": 0.003919,
     "end_time": "2024-02-03T07:19:31.811839",
     "exception": false,
     "start_time": "2024-02-03T07:19:31.807920",
     "status": "completed"
    },
    "tags": []
   },
   "source": [
    "Do you notice any inconsistencies in the data?  Can any of the inconsistencies in the data be fixed by removing white spaces at the beginning and end of cells?\n",
    "\n",
    "Once you have answered these questions, run the code cell below to get credit for your work."
   ]
  },
  {
   "cell_type": "code",
   "execution_count": 5,
   "id": "91b0fa5e",
   "metadata": {
    "execution": {
     "iopub.execute_input": "2024-02-03T07:19:31.821049Z",
     "iopub.status.busy": "2024-02-03T07:19:31.820652Z",
     "iopub.status.idle": "2024-02-03T07:19:31.826498Z",
     "shell.execute_reply": "2024-02-03T07:19:31.825973Z"
    },
    "papermill": {
     "duration": 0.012021,
     "end_time": "2024-02-03T07:19:31.827855",
     "exception": false,
     "start_time": "2024-02-03T07:19:31.815834",
     "status": "completed"
    },
    "tags": []
   },
   "outputs": [
    {
     "data": {
      "application/javascript": [
       "parent.postMessage({\"jupyterEvent\": \"custom.exercise_interaction\", \"data\": {\"outcomeType\": 1, \"valueTowardsCompletion\": 0.3333333333333333, \"interactionType\": 1, \"questionType\": 4, \"questionId\": \"1_ExamineProvince\", \"learnToolsVersion\": \"0.3.4\", \"failureMessage\": \"\", \"exceptionClass\": \"\", \"trace\": \"\"}}, \"*\")"
      ],
      "text/plain": [
       "<IPython.core.display.Javascript object>"
      ]
     },
     "metadata": {},
     "output_type": "display_data"
    },
    {
     "data": {
      "text/markdown": [
       "<span style=\"color:#33cc33\">Correct:</span> \n",
       "\n",
       "There are inconsistencies that can be fixed by removing white spaces at the beginning and end of cells.  For instance, \"University of Central Florida\" and \" University of Central Florida\" both appear in the column."
      ],
      "text/plain": [
       "Correct: \n",
       "\n",
       "There are inconsistencies that can be fixed by removing white spaces at the beginning and end of cells.  For instance, \"University of Central Florida\" and \" University of Central Florida\" both appear in the column."
      ]
     },
     "metadata": {},
     "output_type": "display_data"
    }
   ],
   "source": [
    "# Check your answer (Run this code cell to receive credit!)\n",
    "q1.check()"
   ]
  },
  {
   "cell_type": "code",
   "execution_count": 6,
   "id": "b26023d9",
   "metadata": {
    "execution": {
     "iopub.execute_input": "2024-02-03T07:19:31.837556Z",
     "iopub.status.busy": "2024-02-03T07:19:31.837343Z",
     "iopub.status.idle": "2024-02-03T07:19:31.840436Z",
     "shell.execute_reply": "2024-02-03T07:19:31.839645Z"
    },
    "papermill": {
     "duration": 0.009967,
     "end_time": "2024-02-03T07:19:31.842208",
     "exception": false,
     "start_time": "2024-02-03T07:19:31.832241",
     "status": "completed"
    },
    "tags": []
   },
   "outputs": [],
   "source": [
    "# Line below will give you a hint\n",
    "# q1.hint()"
   ]
  },
  {
   "cell_type": "markdown",
   "id": "673f7b2b",
   "metadata": {
    "papermill": {
     "duration": 0.004168,
     "end_time": "2024-02-03T07:19:31.850759",
     "exception": false,
     "start_time": "2024-02-03T07:19:31.846591",
     "status": "completed"
    },
    "tags": []
   },
   "source": [
    "# 2) Do some text pre-processing\n",
    "\n",
    "Convert every entry in the \"Graduated from\" column in the `professors` DataFrame to remove white spaces at the beginning and end of cells."
   ]
  },
  {
   "cell_type": "code",
   "execution_count": 7,
   "id": "55a114f6",
   "metadata": {
    "execution": {
     "iopub.execute_input": "2024-02-03T07:19:31.861853Z",
     "iopub.status.busy": "2024-02-03T07:19:31.861277Z",
     "iopub.status.idle": "2024-02-03T07:19:31.872511Z",
     "shell.execute_reply": "2024-02-03T07:19:31.871719Z"
    },
    "papermill": {
     "duration": 0.018938,
     "end_time": "2024-02-03T07:19:31.874019",
     "exception": false,
     "start_time": "2024-02-03T07:19:31.855081",
     "status": "completed"
    },
    "tags": []
   },
   "outputs": [
    {
     "data": {
      "application/javascript": [
       "parent.postMessage({\"jupyterEvent\": \"custom.exercise_interaction\", \"data\": {\"outcomeType\": 1, \"valueTowardsCompletion\": 0.3333333333333333, \"interactionType\": 1, \"questionType\": 1, \"questionId\": \"2_TextProcessing\", \"learnToolsVersion\": \"0.3.4\", \"failureMessage\": \"\", \"exceptionClass\": \"\", \"trace\": \"\"}}, \"*\")"
      ],
      "text/plain": [
       "<IPython.core.display.Javascript object>"
      ]
     },
     "metadata": {},
     "output_type": "display_data"
    },
    {
     "data": {
      "text/markdown": [
       "<span style=\"color:#33cc33\">Correct</span>"
      ],
      "text/plain": [
       "Correct"
      ]
     },
     "metadata": {},
     "output_type": "display_data"
    }
   ],
   "source": [
    "# TODO: Your code here\n",
    "professors['Graduated from'] = professors['Graduated from'].str.strip()\n",
    "\n",
    "# Check your answer\n",
    "q2.check()"
   ]
  },
  {
   "cell_type": "code",
   "execution_count": 8,
   "id": "7b6452bb",
   "metadata": {
    "execution": {
     "iopub.execute_input": "2024-02-03T07:19:31.884992Z",
     "iopub.status.busy": "2024-02-03T07:19:31.884208Z",
     "iopub.status.idle": "2024-02-03T07:19:31.887382Z",
     "shell.execute_reply": "2024-02-03T07:19:31.886841Z"
    },
    "papermill": {
     "duration": 0.010133,
     "end_time": "2024-02-03T07:19:31.888714",
     "exception": false,
     "start_time": "2024-02-03T07:19:31.878581",
     "status": "completed"
    },
    "tags": []
   },
   "outputs": [],
   "source": [
    "# Lines below will give you a hint or solution code\n",
    "# q2.hint()\n",
    "# q2.solution()"
   ]
  },
  {
   "cell_type": "markdown",
   "id": "0ed28aef",
   "metadata": {
    "papermill": {
     "duration": 0.004565,
     "end_time": "2024-02-03T07:19:31.897749",
     "exception": false,
     "start_time": "2024-02-03T07:19:31.893184",
     "status": "completed"
    },
    "tags": []
   },
   "source": [
    "# 3) Continue working with countries\n",
    "\n",
    "In the tutorial, we focused on cleaning up inconsistencies in the \"Country\" column.  Run the code cell below to view the list of unique values that we ended with."
   ]
  },
  {
   "cell_type": "code",
   "execution_count": 9,
   "id": "9b2bd779",
   "metadata": {
    "execution": {
     "iopub.execute_input": "2024-02-03T07:19:31.908346Z",
     "iopub.status.busy": "2024-02-03T07:19:31.908045Z",
     "iopub.status.idle": "2024-02-03T07:19:31.913557Z",
     "shell.execute_reply": "2024-02-03T07:19:31.912997Z"
    },
    "papermill": {
     "duration": 0.012571,
     "end_time": "2024-02-03T07:19:31.914987",
     "exception": false,
     "start_time": "2024-02-03T07:19:31.902416",
     "status": "completed"
    },
    "tags": []
   },
   "outputs": [
    {
     "data": {
      "text/plain": [
       "array(['australia', 'austria', 'canada', 'china', 'finland', 'france',\n",
       "       'germany', 'greece', 'hongkong', 'ireland', 'italy', 'japan',\n",
       "       'macau', 'malaysia', 'mauritius', 'netherland', 'new zealand',\n",
       "       'norway', 'pakistan', 'portugal', 'russian federation',\n",
       "       'saudi arabia', 'scotland', 'singapore', 'south korea', 'spain',\n",
       "       'sweden', 'thailand', 'turkey', 'uk', 'urbana', 'usa', 'usofa'],\n",
       "      dtype=object)"
      ]
     },
     "execution_count": 9,
     "metadata": {},
     "output_type": "execute_result"
    }
   ],
   "source": [
    "# get all the unique values in the 'City' column\n",
    "countries = professors['Country'].unique()\n",
    "\n",
    "# sort them alphabetically and then take a closer look\n",
    "countries.sort()\n",
    "countries"
   ]
  },
  {
   "cell_type": "markdown",
   "id": "354b7c6e",
   "metadata": {
    "papermill": {
     "duration": 0.004445,
     "end_time": "2024-02-03T07:19:31.924348",
     "exception": false,
     "start_time": "2024-02-03T07:19:31.919903",
     "status": "completed"
    },
    "tags": []
   },
   "source": [
    "Take another look at the \"Country\" column and see if there's any more data cleaning we need to do.\n",
    "\n",
    "It looks like 'usa' and 'usofa' should be the same country.  Correct the \"Country\" column in the dataframe to replace 'usofa' with 'usa'.\n",
    "\n",
    "**Use the most recent version of the DataFrame (with the whitespaces at the beginning and end of cells removed) from question 2.**"
   ]
  },
  {
   "cell_type": "code",
   "execution_count": 10,
   "id": "728f2adf",
   "metadata": {
    "execution": {
     "iopub.execute_input": "2024-02-03T07:19:31.935113Z",
     "iopub.status.busy": "2024-02-03T07:19:31.934367Z",
     "iopub.status.idle": "2024-02-03T07:19:31.943371Z",
     "shell.execute_reply": "2024-02-03T07:19:31.942650Z"
    },
    "papermill": {
     "duration": 0.016375,
     "end_time": "2024-02-03T07:19:31.945263",
     "exception": false,
     "start_time": "2024-02-03T07:19:31.928888",
     "status": "completed"
    },
    "tags": []
   },
   "outputs": [
    {
     "name": "stdout",
     "output_type": "stream",
     "text": [
      "All done!\n"
     ]
    },
    {
     "data": {
      "application/javascript": [
       "parent.postMessage({\"jupyterEvent\": \"custom.exercise_interaction\", \"data\": {\"outcomeType\": 1, \"valueTowardsCompletion\": 0.3333333333333333, \"interactionType\": 1, \"questionType\": 1, \"questionId\": \"3_WorkingWithCities\", \"learnToolsVersion\": \"0.3.4\", \"failureMessage\": \"\", \"exceptionClass\": \"\", \"trace\": \"\"}}, \"*\")"
      ],
      "text/plain": [
       "<IPython.core.display.Javascript object>"
      ]
     },
     "metadata": {},
     "output_type": "display_data"
    },
    {
     "data": {
      "text/markdown": [
       "<span style=\"color:#33cc33\">Correct</span>"
      ],
      "text/plain": [
       "Correct"
      ]
     },
     "metadata": {},
     "output_type": "display_data"
    }
   ],
   "source": [
    "# TODO: Your code here!\n",
    "matches = fuzzywuzzy.process.extract(\"usa\", countries, limit=10, scorer=fuzzywuzzy.fuzz.token_sort_ratio)\n",
    "replace_matches_in_column(df=professors, column='Country', string_to_match=\"usa\", min_ratio=70)\n",
    "\n",
    "# Check your answer\n",
    "q3.check()"
   ]
  },
  {
   "cell_type": "code",
   "execution_count": 11,
   "id": "bd73b763",
   "metadata": {
    "execution": {
     "iopub.execute_input": "2024-02-03T07:19:31.957395Z",
     "iopub.status.busy": "2024-02-03T07:19:31.956507Z",
     "iopub.status.idle": "2024-02-03T07:19:31.960537Z",
     "shell.execute_reply": "2024-02-03T07:19:31.959852Z"
    },
    "papermill": {
     "duration": 0.01143,
     "end_time": "2024-02-03T07:19:31.962000",
     "exception": false,
     "start_time": "2024-02-03T07:19:31.950570",
     "status": "completed"
    },
    "tags": []
   },
   "outputs": [],
   "source": [
    "# Lines below will give you a hint or solution code\n",
    "# q3.hint()\n",
    "# q3.solution()"
   ]
  },
  {
   "cell_type": "markdown",
   "id": "44e16bde",
   "metadata": {
    "papermill": {
     "duration": 0.004695,
     "end_time": "2024-02-03T07:19:31.971636",
     "exception": false,
     "start_time": "2024-02-03T07:19:31.966941",
     "status": "completed"
    },
    "tags": []
   },
   "source": [
    "# Congratulations!\n",
    "\n",
    "Congratulations for completing the **Data Cleaning** course on Kaggle Learn!\n",
    "\n",
    "To practice your new skills, you're encouraged to download and investigate some of [Kaggle's Datasets](https://www.kaggle.com/datasets)."
   ]
  },
  {
   "cell_type": "markdown",
   "id": "db949cd6",
   "metadata": {
    "papermill": {
     "duration": 0.004582,
     "end_time": "2024-02-03T07:19:31.981105",
     "exception": false,
     "start_time": "2024-02-03T07:19:31.976523",
     "status": "completed"
    },
    "tags": []
   },
   "source": [
    "---\n",
    "\n",
    "\n",
    "\n",
    "\n",
    "*Have questions or comments? Visit the [course discussion forum](https://www.kaggle.com/learn/data-cleaning/discussion) to chat with other learners.*"
   ]
  }
 ],
 "metadata": {
  "kaggle": {
   "accelerator": "none",
   "dataSources": [
    {
     "datasetId": 819513,
     "sourceId": 1402182,
     "sourceType": "datasetVersion"
    }
   ],
   "isGpuEnabled": false,
   "isInternetEnabled": false,
   "language": "python",
   "sourceType": "notebook"
  },
  "kernelspec": {
   "display_name": "Python 3",
   "language": "python",
   "name": "python3"
  },
  "language_info": {
   "codemirror_mode": {
    "name": "ipython",
    "version": 3
   },
   "file_extension": ".py",
   "mimetype": "text/x-python",
   "name": "python",
   "nbconvert_exporter": "python",
   "pygments_lexer": "ipython3",
   "version": "3.10.13"
  },
  "papermill": {
   "default_parameters": {},
   "duration": 3.474699,
   "end_time": "2024-02-03T07:19:32.303492",
   "environment_variables": {},
   "exception": null,
   "input_path": "__notebook__.ipynb",
   "output_path": "__notebook__.ipynb",
   "parameters": {},
   "start_time": "2024-02-03T07:19:28.828793",
   "version": "2.5.0"
  }
 },
 "nbformat": 4,
 "nbformat_minor": 5
}
