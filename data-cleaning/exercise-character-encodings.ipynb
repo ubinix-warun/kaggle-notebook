{
 "cells": [
  {
   "cell_type": "markdown",
   "id": "bfe23885",
   "metadata": {
    "papermill": {
     "duration": 0.008341,
     "end_time": "2024-02-01T03:28:11.139424",
     "exception": false,
     "start_time": "2024-02-01T03:28:11.131083",
     "status": "completed"
    },
    "tags": []
   },
   "source": [
    "**This notebook is an exercise in the [Data Cleaning](https://www.kaggle.com/learn/data-cleaning) course.  You can reference the tutorial at [this link](https://www.kaggle.com/alexisbcook/character-encodings).**\n",
    "\n",
    "---\n"
   ]
  },
  {
   "cell_type": "markdown",
   "id": "fb7e7000",
   "metadata": {
    "papermill": {
     "duration": 0.005975,
     "end_time": "2024-02-01T03:28:11.152997",
     "exception": false,
     "start_time": "2024-02-01T03:28:11.147022",
     "status": "completed"
    },
    "tags": []
   },
   "source": [
    "In this exercise, you'll apply what you learned in the **Character encodings** tutorial.\n",
    "\n",
    "# Setup\n",
    "\n",
    "The questions below will give you feedback on your work. Run the following cell to set up the feedback system."
   ]
  },
  {
   "cell_type": "code",
   "execution_count": 1,
   "id": "4b211ef3",
   "metadata": {
    "execution": {
     "iopub.execute_input": "2024-02-01T03:28:11.168319Z",
     "iopub.status.busy": "2024-02-01T03:28:11.167659Z",
     "iopub.status.idle": "2024-02-01T03:28:12.227535Z",
     "shell.execute_reply": "2024-02-01T03:28:12.226589Z"
    },
    "papermill": {
     "duration": 1.070552,
     "end_time": "2024-02-01T03:28:12.230045",
     "exception": false,
     "start_time": "2024-02-01T03:28:11.159493",
     "status": "completed"
    },
    "tags": []
   },
   "outputs": [
    {
     "name": "stdout",
     "output_type": "stream",
     "text": [
      "Setup Complete\n"
     ]
    }
   ],
   "source": [
    "from learntools.core import binder\n",
    "binder.bind(globals())\n",
    "from learntools.data_cleaning.ex4 import *\n",
    "print(\"Setup Complete\")"
   ]
  },
  {
   "cell_type": "markdown",
   "id": "2b54df91",
   "metadata": {
    "papermill": {
     "duration": 0.006712,
     "end_time": "2024-02-01T03:28:12.243630",
     "exception": false,
     "start_time": "2024-02-01T03:28:12.236918",
     "status": "completed"
    },
    "tags": []
   },
   "source": [
    "# Get our environment set up\n",
    "\n",
    "The first thing we'll need to do is load in the libraries we'll be using."
   ]
  },
  {
   "cell_type": "code",
   "execution_count": 2,
   "id": "7f488460",
   "metadata": {
    "execution": {
     "iopub.execute_input": "2024-02-01T03:28:12.259059Z",
     "iopub.status.busy": "2024-02-01T03:28:12.258255Z",
     "iopub.status.idle": "2024-02-01T03:28:12.263178Z",
     "shell.execute_reply": "2024-02-01T03:28:12.262407Z"
    },
    "papermill": {
     "duration": 0.015556,
     "end_time": "2024-02-01T03:28:12.265757",
     "exception": false,
     "start_time": "2024-02-01T03:28:12.250201",
     "status": "completed"
    },
    "tags": []
   },
   "outputs": [],
   "source": [
    "# modules we'll use\n",
    "import pandas as pd\n",
    "import numpy as np\n",
    "\n",
    "# helpful character encoding module\n",
    "import charset_normalizer\n",
    "\n",
    "# set seed for reproducibility\n",
    "np.random.seed(0)"
   ]
  },
  {
   "cell_type": "markdown",
   "id": "a5d627a1",
   "metadata": {
    "papermill": {
     "duration": 0.006168,
     "end_time": "2024-02-01T03:28:12.278564",
     "exception": false,
     "start_time": "2024-02-01T03:28:12.272396",
     "status": "completed"
    },
    "tags": []
   },
   "source": [
    "# 1) What are encodings?\n",
    "\n",
    "You're working with a dataset composed of bytes.  Run the code cell below to print a sample entry."
   ]
  },
  {
   "cell_type": "code",
   "execution_count": 3,
   "id": "76c40683",
   "metadata": {
    "execution": {
     "iopub.execute_input": "2024-02-01T03:28:12.293821Z",
     "iopub.status.busy": "2024-02-01T03:28:12.293152Z",
     "iopub.status.idle": "2024-02-01T03:28:12.298605Z",
     "shell.execute_reply": "2024-02-01T03:28:12.297441Z"
    },
    "papermill": {
     "duration": 0.016012,
     "end_time": "2024-02-01T03:28:12.300993",
     "exception": false,
     "start_time": "2024-02-01T03:28:12.284981",
     "status": "completed"
    },
    "tags": []
   },
   "outputs": [
    {
     "name": "stdout",
     "output_type": "stream",
     "text": [
      "b'\\xa7A\\xa6n'\n",
      "data type: <class 'bytes'>\n"
     ]
    }
   ],
   "source": [
    "sample_entry = b'\\xa7A\\xa6n'\n",
    "print(sample_entry)\n",
    "print('data type:', type(sample_entry))"
   ]
  },
  {
   "cell_type": "markdown",
   "id": "d572477c",
   "metadata": {
    "papermill": {
     "duration": 0.006407,
     "end_time": "2024-02-01T03:28:12.314095",
     "exception": false,
     "start_time": "2024-02-01T03:28:12.307688",
     "status": "completed"
    },
    "tags": []
   },
   "source": [
    "You notice that it doesn't use the standard UTF-8 encoding. \n",
    "\n",
    "Use the next code cell to create a variable `new_entry` that changes the encoding from `\"big5-tw\"` to `\"utf-8\"`.  `new_entry` should have the bytes datatype."
   ]
  },
  {
   "cell_type": "code",
   "execution_count": 4,
   "id": "56194aa7",
   "metadata": {
    "execution": {
     "iopub.execute_input": "2024-02-01T03:28:12.329127Z",
     "iopub.status.busy": "2024-02-01T03:28:12.328756Z",
     "iopub.status.idle": "2024-02-01T03:28:12.339000Z",
     "shell.execute_reply": "2024-02-01T03:28:12.337854Z"
    },
    "papermill": {
     "duration": 0.021716,
     "end_time": "2024-02-01T03:28:12.342459",
     "exception": false,
     "start_time": "2024-02-01T03:28:12.320743",
     "status": "completed"
    },
    "tags": []
   },
   "outputs": [
    {
     "data": {
      "application/javascript": [
       "parent.postMessage({\"jupyterEvent\": \"custom.exercise_interaction\", \"data\": {\"outcomeType\": 1, \"valueTowardsCompletion\": 0.3333333333333333, \"interactionType\": 1, \"questionType\": 1, \"questionId\": \"1_EncodingsIntro\", \"learnToolsVersion\": \"0.3.4\", \"failureMessage\": \"\", \"exceptionClass\": \"\", \"trace\": \"\"}}, \"*\")"
      ],
      "text/plain": [
       "<IPython.core.display.Javascript object>"
      ]
     },
     "metadata": {},
     "output_type": "display_data"
    },
    {
     "data": {
      "text/markdown": [
       "<span style=\"color:#33cc33\">Correct</span>"
      ],
      "text/plain": [
       "Correct"
      ]
     },
     "metadata": {},
     "output_type": "display_data"
    }
   ],
   "source": [
    "before = sample_entry.decode(\"big5-tw\")\n",
    "new_entry = before.encode()\n",
    "\n",
    "# Check your answer\n",
    "q1.check()"
   ]
  },
  {
   "cell_type": "code",
   "execution_count": 5,
   "id": "550bec93",
   "metadata": {
    "execution": {
     "iopub.execute_input": "2024-02-01T03:28:12.358510Z",
     "iopub.status.busy": "2024-02-01T03:28:12.358062Z",
     "iopub.status.idle": "2024-02-01T03:28:12.362737Z",
     "shell.execute_reply": "2024-02-01T03:28:12.361629Z"
    },
    "papermill": {
     "duration": 0.015527,
     "end_time": "2024-02-01T03:28:12.365135",
     "exception": false,
     "start_time": "2024-02-01T03:28:12.349608",
     "status": "completed"
    },
    "tags": []
   },
   "outputs": [],
   "source": [
    "# Lines below will give you a hint or solution code\n",
    "# q1.hint()\n",
    "# q1.solution()"
   ]
  },
  {
   "cell_type": "markdown",
   "id": "f45fc9da",
   "metadata": {
    "papermill": {
     "duration": 0.006833,
     "end_time": "2024-02-01T03:28:12.378945",
     "exception": false,
     "start_time": "2024-02-01T03:28:12.372112",
     "status": "completed"
    },
    "tags": []
   },
   "source": [
    "# 2) Reading in files with encoding problems\n",
    "\n",
    "Use the code cell below to read in this file at path `\"../input/fatal-police-shootings-in-the-us/PoliceKillingsUS.csv\"`.  \n",
    "\n",
    "Figure out what the correct encoding should be and read in the file to a DataFrame `police_killings`."
   ]
  },
  {
   "cell_type": "code",
   "execution_count": 6,
   "id": "9a7a3763",
   "metadata": {
    "execution": {
     "iopub.execute_input": "2024-02-01T03:28:12.395050Z",
     "iopub.status.busy": "2024-02-01T03:28:12.394087Z",
     "iopub.status.idle": "2024-02-01T03:28:12.421693Z",
     "shell.execute_reply": "2024-02-01T03:28:12.420927Z"
    },
    "papermill": {
     "duration": 0.037908,
     "end_time": "2024-02-01T03:28:12.423735",
     "exception": false,
     "start_time": "2024-02-01T03:28:12.385827",
     "status": "completed"
    },
    "tags": []
   },
   "outputs": [
    {
     "data": {
      "application/javascript": [
       "parent.postMessage({\"jupyterEvent\": \"custom.exercise_interaction\", \"data\": {\"outcomeType\": 1, \"valueTowardsCompletion\": 0.3333333333333333, \"interactionType\": 1, \"questionType\": 1, \"questionId\": \"2_ReadIn\", \"learnToolsVersion\": \"0.3.4\", \"failureMessage\": \"\", \"exceptionClass\": \"\", \"trace\": \"\"}}, \"*\")"
      ],
      "text/plain": [
       "<IPython.core.display.Javascript object>"
      ]
     },
     "metadata": {},
     "output_type": "display_data"
    },
    {
     "data": {
      "text/markdown": [
       "<span style=\"color:#33cc33\">Correct</span>"
      ],
      "text/plain": [
       "Correct"
      ]
     },
     "metadata": {},
     "output_type": "display_data"
    }
   ],
   "source": [
    "# TODO: Load in the DataFrame correctly.\n",
    "police_killings = pd.read_csv(\"../input/fatal-police-shootings-in-the-us/PoliceKillingsUS.csv\", encoding='Windows-1252')\n",
    "\n",
    "# Check your answer\n",
    "q2.check()"
   ]
  },
  {
   "cell_type": "markdown",
   "id": "9144c4af",
   "metadata": {
    "papermill": {
     "duration": 0.007601,
     "end_time": "2024-02-01T03:28:12.438478",
     "exception": false,
     "start_time": "2024-02-01T03:28:12.430877",
     "status": "completed"
    },
    "tags": []
   },
   "source": [
    "Feel free to use any additional code cells for supplemental work.  To get credit for finishing this question, you'll need to run `q2.check()` and get a result of **Correct**."
   ]
  },
  {
   "cell_type": "code",
   "execution_count": 7,
   "id": "c2b797cd",
   "metadata": {
    "execution": {
     "iopub.execute_input": "2024-02-01T03:28:12.455316Z",
     "iopub.status.busy": "2024-02-01T03:28:12.454661Z",
     "iopub.status.idle": "2024-02-01T03:28:12.458600Z",
     "shell.execute_reply": "2024-02-01T03:28:12.457793Z"
    },
    "papermill": {
     "duration": 0.015045,
     "end_time": "2024-02-01T03:28:12.460663",
     "exception": false,
     "start_time": "2024-02-01T03:28:12.445618",
     "status": "completed"
    },
    "tags": []
   },
   "outputs": [],
   "source": [
    "# (Optional) Use this code cell for any additional work."
   ]
  },
  {
   "cell_type": "code",
   "execution_count": 8,
   "id": "7dbb245d",
   "metadata": {
    "execution": {
     "iopub.execute_input": "2024-02-01T03:28:12.477279Z",
     "iopub.status.busy": "2024-02-01T03:28:12.476562Z",
     "iopub.status.idle": "2024-02-01T03:28:12.480441Z",
     "shell.execute_reply": "2024-02-01T03:28:12.479588Z"
    },
    "papermill": {
     "duration": 0.014678,
     "end_time": "2024-02-01T03:28:12.482561",
     "exception": false,
     "start_time": "2024-02-01T03:28:12.467883",
     "status": "completed"
    },
    "tags": []
   },
   "outputs": [],
   "source": [
    "# Lines below will give you a hint or solution code\n",
    "# q2.hint()\n",
    "# q2.solution()"
   ]
  },
  {
   "cell_type": "markdown",
   "id": "5f732adc",
   "metadata": {
    "papermill": {
     "duration": 0.006964,
     "end_time": "2024-02-01T03:28:12.497904",
     "exception": false,
     "start_time": "2024-02-01T03:28:12.490940",
     "status": "completed"
    },
    "tags": []
   },
   "source": [
    "# 3) Saving your files with UTF-8 encoding\n",
    "\n",
    "Save a version of the police killings dataset to CSV with UTF-8 encoding.  Your answer will be marked correct after saving this file.  \n",
    "\n",
    "Note: When using the `to_csv()` method, supply only the name of the file (e.g., `\"my_file.csv\"`).  This saves the file at the filepath `\"/kaggle/working/my_file.csv\"`."
   ]
  },
  {
   "cell_type": "code",
   "execution_count": 9,
   "id": "fcdae707",
   "metadata": {
    "execution": {
     "iopub.execute_input": "2024-02-01T03:28:12.514531Z",
     "iopub.status.busy": "2024-02-01T03:28:12.513826Z",
     "iopub.status.idle": "2024-02-01T03:28:12.568710Z",
     "shell.execute_reply": "2024-02-01T03:28:12.567521Z"
    },
    "papermill": {
     "duration": 0.0662,
     "end_time": "2024-02-01T03:28:12.571298",
     "exception": false,
     "start_time": "2024-02-01T03:28:12.505098",
     "status": "completed"
    },
    "tags": []
   },
   "outputs": [
    {
     "data": {
      "application/javascript": [
       "parent.postMessage({\"jupyterEvent\": \"custom.exercise_interaction\", \"data\": {\"outcomeType\": 1, \"valueTowardsCompletion\": 0.3333333333333333, \"interactionType\": 1, \"questionType\": 2, \"questionId\": \"3_SaveCSV\", \"learnToolsVersion\": \"0.3.4\", \"failureMessage\": \"\", \"exceptionClass\": \"\", \"trace\": \"\"}}, \"*\")"
      ],
      "text/plain": [
       "<IPython.core.display.Javascript object>"
      ]
     },
     "metadata": {},
     "output_type": "display_data"
    },
    {
     "data": {
      "text/markdown": [
       "<span style=\"color:#33cc33\">Correct</span>"
      ],
      "text/plain": [
       "Correct"
      ]
     },
     "metadata": {},
     "output_type": "display_data"
    }
   ],
   "source": [
    "# TODO: Save the police killings dataset to CSV\n",
    "police_killings.to_csv(\"my_file.csv\")\n",
    "\n",
    "# Check your answer\n",
    "q3.check()"
   ]
  },
  {
   "cell_type": "code",
   "execution_count": 10,
   "id": "4d3ed83b",
   "metadata": {
    "execution": {
     "iopub.execute_input": "2024-02-01T03:28:12.588702Z",
     "iopub.status.busy": "2024-02-01T03:28:12.588286Z",
     "iopub.status.idle": "2024-02-01T03:28:12.592947Z",
     "shell.execute_reply": "2024-02-01T03:28:12.591780Z"
    },
    "papermill": {
     "duration": 0.01666,
     "end_time": "2024-02-01T03:28:12.595689",
     "exception": false,
     "start_time": "2024-02-01T03:28:12.579029",
     "status": "completed"
    },
    "tags": []
   },
   "outputs": [],
   "source": [
    "# Lines below will give you a hint or solution code\n",
    "# q3.hint()\n",
    "# q3.solution()"
   ]
  },
  {
   "cell_type": "markdown",
   "id": "ffe1f900",
   "metadata": {
    "papermill": {
     "duration": 0.007439,
     "end_time": "2024-02-01T03:28:12.611108",
     "exception": false,
     "start_time": "2024-02-01T03:28:12.603669",
     "status": "completed"
    },
    "tags": []
   },
   "source": [
    "# (Optional) More practice\n",
    "\n",
    "Check out [this dataset of files in different character encodings](https://www.kaggle.com/rtatman/character-encoding-examples). Can you read in all the files with their original encodings and them save them out as UTF-8 files?\n",
    "\n",
    "If you have a file that's in UTF-8 but has just a couple of weird-looking characters in it, you can try out the [ftfy module](https://ftfy.readthedocs.io/en/latest/#) and see if it helps. \n",
    "\n",
    "# Keep going\n",
    "\n",
    "In the final lesson, learn how to [**clean up inconsistent text entries**](https://www.kaggle.com/alexisbcook/inconsistent-data-entry) in your dataset."
   ]
  },
  {
   "cell_type": "markdown",
   "id": "6f0e2fd2",
   "metadata": {
    "papermill": {
     "duration": 0.007328,
     "end_time": "2024-02-01T03:28:12.626460",
     "exception": false,
     "start_time": "2024-02-01T03:28:12.619132",
     "status": "completed"
    },
    "tags": []
   },
   "source": [
    "---\n",
    "\n",
    "\n",
    "\n",
    "\n",
    "*Have questions or comments? Visit the [course discussion forum](https://www.kaggle.com/learn/data-cleaning/discussion) to chat with other learners.*"
   ]
  }
 ],
 "metadata": {
  "kaggle": {
   "accelerator": "none",
   "dataSources": [
    {
     "datasetId": 2647,
     "sourceId": 4395,
     "sourceType": "datasetVersion"
    }
   ],
   "isGpuEnabled": false,
   "isInternetEnabled": false,
   "language": "python",
   "sourceType": "notebook"
  },
  "kernelspec": {
   "display_name": "Python 3",
   "language": "python",
   "name": "python3"
  },
  "language_info": {
   "codemirror_mode": {
    "name": "ipython",
    "version": 3
   },
   "file_extension": ".py",
   "mimetype": "text/x-python",
   "name": "python",
   "nbconvert_exporter": "python",
   "pygments_lexer": "ipython3",
   "version": "3.10.13"
  },
  "papermill": {
   "default_parameters": {},
   "duration": 4.970689,
   "end_time": "2024-02-01T03:28:13.054963",
   "environment_variables": {},
   "exception": null,
   "input_path": "__notebook__.ipynb",
   "output_path": "__notebook__.ipynb",
   "parameters": {},
   "start_time": "2024-02-01T03:28:08.084274",
   "version": "2.5.0"
  }
 },
 "nbformat": 4,
 "nbformat_minor": 5
}
