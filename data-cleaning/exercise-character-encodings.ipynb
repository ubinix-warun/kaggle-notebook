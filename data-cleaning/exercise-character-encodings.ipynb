{
 "cells": [
  {
   "cell_type": "markdown",
   "id": "472de18e",
   "metadata": {
    "papermill": {
     "duration": 0.004564,
     "end_time": "2024-01-31T07:36:35.146939",
     "exception": false,
     "start_time": "2024-01-31T07:36:35.142375",
     "status": "completed"
    },
    "tags": []
   },
   "source": [
    "**This notebook is an exercise in the [Data Cleaning](https://www.kaggle.com/learn/data-cleaning) course.  You can reference the tutorial at [this link](https://www.kaggle.com/alexisbcook/character-encodings).**\n",
    "\n",
    "---\n"
   ]
  },
  {
   "cell_type": "markdown",
   "id": "92d7cd6c",
   "metadata": {
    "papermill": {
     "duration": 0.003467,
     "end_time": "2024-01-31T07:36:35.154653",
     "exception": false,
     "start_time": "2024-01-31T07:36:35.151186",
     "status": "completed"
    },
    "tags": []
   },
   "source": [
    "In this exercise, you'll apply what you learned in the **Character encodings** tutorial.\n",
    "\n",
    "# Setup\n",
    "\n",
    "The questions below will give you feedback on your work. Run the following cell to set up the feedback system."
   ]
  },
  {
   "cell_type": "code",
   "execution_count": 1,
   "id": "cafd2c60",
   "metadata": {
    "execution": {
     "iopub.execute_input": "2024-01-31T07:36:35.164484Z",
     "iopub.status.busy": "2024-01-31T07:36:35.163898Z",
     "iopub.status.idle": "2024-01-31T07:36:36.010911Z",
     "shell.execute_reply": "2024-01-31T07:36:36.009902Z"
    },
    "papermill": {
     "duration": 0.854417,
     "end_time": "2024-01-31T07:36:36.013257",
     "exception": false,
     "start_time": "2024-01-31T07:36:35.158840",
     "status": "completed"
    },
    "tags": []
   },
   "outputs": [
    {
     "name": "stdout",
     "output_type": "stream",
     "text": [
      "Setup Complete\n"
     ]
    }
   ],
   "source": [
    "from learntools.core import binder\n",
    "binder.bind(globals())\n",
    "from learntools.data_cleaning.ex4 import *\n",
    "print(\"Setup Complete\")"
   ]
  },
  {
   "cell_type": "markdown",
   "id": "91390c07",
   "metadata": {
    "papermill": {
     "duration": 0.003501,
     "end_time": "2024-01-31T07:36:36.020799",
     "exception": false,
     "start_time": "2024-01-31T07:36:36.017298",
     "status": "completed"
    },
    "tags": []
   },
   "source": [
    "# Get our environment set up\n",
    "\n",
    "The first thing we'll need to do is load in the libraries we'll be using."
   ]
  },
  {
   "cell_type": "code",
   "execution_count": 2,
   "id": "8f71e320",
   "metadata": {
    "execution": {
     "iopub.execute_input": "2024-01-31T07:36:36.029731Z",
     "iopub.status.busy": "2024-01-31T07:36:36.029377Z",
     "iopub.status.idle": "2024-01-31T07:36:36.033371Z",
     "shell.execute_reply": "2024-01-31T07:36:36.032677Z"
    },
    "papermill": {
     "duration": 0.010835,
     "end_time": "2024-01-31T07:36:36.035151",
     "exception": false,
     "start_time": "2024-01-31T07:36:36.024316",
     "status": "completed"
    },
    "tags": []
   },
   "outputs": [],
   "source": [
    "# modules we'll use\n",
    "import pandas as pd\n",
    "import numpy as np\n",
    "\n",
    "# helpful character encoding module\n",
    "import charset_normalizer\n",
    "\n",
    "# set seed for reproducibility\n",
    "np.random.seed(0)"
   ]
  },
  {
   "cell_type": "markdown",
   "id": "2967a7b5",
   "metadata": {
    "papermill": {
     "duration": 0.003602,
     "end_time": "2024-01-31T07:36:36.042928",
     "exception": false,
     "start_time": "2024-01-31T07:36:36.039326",
     "status": "completed"
    },
    "tags": []
   },
   "source": [
    "# 1) What are encodings?\n",
    "\n",
    "You're working with a dataset composed of bytes.  Run the code cell below to print a sample entry."
   ]
  },
  {
   "cell_type": "code",
   "execution_count": 3,
   "id": "979a9d66",
   "metadata": {
    "execution": {
     "iopub.execute_input": "2024-01-31T07:36:36.052447Z",
     "iopub.status.busy": "2024-01-31T07:36:36.051356Z",
     "iopub.status.idle": "2024-01-31T07:36:36.057036Z",
     "shell.execute_reply": "2024-01-31T07:36:36.055876Z"
    },
    "papermill": {
     "duration": 0.012433,
     "end_time": "2024-01-31T07:36:36.059148",
     "exception": false,
     "start_time": "2024-01-31T07:36:36.046715",
     "status": "completed"
    },
    "tags": []
   },
   "outputs": [
    {
     "name": "stdout",
     "output_type": "stream",
     "text": [
      "b'\\xa7A\\xa6n'\n",
      "data type: <class 'bytes'>\n"
     ]
    }
   ],
   "source": [
    "sample_entry = b'\\xa7A\\xa6n'\n",
    "print(sample_entry)\n",
    "print('data type:', type(sample_entry))"
   ]
  },
  {
   "cell_type": "markdown",
   "id": "6695ad21",
   "metadata": {
    "papermill": {
     "duration": 0.00358,
     "end_time": "2024-01-31T07:36:36.066882",
     "exception": false,
     "start_time": "2024-01-31T07:36:36.063302",
     "status": "completed"
    },
    "tags": []
   },
   "source": [
    "You notice that it doesn't use the standard UTF-8 encoding. \n",
    "\n",
    "Use the next code cell to create a variable `new_entry` that changes the encoding from `\"big5-tw\"` to `\"utf-8\"`.  `new_entry` should have the bytes datatype."
   ]
  },
  {
   "cell_type": "code",
   "execution_count": 4,
   "id": "7dfe34a2",
   "metadata": {
    "execution": {
     "iopub.execute_input": "2024-01-31T07:36:36.075797Z",
     "iopub.status.busy": "2024-01-31T07:36:36.075423Z",
     "iopub.status.idle": "2024-01-31T07:36:36.083696Z",
     "shell.execute_reply": "2024-01-31T07:36:36.082423Z"
    },
    "papermill": {
     "duration": 0.014785,
     "end_time": "2024-01-31T07:36:36.085317",
     "exception": false,
     "start_time": "2024-01-31T07:36:36.070532",
     "status": "completed"
    },
    "tags": []
   },
   "outputs": [
    {
     "data": {
      "application/javascript": [
       "parent.postMessage({\"jupyterEvent\": \"custom.exercise_interaction\", \"data\": {\"outcomeType\": 1, \"valueTowardsCompletion\": 0.3333333333333333, \"interactionType\": 1, \"questionType\": 1, \"questionId\": \"1_EncodingsIntro\", \"learnToolsVersion\": \"0.3.4\", \"failureMessage\": \"\", \"exceptionClass\": \"\", \"trace\": \"\"}}, \"*\")"
      ],
      "text/plain": [
       "<IPython.core.display.Javascript object>"
      ]
     },
     "metadata": {},
     "output_type": "display_data"
    },
    {
     "data": {
      "text/markdown": [
       "<span style=\"color:#33cc33\">Correct</span>"
      ],
      "text/plain": [
       "Correct"
      ]
     },
     "metadata": {},
     "output_type": "display_data"
    }
   ],
   "source": [
    "before = sample_entry.decode(\"big5-tw\")\n",
    "new_entry = before.encode()\n",
    "\n",
    "# Check your answer\n",
    "q1.check()"
   ]
  },
  {
   "cell_type": "code",
   "execution_count": 5,
   "id": "11703c2a",
   "metadata": {
    "execution": {
     "iopub.execute_input": "2024-01-31T07:36:36.094772Z",
     "iopub.status.busy": "2024-01-31T07:36:36.094462Z",
     "iopub.status.idle": "2024-01-31T07:36:36.097262Z",
     "shell.execute_reply": "2024-01-31T07:36:36.096741Z"
    },
    "papermill": {
     "duration": 0.009238,
     "end_time": "2024-01-31T07:36:36.098736",
     "exception": false,
     "start_time": "2024-01-31T07:36:36.089498",
     "status": "completed"
    },
    "tags": []
   },
   "outputs": [],
   "source": [
    "# Lines below will give you a hint or solution code\n",
    "# q1.hint()\n",
    "# q1.solution()"
   ]
  },
  {
   "cell_type": "markdown",
   "id": "4aa21119",
   "metadata": {
    "papermill": {
     "duration": 0.003687,
     "end_time": "2024-01-31T07:36:36.106483",
     "exception": false,
     "start_time": "2024-01-31T07:36:36.102796",
     "status": "completed"
    },
    "tags": []
   },
   "source": [
    "# 2) Reading in files with encoding problems\n",
    "\n",
    "Use the code cell below to read in this file at path `\"../input/fatal-police-shootings-in-the-us/PoliceKillingsUS.csv\"`.  \n",
    "\n",
    "Figure out what the correct encoding should be and read in the file to a DataFrame `police_killings`."
   ]
  },
  {
   "cell_type": "code",
   "execution_count": 6,
   "id": "e879c7df",
   "metadata": {
    "execution": {
     "iopub.execute_input": "2024-01-31T07:36:36.115434Z",
     "iopub.status.busy": "2024-01-31T07:36:36.115195Z",
     "iopub.status.idle": "2024-01-31T07:36:36.121451Z",
     "shell.execute_reply": "2024-01-31T07:36:36.120772Z"
    },
    "papermill": {
     "duration": 0.012623,
     "end_time": "2024-01-31T07:36:36.123098",
     "exception": false,
     "start_time": "2024-01-31T07:36:36.110475",
     "status": "completed"
    },
    "tags": []
   },
   "outputs": [
    {
     "data": {
      "application/javascript": [
       "parent.postMessage({\"jupyterEvent\": \"custom.exercise_interaction\", \"data\": {\"outcomeType\": 4, \"interactionType\": 1, \"questionType\": 1, \"questionId\": \"2_ReadIn\", \"learnToolsVersion\": \"0.3.4\", \"valueTowardsCompletion\": 0.0, \"failureMessage\": \"\", \"exceptionClass\": \"\", \"trace\": \"\"}}, \"*\")"
      ],
      "text/plain": [
       "<IPython.core.display.Javascript object>"
      ]
     },
     "metadata": {},
     "output_type": "display_data"
    },
    {
     "data": {
      "text/markdown": [
       "<span style=\"color:#ccaa33\">Check:</span> When you've updated the starter code, `check()` will tell you whether your code is correct. You need to update the code that creates variable `police_killings`"
      ],
      "text/plain": [
       "Check: When you've updated the starter code, `check()` will tell you whether your code is correct. You need to update the code that creates variable `police_killings`"
      ]
     },
     "metadata": {},
     "output_type": "display_data"
    }
   ],
   "source": [
    "# TODO: Load in the DataFrame correctly.\n",
    "police_killings = ____\n",
    "\n",
    "# Check your answer\n",
    "q2.check()"
   ]
  },
  {
   "cell_type": "markdown",
   "id": "3a246547",
   "metadata": {
    "papermill": {
     "duration": 0.004062,
     "end_time": "2024-01-31T07:36:36.131595",
     "exception": false,
     "start_time": "2024-01-31T07:36:36.127533",
     "status": "completed"
    },
    "tags": []
   },
   "source": [
    "Feel free to use any additional code cells for supplemental work.  To get credit for finishing this question, you'll need to run `q2.check()` and get a result of **Correct**."
   ]
  },
  {
   "cell_type": "code",
   "execution_count": 7,
   "id": "2484c533",
   "metadata": {
    "execution": {
     "iopub.execute_input": "2024-01-31T07:36:36.141291Z",
     "iopub.status.busy": "2024-01-31T07:36:36.141000Z",
     "iopub.status.idle": "2024-01-31T07:36:36.144559Z",
     "shell.execute_reply": "2024-01-31T07:36:36.143835Z"
    },
    "papermill": {
     "duration": 0.010577,
     "end_time": "2024-01-31T07:36:36.146349",
     "exception": false,
     "start_time": "2024-01-31T07:36:36.135772",
     "status": "completed"
    },
    "tags": []
   },
   "outputs": [],
   "source": [
    "# (Optional) Use this code cell for any additional work."
   ]
  },
  {
   "cell_type": "code",
   "execution_count": 8,
   "id": "d6eecad5",
   "metadata": {
    "execution": {
     "iopub.execute_input": "2024-01-31T07:36:36.157015Z",
     "iopub.status.busy": "2024-01-31T07:36:36.156649Z",
     "iopub.status.idle": "2024-01-31T07:36:36.160653Z",
     "shell.execute_reply": "2024-01-31T07:36:36.159725Z"
    },
    "papermill": {
     "duration": 0.011773,
     "end_time": "2024-01-31T07:36:36.162792",
     "exception": false,
     "start_time": "2024-01-31T07:36:36.151019",
     "status": "completed"
    },
    "tags": []
   },
   "outputs": [],
   "source": [
    "# Lines below will give you a hint or solution code\n",
    "#q2.hint()\n",
    "#q2.solution()"
   ]
  },
  {
   "cell_type": "markdown",
   "id": "ae44dade",
   "metadata": {
    "papermill": {
     "duration": 0.005194,
     "end_time": "2024-01-31T07:36:36.172631",
     "exception": false,
     "start_time": "2024-01-31T07:36:36.167437",
     "status": "completed"
    },
    "tags": []
   },
   "source": [
    "# 3) Saving your files with UTF-8 encoding\n",
    "\n",
    "Save a version of the police killings dataset to CSV with UTF-8 encoding.  Your answer will be marked correct after saving this file.  \n",
    "\n",
    "Note: When using the `to_csv()` method, supply only the name of the file (e.g., `\"my_file.csv\"`).  This saves the file at the filepath `\"/kaggle/working/my_file.csv\"`."
   ]
  },
  {
   "cell_type": "code",
   "execution_count": 9,
   "id": "d725382d",
   "metadata": {
    "execution": {
     "iopub.execute_input": "2024-01-31T07:36:36.183126Z",
     "iopub.status.busy": "2024-01-31T07:36:36.182811Z",
     "iopub.status.idle": "2024-01-31T07:36:36.189071Z",
     "shell.execute_reply": "2024-01-31T07:36:36.188121Z"
    },
    "papermill": {
     "duration": 0.014105,
     "end_time": "2024-01-31T07:36:36.191145",
     "exception": false,
     "start_time": "2024-01-31T07:36:36.177040",
     "status": "completed"
    },
    "tags": []
   },
   "outputs": [
    {
     "data": {
      "application/javascript": [
       "parent.postMessage({\"jupyterEvent\": \"custom.exercise_interaction\", \"data\": {\"outcomeType\": 2, \"failureMessage\": \"Please save a CSV file and run this code cell again to get credit!\", \"interactionType\": 1, \"questionType\": 2, \"questionId\": \"3_SaveCSV\", \"learnToolsVersion\": \"0.3.4\", \"valueTowardsCompletion\": 0.0, \"exceptionClass\": \"\", \"trace\": \"\"}}, \"*\")"
      ],
      "text/plain": [
       "<IPython.core.display.Javascript object>"
      ]
     },
     "metadata": {},
     "output_type": "display_data"
    },
    {
     "data": {
      "text/markdown": [
       "<span style=\"color:#cc3333\">Incorrect:</span> Please save a CSV file and run this code cell again to get credit!"
      ],
      "text/plain": [
       "Incorrect: Please save a CSV file and run this code cell again to get credit!"
      ]
     },
     "metadata": {},
     "output_type": "display_data"
    }
   ],
   "source": [
    "# TODO: Save the police killings dataset to CSV\n",
    "____\n",
    "\n",
    "# Check your answer\n",
    "q3.check()"
   ]
  },
  {
   "cell_type": "code",
   "execution_count": 10,
   "id": "21b822ad",
   "metadata": {
    "execution": {
     "iopub.execute_input": "2024-01-31T07:36:36.202243Z",
     "iopub.status.busy": "2024-01-31T07:36:36.201783Z",
     "iopub.status.idle": "2024-01-31T07:36:36.204666Z",
     "shell.execute_reply": "2024-01-31T07:36:36.204082Z"
    },
    "papermill": {
     "duration": 0.01036,
     "end_time": "2024-01-31T07:36:36.206255",
     "exception": false,
     "start_time": "2024-01-31T07:36:36.195895",
     "status": "completed"
    },
    "tags": []
   },
   "outputs": [],
   "source": [
    "# Lines below will give you a hint or solution code\n",
    "#q3.hint()\n",
    "#q3.solution()"
   ]
  },
  {
   "cell_type": "markdown",
   "id": "36e1ec44",
   "metadata": {
    "papermill": {
     "duration": 0.004343,
     "end_time": "2024-01-31T07:36:36.215635",
     "exception": false,
     "start_time": "2024-01-31T07:36:36.211292",
     "status": "completed"
    },
    "tags": []
   },
   "source": [
    "# (Optional) More practice\n",
    "\n",
    "Check out [this dataset of files in different character encodings](https://www.kaggle.com/rtatman/character-encoding-examples). Can you read in all the files with their original encodings and them save them out as UTF-8 files?\n",
    "\n",
    "If you have a file that's in UTF-8 but has just a couple of weird-looking characters in it, you can try out the [ftfy module](https://ftfy.readthedocs.io/en/latest/#) and see if it helps. \n",
    "\n",
    "# Keep going\n",
    "\n",
    "In the final lesson, learn how to [**clean up inconsistent text entries**](https://www.kaggle.com/alexisbcook/inconsistent-data-entry) in your dataset."
   ]
  },
  {
   "cell_type": "markdown",
   "id": "29318b72",
   "metadata": {
    "papermill": {
     "duration": 0.004241,
     "end_time": "2024-01-31T07:36:36.224374",
     "exception": false,
     "start_time": "2024-01-31T07:36:36.220133",
     "status": "completed"
    },
    "tags": []
   },
   "source": [
    "---\n",
    "\n",
    "\n",
    "\n",
    "\n",
    "*Have questions or comments? Visit the [course discussion forum](https://www.kaggle.com/learn/data-cleaning/discussion) to chat with other learners.*"
   ]
  }
 ],
 "metadata": {
  "kaggle": {
   "accelerator": "none",
   "dataSources": [
    {
     "datasetId": 2647,
     "sourceId": 4395,
     "sourceType": "datasetVersion"
    }
   ],
   "isGpuEnabled": false,
   "isInternetEnabled": false,
   "language": "python",
   "sourceType": "notebook"
  },
  "kernelspec": {
   "display_name": "Python 3",
   "language": "python",
   "name": "python3"
  },
  "language_info": {
   "codemirror_mode": {
    "name": "ipython",
    "version": 3
   },
   "file_extension": ".py",
   "mimetype": "text/x-python",
   "name": "python",
   "nbconvert_exporter": "python",
   "pygments_lexer": "ipython3",
   "version": "3.10.13"
  },
  "papermill": {
   "default_parameters": {},
   "duration": 7.225252,
   "end_time": "2024-01-31T07:36:39.699719",
   "environment_variables": {},
   "exception": null,
   "input_path": "__notebook__.ipynb",
   "output_path": "__notebook__.ipynb",
   "parameters": {},
   "start_time": "2024-01-31T07:36:32.474467",
   "version": "2.5.0"
  }
 },
 "nbformat": 4,
 "nbformat_minor": 5
}
