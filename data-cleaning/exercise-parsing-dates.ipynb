{
 "cells": [
  {
   "cell_type": "markdown",
   "id": "727e4351",
   "metadata": {
    "papermill": {
     "duration": 0.006804,
     "end_time": "2024-01-28T07:52:13.919754",
     "exception": false,
     "start_time": "2024-01-28T07:52:13.912950",
     "status": "completed"
    },
    "tags": []
   },
   "source": [
    "**This notebook is an exercise in the [Data Cleaning](https://www.kaggle.com/learn/data-cleaning) course.  You can reference the tutorial at [this link](https://www.kaggle.com/alexisbcook/parsing-dates).**\n",
    "\n",
    "---\n"
   ]
  },
  {
   "cell_type": "markdown",
   "id": "2ae96994",
   "metadata": {
    "papermill": {
     "duration": 0.005857,
     "end_time": "2024-01-28T07:52:13.931886",
     "exception": false,
     "start_time": "2024-01-28T07:52:13.926029",
     "status": "completed"
    },
    "tags": []
   },
   "source": [
    "In this exercise, you'll apply what you learned in the **Parsing dates** tutorial.\n",
    "\n",
    "# Setup\n",
    "\n",
    "The questions below will give you feedback on your work. Run the following cell to set up the feedback system."
   ]
  },
  {
   "cell_type": "code",
   "execution_count": 1,
   "id": "ce898224",
   "metadata": {
    "execution": {
     "iopub.execute_input": "2024-01-28T07:52:13.946339Z",
     "iopub.status.busy": "2024-01-28T07:52:13.945730Z",
     "iopub.status.idle": "2024-01-28T07:52:16.021922Z",
     "shell.execute_reply": "2024-01-28T07:52:16.020598Z"
    },
    "papermill": {
     "duration": 2.086588,
     "end_time": "2024-01-28T07:52:16.024540",
     "exception": false,
     "start_time": "2024-01-28T07:52:13.937952",
     "status": "completed"
    },
    "tags": []
   },
   "outputs": [
    {
     "name": "stdout",
     "output_type": "stream",
     "text": [
      "Setup Complete\n"
     ]
    }
   ],
   "source": [
    "from learntools.core import binder\n",
    "binder.bind(globals())\n",
    "from learntools.data_cleaning.ex3 import *\n",
    "print(\"Setup Complete\")"
   ]
  },
  {
   "cell_type": "markdown",
   "id": "dddeed15",
   "metadata": {
    "papermill": {
     "duration": 0.00659,
     "end_time": "2024-01-28T07:52:16.037587",
     "exception": false,
     "start_time": "2024-01-28T07:52:16.030997",
     "status": "completed"
    },
    "tags": []
   },
   "source": [
    "# Get our environment set up\n",
    "\n",
    "The first thing we'll need to do is load in the libraries and dataset we'll be using. We'll be working with a dataset containing information on earthquakes that occured between 1965 and 2016."
   ]
  },
  {
   "cell_type": "code",
   "execution_count": 2,
   "id": "c126c371",
   "metadata": {
    "execution": {
     "iopub.execute_input": "2024-01-28T07:52:16.052208Z",
     "iopub.status.busy": "2024-01-28T07:52:16.051770Z",
     "iopub.status.idle": "2024-01-28T07:52:16.155191Z",
     "shell.execute_reply": "2024-01-28T07:52:16.153852Z"
    },
    "papermill": {
     "duration": 0.114827,
     "end_time": "2024-01-28T07:52:16.158758",
     "exception": false,
     "start_time": "2024-01-28T07:52:16.043931",
     "status": "completed"
    },
    "tags": []
   },
   "outputs": [],
   "source": [
    "# modules we'll use\n",
    "import pandas as pd\n",
    "import numpy as np\n",
    "import seaborn as sns\n",
    "import datetime\n",
    "\n",
    "# read in our data\n",
    "earthquakes = pd.read_csv(\"../input/earthquake-database/database.csv\")\n",
    "\n",
    "# set seed for reproducibility\n",
    "np.random.seed(0)"
   ]
  },
  {
   "cell_type": "markdown",
   "id": "316b8866",
   "metadata": {
    "papermill": {
     "duration": 0.00623,
     "end_time": "2024-01-28T07:52:16.172698",
     "exception": false,
     "start_time": "2024-01-28T07:52:16.166468",
     "status": "completed"
    },
    "tags": []
   },
   "source": [
    "# 1) Check the data type of our date column\n",
    "\n",
    "You'll be working with the \"Date\" column from the `earthquakes` dataframe.  Investigate this column now: does it look like it contains dates?  What is the dtype of the column?"
   ]
  },
  {
   "cell_type": "code",
   "execution_count": 3,
   "id": "f264aa3f",
   "metadata": {
    "execution": {
     "iopub.execute_input": "2024-01-28T07:52:16.188142Z",
     "iopub.status.busy": "2024-01-28T07:52:16.187731Z",
     "iopub.status.idle": "2024-01-28T07:52:16.196076Z",
     "shell.execute_reply": "2024-01-28T07:52:16.194953Z"
    },
    "papermill": {
     "duration": 0.018905,
     "end_time": "2024-01-28T07:52:16.198481",
     "exception": false,
     "start_time": "2024-01-28T07:52:16.179576",
     "status": "completed"
    },
    "tags": []
   },
   "outputs": [
    {
     "data": {
      "text/plain": [
       "dtype('O')"
      ]
     },
     "execution_count": 3,
     "metadata": {},
     "output_type": "execute_result"
    }
   ],
   "source": [
    "# TODO: Your code here!\n",
    "earthquakes['Date'].head()\n",
    "\n",
    "earthquakes['Date'].dtype"
   ]
  },
  {
   "cell_type": "markdown",
   "id": "fa54b501",
   "metadata": {
    "papermill": {
     "duration": 0.00674,
     "end_time": "2024-01-28T07:52:16.211993",
     "exception": false,
     "start_time": "2024-01-28T07:52:16.205253",
     "status": "completed"
    },
    "tags": []
   },
   "source": [
    "Once you have answered the question above, run the code cell below to get credit for your work."
   ]
  },
  {
   "cell_type": "code",
   "execution_count": 4,
   "id": "bf707acc",
   "metadata": {
    "execution": {
     "iopub.execute_input": "2024-01-28T07:52:16.227110Z",
     "iopub.status.busy": "2024-01-28T07:52:16.226702Z",
     "iopub.status.idle": "2024-01-28T07:52:16.235643Z",
     "shell.execute_reply": "2024-01-28T07:52:16.234430Z"
    },
    "papermill": {
     "duration": 0.0194,
     "end_time": "2024-01-28T07:52:16.237955",
     "exception": false,
     "start_time": "2024-01-28T07:52:16.218555",
     "status": "completed"
    },
    "tags": []
   },
   "outputs": [
    {
     "data": {
      "application/javascript": [
       "parent.postMessage({\"jupyterEvent\": \"custom.exercise_interaction\", \"data\": {\"outcomeType\": 1, \"valueTowardsCompletion\": 0.25, \"interactionType\": 1, \"questionType\": 4, \"questionId\": \"1_CheckDtype\", \"learnToolsVersion\": \"0.3.4\", \"failureMessage\": \"\", \"exceptionClass\": \"\", \"trace\": \"\"}}, \"*\")"
      ],
      "text/plain": [
       "<IPython.core.display.Javascript object>"
      ]
     },
     "metadata": {},
     "output_type": "display_data"
    },
    {
     "data": {
      "text/markdown": [
       "<span style=\"color:#33cc33\">Correct:</span> \n",
       "\n",
       "The \"Date\" column in the `earthquakes` DataFrame does have dates.  The dtype is \"object\"."
      ],
      "text/plain": [
       "Correct: \n",
       "\n",
       "The \"Date\" column in the `earthquakes` DataFrame does have dates.  The dtype is \"object\"."
      ]
     },
     "metadata": {},
     "output_type": "display_data"
    }
   ],
   "source": [
    "# Check your answer (Run this code cell to receive credit!)\n",
    "q1.check()"
   ]
  },
  {
   "cell_type": "code",
   "execution_count": 5,
   "id": "bc1d283f",
   "metadata": {
    "execution": {
     "iopub.execute_input": "2024-01-28T07:52:16.253707Z",
     "iopub.status.busy": "2024-01-28T07:52:16.253343Z",
     "iopub.status.idle": "2024-01-28T07:52:16.257711Z",
     "shell.execute_reply": "2024-01-28T07:52:16.256395Z"
    },
    "papermill": {
     "duration": 0.015491,
     "end_time": "2024-01-28T07:52:16.260314",
     "exception": false,
     "start_time": "2024-01-28T07:52:16.244823",
     "status": "completed"
    },
    "tags": []
   },
   "outputs": [],
   "source": [
    "# Line below will give you a hint\n",
    "# q1.hint()"
   ]
  },
  {
   "cell_type": "markdown",
   "id": "deaf4bd3",
   "metadata": {
    "papermill": {
     "duration": 0.006373,
     "end_time": "2024-01-28T07:52:16.274230",
     "exception": false,
     "start_time": "2024-01-28T07:52:16.267857",
     "status": "completed"
    },
    "tags": []
   },
   "source": [
    "# 2) Convert our date columns to datetime\n",
    "\n",
    "Most of the entries in the \"Date\" column follow the same format: \"month/day/four-digit year\".  However, the entry at index 3378 follows a completely different pattern.  Run the code cell below to see this."
   ]
  },
  {
   "cell_type": "code",
   "execution_count": 6,
   "id": "0c13398f",
   "metadata": {
    "execution": {
     "iopub.execute_input": "2024-01-28T07:52:16.289756Z",
     "iopub.status.busy": "2024-01-28T07:52:16.289293Z",
     "iopub.status.idle": "2024-01-28T07:52:16.321443Z",
     "shell.execute_reply": "2024-01-28T07:52:16.320163Z"
    },
    "papermill": {
     "duration": 0.042802,
     "end_time": "2024-01-28T07:52:16.323759",
     "exception": false,
     "start_time": "2024-01-28T07:52:16.280957",
     "status": "completed"
    },
    "tags": []
   },
   "outputs": [
    {
     "data": {
      "text/html": [
       "<div>\n",
       "<style scoped>\n",
       "    .dataframe tbody tr th:only-of-type {\n",
       "        vertical-align: middle;\n",
       "    }\n",
       "\n",
       "    .dataframe tbody tr th {\n",
       "        vertical-align: top;\n",
       "    }\n",
       "\n",
       "    .dataframe thead th {\n",
       "        text-align: right;\n",
       "    }\n",
       "</style>\n",
       "<table border=\"1\" class=\"dataframe\">\n",
       "  <thead>\n",
       "    <tr style=\"text-align: right;\">\n",
       "      <th></th>\n",
       "      <th>Date</th>\n",
       "      <th>Time</th>\n",
       "      <th>Latitude</th>\n",
       "      <th>Longitude</th>\n",
       "      <th>Type</th>\n",
       "      <th>Depth</th>\n",
       "      <th>Depth Error</th>\n",
       "      <th>Depth Seismic Stations</th>\n",
       "      <th>Magnitude</th>\n",
       "      <th>Magnitude Type</th>\n",
       "      <th>...</th>\n",
       "      <th>Magnitude Seismic Stations</th>\n",
       "      <th>Azimuthal Gap</th>\n",
       "      <th>Horizontal Distance</th>\n",
       "      <th>Horizontal Error</th>\n",
       "      <th>Root Mean Square</th>\n",
       "      <th>ID</th>\n",
       "      <th>Source</th>\n",
       "      <th>Location Source</th>\n",
       "      <th>Magnitude Source</th>\n",
       "      <th>Status</th>\n",
       "    </tr>\n",
       "  </thead>\n",
       "  <tbody>\n",
       "    <tr>\n",
       "      <th>3378</th>\n",
       "      <td>1975-02-23T02:58:41.000Z</td>\n",
       "      <td>1975-02-23T02:58:41.000Z</td>\n",
       "      <td>8.017</td>\n",
       "      <td>124.075</td>\n",
       "      <td>Earthquake</td>\n",
       "      <td>623.0</td>\n",
       "      <td>NaN</td>\n",
       "      <td>NaN</td>\n",
       "      <td>5.6</td>\n",
       "      <td>MB</td>\n",
       "      <td>...</td>\n",
       "      <td>NaN</td>\n",
       "      <td>NaN</td>\n",
       "      <td>NaN</td>\n",
       "      <td>NaN</td>\n",
       "      <td>NaN</td>\n",
       "      <td>USP0000A09</td>\n",
       "      <td>US</td>\n",
       "      <td>US</td>\n",
       "      <td>US</td>\n",
       "      <td>Reviewed</td>\n",
       "    </tr>\n",
       "    <tr>\n",
       "      <th>3379</th>\n",
       "      <td>02/23/1975</td>\n",
       "      <td>03:53:36</td>\n",
       "      <td>-21.727</td>\n",
       "      <td>-71.356</td>\n",
       "      <td>Earthquake</td>\n",
       "      <td>33.0</td>\n",
       "      <td>NaN</td>\n",
       "      <td>NaN</td>\n",
       "      <td>5.6</td>\n",
       "      <td>MB</td>\n",
       "      <td>...</td>\n",
       "      <td>NaN</td>\n",
       "      <td>NaN</td>\n",
       "      <td>NaN</td>\n",
       "      <td>NaN</td>\n",
       "      <td>NaN</td>\n",
       "      <td>USP0000A0A</td>\n",
       "      <td>US</td>\n",
       "      <td>US</td>\n",
       "      <td>US</td>\n",
       "      <td>Reviewed</td>\n",
       "    </tr>\n",
       "    <tr>\n",
       "      <th>3380</th>\n",
       "      <td>02/23/1975</td>\n",
       "      <td>07:34:11</td>\n",
       "      <td>-10.879</td>\n",
       "      <td>166.667</td>\n",
       "      <td>Earthquake</td>\n",
       "      <td>33.0</td>\n",
       "      <td>NaN</td>\n",
       "      <td>NaN</td>\n",
       "      <td>5.5</td>\n",
       "      <td>MS</td>\n",
       "      <td>...</td>\n",
       "      <td>NaN</td>\n",
       "      <td>NaN</td>\n",
       "      <td>NaN</td>\n",
       "      <td>NaN</td>\n",
       "      <td>NaN</td>\n",
       "      <td>USP0000A0C</td>\n",
       "      <td>US</td>\n",
       "      <td>US</td>\n",
       "      <td>US</td>\n",
       "      <td>Reviewed</td>\n",
       "    </tr>\n",
       "    <tr>\n",
       "      <th>3381</th>\n",
       "      <td>02/25/1975</td>\n",
       "      <td>05:20:05</td>\n",
       "      <td>-7.388</td>\n",
       "      <td>149.798</td>\n",
       "      <td>Earthquake</td>\n",
       "      <td>33.0</td>\n",
       "      <td>NaN</td>\n",
       "      <td>NaN</td>\n",
       "      <td>5.5</td>\n",
       "      <td>MB</td>\n",
       "      <td>...</td>\n",
       "      <td>NaN</td>\n",
       "      <td>NaN</td>\n",
       "      <td>NaN</td>\n",
       "      <td>NaN</td>\n",
       "      <td>NaN</td>\n",
       "      <td>USP0000A12</td>\n",
       "      <td>US</td>\n",
       "      <td>US</td>\n",
       "      <td>US</td>\n",
       "      <td>Reviewed</td>\n",
       "    </tr>\n",
       "    <tr>\n",
       "      <th>3382</th>\n",
       "      <td>02/26/1975</td>\n",
       "      <td>04:48:55</td>\n",
       "      <td>85.047</td>\n",
       "      <td>97.969</td>\n",
       "      <td>Earthquake</td>\n",
       "      <td>33.0</td>\n",
       "      <td>NaN</td>\n",
       "      <td>NaN</td>\n",
       "      <td>5.6</td>\n",
       "      <td>MS</td>\n",
       "      <td>...</td>\n",
       "      <td>NaN</td>\n",
       "      <td>NaN</td>\n",
       "      <td>NaN</td>\n",
       "      <td>NaN</td>\n",
       "      <td>NaN</td>\n",
       "      <td>USP0000A1H</td>\n",
       "      <td>US</td>\n",
       "      <td>US</td>\n",
       "      <td>US</td>\n",
       "      <td>Reviewed</td>\n",
       "    </tr>\n",
       "  </tbody>\n",
       "</table>\n",
       "<p>5 rows × 21 columns</p>\n",
       "</div>"
      ],
      "text/plain": [
       "                          Date                      Time  Latitude  Longitude  \\\n",
       "3378  1975-02-23T02:58:41.000Z  1975-02-23T02:58:41.000Z     8.017    124.075   \n",
       "3379                02/23/1975                  03:53:36   -21.727    -71.356   \n",
       "3380                02/23/1975                  07:34:11   -10.879    166.667   \n",
       "3381                02/25/1975                  05:20:05    -7.388    149.798   \n",
       "3382                02/26/1975                  04:48:55    85.047     97.969   \n",
       "\n",
       "            Type  Depth  Depth Error  Depth Seismic Stations  Magnitude  \\\n",
       "3378  Earthquake  623.0          NaN                     NaN        5.6   \n",
       "3379  Earthquake   33.0          NaN                     NaN        5.6   \n",
       "3380  Earthquake   33.0          NaN                     NaN        5.5   \n",
       "3381  Earthquake   33.0          NaN                     NaN        5.5   \n",
       "3382  Earthquake   33.0          NaN                     NaN        5.6   \n",
       "\n",
       "     Magnitude Type  ...  Magnitude Seismic Stations  Azimuthal Gap  \\\n",
       "3378             MB  ...                         NaN            NaN   \n",
       "3379             MB  ...                         NaN            NaN   \n",
       "3380             MS  ...                         NaN            NaN   \n",
       "3381             MB  ...                         NaN            NaN   \n",
       "3382             MS  ...                         NaN            NaN   \n",
       "\n",
       "      Horizontal Distance  Horizontal Error  Root Mean Square          ID  \\\n",
       "3378                  NaN               NaN               NaN  USP0000A09   \n",
       "3379                  NaN               NaN               NaN  USP0000A0A   \n",
       "3380                  NaN               NaN               NaN  USP0000A0C   \n",
       "3381                  NaN               NaN               NaN  USP0000A12   \n",
       "3382                  NaN               NaN               NaN  USP0000A1H   \n",
       "\n",
       "     Source Location Source Magnitude Source    Status  \n",
       "3378     US              US               US  Reviewed  \n",
       "3379     US              US               US  Reviewed  \n",
       "3380     US              US               US  Reviewed  \n",
       "3381     US              US               US  Reviewed  \n",
       "3382     US              US               US  Reviewed  \n",
       "\n",
       "[5 rows x 21 columns]"
      ]
     },
     "execution_count": 6,
     "metadata": {},
     "output_type": "execute_result"
    }
   ],
   "source": [
    "earthquakes[3378:3383]"
   ]
  },
  {
   "cell_type": "markdown",
   "id": "be6e7f13",
   "metadata": {
    "papermill": {
     "duration": 0.007244,
     "end_time": "2024-01-28T07:52:16.338272",
     "exception": false,
     "start_time": "2024-01-28T07:52:16.331028",
     "status": "completed"
    },
    "tags": []
   },
   "source": [
    "This does appear to be an issue with data entry: ideally, all entries in the column have the same format.  We can get an idea of how widespread this issue is by checking the length of each entry in the \"Date\" column."
   ]
  },
  {
   "cell_type": "code",
   "execution_count": 7,
   "id": "c495c1dd",
   "metadata": {
    "execution": {
     "iopub.execute_input": "2024-01-28T07:52:16.354777Z",
     "iopub.status.busy": "2024-01-28T07:52:16.353946Z",
     "iopub.status.idle": "2024-01-28T07:52:16.372510Z",
     "shell.execute_reply": "2024-01-28T07:52:16.371250Z"
    },
    "papermill": {
     "duration": 0.029324,
     "end_time": "2024-01-28T07:52:16.374851",
     "exception": false,
     "start_time": "2024-01-28T07:52:16.345527",
     "status": "completed"
    },
    "tags": []
   },
   "outputs": [
    {
     "data": {
      "text/plain": [
       "Date\n",
       "10    23409\n",
       "24        3\n",
       "Name: count, dtype: int64"
      ]
     },
     "execution_count": 7,
     "metadata": {},
     "output_type": "execute_result"
    }
   ],
   "source": [
    "date_lengths = earthquakes.Date.str.len()\n",
    "date_lengths.value_counts()"
   ]
  },
  {
   "cell_type": "markdown",
   "id": "106dc7d5",
   "metadata": {
    "papermill": {
     "duration": 0.007575,
     "end_time": "2024-01-28T07:52:16.389811",
     "exception": false,
     "start_time": "2024-01-28T07:52:16.382236",
     "status": "completed"
    },
    "tags": []
   },
   "source": [
    "Looks like there are two more rows that has a date in a different format.  Run the code cell below to obtain the indices corresponding to those rows and print the data."
   ]
  },
  {
   "cell_type": "code",
   "execution_count": 8,
   "id": "f02ba984",
   "metadata": {
    "execution": {
     "iopub.execute_input": "2024-01-28T07:52:16.406250Z",
     "iopub.status.busy": "2024-01-28T07:52:16.405851Z",
     "iopub.status.idle": "2024-01-28T07:52:16.434569Z",
     "shell.execute_reply": "2024-01-28T07:52:16.433330Z"
    },
    "papermill": {
     "duration": 0.040148,
     "end_time": "2024-01-28T07:52:16.437290",
     "exception": false,
     "start_time": "2024-01-28T07:52:16.397142",
     "status": "completed"
    },
    "tags": []
   },
   "outputs": [
    {
     "name": "stdout",
     "output_type": "stream",
     "text": [
      "Indices with corrupted data: [ 3378  7512 20650]\n"
     ]
    },
    {
     "data": {
      "text/html": [
       "<div>\n",
       "<style scoped>\n",
       "    .dataframe tbody tr th:only-of-type {\n",
       "        vertical-align: middle;\n",
       "    }\n",
       "\n",
       "    .dataframe tbody tr th {\n",
       "        vertical-align: top;\n",
       "    }\n",
       "\n",
       "    .dataframe thead th {\n",
       "        text-align: right;\n",
       "    }\n",
       "</style>\n",
       "<table border=\"1\" class=\"dataframe\">\n",
       "  <thead>\n",
       "    <tr style=\"text-align: right;\">\n",
       "      <th></th>\n",
       "      <th>Date</th>\n",
       "      <th>Time</th>\n",
       "      <th>Latitude</th>\n",
       "      <th>Longitude</th>\n",
       "      <th>Type</th>\n",
       "      <th>Depth</th>\n",
       "      <th>Depth Error</th>\n",
       "      <th>Depth Seismic Stations</th>\n",
       "      <th>Magnitude</th>\n",
       "      <th>Magnitude Type</th>\n",
       "      <th>...</th>\n",
       "      <th>Magnitude Seismic Stations</th>\n",
       "      <th>Azimuthal Gap</th>\n",
       "      <th>Horizontal Distance</th>\n",
       "      <th>Horizontal Error</th>\n",
       "      <th>Root Mean Square</th>\n",
       "      <th>ID</th>\n",
       "      <th>Source</th>\n",
       "      <th>Location Source</th>\n",
       "      <th>Magnitude Source</th>\n",
       "      <th>Status</th>\n",
       "    </tr>\n",
       "  </thead>\n",
       "  <tbody>\n",
       "    <tr>\n",
       "      <th>3378</th>\n",
       "      <td>1975-02-23T02:58:41.000Z</td>\n",
       "      <td>1975-02-23T02:58:41.000Z</td>\n",
       "      <td>8.017</td>\n",
       "      <td>124.075</td>\n",
       "      <td>Earthquake</td>\n",
       "      <td>623.0</td>\n",
       "      <td>NaN</td>\n",
       "      <td>NaN</td>\n",
       "      <td>5.6</td>\n",
       "      <td>MB</td>\n",
       "      <td>...</td>\n",
       "      <td>NaN</td>\n",
       "      <td>NaN</td>\n",
       "      <td>NaN</td>\n",
       "      <td>NaN</td>\n",
       "      <td>NaN</td>\n",
       "      <td>USP0000A09</td>\n",
       "      <td>US</td>\n",
       "      <td>US</td>\n",
       "      <td>US</td>\n",
       "      <td>Reviewed</td>\n",
       "    </tr>\n",
       "    <tr>\n",
       "      <th>7512</th>\n",
       "      <td>1985-04-28T02:53:41.530Z</td>\n",
       "      <td>1985-04-28T02:53:41.530Z</td>\n",
       "      <td>-32.998</td>\n",
       "      <td>-71.766</td>\n",
       "      <td>Earthquake</td>\n",
       "      <td>33.0</td>\n",
       "      <td>NaN</td>\n",
       "      <td>NaN</td>\n",
       "      <td>5.6</td>\n",
       "      <td>MW</td>\n",
       "      <td>...</td>\n",
       "      <td>NaN</td>\n",
       "      <td>NaN</td>\n",
       "      <td>NaN</td>\n",
       "      <td>NaN</td>\n",
       "      <td>1.30</td>\n",
       "      <td>USP0002E81</td>\n",
       "      <td>US</td>\n",
       "      <td>US</td>\n",
       "      <td>HRV</td>\n",
       "      <td>Reviewed</td>\n",
       "    </tr>\n",
       "    <tr>\n",
       "      <th>20650</th>\n",
       "      <td>2011-03-13T02:23:34.520Z</td>\n",
       "      <td>2011-03-13T02:23:34.520Z</td>\n",
       "      <td>36.344</td>\n",
       "      <td>142.344</td>\n",
       "      <td>Earthquake</td>\n",
       "      <td>10.1</td>\n",
       "      <td>13.9</td>\n",
       "      <td>289.0</td>\n",
       "      <td>5.8</td>\n",
       "      <td>MWC</td>\n",
       "      <td>...</td>\n",
       "      <td>NaN</td>\n",
       "      <td>32.3</td>\n",
       "      <td>NaN</td>\n",
       "      <td>NaN</td>\n",
       "      <td>1.06</td>\n",
       "      <td>USP000HWQP</td>\n",
       "      <td>US</td>\n",
       "      <td>US</td>\n",
       "      <td>GCMT</td>\n",
       "      <td>Reviewed</td>\n",
       "    </tr>\n",
       "  </tbody>\n",
       "</table>\n",
       "<p>3 rows × 21 columns</p>\n",
       "</div>"
      ],
      "text/plain": [
       "                           Date                      Time  Latitude  \\\n",
       "3378   1975-02-23T02:58:41.000Z  1975-02-23T02:58:41.000Z     8.017   \n",
       "7512   1985-04-28T02:53:41.530Z  1985-04-28T02:53:41.530Z   -32.998   \n",
       "20650  2011-03-13T02:23:34.520Z  2011-03-13T02:23:34.520Z    36.344   \n",
       "\n",
       "       Longitude        Type  Depth  Depth Error  Depth Seismic Stations  \\\n",
       "3378     124.075  Earthquake  623.0          NaN                     NaN   \n",
       "7512     -71.766  Earthquake   33.0          NaN                     NaN   \n",
       "20650    142.344  Earthquake   10.1         13.9                   289.0   \n",
       "\n",
       "       Magnitude Magnitude Type  ...  Magnitude Seismic Stations  \\\n",
       "3378         5.6             MB  ...                         NaN   \n",
       "7512         5.6             MW  ...                         NaN   \n",
       "20650        5.8            MWC  ...                         NaN   \n",
       "\n",
       "       Azimuthal Gap  Horizontal Distance  Horizontal Error  Root Mean Square  \\\n",
       "3378             NaN                  NaN               NaN               NaN   \n",
       "7512             NaN                  NaN               NaN              1.30   \n",
       "20650           32.3                  NaN               NaN              1.06   \n",
       "\n",
       "               ID Source Location Source Magnitude Source    Status  \n",
       "3378   USP0000A09     US              US               US  Reviewed  \n",
       "7512   USP0002E81     US              US              HRV  Reviewed  \n",
       "20650  USP000HWQP     US              US             GCMT  Reviewed  \n",
       "\n",
       "[3 rows x 21 columns]"
      ]
     },
     "execution_count": 8,
     "metadata": {},
     "output_type": "execute_result"
    }
   ],
   "source": [
    "indices = np.where([date_lengths == 24])[1]\n",
    "print('Indices with corrupted data:', indices)\n",
    "earthquakes.loc[indices]"
   ]
  },
  {
   "cell_type": "markdown",
   "id": "a6dc3a92",
   "metadata": {
    "papermill": {
     "duration": 0.007387,
     "end_time": "2024-01-28T07:52:16.452578",
     "exception": false,
     "start_time": "2024-01-28T07:52:16.445191",
     "status": "completed"
    },
    "tags": []
   },
   "source": [
    "Given all of this information, it's your turn to create a new column \"date_parsed\" in the `earthquakes` dataset that has correctly parsed dates in it.  \n",
    "\n",
    "**Note**: When completing this problem, you are allowed to (but are not required to) amend the entries in the \"Date\" and \"Time\" columns.  Do not remove any rows from the dataset."
   ]
  },
  {
   "cell_type": "code",
   "execution_count": 9,
   "id": "8801ed16",
   "metadata": {
    "collapsed": true,
    "execution": {
     "iopub.execute_input": "2024-01-28T07:52:16.470902Z",
     "iopub.status.busy": "2024-01-28T07:52:16.470543Z",
     "iopub.status.idle": "2024-01-28T07:52:16.477963Z",
     "shell.execute_reply": "2024-01-28T07:52:16.477163Z"
    },
    "jupyter": {
     "outputs_hidden": true
    },
    "papermill": {
     "duration": 0.018969,
     "end_time": "2024-01-28T07:52:16.480129",
     "exception": false,
     "start_time": "2024-01-28T07:52:16.461160",
     "status": "completed"
    },
    "tags": []
   },
   "outputs": [
    {
     "data": {
      "application/javascript": [
       "parent.postMessage({\"jupyterEvent\": \"custom.exercise_interaction\", \"data\": {\"outcomeType\": 2, \"failureMessage\": \"'date_parsed' is not a column in `earthquakes`.\", \"interactionType\": 1, \"questionType\": 2, \"questionId\": \"2_ConvertToDatetime\", \"learnToolsVersion\": \"0.3.4\", \"valueTowardsCompletion\": 0.0, \"exceptionClass\": \"\", \"trace\": \"\"}}, \"*\")"
      ],
      "text/plain": [
       "<IPython.core.display.Javascript object>"
      ]
     },
     "metadata": {},
     "output_type": "display_data"
    },
    {
     "data": {
      "text/markdown": [
       "<span style=\"color:#cc3333\">Incorrect:</span> 'date_parsed' is not a column in `earthquakes`."
      ],
      "text/plain": [
       "Incorrect: 'date_parsed' is not a column in `earthquakes`."
      ]
     },
     "metadata": {},
     "output_type": "display_data"
    }
   ],
   "source": [
    "# TODO: Your code here\n",
    "\n",
    "# Check your answer\n",
    "q2.check()"
   ]
  },
  {
   "cell_type": "code",
   "execution_count": 10,
   "id": "78c3895b",
   "metadata": {
    "execution": {
     "iopub.execute_input": "2024-01-28T07:52:16.497878Z",
     "iopub.status.busy": "2024-01-28T07:52:16.497482Z",
     "iopub.status.idle": "2024-01-28T07:52:16.501706Z",
     "shell.execute_reply": "2024-01-28T07:52:16.500653Z"
    },
    "papermill": {
     "duration": 0.015876,
     "end_time": "2024-01-28T07:52:16.504027",
     "exception": false,
     "start_time": "2024-01-28T07:52:16.488151",
     "status": "completed"
    },
    "tags": []
   },
   "outputs": [],
   "source": [
    "# Lines below will give you a hint or solution code\n",
    "#q2.hint()\n",
    "#q2.solution()"
   ]
  },
  {
   "cell_type": "markdown",
   "id": "9879722e",
   "metadata": {
    "papermill": {
     "duration": 0.008004,
     "end_time": "2024-01-28T07:52:16.520153",
     "exception": false,
     "start_time": "2024-01-28T07:52:16.512149",
     "status": "completed"
    },
    "tags": []
   },
   "source": [
    "# 3) Select the day of the month\n",
    "\n",
    "Create a Pandas Series `day_of_month_earthquakes` containing the day of the month from the \"date_parsed\" column."
   ]
  },
  {
   "cell_type": "code",
   "execution_count": 11,
   "id": "65ccdd53",
   "metadata": {
    "collapsed": true,
    "execution": {
     "iopub.execute_input": "2024-01-28T07:52:16.538816Z",
     "iopub.status.busy": "2024-01-28T07:52:16.537973Z",
     "iopub.status.idle": "2024-01-28T07:52:16.546406Z",
     "shell.execute_reply": "2024-01-28T07:52:16.545375Z"
    },
    "jupyter": {
     "outputs_hidden": true
    },
    "papermill": {
     "duration": 0.020335,
     "end_time": "2024-01-28T07:52:16.548574",
     "exception": false,
     "start_time": "2024-01-28T07:52:16.528239",
     "status": "completed"
    },
    "tags": []
   },
   "outputs": [
    {
     "data": {
      "application/javascript": [
       "parent.postMessage({\"jupyterEvent\": \"custom.exercise_interaction\", \"data\": {\"outcomeType\": 4, \"interactionType\": 1, \"questionType\": 1, \"questionId\": \"3_DayOfMonth\", \"learnToolsVersion\": \"0.3.4\", \"valueTowardsCompletion\": 0.0, \"failureMessage\": \"\", \"exceptionClass\": \"\", \"trace\": \"\"}}, \"*\")"
      ],
      "text/plain": [
       "<IPython.core.display.Javascript object>"
      ]
     },
     "metadata": {},
     "output_type": "display_data"
    },
    {
     "data": {
      "text/markdown": [
       "<span style=\"color:#ccaa33\">Check:</span> When you've updated the starter code, `check()` will tell you whether your code is correct. You need to update the code that creates variable `day_of_month_earthquakes`"
      ],
      "text/plain": [
       "Check: When you've updated the starter code, `check()` will tell you whether your code is correct. You need to update the code that creates variable `day_of_month_earthquakes`"
      ]
     },
     "metadata": {},
     "output_type": "display_data"
    }
   ],
   "source": [
    "# try to get the day of the month from the date column\n",
    "day_of_month_earthquakes = ____\n",
    "\n",
    "# Check your answer\n",
    "q3.check()"
   ]
  },
  {
   "cell_type": "code",
   "execution_count": 12,
   "id": "3aab4000",
   "metadata": {
    "execution": {
     "iopub.execute_input": "2024-01-28T07:52:16.567136Z",
     "iopub.status.busy": "2024-01-28T07:52:16.566681Z",
     "iopub.status.idle": "2024-01-28T07:52:16.570830Z",
     "shell.execute_reply": "2024-01-28T07:52:16.569918Z"
    },
    "papermill": {
     "duration": 0.016001,
     "end_time": "2024-01-28T07:52:16.572815",
     "exception": false,
     "start_time": "2024-01-28T07:52:16.556814",
     "status": "completed"
    },
    "tags": []
   },
   "outputs": [],
   "source": [
    "# Lines below will give you a hint or solution code\n",
    "#q3.hint()\n",
    "#q3.solution()"
   ]
  },
  {
   "cell_type": "markdown",
   "id": "5c867b12",
   "metadata": {
    "papermill": {
     "duration": 0.008077,
     "end_time": "2024-01-28T07:52:16.589356",
     "exception": false,
     "start_time": "2024-01-28T07:52:16.581279",
     "status": "completed"
    },
    "tags": []
   },
   "source": [
    "# 4) Plot the day of the month to check the date parsing\n",
    "\n",
    "Plot the days of the month from your earthquake dataset."
   ]
  },
  {
   "cell_type": "code",
   "execution_count": 13,
   "id": "c8c9b35a",
   "metadata": {
    "execution": {
     "iopub.execute_input": "2024-01-28T07:52:16.607947Z",
     "iopub.status.busy": "2024-01-28T07:52:16.607583Z",
     "iopub.status.idle": "2024-01-28T07:52:16.611443Z",
     "shell.execute_reply": "2024-01-28T07:52:16.610362Z"
    },
    "papermill": {
     "duration": 0.015916,
     "end_time": "2024-01-28T07:52:16.613658",
     "exception": false,
     "start_time": "2024-01-28T07:52:16.597742",
     "status": "completed"
    },
    "tags": []
   },
   "outputs": [],
   "source": [
    "# TODO: Your code here!\n"
   ]
  },
  {
   "cell_type": "markdown",
   "id": "d370bc07",
   "metadata": {
    "papermill": {
     "duration": 0.009947,
     "end_time": "2024-01-28T07:52:16.632155",
     "exception": false,
     "start_time": "2024-01-28T07:52:16.622208",
     "status": "completed"
    },
    "tags": []
   },
   "source": [
    "Does the graph make sense to you?"
   ]
  },
  {
   "cell_type": "code",
   "execution_count": 14,
   "id": "4c9ae52f",
   "metadata": {
    "collapsed": true,
    "execution": {
     "iopub.execute_input": "2024-01-28T07:52:16.651891Z",
     "iopub.status.busy": "2024-01-28T07:52:16.651527Z",
     "iopub.status.idle": "2024-01-28T07:52:16.659816Z",
     "shell.execute_reply": "2024-01-28T07:52:16.658822Z"
    },
    "jupyter": {
     "outputs_hidden": true
    },
    "papermill": {
     "duration": 0.021166,
     "end_time": "2024-01-28T07:52:16.662026",
     "exception": false,
     "start_time": "2024-01-28T07:52:16.640860",
     "status": "completed"
    },
    "tags": []
   },
   "outputs": [
    {
     "data": {
      "application/javascript": [
       "parent.postMessage({\"jupyterEvent\": \"custom.exercise_interaction\", \"data\": {\"outcomeType\": 1, \"valueTowardsCompletion\": 0.25, \"interactionType\": 1, \"questionType\": 4, \"questionId\": \"4_PlotDayOfMonth\", \"learnToolsVersion\": \"0.3.4\", \"failureMessage\": \"\", \"exceptionClass\": \"\", \"trace\": \"\"}}, \"*\")"
      ],
      "text/plain": [
       "<IPython.core.display.Javascript object>"
      ]
     },
     "metadata": {},
     "output_type": "display_data"
    },
    {
     "data": {
      "text/markdown": [
       "<span style=\"color:#33cc33\">Correct:</span> \n",
       "\n",
       "The graph should make sense: it shows a relatively even distribution in days of the month,which is what we would expect."
      ],
      "text/plain": [
       "Correct: \n",
       "\n",
       "The graph should make sense: it shows a relatively even distribution in days of the month,which is what we would expect."
      ]
     },
     "metadata": {},
     "output_type": "display_data"
    }
   ],
   "source": [
    "# Check your answer (Run this code cell to receive credit!)\n",
    "q4.check()"
   ]
  },
  {
   "cell_type": "code",
   "execution_count": 15,
   "id": "695420e5",
   "metadata": {
    "execution": {
     "iopub.execute_input": "2024-01-28T07:52:16.681224Z",
     "iopub.status.busy": "2024-01-28T07:52:16.680773Z",
     "iopub.status.idle": "2024-01-28T07:52:16.685729Z",
     "shell.execute_reply": "2024-01-28T07:52:16.684618Z"
    },
    "papermill": {
     "duration": 0.017622,
     "end_time": "2024-01-28T07:52:16.688351",
     "exception": false,
     "start_time": "2024-01-28T07:52:16.670729",
     "status": "completed"
    },
    "tags": []
   },
   "outputs": [],
   "source": [
    "# Line below will give you a hint\n",
    "#q4.hint()"
   ]
  },
  {
   "cell_type": "markdown",
   "id": "085acf33",
   "metadata": {
    "papermill": {
     "duration": 0.008504,
     "end_time": "2024-01-28T07:52:16.706053",
     "exception": false,
     "start_time": "2024-01-28T07:52:16.697549",
     "status": "completed"
    },
    "tags": []
   },
   "source": [
    "# (Optional) Bonus Challenge\n",
    "\n",
    "For an extra challenge, you'll work with a [Smithsonian dataset](https://www.kaggle.com/smithsonian/volcanic-eruptions) that documents Earth's volcanoes and their eruptive history over the past 10,000 years \n",
    "\n",
    "Run the next code cell to load the data."
   ]
  },
  {
   "cell_type": "code",
   "execution_count": 16,
   "id": "fb9ceefe",
   "metadata": {
    "collapsed": true,
    "execution": {
     "iopub.execute_input": "2024-01-28T07:52:16.725734Z",
     "iopub.status.busy": "2024-01-28T07:52:16.725375Z",
     "iopub.status.idle": "2024-01-28T07:52:16.744498Z",
     "shell.execute_reply": "2024-01-28T07:52:16.743508Z"
    },
    "jupyter": {
     "outputs_hidden": true
    },
    "papermill": {
     "duration": 0.032205,
     "end_time": "2024-01-28T07:52:16.746942",
     "exception": false,
     "start_time": "2024-01-28T07:52:16.714737",
     "status": "completed"
    },
    "tags": []
   },
   "outputs": [],
   "source": [
    "volcanos = pd.read_csv(\"../input/volcanic-eruptions/database.csv\")"
   ]
  },
  {
   "cell_type": "markdown",
   "id": "36ba17e1",
   "metadata": {
    "papermill": {
     "duration": 0.00867,
     "end_time": "2024-01-28T07:52:16.824905",
     "exception": false,
     "start_time": "2024-01-28T07:52:16.816235",
     "status": "completed"
    },
    "tags": []
   },
   "source": [
    "Try parsing the column \"Last Known Eruption\" from the `volcanos` dataframe. This column contains a mixture of text (\"Unknown\") and years both before the common era (BCE, also known as BC) and in the common era (CE, also known as AD)."
   ]
  },
  {
   "cell_type": "code",
   "execution_count": 17,
   "id": "ec2c53ab",
   "metadata": {
    "execution": {
     "iopub.execute_input": "2024-01-28T07:52:16.844529Z",
     "iopub.status.busy": "2024-01-28T07:52:16.844143Z",
     "iopub.status.idle": "2024-01-28T07:52:16.854305Z",
     "shell.execute_reply": "2024-01-28T07:52:16.852918Z"
    },
    "papermill": {
     "duration": 0.022689,
     "end_time": "2024-01-28T07:52:16.856551",
     "exception": false,
     "start_time": "2024-01-28T07:52:16.833862",
     "status": "completed"
    },
    "tags": []
   },
   "outputs": [
    {
     "data": {
      "text/plain": [
       "764     Unknown\n",
       "1069    1996 CE\n",
       "34      1855 CE\n",
       "489     2016 CE\n",
       "9       1302 CE\n",
       "Name: Last Known Eruption, dtype: object"
      ]
     },
     "execution_count": 17,
     "metadata": {},
     "output_type": "execute_result"
    }
   ],
   "source": [
    "volcanos['Last Known Eruption'].sample(5)"
   ]
  },
  {
   "cell_type": "markdown",
   "id": "5871330b",
   "metadata": {
    "papermill": {
     "duration": 0.009299,
     "end_time": "2024-01-28T07:52:16.875605",
     "exception": false,
     "start_time": "2024-01-28T07:52:16.866306",
     "status": "completed"
    },
    "tags": []
   },
   "source": [
    "# (Optional) More practice\n",
    "\n",
    "If you're interested in graphing time series, [check out this tutorial](https://www.kaggle.com/residentmario/time-series-plotting-optional).\n",
    "\n",
    "You can also look into passing columns that you know have dates in them  the `parse_dates` argument in `read_csv`. (The documention [is here](https://pandas.pydata.org/pandas-docs/stable/generated/pandas.read_csv.html).) Do note that this method can be very slow, but depending on your needs it may sometimes be handy to use.\n",
    "\n",
    "# Keep going\n",
    "\n",
    "In the next lesson, learn how to [**work with character encodings**](https://www.kaggle.com/alexisbcook/character-encodings)."
   ]
  },
  {
   "cell_type": "markdown",
   "id": "4b7adc51",
   "metadata": {
    "papermill": {
     "duration": 0.008821,
     "end_time": "2024-01-28T07:52:16.893665",
     "exception": false,
     "start_time": "2024-01-28T07:52:16.884844",
     "status": "completed"
    },
    "tags": []
   },
   "source": [
    "---\n",
    "\n",
    "\n",
    "\n",
    "\n",
    "*Have questions or comments? Visit the [course discussion forum](https://www.kaggle.com/learn/data-cleaning/discussion) to chat with other learners.*"
   ]
  }
 ],
 "metadata": {
  "kaggle": {
   "accelerator": "none",
   "dataSources": [
    {
     "datasetId": 705,
     "sourceId": 1325,
     "sourceType": "datasetVersion"
    },
    {
     "datasetId": 732,
     "sourceId": 1360,
     "sourceType": "datasetVersion"
    }
   ],
   "isGpuEnabled": false,
   "isInternetEnabled": false,
   "language": "python",
   "sourceType": "notebook"
  },
  "kernelspec": {
   "display_name": "Python 3",
   "language": "python",
   "name": "python3"
  },
  "language_info": {
   "codemirror_mode": {
    "name": "ipython",
    "version": 3
   },
   "file_extension": ".py",
   "mimetype": "text/x-python",
   "name": "python",
   "nbconvert_exporter": "python",
   "pygments_lexer": "ipython3",
   "version": "3.10.12"
  },
  "papermill": {
   "default_parameters": {},
   "duration": 6.725411,
   "end_time": "2024-01-28T07:52:17.522678",
   "environment_variables": {},
   "exception": null,
   "input_path": "__notebook__.ipynb",
   "output_path": "__notebook__.ipynb",
   "parameters": {},
   "start_time": "2024-01-28T07:52:10.797267",
   "version": "2.4.0"
  }
 },
 "nbformat": 4,
 "nbformat_minor": 5
}
