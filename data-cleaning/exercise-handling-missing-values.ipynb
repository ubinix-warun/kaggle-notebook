{
 "cells": [
  {
   "cell_type": "markdown",
   "id": "965581d5",
   "metadata": {
    "papermill": {
     "duration": 0.008426,
     "end_time": "2024-01-23T04:09:05.372330",
     "exception": false,
     "start_time": "2024-01-23T04:09:05.363904",
     "status": "completed"
    },
    "tags": []
   },
   "source": [
    "**This notebook is an exercise in the [Data Cleaning](https://www.kaggle.com/learn/data-cleaning) course.  You can reference the tutorial at [this link](https://www.kaggle.com/alexisbcook/handling-missing-values).**\n",
    "\n",
    "---\n"
   ]
  },
  {
   "cell_type": "markdown",
   "id": "f1a4f1a0",
   "metadata": {
    "papermill": {
     "duration": 0.007061,
     "end_time": "2024-01-23T04:09:05.386962",
     "exception": false,
     "start_time": "2024-01-23T04:09:05.379901",
     "status": "completed"
    },
    "tags": []
   },
   "source": [
    "In this exercise, you'll apply what you learned in the **Handling missing values** tutorial.\n",
    "\n",
    "# Setup\n",
    "\n",
    "The questions below will give you feedback on your work. Run the following cell to set up the feedback system."
   ]
  },
  {
   "cell_type": "code",
   "execution_count": 1,
   "id": "00e8be65",
   "metadata": {
    "execution": {
     "iopub.execute_input": "2024-01-23T04:09:05.403641Z",
     "iopub.status.busy": "2024-01-23T04:09:05.403208Z",
     "iopub.status.idle": "2024-01-23T04:09:11.093375Z",
     "shell.execute_reply": "2024-01-23T04:09:11.092104Z"
    },
    "papermill": {
     "duration": 5.701871,
     "end_time": "2024-01-23T04:09:11.096318",
     "exception": false,
     "start_time": "2024-01-23T04:09:05.394447",
     "status": "completed"
    },
    "tags": []
   },
   "outputs": [
    {
     "name": "stderr",
     "output_type": "stream",
     "text": [
      "/opt/conda/lib/python3.10/site-packages/learntools/data_cleaning/ex1.py:6: DtypeWarning: Columns (22,32) have mixed types. Specify dtype option on import or set low_memory=False.\n",
      "  sf_permits = pd.read_csv(\"../input/building-permit-applications-data/Building_Permits.csv\")\n"
     ]
    },
    {
     "name": "stdout",
     "output_type": "stream",
     "text": [
      "Setup Complete\n"
     ]
    }
   ],
   "source": [
    "from learntools.core import binder\n",
    "binder.bind(globals())\n",
    "from learntools.data_cleaning.ex1 import *\n",
    "print(\"Setup Complete\")"
   ]
  },
  {
   "cell_type": "markdown",
   "id": "21072fff",
   "metadata": {
    "papermill": {
     "duration": 0.007746,
     "end_time": "2024-01-23T04:09:11.112415",
     "exception": false,
     "start_time": "2024-01-23T04:09:11.104669",
     "status": "completed"
    },
    "tags": []
   },
   "source": [
    "# 1) Take a first look at the data\n",
    "\n",
    "Run the next code cell to load in the libraries and dataset you'll use to complete the exercise."
   ]
  },
  {
   "cell_type": "code",
   "execution_count": 2,
   "id": "2d9b8ec0",
   "metadata": {
    "execution": {
     "iopub.execute_input": "2024-01-23T04:09:11.130058Z",
     "iopub.status.busy": "2024-01-23T04:09:11.129486Z",
     "iopub.status.idle": "2024-01-23T04:09:13.370291Z",
     "shell.execute_reply": "2024-01-23T04:09:13.369064Z"
    },
    "papermill": {
     "duration": 2.253131,
     "end_time": "2024-01-23T04:09:13.373117",
     "exception": false,
     "start_time": "2024-01-23T04:09:11.119986",
     "status": "completed"
    },
    "tags": []
   },
   "outputs": [
    {
     "name": "stderr",
     "output_type": "stream",
     "text": [
      "/tmp/ipykernel_18/3534875831.py:6: DtypeWarning: Columns (22,32) have mixed types. Specify dtype option on import or set low_memory=False.\n",
      "  sf_permits = pd.read_csv(\"../input/building-permit-applications-data/Building_Permits.csv\")\n"
     ]
    }
   ],
   "source": [
    "# modules we'll use\n",
    "import pandas as pd\n",
    "import numpy as np\n",
    "\n",
    "# read in all our data\n",
    "sf_permits = pd.read_csv(\"../input/building-permit-applications-data/Building_Permits.csv\")\n",
    "\n",
    "# set seed for reproducibility\n",
    "np.random.seed(0) "
   ]
  },
  {
   "cell_type": "markdown",
   "id": "26003ec9",
   "metadata": {
    "papermill": {
     "duration": 0.007895,
     "end_time": "2024-01-23T04:09:13.389523",
     "exception": false,
     "start_time": "2024-01-23T04:09:13.381628",
     "status": "completed"
    },
    "tags": []
   },
   "source": [
    "Use the code cell below to print the first five rows of the `sf_permits` DataFrame."
   ]
  },
  {
   "cell_type": "code",
   "execution_count": 3,
   "id": "9078d219",
   "metadata": {
    "execution": {
     "iopub.execute_input": "2024-01-23T04:09:13.407528Z",
     "iopub.status.busy": "2024-01-23T04:09:13.407091Z",
     "iopub.status.idle": "2024-01-23T04:09:13.412334Z",
     "shell.execute_reply": "2024-01-23T04:09:13.411206Z"
    },
    "papermill": {
     "duration": 0.016878,
     "end_time": "2024-01-23T04:09:13.414739",
     "exception": false,
     "start_time": "2024-01-23T04:09:13.397861",
     "status": "completed"
    },
    "tags": []
   },
   "outputs": [],
   "source": [
    "# TODO: Your code here!\n"
   ]
  },
  {
   "cell_type": "markdown",
   "id": "2933c3ec",
   "metadata": {
    "papermill": {
     "duration": 0.007721,
     "end_time": "2024-01-23T04:09:13.430394",
     "exception": false,
     "start_time": "2024-01-23T04:09:13.422673",
     "status": "completed"
    },
    "tags": []
   },
   "source": [
    "Does the dataset have any missing values?  Once you have an answer, run the code cell below to get credit for your work."
   ]
  },
  {
   "cell_type": "code",
   "execution_count": 4,
   "id": "0c284773",
   "metadata": {
    "execution": {
     "iopub.execute_input": "2024-01-23T04:09:13.447968Z",
     "iopub.status.busy": "2024-01-23T04:09:13.447540Z",
     "iopub.status.idle": "2024-01-23T04:09:13.458011Z",
     "shell.execute_reply": "2024-01-23T04:09:13.456932Z"
    },
    "papermill": {
     "duration": 0.021928,
     "end_time": "2024-01-23T04:09:13.460276",
     "exception": false,
     "start_time": "2024-01-23T04:09:13.438348",
     "status": "completed"
    },
    "tags": []
   },
   "outputs": [
    {
     "data": {
      "application/javascript": [
       "parent.postMessage({\"jupyterEvent\": \"custom.exercise_interaction\", \"data\": {\"outcomeType\": 1, \"valueTowardsCompletion\": 0.16666666666666666, \"interactionType\": 1, \"questionType\": 4, \"questionId\": \"1_TakeFirstLook\", \"learnToolsVersion\": \"0.3.4\", \"failureMessage\": \"\", \"exceptionClass\": \"\", \"trace\": \"\"}}, \"*\")"
      ],
      "text/plain": [
       "<IPython.core.display.Javascript object>"
      ]
     },
     "metadata": {},
     "output_type": "display_data"
    },
    {
     "data": {
      "text/markdown": [
       "<span style=\"color:#33cc33\">Correct:</span> \n",
       "\n",
       "The first five rows of the data does show that several columns have missing values.  You can see this in the \"Street Number Suffix\", \"Proposed Construction Type\" and \"Site Permit\" columns, among others."
      ],
      "text/plain": [
       "Correct: \n",
       "\n",
       "The first five rows of the data does show that several columns have missing values.  You can see this in the \"Street Number Suffix\", \"Proposed Construction Type\" and \"Site Permit\" columns, among others."
      ]
     },
     "metadata": {},
     "output_type": "display_data"
    }
   ],
   "source": [
    "# Check your answer (Run this code cell to receive credit!)\n",
    "q1.check()"
   ]
  },
  {
   "cell_type": "code",
   "execution_count": 5,
   "id": "5ac0043b",
   "metadata": {
    "execution": {
     "iopub.execute_input": "2024-01-23T04:09:13.479678Z",
     "iopub.status.busy": "2024-01-23T04:09:13.478879Z",
     "iopub.status.idle": "2024-01-23T04:09:13.483343Z",
     "shell.execute_reply": "2024-01-23T04:09:13.482447Z"
    },
    "papermill": {
     "duration": 0.016931,
     "end_time": "2024-01-23T04:09:13.485642",
     "exception": false,
     "start_time": "2024-01-23T04:09:13.468711",
     "status": "completed"
    },
    "tags": []
   },
   "outputs": [],
   "source": [
    "# Line below will give you a hint\n",
    "#q1.hint()"
   ]
  },
  {
   "cell_type": "markdown",
   "id": "2d32fb1d",
   "metadata": {
    "papermill": {
     "duration": 0.008242,
     "end_time": "2024-01-23T04:09:13.502888",
     "exception": false,
     "start_time": "2024-01-23T04:09:13.494646",
     "status": "completed"
    },
    "tags": []
   },
   "source": [
    "# 2) How many missing data points do we have?\n",
    "\n",
    "What percentage of the values in the dataset are missing?  Your answer should be a number between 0 and 100.  (If 1/4 of the values in the dataset are missing, the answer is 25.)"
   ]
  },
  {
   "cell_type": "code",
   "execution_count": 6,
   "id": "8ad67ca5",
   "metadata": {
    "execution": {
     "iopub.execute_input": "2024-01-23T04:09:13.521532Z",
     "iopub.status.busy": "2024-01-23T04:09:13.521080Z",
     "iopub.status.idle": "2024-01-23T04:09:13.529616Z",
     "shell.execute_reply": "2024-01-23T04:09:13.528630Z"
    },
    "papermill": {
     "duration": 0.020491,
     "end_time": "2024-01-23T04:09:13.531814",
     "exception": false,
     "start_time": "2024-01-23T04:09:13.511323",
     "status": "completed"
    },
    "tags": []
   },
   "outputs": [
    {
     "data": {
      "application/javascript": [
       "parent.postMessage({\"jupyterEvent\": \"custom.exercise_interaction\", \"data\": {\"outcomeType\": 4, \"interactionType\": 1, \"questionType\": 1, \"questionId\": \"2_PercentMissingValues\", \"learnToolsVersion\": \"0.3.4\", \"valueTowardsCompletion\": 0.0, \"failureMessage\": \"\", \"exceptionClass\": \"\", \"trace\": \"\"}}, \"*\")"
      ],
      "text/plain": [
       "<IPython.core.display.Javascript object>"
      ]
     },
     "metadata": {},
     "output_type": "display_data"
    },
    {
     "data": {
      "text/markdown": [
       "<span style=\"color:#ccaa33\">Check:</span> When you've updated the starter code, `check()` will tell you whether your code is correct. You need to update the code that creates variable `percent_missing`"
      ],
      "text/plain": [
       "Check: When you've updated the starter code, `check()` will tell you whether your code is correct. You need to update the code that creates variable `percent_missing`"
      ]
     },
     "metadata": {},
     "output_type": "display_data"
    }
   ],
   "source": [
    "# TODO: Your code here!\n",
    "percent_missing = ____\n",
    "\n",
    "# Check your answer\n",
    "q2.check()"
   ]
  },
  {
   "cell_type": "code",
   "execution_count": 7,
   "id": "3e11b1ff",
   "metadata": {
    "execution": {
     "iopub.execute_input": "2024-01-23T04:09:13.551678Z",
     "iopub.status.busy": "2024-01-23T04:09:13.550982Z",
     "iopub.status.idle": "2024-01-23T04:09:13.554802Z",
     "shell.execute_reply": "2024-01-23T04:09:13.554047Z"
    },
    "papermill": {
     "duration": 0.016345,
     "end_time": "2024-01-23T04:09:13.556846",
     "exception": false,
     "start_time": "2024-01-23T04:09:13.540501",
     "status": "completed"
    },
    "tags": []
   },
   "outputs": [],
   "source": [
    "# Lines below will give you a hint or solution code\n",
    "#q2.hint()\n",
    "#q2.solution()"
   ]
  },
  {
   "cell_type": "markdown",
   "id": "093f77fa",
   "metadata": {
    "papermill": {
     "duration": 0.008579,
     "end_time": "2024-01-23T04:09:13.574252",
     "exception": false,
     "start_time": "2024-01-23T04:09:13.565673",
     "status": "completed"
    },
    "tags": []
   },
   "source": [
    "# 3) Figure out why the data is missing\n",
    "\n",
    "Look at the columns **\"Street Number Suffix\"** and **\"Zipcode\"** from the [San Francisco Building Permits dataset](https://www.kaggle.com/aparnashastry/building-permit-applications-data). Both of these contain missing values. \n",
    "- Which, if either, are missing because they don't exist? \n",
    "- Which, if either, are missing because they weren't recorded?  \n",
    "\n",
    "Once you have an answer, run the code cell below."
   ]
  },
  {
   "cell_type": "code",
   "execution_count": 8,
   "id": "deab7214",
   "metadata": {
    "execution": {
     "iopub.execute_input": "2024-01-23T04:09:13.594827Z",
     "iopub.status.busy": "2024-01-23T04:09:13.594118Z",
     "iopub.status.idle": "2024-01-23T04:09:13.601927Z",
     "shell.execute_reply": "2024-01-23T04:09:13.601211Z"
    },
    "papermill": {
     "duration": 0.020865,
     "end_time": "2024-01-23T04:09:13.603956",
     "exception": false,
     "start_time": "2024-01-23T04:09:13.583091",
     "status": "completed"
    },
    "tags": []
   },
   "outputs": [
    {
     "data": {
      "application/javascript": [
       "parent.postMessage({\"jupyterEvent\": \"custom.exercise_interaction\", \"data\": {\"outcomeType\": 1, \"valueTowardsCompletion\": 0.16666666666666666, \"interactionType\": 1, \"questionType\": 4, \"questionId\": \"3_WhyDataMissing\", \"learnToolsVersion\": \"0.3.4\", \"failureMessage\": \"\", \"exceptionClass\": \"\", \"trace\": \"\"}}, \"*\")"
      ],
      "text/plain": [
       "<IPython.core.display.Javascript object>"
      ]
     },
     "metadata": {},
     "output_type": "display_data"
    },
    {
     "data": {
      "text/markdown": [
       "<span style=\"color:#33cc33\">Correct:</span> \n",
       "\n",
       "If a value in the \"Street Number Suffix\" column is missing, it is likely because it does not exist. If a value in the \"Zipcode\" column is missing, it was not recorded."
      ],
      "text/plain": [
       "Correct: \n",
       "\n",
       "If a value in the \"Street Number Suffix\" column is missing, it is likely because it does not exist. If a value in the \"Zipcode\" column is missing, it was not recorded."
      ]
     },
     "metadata": {},
     "output_type": "display_data"
    }
   ],
   "source": [
    "# Check your answer (Run this code cell to receive credit!)\n",
    "q3.check()"
   ]
  },
  {
   "cell_type": "code",
   "execution_count": 9,
   "id": "dff0f840",
   "metadata": {
    "execution": {
     "iopub.execute_input": "2024-01-23T04:09:13.624779Z",
     "iopub.status.busy": "2024-01-23T04:09:13.624084Z",
     "iopub.status.idle": "2024-01-23T04:09:13.628353Z",
     "shell.execute_reply": "2024-01-23T04:09:13.627486Z"
    },
    "papermill": {
     "duration": 0.0175,
     "end_time": "2024-01-23T04:09:13.630713",
     "exception": false,
     "start_time": "2024-01-23T04:09:13.613213",
     "status": "completed"
    },
    "tags": []
   },
   "outputs": [],
   "source": [
    "# Line below will give you a hint\n",
    "#q3.hint()"
   ]
  },
  {
   "cell_type": "markdown",
   "id": "5d0e22e0",
   "metadata": {
    "papermill": {
     "duration": 0.009219,
     "end_time": "2024-01-23T04:09:13.649254",
     "exception": false,
     "start_time": "2024-01-23T04:09:13.640035",
     "status": "completed"
    },
    "tags": []
   },
   "source": [
    "# 4) Drop missing values: rows\n",
    "\n",
    "If you removed all of the rows of `sf_permits` with missing values, how many rows are left?\n",
    "\n",
    "**Note**: Do not change the value of `sf_permits` when checking this.  "
   ]
  },
  {
   "cell_type": "code",
   "execution_count": 10,
   "id": "e7c1172c",
   "metadata": {
    "execution": {
     "iopub.execute_input": "2024-01-23T04:09:13.670014Z",
     "iopub.status.busy": "2024-01-23T04:09:13.669617Z",
     "iopub.status.idle": "2024-01-23T04:09:13.674016Z",
     "shell.execute_reply": "2024-01-23T04:09:13.672903Z"
    },
    "papermill": {
     "duration": 0.017854,
     "end_time": "2024-01-23T04:09:13.676507",
     "exception": false,
     "start_time": "2024-01-23T04:09:13.658653",
     "status": "completed"
    },
    "tags": []
   },
   "outputs": [],
   "source": [
    "# TODO: Your code here!\n"
   ]
  },
  {
   "cell_type": "markdown",
   "id": "04afca0e",
   "metadata": {
    "papermill": {
     "duration": 0.009242,
     "end_time": "2024-01-23T04:09:13.695219",
     "exception": false,
     "start_time": "2024-01-23T04:09:13.685977",
     "status": "completed"
    },
    "tags": []
   },
   "source": [
    "Once you have an answer, run the code cell below."
   ]
  },
  {
   "cell_type": "code",
   "execution_count": 11,
   "id": "9a1a1e6d",
   "metadata": {
    "execution": {
     "iopub.execute_input": "2024-01-23T04:09:13.716018Z",
     "iopub.status.busy": "2024-01-23T04:09:13.715633Z",
     "iopub.status.idle": "2024-01-23T04:09:13.723570Z",
     "shell.execute_reply": "2024-01-23T04:09:13.722600Z"
    },
    "papermill": {
     "duration": 0.021114,
     "end_time": "2024-01-23T04:09:13.726022",
     "exception": false,
     "start_time": "2024-01-23T04:09:13.704908",
     "status": "completed"
    },
    "tags": []
   },
   "outputs": [
    {
     "data": {
      "application/javascript": [
       "parent.postMessage({\"jupyterEvent\": \"custom.exercise_interaction\", \"data\": {\"outcomeType\": 1, \"valueTowardsCompletion\": 0.16666666666666666, \"interactionType\": 1, \"questionType\": 4, \"questionId\": \"4_DropMissingRows\", \"learnToolsVersion\": \"0.3.4\", \"failureMessage\": \"\", \"exceptionClass\": \"\", \"trace\": \"\"}}, \"*\")"
      ],
      "text/plain": [
       "<IPython.core.display.Javascript object>"
      ]
     },
     "metadata": {},
     "output_type": "display_data"
    },
    {
     "data": {
      "text/markdown": [
       "<span style=\"color:#33cc33\">Correct:</span> \n",
       "\n",
       "There are no rows remaining in the dataset!"
      ],
      "text/plain": [
       "Correct: \n",
       "\n",
       "There are no rows remaining in the dataset!"
      ]
     },
     "metadata": {},
     "output_type": "display_data"
    }
   ],
   "source": [
    "# Check your answer (Run this code cell to receive credit!)\n",
    "q4.check()"
   ]
  },
  {
   "cell_type": "code",
   "execution_count": 12,
   "id": "449fb5e2",
   "metadata": {
    "execution": {
     "iopub.execute_input": "2024-01-23T04:09:13.747378Z",
     "iopub.status.busy": "2024-01-23T04:09:13.746987Z",
     "iopub.status.idle": "2024-01-23T04:09:13.751262Z",
     "shell.execute_reply": "2024-01-23T04:09:13.750170Z"
    },
    "papermill": {
     "duration": 0.017907,
     "end_time": "2024-01-23T04:09:13.753785",
     "exception": false,
     "start_time": "2024-01-23T04:09:13.735878",
     "status": "completed"
    },
    "tags": []
   },
   "outputs": [],
   "source": [
    "# Line below will give you a hint\n",
    "#q4.hint()"
   ]
  },
  {
   "cell_type": "markdown",
   "id": "f791a311",
   "metadata": {
    "papermill": {
     "duration": 0.009395,
     "end_time": "2024-01-23T04:09:13.772937",
     "exception": false,
     "start_time": "2024-01-23T04:09:13.763542",
     "status": "completed"
    },
    "tags": []
   },
   "source": [
    "# 5) Drop missing values: columns\n",
    "\n",
    "Now try removing all the columns with empty values.  \n",
    "- Create a new DataFrame called `sf_permits_with_na_dropped` that has all of the columns with empty values removed.  \n",
    "- How many columns were removed from the original `sf_permits` DataFrame? Use this number to set the value of the `dropped_columns` variable below."
   ]
  },
  {
   "cell_type": "code",
   "execution_count": 13,
   "id": "b606a036",
   "metadata": {
    "execution": {
     "iopub.execute_input": "2024-01-23T04:09:13.794999Z",
     "iopub.status.busy": "2024-01-23T04:09:13.793884Z",
     "iopub.status.idle": "2024-01-23T04:09:13.803828Z",
     "shell.execute_reply": "2024-01-23T04:09:13.802643Z"
    },
    "papermill": {
     "duration": 0.023372,
     "end_time": "2024-01-23T04:09:13.806136",
     "exception": false,
     "start_time": "2024-01-23T04:09:13.782764",
     "status": "completed"
    },
    "tags": []
   },
   "outputs": [
    {
     "data": {
      "application/javascript": [
       "parent.postMessage({\"jupyterEvent\": \"custom.exercise_interaction\", \"data\": {\"outcomeType\": 4, \"interactionType\": 1, \"questionType\": 1, \"questionId\": \"5_DropMissingCols\", \"learnToolsVersion\": \"0.3.4\", \"valueTowardsCompletion\": 0.0, \"failureMessage\": \"\", \"exceptionClass\": \"\", \"trace\": \"\"}}, \"*\")"
      ],
      "text/plain": [
       "<IPython.core.display.Javascript object>"
      ]
     },
     "metadata": {},
     "output_type": "display_data"
    },
    {
     "data": {
      "text/markdown": [
       "<span style=\"color:#ccaa33\">Check:</span> When you've updated the starter code, `check()` will tell you whether your code is correct. You need to update the code that creates variables `sf_permits_with_na_dropped`, `dropped_columns`"
      ],
      "text/plain": [
       "Check: When you've updated the starter code, `check()` will tell you whether your code is correct. You need to update the code that creates variables `sf_permits_with_na_dropped`, `dropped_columns`"
      ]
     },
     "metadata": {},
     "output_type": "display_data"
    }
   ],
   "source": [
    "# TODO: Your code here\n",
    "sf_permits_with_na_dropped = ____\n",
    "\n",
    "dropped_columns = ____\n",
    "\n",
    "# Check your answer\n",
    "q5.check()"
   ]
  },
  {
   "cell_type": "code",
   "execution_count": 14,
   "id": "2bee9037",
   "metadata": {
    "execution": {
     "iopub.execute_input": "2024-01-23T04:09:13.828519Z",
     "iopub.status.busy": "2024-01-23T04:09:13.828072Z",
     "iopub.status.idle": "2024-01-23T04:09:13.833178Z",
     "shell.execute_reply": "2024-01-23T04:09:13.832020Z"
    },
    "papermill": {
     "duration": 0.019004,
     "end_time": "2024-01-23T04:09:13.835494",
     "exception": false,
     "start_time": "2024-01-23T04:09:13.816490",
     "status": "completed"
    },
    "tags": []
   },
   "outputs": [],
   "source": [
    "# Lines below will give you a hint or solution code\n",
    "#q5.hint()\n",
    "#q5.solution()"
   ]
  },
  {
   "cell_type": "markdown",
   "id": "5a344070",
   "metadata": {
    "papermill": {
     "duration": 0.010025,
     "end_time": "2024-01-23T04:09:13.855900",
     "exception": false,
     "start_time": "2024-01-23T04:09:13.845875",
     "status": "completed"
    },
    "tags": []
   },
   "source": [
    "# 6) Fill in missing values automatically\n",
    "\n",
    "Try replacing all the NaN's in the `sf_permits` data with the one that comes directly after it and then replacing any remaining NaN's with 0.  Set the result to a new DataFrame `sf_permits_with_na_imputed`."
   ]
  },
  {
   "cell_type": "code",
   "execution_count": 15,
   "id": "57ec37be",
   "metadata": {
    "execution": {
     "iopub.execute_input": "2024-01-23T04:09:13.878900Z",
     "iopub.status.busy": "2024-01-23T04:09:13.877763Z",
     "iopub.status.idle": "2024-01-23T04:09:13.886714Z",
     "shell.execute_reply": "2024-01-23T04:09:13.885625Z"
    },
    "papermill": {
     "duration": 0.022916,
     "end_time": "2024-01-23T04:09:13.889170",
     "exception": false,
     "start_time": "2024-01-23T04:09:13.866254",
     "status": "completed"
    },
    "tags": []
   },
   "outputs": [
    {
     "data": {
      "application/javascript": [
       "parent.postMessage({\"jupyterEvent\": \"custom.exercise_interaction\", \"data\": {\"outcomeType\": 4, \"interactionType\": 1, \"questionType\": 1, \"questionId\": \"6_ImputeAutomatically\", \"learnToolsVersion\": \"0.3.4\", \"valueTowardsCompletion\": 0.0, \"failureMessage\": \"\", \"exceptionClass\": \"\", \"trace\": \"\"}}, \"*\")"
      ],
      "text/plain": [
       "<IPython.core.display.Javascript object>"
      ]
     },
     "metadata": {},
     "output_type": "display_data"
    },
    {
     "data": {
      "text/markdown": [
       "<span style=\"color:#ccaa33\">Check:</span> When you've updated the starter code, `check()` will tell you whether your code is correct. You need to update the code that creates variable `sf_permits_with_na_imputed`"
      ],
      "text/plain": [
       "Check: When you've updated the starter code, `check()` will tell you whether your code is correct. You need to update the code that creates variable `sf_permits_with_na_imputed`"
      ]
     },
     "metadata": {},
     "output_type": "display_data"
    }
   ],
   "source": [
    "# TODO: Your code here\n",
    "sf_permits_with_na_imputed = ____\n",
    "\n",
    "# Check your answer\n",
    "q6.check()"
   ]
  },
  {
   "cell_type": "code",
   "execution_count": 16,
   "id": "a791ab0a",
   "metadata": {
    "execution": {
     "iopub.execute_input": "2024-01-23T04:09:13.912411Z",
     "iopub.status.busy": "2024-01-23T04:09:13.911984Z",
     "iopub.status.idle": "2024-01-23T04:09:13.916605Z",
     "shell.execute_reply": "2024-01-23T04:09:13.915285Z"
    },
    "papermill": {
     "duration": 0.019138,
     "end_time": "2024-01-23T04:09:13.918966",
     "exception": false,
     "start_time": "2024-01-23T04:09:13.899828",
     "status": "completed"
    },
    "tags": []
   },
   "outputs": [],
   "source": [
    "# Lines below will give you a hint or solution code\n",
    "#q6.hint()\n",
    "#q6.solution()"
   ]
  },
  {
   "cell_type": "markdown",
   "id": "dad1143b",
   "metadata": {
    "papermill": {
     "duration": 0.010557,
     "end_time": "2024-01-23T04:09:13.940345",
     "exception": false,
     "start_time": "2024-01-23T04:09:13.929788",
     "status": "completed"
    },
    "tags": []
   },
   "source": [
    "# More practice\n",
    "\n",
    "If you're looking for more practice handling missing values:\n",
    "\n",
    "* Check out [this noteboook](https://www.kaggle.com/alexisbcook/missing-values) on handling missing values using scikit-learn's imputer. \n",
    "* Look back at the \"Zipcode\" column in the `sf_permits` dataset, which has some missing values. How would you go about figuring out what the actual zipcode of each address should be? (You might try using another dataset. You can search for datasets about San Fransisco on the [Datasets listing](https://www.kaggle.com/datasets).) \n",
    "\n",
    "# Keep going\n",
    "\n",
    "In the next lesson, learn how to [**apply scaling and normalization**](https://www.kaggle.com/alexisbcook/scaling-and-normalization) to transform your data."
   ]
  },
  {
   "cell_type": "markdown",
   "id": "2be5acaa",
   "metadata": {
    "papermill": {
     "duration": 0.010588,
     "end_time": "2024-01-23T04:09:13.962133",
     "exception": false,
     "start_time": "2024-01-23T04:09:13.951545",
     "status": "completed"
    },
    "tags": []
   },
   "source": [
    "---\n",
    "\n",
    "\n",
    "\n",
    "\n",
    "*Have questions or comments? Visit the [course discussion forum](https://www.kaggle.com/learn/data-cleaning/discussion) to chat with other learners.*"
   ]
  }
 ],
 "metadata": {
  "kaggle": {
   "accelerator": "none",
   "dataSources": [
    {
     "datasetId": 16432,
     "sourceId": 21688,
     "sourceType": "datasetVersion"
    }
   ],
   "isGpuEnabled": false,
   "isInternetEnabled": false,
   "language": "python",
   "sourceType": "notebook"
  },
  "kernelspec": {
   "display_name": "Python 3",
   "language": "python",
   "name": "python3"
  },
  "language_info": {
   "codemirror_mode": {
    "name": "ipython",
    "version": 3
   },
   "file_extension": ".py",
   "mimetype": "text/x-python",
   "name": "python",
   "nbconvert_exporter": "python",
   "pygments_lexer": "ipython3",
   "version": "3.10.12"
  },
  "papermill": {
   "default_parameters": {},
   "duration": 12.69812,
   "end_time": "2024-01-23T04:09:14.593245",
   "environment_variables": {},
   "exception": null,
   "input_path": "__notebook__.ipynb",
   "output_path": "__notebook__.ipynb",
   "parameters": {},
   "start_time": "2024-01-23T04:09:01.895125",
   "version": "2.4.0"
  }
 },
 "nbformat": 4,
 "nbformat_minor": 5
}
