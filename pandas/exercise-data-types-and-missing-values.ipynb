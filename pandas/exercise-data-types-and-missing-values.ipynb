{
 "cells": [
  {
   "cell_type": "markdown",
   "id": "33736285",
   "metadata": {
    "papermill": {
     "duration": 0.004016,
     "end_time": "2023-10-17T00:46:35.225363",
     "exception": false,
     "start_time": "2023-10-17T00:46:35.221347",
     "status": "completed"
    },
    "tags": []
   },
   "source": [
    "**This notebook is an exercise in the [Pandas](https://www.kaggle.com/learn/pandas) course.  You can reference the tutorial at [this link](https://www.kaggle.com/residentmario/data-types-and-missing-values).**\n",
    "\n",
    "---\n"
   ]
  },
  {
   "cell_type": "markdown",
   "id": "aca69c45",
   "metadata": {
    "papermill": {
     "duration": 0.003338,
     "end_time": "2023-10-17T00:46:35.234415",
     "exception": false,
     "start_time": "2023-10-17T00:46:35.231077",
     "status": "completed"
    },
    "tags": []
   },
   "source": [
    "# Introduction\n",
    "\n",
    "Run the following cell to load your data and some utility functions."
   ]
  },
  {
   "cell_type": "code",
   "execution_count": 1,
   "id": "4bbe94b9",
   "metadata": {
    "execution": {
     "iopub.execute_input": "2023-10-17T00:46:35.244132Z",
     "iopub.status.busy": "2023-10-17T00:46:35.242916Z",
     "iopub.status.idle": "2023-10-17T00:46:39.432693Z",
     "shell.execute_reply": "2023-10-17T00:46:39.431472Z"
    },
    "papermill": {
     "duration": 4.19741,
     "end_time": "2023-10-17T00:46:39.435471",
     "exception": false,
     "start_time": "2023-10-17T00:46:35.238061",
     "status": "completed"
    },
    "tags": []
   },
   "outputs": [
    {
     "name": "stdout",
     "output_type": "stream",
     "text": [
      "Setup complete.\n"
     ]
    }
   ],
   "source": [
    "import pandas as pd\n",
    "\n",
    "reviews = pd.read_csv(\"../input/wine-reviews/winemag-data-130k-v2.csv\", index_col=0)\n",
    "\n",
    "from learntools.core import binder; binder.bind(globals())\n",
    "from learntools.pandas.data_types_and_missing_data import *\n",
    "print(\"Setup complete.\")"
   ]
  },
  {
   "cell_type": "markdown",
   "id": "3064fc20",
   "metadata": {
    "papermill": {
     "duration": 0.003455,
     "end_time": "2023-10-17T00:46:39.443015",
     "exception": false,
     "start_time": "2023-10-17T00:46:39.439560",
     "status": "completed"
    },
    "tags": []
   },
   "source": [
    "# Exercises"
   ]
  },
  {
   "cell_type": "markdown",
   "id": "0b4208b4",
   "metadata": {
    "papermill": {
     "duration": 0.003411,
     "end_time": "2023-10-17T00:46:39.450121",
     "exception": false,
     "start_time": "2023-10-17T00:46:39.446710",
     "status": "completed"
    },
    "tags": []
   },
   "source": [
    "## 1. \n",
    "What is the data type of the `points` column in the dataset?"
   ]
  },
  {
   "cell_type": "code",
   "execution_count": 2,
   "id": "5470faef",
   "metadata": {
    "execution": {
     "iopub.execute_input": "2023-10-17T00:46:39.459353Z",
     "iopub.status.busy": "2023-10-17T00:46:39.458975Z",
     "iopub.status.idle": "2023-10-17T00:46:39.469212Z",
     "shell.execute_reply": "2023-10-17T00:46:39.468090Z"
    },
    "papermill": {
     "duration": 0.017548,
     "end_time": "2023-10-17T00:46:39.471459",
     "exception": false,
     "start_time": "2023-10-17T00:46:39.453911",
     "status": "completed"
    },
    "tags": []
   },
   "outputs": [
    {
     "data": {
      "application/javascript": [
       "parent.postMessage({\"jupyterEvent\": \"custom.exercise_interaction\", \"data\": {\"outcomeType\": 1, \"valueTowardsCompletion\": 0.25, \"interactionType\": 1, \"questionType\": 1, \"questionId\": \"1_PointsDtype\", \"learnToolsVersion\": \"0.3.4\", \"failureMessage\": \"\", \"exceptionClass\": \"\", \"trace\": \"\"}}, \"*\")"
      ],
      "text/plain": [
       "<IPython.core.display.Javascript object>"
      ]
     },
     "metadata": {},
     "output_type": "display_data"
    },
    {
     "data": {
      "text/markdown": [
       "<span style=\"color:#33cc33\">Correct</span>"
      ],
      "text/plain": [
       "Correct"
      ]
     },
     "metadata": {},
     "output_type": "display_data"
    }
   ],
   "source": [
    "# Your code here\n",
    "dtype = reviews.points.dtype\n",
    "\n",
    "# Check your answer\n",
    "q1.check()"
   ]
  },
  {
   "cell_type": "code",
   "execution_count": 3,
   "id": "1c699cd0",
   "metadata": {
    "execution": {
     "iopub.execute_input": "2023-10-17T00:46:39.481524Z",
     "iopub.status.busy": "2023-10-17T00:46:39.481124Z",
     "iopub.status.idle": "2023-10-17T00:46:39.485864Z",
     "shell.execute_reply": "2023-10-17T00:46:39.484663Z"
    },
    "papermill": {
     "duration": 0.012378,
     "end_time": "2023-10-17T00:46:39.487994",
     "exception": false,
     "start_time": "2023-10-17T00:46:39.475616",
     "status": "completed"
    },
    "tags": []
   },
   "outputs": [],
   "source": [
    "# q1.hint()\n",
    "# q1.solution()"
   ]
  },
  {
   "cell_type": "markdown",
   "id": "b709f998",
   "metadata": {
    "papermill": {
     "duration": 0.003938,
     "end_time": "2023-10-17T00:46:39.496078",
     "exception": false,
     "start_time": "2023-10-17T00:46:39.492140",
     "status": "completed"
    },
    "tags": []
   },
   "source": [
    "## 2. \n",
    "Create a Series from entries in the `points` column, but convert the entries to strings. Hint: strings are `str` in native Python."
   ]
  },
  {
   "cell_type": "code",
   "execution_count": 4,
   "id": "fd36f04d",
   "metadata": {
    "execution": {
     "iopub.execute_input": "2023-10-17T00:46:39.506090Z",
     "iopub.status.busy": "2023-10-17T00:46:39.505730Z",
     "iopub.status.idle": "2023-10-17T00:46:39.566537Z",
     "shell.execute_reply": "2023-10-17T00:46:39.565388Z"
    },
    "papermill": {
     "duration": 0.068104,
     "end_time": "2023-10-17T00:46:39.568455",
     "exception": false,
     "start_time": "2023-10-17T00:46:39.500351",
     "status": "completed"
    },
    "tags": []
   },
   "outputs": [
    {
     "data": {
      "application/javascript": [
       "parent.postMessage({\"jupyterEvent\": \"custom.exercise_interaction\", \"data\": {\"outcomeType\": 1, \"valueTowardsCompletion\": 0.25, \"interactionType\": 1, \"questionType\": 1, \"questionId\": \"2_StrPoints\", \"learnToolsVersion\": \"0.3.4\", \"failureMessage\": \"\", \"exceptionClass\": \"\", \"trace\": \"\"}}, \"*\")"
      ],
      "text/plain": [
       "<IPython.core.display.Javascript object>"
      ]
     },
     "metadata": {},
     "output_type": "display_data"
    },
    {
     "data": {
      "text/markdown": [
       "<span style=\"color:#33cc33\">Correct</span>"
      ],
      "text/plain": [
       "Correct"
      ]
     },
     "metadata": {},
     "output_type": "display_data"
    }
   ],
   "source": [
    "point_strings = reviews.points.astype(str)\n",
    "\n",
    "# Check your answer\n",
    "q2.check()"
   ]
  },
  {
   "cell_type": "code",
   "execution_count": 5,
   "id": "80cdd0dd",
   "metadata": {
    "execution": {
     "iopub.execute_input": "2023-10-17T00:46:39.579325Z",
     "iopub.status.busy": "2023-10-17T00:46:39.578969Z",
     "iopub.status.idle": "2023-10-17T00:46:39.582498Z",
     "shell.execute_reply": "2023-10-17T00:46:39.581675Z"
    },
    "papermill": {
     "duration": 0.01163,
     "end_time": "2023-10-17T00:46:39.584691",
     "exception": false,
     "start_time": "2023-10-17T00:46:39.573061",
     "status": "completed"
    },
    "tags": []
   },
   "outputs": [],
   "source": [
    "# q2.hint()\n",
    "# q2.solution()"
   ]
  },
  {
   "cell_type": "markdown",
   "id": "5e2bc5e8",
   "metadata": {
    "papermill": {
     "duration": 0.003812,
     "end_time": "2023-10-17T00:46:39.592948",
     "exception": false,
     "start_time": "2023-10-17T00:46:39.589136",
     "status": "completed"
    },
    "tags": []
   },
   "source": [
    "## 3.\n",
    "Sometimes the price column is null. How many reviews in the dataset are missing a price?"
   ]
  },
  {
   "cell_type": "code",
   "execution_count": 6,
   "id": "3ce286ce",
   "metadata": {
    "execution": {
     "iopub.execute_input": "2023-10-17T00:46:39.602626Z",
     "iopub.status.busy": "2023-10-17T00:46:39.602281Z",
     "iopub.status.idle": "2023-10-17T00:46:39.617038Z",
     "shell.execute_reply": "2023-10-17T00:46:39.615996Z"
    },
    "papermill": {
     "duration": 0.022126,
     "end_time": "2023-10-17T00:46:39.619169",
     "exception": false,
     "start_time": "2023-10-17T00:46:39.597043",
     "status": "completed"
    },
    "tags": []
   },
   "outputs": [
    {
     "data": {
      "application/javascript": [
       "parent.postMessage({\"jupyterEvent\": \"custom.exercise_interaction\", \"data\": {\"outcomeType\": 1, \"valueTowardsCompletion\": 0.25, \"interactionType\": 1, \"questionType\": 1, \"questionId\": \"3_CountMissingPrices\", \"learnToolsVersion\": \"0.3.4\", \"failureMessage\": \"\", \"exceptionClass\": \"\", \"trace\": \"\"}}, \"*\")"
      ],
      "text/plain": [
       "<IPython.core.display.Javascript object>"
      ]
     },
     "metadata": {},
     "output_type": "display_data"
    },
    {
     "data": {
      "text/markdown": [
       "<span style=\"color:#33cc33\">Correct</span>"
      ],
      "text/plain": [
       "Correct"
      ]
     },
     "metadata": {},
     "output_type": "display_data"
    }
   ],
   "source": [
    "n_missing_prices = len(reviews[reviews.price.isnull()])\n",
    "\n",
    "# Check your answer\n",
    "q3.check()"
   ]
  },
  {
   "cell_type": "code",
   "execution_count": 7,
   "id": "6b2ae42c",
   "metadata": {
    "execution": {
     "iopub.execute_input": "2023-10-17T00:46:39.629521Z",
     "iopub.status.busy": "2023-10-17T00:46:39.629134Z",
     "iopub.status.idle": "2023-10-17T00:46:39.633972Z",
     "shell.execute_reply": "2023-10-17T00:46:39.632913Z"
    },
    "papermill": {
     "duration": 0.012696,
     "end_time": "2023-10-17T00:46:39.636281",
     "exception": false,
     "start_time": "2023-10-17T00:46:39.623585",
     "status": "completed"
    },
    "tags": []
   },
   "outputs": [],
   "source": [
    "# q3.hint()\n",
    "# q3.solution()"
   ]
  },
  {
   "cell_type": "markdown",
   "id": "5f84fef0",
   "metadata": {
    "papermill": {
     "duration": 0.004042,
     "end_time": "2023-10-17T00:46:39.645061",
     "exception": false,
     "start_time": "2023-10-17T00:46:39.641019",
     "status": "completed"
    },
    "tags": []
   },
   "source": [
    "## 4.\n",
    "What are the most common wine-producing regions? Create a Series counting the number of times each value occurs in the `region_1` field. This field is often missing data, so replace missing values with `Unknown`. Sort in descending order.  Your output should look something like this:\n",
    "\n",
    "```\n",
    "Unknown                    21247\n",
    "Napa Valley                 4480\n",
    "                           ...  \n",
    "Bardolino Superiore            1\n",
    "Primitivo del Tarantino        1\n",
    "Name: region_1, Length: 1230, dtype: int64\n",
    "```"
   ]
  },
  {
   "cell_type": "code",
   "execution_count": 8,
   "id": "66dff0d1",
   "metadata": {
    "execution": {
     "iopub.execute_input": "2023-10-17T00:46:39.655568Z",
     "iopub.status.busy": "2023-10-17T00:46:39.655163Z",
     "iopub.status.idle": "2023-10-17T00:46:39.710916Z",
     "shell.execute_reply": "2023-10-17T00:46:39.709523Z"
    },
    "papermill": {
     "duration": 0.064838,
     "end_time": "2023-10-17T00:46:39.714478",
     "exception": false,
     "start_time": "2023-10-17T00:46:39.649640",
     "status": "completed"
    },
    "tags": []
   },
   "outputs": [
    {
     "data": {
      "application/javascript": [
       "parent.postMessage({\"jupyterEvent\": \"custom.exercise_interaction\", \"data\": {\"outcomeType\": 1, \"valueTowardsCompletion\": 0.25, \"interactionType\": 1, \"questionType\": 2, \"questionId\": \"4_ReviewsPerRegion\", \"learnToolsVersion\": \"0.3.4\", \"failureMessage\": \"\", \"exceptionClass\": \"\", \"trace\": \"\"}}, \"*\")"
      ],
      "text/plain": [
       "<IPython.core.display.Javascript object>"
      ]
     },
     "metadata": {},
     "output_type": "display_data"
    },
    {
     "data": {
      "text/markdown": [
       "<span style=\"color:#33cc33\">Correct</span>"
      ],
      "text/plain": [
       "Correct"
      ]
     },
     "metadata": {},
     "output_type": "display_data"
    }
   ],
   "source": [
    "reviews_per_region = reviews.region_1.fillna('Unknown').value_counts().sort_values(ascending=False)\n",
    "\n",
    "# Check your answer\n",
    "q4.check()"
   ]
  },
  {
   "cell_type": "code",
   "execution_count": 9,
   "id": "ceb507e6",
   "metadata": {
    "execution": {
     "iopub.execute_input": "2023-10-17T00:46:39.726491Z",
     "iopub.status.busy": "2023-10-17T00:46:39.726087Z",
     "iopub.status.idle": "2023-10-17T00:46:39.731384Z",
     "shell.execute_reply": "2023-10-17T00:46:39.730067Z"
    },
    "papermill": {
     "duration": 0.014417,
     "end_time": "2023-10-17T00:46:39.733990",
     "exception": false,
     "start_time": "2023-10-17T00:46:39.719573",
     "status": "completed"
    },
    "tags": []
   },
   "outputs": [],
   "source": [
    "# q4.hint()\n",
    "# q4.solution()"
   ]
  },
  {
   "cell_type": "markdown",
   "id": "e64db65d",
   "metadata": {
    "papermill": {
     "duration": 0.005908,
     "end_time": "2023-10-17T00:46:39.745749",
     "exception": false,
     "start_time": "2023-10-17T00:46:39.739841",
     "status": "completed"
    },
    "tags": []
   },
   "source": [
    "# Keep going\n",
    "\n",
    "Move on to **[renaming and combining](https://www.kaggle.com/residentmario/renaming-and-combining)**."
   ]
  },
  {
   "cell_type": "markdown",
   "id": "ab6e36fe",
   "metadata": {
    "papermill": {
     "duration": 0.005224,
     "end_time": "2023-10-17T00:46:39.757105",
     "exception": false,
     "start_time": "2023-10-17T00:46:39.751881",
     "status": "completed"
    },
    "tags": []
   },
   "source": [
    "---\n",
    "\n",
    "\n",
    "\n",
    "\n",
    "*Have questions or comments? Visit the [course discussion forum](https://www.kaggle.com/learn/pandas/discussion) to chat with other learners.*"
   ]
  }
 ],
 "metadata": {
  "kernelspec": {
   "display_name": "Python 3",
   "language": "python",
   "name": "python3"
  },
  "language_info": {
   "codemirror_mode": {
    "name": "ipython",
    "version": 3
   },
   "file_extension": ".py",
   "mimetype": "text/x-python",
   "name": "python",
   "nbconvert_exporter": "python",
   "pygments_lexer": "ipython3",
   "version": "3.10.12"
  },
  "papermill": {
   "default_parameters": {},
   "duration": 9.730145,
   "end_time": "2023-10-17T00:46:40.384576",
   "environment_variables": {},
   "exception": null,
   "input_path": "__notebook__.ipynb",
   "output_path": "__notebook__.ipynb",
   "parameters": {},
   "start_time": "2023-10-17T00:46:30.654431",
   "version": "2.4.0"
  }
 },
 "nbformat": 4,
 "nbformat_minor": 5
}
