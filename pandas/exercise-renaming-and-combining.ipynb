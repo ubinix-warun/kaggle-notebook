{
 "cells": [
  {
   "cell_type": "markdown",
   "id": "4bdff191",
   "metadata": {
    "papermill": {
     "duration": 0.006435,
     "end_time": "2023-10-17T03:05:25.688717",
     "exception": false,
     "start_time": "2023-10-17T03:05:25.682282",
     "status": "completed"
    },
    "tags": []
   },
   "source": [
    "**This notebook is an exercise in the [Pandas](https://www.kaggle.com/learn/pandas) course.  You can reference the tutorial at [this link](https://www.kaggle.com/residentmario/renaming-and-combining).**\n",
    "\n",
    "---\n"
   ]
  },
  {
   "cell_type": "markdown",
   "id": "e342f4c4",
   "metadata": {
    "papermill": {
     "duration": 0.003765,
     "end_time": "2023-10-17T03:05:25.696745",
     "exception": false,
     "start_time": "2023-10-17T03:05:25.692980",
     "status": "completed"
    },
    "tags": []
   },
   "source": [
    "# Introduction\n",
    "\n",
    "Run the following cell to load your data and some utility functions."
   ]
  },
  {
   "cell_type": "code",
   "execution_count": 1,
   "id": "8726ca6f",
   "metadata": {
    "execution": {
     "iopub.execute_input": "2023-10-17T03:05:25.706870Z",
     "iopub.status.busy": "2023-10-17T03:05:25.706436Z",
     "iopub.status.idle": "2023-10-17T03:05:30.353645Z",
     "shell.execute_reply": "2023-10-17T03:05:30.352896Z"
    },
    "papermill": {
     "duration": 4.654954,
     "end_time": "2023-10-17T03:05:30.355858",
     "exception": false,
     "start_time": "2023-10-17T03:05:25.700904",
     "status": "completed"
    },
    "tags": []
   },
   "outputs": [
    {
     "name": "stdout",
     "output_type": "stream",
     "text": [
      "Setup complete.\n"
     ]
    }
   ],
   "source": [
    "import pandas as pd\n",
    "\n",
    "reviews = pd.read_csv(\"../input/wine-reviews/winemag-data-130k-v2.csv\", index_col=0)\n",
    "\n",
    "from learntools.core import binder; binder.bind(globals())\n",
    "from learntools.pandas.renaming_and_combining import *\n",
    "print(\"Setup complete.\")"
   ]
  },
  {
   "cell_type": "markdown",
   "id": "ff17f881",
   "metadata": {
    "papermill": {
     "duration": 0.004099,
     "end_time": "2023-10-17T03:05:30.364325",
     "exception": false,
     "start_time": "2023-10-17T03:05:30.360226",
     "status": "completed"
    },
    "tags": []
   },
   "source": [
    "# Exercises\n",
    "\n",
    "View the first several lines of your data by running the cell below:"
   ]
  },
  {
   "cell_type": "code",
   "execution_count": 2,
   "id": "d6b98f74",
   "metadata": {
    "execution": {
     "iopub.execute_input": "2023-10-17T03:05:30.374539Z",
     "iopub.status.busy": "2023-10-17T03:05:30.373903Z",
     "iopub.status.idle": "2023-10-17T03:05:30.394367Z",
     "shell.execute_reply": "2023-10-17T03:05:30.393535Z"
    },
    "papermill": {
     "duration": 0.028011,
     "end_time": "2023-10-17T03:05:30.396498",
     "exception": false,
     "start_time": "2023-10-17T03:05:30.368487",
     "status": "completed"
    },
    "tags": []
   },
   "outputs": [
    {
     "data": {
      "text/html": [
       "<div>\n",
       "<style scoped>\n",
       "    .dataframe tbody tr th:only-of-type {\n",
       "        vertical-align: middle;\n",
       "    }\n",
       "\n",
       "    .dataframe tbody tr th {\n",
       "        vertical-align: top;\n",
       "    }\n",
       "\n",
       "    .dataframe thead th {\n",
       "        text-align: right;\n",
       "    }\n",
       "</style>\n",
       "<table border=\"1\" class=\"dataframe\">\n",
       "  <thead>\n",
       "    <tr style=\"text-align: right;\">\n",
       "      <th></th>\n",
       "      <th>country</th>\n",
       "      <th>description</th>\n",
       "      <th>designation</th>\n",
       "      <th>points</th>\n",
       "      <th>price</th>\n",
       "      <th>province</th>\n",
       "      <th>region_1</th>\n",
       "      <th>region_2</th>\n",
       "      <th>taster_name</th>\n",
       "      <th>taster_twitter_handle</th>\n",
       "      <th>title</th>\n",
       "      <th>variety</th>\n",
       "      <th>winery</th>\n",
       "    </tr>\n",
       "  </thead>\n",
       "  <tbody>\n",
       "    <tr>\n",
       "      <th>0</th>\n",
       "      <td>Italy</td>\n",
       "      <td>Aromas include tropical fruit, broom, brimston...</td>\n",
       "      <td>Vulkà Bianco</td>\n",
       "      <td>87</td>\n",
       "      <td>NaN</td>\n",
       "      <td>Sicily &amp; Sardinia</td>\n",
       "      <td>Etna</td>\n",
       "      <td>NaN</td>\n",
       "      <td>Kerin O’Keefe</td>\n",
       "      <td>@kerinokeefe</td>\n",
       "      <td>Nicosia 2013 Vulkà Bianco  (Etna)</td>\n",
       "      <td>White Blend</td>\n",
       "      <td>Nicosia</td>\n",
       "    </tr>\n",
       "    <tr>\n",
       "      <th>1</th>\n",
       "      <td>Portugal</td>\n",
       "      <td>This is ripe and fruity, a wine that is smooth...</td>\n",
       "      <td>Avidagos</td>\n",
       "      <td>87</td>\n",
       "      <td>15.0</td>\n",
       "      <td>Douro</td>\n",
       "      <td>NaN</td>\n",
       "      <td>NaN</td>\n",
       "      <td>Roger Voss</td>\n",
       "      <td>@vossroger</td>\n",
       "      <td>Quinta dos Avidagos 2011 Avidagos Red (Douro)</td>\n",
       "      <td>Portuguese Red</td>\n",
       "      <td>Quinta dos Avidagos</td>\n",
       "    </tr>\n",
       "    <tr>\n",
       "      <th>2</th>\n",
       "      <td>US</td>\n",
       "      <td>Tart and snappy, the flavors of lime flesh and...</td>\n",
       "      <td>NaN</td>\n",
       "      <td>87</td>\n",
       "      <td>14.0</td>\n",
       "      <td>Oregon</td>\n",
       "      <td>Willamette Valley</td>\n",
       "      <td>Willamette Valley</td>\n",
       "      <td>Paul Gregutt</td>\n",
       "      <td>@paulgwine</td>\n",
       "      <td>Rainstorm 2013 Pinot Gris (Willamette Valley)</td>\n",
       "      <td>Pinot Gris</td>\n",
       "      <td>Rainstorm</td>\n",
       "    </tr>\n",
       "    <tr>\n",
       "      <th>3</th>\n",
       "      <td>US</td>\n",
       "      <td>Pineapple rind, lemon pith and orange blossom ...</td>\n",
       "      <td>Reserve Late Harvest</td>\n",
       "      <td>87</td>\n",
       "      <td>13.0</td>\n",
       "      <td>Michigan</td>\n",
       "      <td>Lake Michigan Shore</td>\n",
       "      <td>NaN</td>\n",
       "      <td>Alexander Peartree</td>\n",
       "      <td>NaN</td>\n",
       "      <td>St. Julian 2013 Reserve Late Harvest Riesling ...</td>\n",
       "      <td>Riesling</td>\n",
       "      <td>St. Julian</td>\n",
       "    </tr>\n",
       "    <tr>\n",
       "      <th>4</th>\n",
       "      <td>US</td>\n",
       "      <td>Much like the regular bottling from 2012, this...</td>\n",
       "      <td>Vintner's Reserve Wild Child Block</td>\n",
       "      <td>87</td>\n",
       "      <td>65.0</td>\n",
       "      <td>Oregon</td>\n",
       "      <td>Willamette Valley</td>\n",
       "      <td>Willamette Valley</td>\n",
       "      <td>Paul Gregutt</td>\n",
       "      <td>@paulgwine</td>\n",
       "      <td>Sweet Cheeks 2012 Vintner's Reserve Wild Child...</td>\n",
       "      <td>Pinot Noir</td>\n",
       "      <td>Sweet Cheeks</td>\n",
       "    </tr>\n",
       "  </tbody>\n",
       "</table>\n",
       "</div>"
      ],
      "text/plain": [
       "    country                                        description  \\\n",
       "0     Italy  Aromas include tropical fruit, broom, brimston...   \n",
       "1  Portugal  This is ripe and fruity, a wine that is smooth...   \n",
       "2        US  Tart and snappy, the flavors of lime flesh and...   \n",
       "3        US  Pineapple rind, lemon pith and orange blossom ...   \n",
       "4        US  Much like the regular bottling from 2012, this...   \n",
       "\n",
       "                          designation  points  price           province  \\\n",
       "0                        Vulkà Bianco      87    NaN  Sicily & Sardinia   \n",
       "1                            Avidagos      87   15.0              Douro   \n",
       "2                                 NaN      87   14.0             Oregon   \n",
       "3                Reserve Late Harvest      87   13.0           Michigan   \n",
       "4  Vintner's Reserve Wild Child Block      87   65.0             Oregon   \n",
       "\n",
       "              region_1           region_2         taster_name  \\\n",
       "0                 Etna                NaN       Kerin O’Keefe   \n",
       "1                  NaN                NaN          Roger Voss   \n",
       "2    Willamette Valley  Willamette Valley        Paul Gregutt   \n",
       "3  Lake Michigan Shore                NaN  Alexander Peartree   \n",
       "4    Willamette Valley  Willamette Valley        Paul Gregutt   \n",
       "\n",
       "  taster_twitter_handle                                              title  \\\n",
       "0          @kerinokeefe                  Nicosia 2013 Vulkà Bianco  (Etna)   \n",
       "1            @vossroger      Quinta dos Avidagos 2011 Avidagos Red (Douro)   \n",
       "2           @paulgwine       Rainstorm 2013 Pinot Gris (Willamette Valley)   \n",
       "3                   NaN  St. Julian 2013 Reserve Late Harvest Riesling ...   \n",
       "4           @paulgwine   Sweet Cheeks 2012 Vintner's Reserve Wild Child...   \n",
       "\n",
       "          variety               winery  \n",
       "0     White Blend              Nicosia  \n",
       "1  Portuguese Red  Quinta dos Avidagos  \n",
       "2      Pinot Gris            Rainstorm  \n",
       "3        Riesling           St. Julian  \n",
       "4      Pinot Noir         Sweet Cheeks  "
      ]
     },
     "execution_count": 2,
     "metadata": {},
     "output_type": "execute_result"
    }
   ],
   "source": [
    "reviews.head()"
   ]
  },
  {
   "cell_type": "markdown",
   "id": "11cd9730",
   "metadata": {
    "papermill": {
     "duration": 0.004509,
     "end_time": "2023-10-17T03:05:30.405854",
     "exception": false,
     "start_time": "2023-10-17T03:05:30.401345",
     "status": "completed"
    },
    "tags": []
   },
   "source": [
    "## 1.\n",
    "`region_1` and `region_2` are pretty uninformative names for locale columns in the dataset. Create a copy of `reviews` with these columns renamed to `region` and `locale`, respectively."
   ]
  },
  {
   "cell_type": "code",
   "execution_count": 3,
   "id": "dd4f9cb1",
   "metadata": {
    "execution": {
     "iopub.execute_input": "2023-10-17T03:05:30.417360Z",
     "iopub.status.busy": "2023-10-17T03:05:30.416410Z",
     "iopub.status.idle": "2023-10-17T03:05:30.436710Z",
     "shell.execute_reply": "2023-10-17T03:05:30.435574Z"
    },
    "papermill": {
     "duration": 0.028388,
     "end_time": "2023-10-17T03:05:30.438944",
     "exception": false,
     "start_time": "2023-10-17T03:05:30.410556",
     "status": "completed"
    },
    "tags": []
   },
   "outputs": [
    {
     "data": {
      "application/javascript": [
       "parent.postMessage({\"jupyterEvent\": \"custom.exercise_interaction\", \"data\": {\"outcomeType\": 1, \"valueTowardsCompletion\": 0.25, \"interactionType\": 1, \"questionType\": 1, \"questionId\": \"1_RenameCols\", \"learnToolsVersion\": \"0.3.4\", \"failureMessage\": \"\", \"exceptionClass\": \"\", \"trace\": \"\"}}, \"*\")"
      ],
      "text/plain": [
       "<IPython.core.display.Javascript object>"
      ]
     },
     "metadata": {},
     "output_type": "display_data"
    },
    {
     "data": {
      "text/markdown": [
       "<span style=\"color:#33cc33\">Correct</span>"
      ],
      "text/plain": [
       "Correct"
      ]
     },
     "metadata": {},
     "output_type": "display_data"
    }
   ],
   "source": [
    "# Your code here\n",
    "renamed = reviews.rename(columns=dict(region_1='region', region_2='locale'))\n",
    "\n",
    "# Check your answer\n",
    "q1.check()"
   ]
  },
  {
   "cell_type": "code",
   "execution_count": 4,
   "id": "492192a9",
   "metadata": {
    "execution": {
     "iopub.execute_input": "2023-10-17T03:05:30.450757Z",
     "iopub.status.busy": "2023-10-17T03:05:30.450103Z",
     "iopub.status.idle": "2023-10-17T03:05:30.454252Z",
     "shell.execute_reply": "2023-10-17T03:05:30.453391Z"
    },
    "papermill": {
     "duration": 0.01218,
     "end_time": "2023-10-17T03:05:30.456115",
     "exception": false,
     "start_time": "2023-10-17T03:05:30.443935",
     "status": "completed"
    },
    "tags": []
   },
   "outputs": [],
   "source": [
    "# q1.hint()\n",
    "# q1.solution()"
   ]
  },
  {
   "cell_type": "markdown",
   "id": "857b5c50",
   "metadata": {
    "papermill": {
     "duration": 0.00462,
     "end_time": "2023-10-17T03:05:30.465845",
     "exception": false,
     "start_time": "2023-10-17T03:05:30.461225",
     "status": "completed"
    },
    "tags": []
   },
   "source": [
    "## 2.\n",
    "Set the index name in the dataset to `wines`."
   ]
  },
  {
   "cell_type": "code",
   "execution_count": 5,
   "id": "c88ba9d8",
   "metadata": {
    "execution": {
     "iopub.execute_input": "2023-10-17T03:05:30.477061Z",
     "iopub.status.busy": "2023-10-17T03:05:30.476733Z",
     "iopub.status.idle": "2023-10-17T03:05:30.494406Z",
     "shell.execute_reply": "2023-10-17T03:05:30.493585Z"
    },
    "papermill": {
     "duration": 0.02556,
     "end_time": "2023-10-17T03:05:30.496262",
     "exception": false,
     "start_time": "2023-10-17T03:05:30.470702",
     "status": "completed"
    },
    "tags": []
   },
   "outputs": [
    {
     "data": {
      "application/javascript": [
       "parent.postMessage({\"jupyterEvent\": \"custom.exercise_interaction\", \"data\": {\"outcomeType\": 1, \"valueTowardsCompletion\": 0.25, \"interactionType\": 1, \"questionType\": 1, \"questionId\": \"2_RenameIndex\", \"learnToolsVersion\": \"0.3.4\", \"failureMessage\": \"\", \"exceptionClass\": \"\", \"trace\": \"\"}}, \"*\")"
      ],
      "text/plain": [
       "<IPython.core.display.Javascript object>"
      ]
     },
     "metadata": {},
     "output_type": "display_data"
    },
    {
     "data": {
      "text/markdown": [
       "<span style=\"color:#33cc33\">Correct</span>"
      ],
      "text/plain": [
       "Correct"
      ]
     },
     "metadata": {},
     "output_type": "display_data"
    }
   ],
   "source": [
    "reindexed = reviews.rename_axis('wines', axis='rows')\n",
    "\n",
    "# Check your answer\n",
    "q2.check()"
   ]
  },
  {
   "cell_type": "code",
   "execution_count": 6,
   "id": "52e12a53",
   "metadata": {
    "execution": {
     "iopub.execute_input": "2023-10-17T03:05:30.507885Z",
     "iopub.status.busy": "2023-10-17T03:05:30.507551Z",
     "iopub.status.idle": "2023-10-17T03:05:30.511291Z",
     "shell.execute_reply": "2023-10-17T03:05:30.510603Z"
    },
    "papermill": {
     "duration": 0.011585,
     "end_time": "2023-10-17T03:05:30.512982",
     "exception": false,
     "start_time": "2023-10-17T03:05:30.501397",
     "status": "completed"
    },
    "tags": []
   },
   "outputs": [],
   "source": [
    "# q2.hint()\n",
    "# q2.solution()"
   ]
  },
  {
   "cell_type": "markdown",
   "id": "06025266",
   "metadata": {
    "papermill": {
     "duration": 0.004819,
     "end_time": "2023-10-17T03:05:30.524433",
     "exception": false,
     "start_time": "2023-10-17T03:05:30.519614",
     "status": "completed"
    },
    "tags": []
   },
   "source": [
    "## 3.\n",
    "The [Things on Reddit](https://www.kaggle.com/residentmario/things-on-reddit/data) dataset includes product links from a selection of top-ranked forums (\"subreddits\") on reddit.com. Run the cell below to load a dataframe of products mentioned on the */r/gaming* subreddit and another dataframe for products mentioned on the *r//movies* subreddit."
   ]
  },
  {
   "cell_type": "code",
   "execution_count": 7,
   "id": "75418671",
   "metadata": {
    "execution": {
     "iopub.execute_input": "2023-10-17T03:05:30.536034Z",
     "iopub.status.busy": "2023-10-17T03:05:30.535713Z",
     "iopub.status.idle": "2023-10-17T03:05:30.548686Z",
     "shell.execute_reply": "2023-10-17T03:05:30.547880Z"
    },
    "papermill": {
     "duration": 0.021362,
     "end_time": "2023-10-17T03:05:30.550863",
     "exception": false,
     "start_time": "2023-10-17T03:05:30.529501",
     "status": "completed"
    },
    "tags": []
   },
   "outputs": [],
   "source": [
    "gaming_products = pd.read_csv(\"../input/things-on-reddit/top-things/top-things/reddits/g/gaming.csv\")\n",
    "gaming_products['subreddit'] = \"r/gaming\"\n",
    "movie_products = pd.read_csv(\"../input/things-on-reddit/top-things/top-things/reddits/m/movies.csv\")\n",
    "movie_products['subreddit'] = \"r/movies\""
   ]
  },
  {
   "cell_type": "markdown",
   "id": "d6d2d388",
   "metadata": {
    "papermill": {
     "duration": 0.004915,
     "end_time": "2023-10-17T03:05:30.561140",
     "exception": false,
     "start_time": "2023-10-17T03:05:30.556225",
     "status": "completed"
    },
    "tags": []
   },
   "source": [
    "Create a `DataFrame` of products mentioned on *either* subreddit."
   ]
  },
  {
   "cell_type": "code",
   "execution_count": 8,
   "id": "f1bcd938",
   "metadata": {
    "execution": {
     "iopub.execute_input": "2023-10-17T03:05:30.572581Z",
     "iopub.status.busy": "2023-10-17T03:05:30.572239Z",
     "iopub.status.idle": "2023-10-17T03:05:30.583356Z",
     "shell.execute_reply": "2023-10-17T03:05:30.582343Z"
    },
    "papermill": {
     "duration": 0.019331,
     "end_time": "2023-10-17T03:05:30.585473",
     "exception": false,
     "start_time": "2023-10-17T03:05:30.566142",
     "status": "completed"
    },
    "tags": []
   },
   "outputs": [
    {
     "data": {
      "application/javascript": [
       "parent.postMessage({\"jupyterEvent\": \"custom.exercise_interaction\", \"data\": {\"outcomeType\": 1, \"valueTowardsCompletion\": 0.25, \"interactionType\": 1, \"questionType\": 2, \"questionId\": \"3_ConcatReddit\", \"learnToolsVersion\": \"0.3.4\", \"failureMessage\": \"\", \"exceptionClass\": \"\", \"trace\": \"\"}}, \"*\")"
      ],
      "text/plain": [
       "<IPython.core.display.Javascript object>"
      ]
     },
     "metadata": {},
     "output_type": "display_data"
    },
    {
     "data": {
      "text/markdown": [
       "<span style=\"color:#33cc33\">Correct</span>"
      ],
      "text/plain": [
       "Correct"
      ]
     },
     "metadata": {},
     "output_type": "display_data"
    }
   ],
   "source": [
    "combined_products = pd.concat([gaming_products, movie_products])\n",
    "\n",
    "# Check your answer\n",
    "q3.check()"
   ]
  },
  {
   "cell_type": "code",
   "execution_count": 9,
   "id": "e98101af",
   "metadata": {
    "execution": {
     "iopub.execute_input": "2023-10-17T03:05:30.597868Z",
     "iopub.status.busy": "2023-10-17T03:05:30.597492Z",
     "iopub.status.idle": "2023-10-17T03:05:30.601385Z",
     "shell.execute_reply": "2023-10-17T03:05:30.600451Z"
    },
    "papermill": {
     "duration": 0.012485,
     "end_time": "2023-10-17T03:05:30.603319",
     "exception": false,
     "start_time": "2023-10-17T03:05:30.590834",
     "status": "completed"
    },
    "tags": []
   },
   "outputs": [],
   "source": [
    "# q3.hint()\n",
    "# q3.solution()"
   ]
  },
  {
   "cell_type": "markdown",
   "id": "71178490",
   "metadata": {
    "papermill": {
     "duration": 0.005042,
     "end_time": "2023-10-17T03:05:30.613859",
     "exception": false,
     "start_time": "2023-10-17T03:05:30.608817",
     "status": "completed"
    },
    "tags": []
   },
   "source": [
    "## 4.\n",
    "The [Powerlifting Database](https://www.kaggle.com/open-powerlifting/powerlifting-database) dataset on Kaggle includes one CSV table for powerlifting meets and a separate one for powerlifting competitors. Run the cell below to load these datasets into dataframes:"
   ]
  },
  {
   "cell_type": "code",
   "execution_count": 10,
   "id": "b6b4dc63",
   "metadata": {
    "execution": {
     "iopub.execute_input": "2023-10-17T03:05:30.626003Z",
     "iopub.status.busy": "2023-10-17T03:05:30.625402Z",
     "iopub.status.idle": "2023-10-17T03:05:31.380281Z",
     "shell.execute_reply": "2023-10-17T03:05:31.379492Z"
    },
    "papermill": {
     "duration": 0.763602,
     "end_time": "2023-10-17T03:05:31.382586",
     "exception": false,
     "start_time": "2023-10-17T03:05:30.618984",
     "status": "completed"
    },
    "tags": []
   },
   "outputs": [],
   "source": [
    "powerlifting_meets = pd.read_csv(\"../input/powerlifting-database/meets.csv\")\n",
    "powerlifting_competitors = pd.read_csv(\"../input/powerlifting-database/openpowerlifting.csv\")"
   ]
  },
  {
   "cell_type": "markdown",
   "id": "067f218a",
   "metadata": {
    "papermill": {
     "duration": 0.006884,
     "end_time": "2023-10-17T03:05:31.397135",
     "exception": false,
     "start_time": "2023-10-17T03:05:31.390251",
     "status": "completed"
    },
    "tags": []
   },
   "source": [
    "Both tables include references to a `MeetID`, a unique key for each meet (competition) included in the database. Using this, generate a dataset combining the two tables into one."
   ]
  },
  {
   "cell_type": "code",
   "execution_count": 11,
   "id": "20e306cd",
   "metadata": {
    "execution": {
     "iopub.execute_input": "2023-10-17T03:05:31.409177Z",
     "iopub.status.busy": "2023-10-17T03:05:31.408819Z",
     "iopub.status.idle": "2023-10-17T03:05:32.129444Z",
     "shell.execute_reply": "2023-10-17T03:05:32.128501Z"
    },
    "papermill": {
     "duration": 0.729178,
     "end_time": "2023-10-17T03:05:32.131580",
     "exception": false,
     "start_time": "2023-10-17T03:05:31.402402",
     "status": "completed"
    },
    "tags": []
   },
   "outputs": [
    {
     "data": {
      "application/javascript": [
       "parent.postMessage({\"jupyterEvent\": \"custom.exercise_interaction\", \"data\": {\"outcomeType\": 1, \"valueTowardsCompletion\": 0.25, \"interactionType\": 1, \"questionType\": 2, \"questionId\": \"4_JoinLifting\", \"learnToolsVersion\": \"0.3.4\", \"failureMessage\": \"\", \"exceptionClass\": \"\", \"trace\": \"\"}}, \"*\")"
      ],
      "text/plain": [
       "<IPython.core.display.Javascript object>"
      ]
     },
     "metadata": {},
     "output_type": "display_data"
    },
    {
     "data": {
      "text/markdown": [
       "<span style=\"color:#33cc33\">Correct</span>"
      ],
      "text/plain": [
       "Correct"
      ]
     },
     "metadata": {},
     "output_type": "display_data"
    }
   ],
   "source": [
    "powerlifting_combined = powerlifting_meets.set_index(\"MeetID\").join(powerlifting_competitors.set_index(\"MeetID\"))\n",
    "\n",
    "# Check your answer\n",
    "q4.check()"
   ]
  },
  {
   "cell_type": "code",
   "execution_count": 12,
   "id": "51cce016",
   "metadata": {
    "execution": {
     "iopub.execute_input": "2023-10-17T03:05:32.143716Z",
     "iopub.status.busy": "2023-10-17T03:05:32.143355Z",
     "iopub.status.idle": "2023-10-17T03:05:32.147244Z",
     "shell.execute_reply": "2023-10-17T03:05:32.146436Z"
    },
    "papermill": {
     "duration": 0.012158,
     "end_time": "2023-10-17T03:05:32.149129",
     "exception": false,
     "start_time": "2023-10-17T03:05:32.136971",
     "status": "completed"
    },
    "tags": []
   },
   "outputs": [],
   "source": [
    "# q4.hint()\n",
    "# q4.solution()"
   ]
  },
  {
   "cell_type": "markdown",
   "id": "4fdfac8a",
   "metadata": {
    "papermill": {
     "duration": 0.004943,
     "end_time": "2023-10-17T03:05:32.159270",
     "exception": false,
     "start_time": "2023-10-17T03:05:32.154327",
     "status": "completed"
    },
    "tags": []
   },
   "source": [
    "# Congratulations!\n",
    "\n",
    "You've finished the Pandas micro-course.  Many data scientists feel efficiency with Pandas is the most useful and practical skill they have, because it allows you to progress quickly in any project you have.\n",
    "\n",
    "If you'd like to apply your new skills to examining geospatial data, you're encouraged to check out our **[Geospatial Analysis](https://www.kaggle.com/learn/geospatial-analysis)** micro-course.\n",
    "\n",
    "You can also take advantage of your Pandas skills by entering a **[Kaggle Competition](https://www.kaggle.com/competitions)** or by answering a question you find interesting using **[Kaggle Datasets](https://www.kaggle.com/datasets)**."
   ]
  },
  {
   "cell_type": "markdown",
   "id": "9636dbe2",
   "metadata": {
    "papermill": {
     "duration": 0.005025,
     "end_time": "2023-10-17T03:05:32.169488",
     "exception": false,
     "start_time": "2023-10-17T03:05:32.164463",
     "status": "completed"
    },
    "tags": []
   },
   "source": [
    "---\n",
    "\n",
    "\n",
    "\n",
    "\n",
    "*Have questions or comments? Visit the [course discussion forum](https://www.kaggle.com/learn/pandas/discussion) to chat with other learners.*"
   ]
  }
 ],
 "metadata": {
  "kernelspec": {
   "display_name": "Python 3",
   "language": "python",
   "name": "python3"
  },
  "language_info": {
   "codemirror_mode": {
    "name": "ipython",
    "version": 3
   },
   "file_extension": ".py",
   "mimetype": "text/x-python",
   "name": "python",
   "nbconvert_exporter": "python",
   "pygments_lexer": "ipython3",
   "version": "3.10.12"
  },
  "papermill": {
   "default_parameters": {},
   "duration": 10.174979,
   "end_time": "2023-10-17T03:05:32.794781",
   "environment_variables": {},
   "exception": null,
   "input_path": "__notebook__.ipynb",
   "output_path": "__notebook__.ipynb",
   "parameters": {},
   "start_time": "2023-10-17T03:05:22.619802",
   "version": "2.4.0"
  }
 },
 "nbformat": 4,
 "nbformat_minor": 5
}
