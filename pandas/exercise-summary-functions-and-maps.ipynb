{
 "cells": [
  {
   "cell_type": "markdown",
   "id": "594cc01d",
   "metadata": {
    "papermill": {
     "duration": 0.005786,
     "end_time": "2023-10-18T00:25:40.090278",
     "exception": false,
     "start_time": "2023-10-18T00:25:40.084492",
     "status": "completed"
    },
    "tags": []
   },
   "source": [
    "**This notebook is an exercise in the [Pandas](https://www.kaggle.com/learn/pandas) course.  You can reference the tutorial at [this link](https://www.kaggle.com/residentmario/summary-functions-and-maps).**\n",
    "\n",
    "---\n"
   ]
  },
  {
   "cell_type": "markdown",
   "id": "95c04aaa",
   "metadata": {
    "papermill": {
     "duration": 0.004678,
     "end_time": "2023-10-18T00:25:40.100080",
     "exception": false,
     "start_time": "2023-10-18T00:25:40.095402",
     "status": "completed"
    },
    "tags": []
   },
   "source": [
    "# Introduction\n",
    "\n",
    "Now you are ready to get a deeper understanding of your data.\n",
    "\n",
    "Run the following cell to load your data and some utility functions (including code to check your answers)."
   ]
  },
  {
   "cell_type": "code",
   "execution_count": 1,
   "id": "5e56a973",
   "metadata": {
    "execution": {
     "iopub.execute_input": "2023-10-18T00:25:40.111982Z",
     "iopub.status.busy": "2023-10-18T00:25:40.111543Z",
     "iopub.status.idle": "2023-10-18T00:25:46.546248Z",
     "shell.execute_reply": "2023-10-18T00:25:46.544865Z"
    },
    "papermill": {
     "duration": 6.444462,
     "end_time": "2023-10-18T00:25:46.549294",
     "exception": false,
     "start_time": "2023-10-18T00:25:40.104832",
     "status": "completed"
    },
    "tags": []
   },
   "outputs": [
    {
     "name": "stdout",
     "output_type": "stream",
     "text": [
      "Setup complete.\n"
     ]
    },
    {
     "data": {
      "text/html": [
       "<div>\n",
       "<style scoped>\n",
       "    .dataframe tbody tr th:only-of-type {\n",
       "        vertical-align: middle;\n",
       "    }\n",
       "\n",
       "    .dataframe tbody tr th {\n",
       "        vertical-align: top;\n",
       "    }\n",
       "\n",
       "    .dataframe thead th {\n",
       "        text-align: right;\n",
       "    }\n",
       "</style>\n",
       "<table border=\"1\" class=\"dataframe\">\n",
       "  <thead>\n",
       "    <tr style=\"text-align: right;\">\n",
       "      <th></th>\n",
       "      <th>country</th>\n",
       "      <th>description</th>\n",
       "      <th>designation</th>\n",
       "      <th>points</th>\n",
       "      <th>price</th>\n",
       "      <th>province</th>\n",
       "      <th>region_1</th>\n",
       "      <th>region_2</th>\n",
       "      <th>taster_name</th>\n",
       "      <th>taster_twitter_handle</th>\n",
       "      <th>title</th>\n",
       "      <th>variety</th>\n",
       "      <th>winery</th>\n",
       "    </tr>\n",
       "  </thead>\n",
       "  <tbody>\n",
       "    <tr>\n",
       "      <th>0</th>\n",
       "      <td>Italy</td>\n",
       "      <td>Aromas include tropical fruit, broom, brimston...</td>\n",
       "      <td>Vulkà Bianco</td>\n",
       "      <td>87</td>\n",
       "      <td>NaN</td>\n",
       "      <td>Sicily &amp; Sardinia</td>\n",
       "      <td>Etna</td>\n",
       "      <td>NaN</td>\n",
       "      <td>Kerin O’Keefe</td>\n",
       "      <td>@kerinokeefe</td>\n",
       "      <td>Nicosia 2013 Vulkà Bianco  (Etna)</td>\n",
       "      <td>White Blend</td>\n",
       "      <td>Nicosia</td>\n",
       "    </tr>\n",
       "    <tr>\n",
       "      <th>1</th>\n",
       "      <td>Portugal</td>\n",
       "      <td>This is ripe and fruity, a wine that is smooth...</td>\n",
       "      <td>Avidagos</td>\n",
       "      <td>87</td>\n",
       "      <td>15.0</td>\n",
       "      <td>Douro</td>\n",
       "      <td>NaN</td>\n",
       "      <td>NaN</td>\n",
       "      <td>Roger Voss</td>\n",
       "      <td>@vossroger</td>\n",
       "      <td>Quinta dos Avidagos 2011 Avidagos Red (Douro)</td>\n",
       "      <td>Portuguese Red</td>\n",
       "      <td>Quinta dos Avidagos</td>\n",
       "    </tr>\n",
       "    <tr>\n",
       "      <th>2</th>\n",
       "      <td>US</td>\n",
       "      <td>Tart and snappy, the flavors of lime flesh and...</td>\n",
       "      <td>NaN</td>\n",
       "      <td>87</td>\n",
       "      <td>14.0</td>\n",
       "      <td>Oregon</td>\n",
       "      <td>Willamette Valley</td>\n",
       "      <td>Willamette Valley</td>\n",
       "      <td>Paul Gregutt</td>\n",
       "      <td>@paulgwine</td>\n",
       "      <td>Rainstorm 2013 Pinot Gris (Willamette Valley)</td>\n",
       "      <td>Pinot Gris</td>\n",
       "      <td>Rainstorm</td>\n",
       "    </tr>\n",
       "    <tr>\n",
       "      <th>3</th>\n",
       "      <td>US</td>\n",
       "      <td>Pineapple rind, lemon pith and orange blossom ...</td>\n",
       "      <td>Reserve Late Harvest</td>\n",
       "      <td>87</td>\n",
       "      <td>13.0</td>\n",
       "      <td>Michigan</td>\n",
       "      <td>Lake Michigan Shore</td>\n",
       "      <td>NaN</td>\n",
       "      <td>Alexander Peartree</td>\n",
       "      <td>NaN</td>\n",
       "      <td>St. Julian 2013 Reserve Late Harvest Riesling ...</td>\n",
       "      <td>Riesling</td>\n",
       "      <td>St. Julian</td>\n",
       "    </tr>\n",
       "    <tr>\n",
       "      <th>4</th>\n",
       "      <td>US</td>\n",
       "      <td>Much like the regular bottling from 2012, this...</td>\n",
       "      <td>Vintner's Reserve Wild Child Block</td>\n",
       "      <td>87</td>\n",
       "      <td>65.0</td>\n",
       "      <td>Oregon</td>\n",
       "      <td>Willamette Valley</td>\n",
       "      <td>Willamette Valley</td>\n",
       "      <td>Paul Gregutt</td>\n",
       "      <td>@paulgwine</td>\n",
       "      <td>Sweet Cheeks 2012 Vintner's Reserve Wild Child...</td>\n",
       "      <td>Pinot Noir</td>\n",
       "      <td>Sweet Cheeks</td>\n",
       "    </tr>\n",
       "  </tbody>\n",
       "</table>\n",
       "</div>"
      ],
      "text/plain": [
       "    country                                        description  \\\n",
       "0     Italy  Aromas include tropical fruit, broom, brimston...   \n",
       "1  Portugal  This is ripe and fruity, a wine that is smooth...   \n",
       "2        US  Tart and snappy, the flavors of lime flesh and...   \n",
       "3        US  Pineapple rind, lemon pith and orange blossom ...   \n",
       "4        US  Much like the regular bottling from 2012, this...   \n",
       "\n",
       "                          designation  points  price           province  \\\n",
       "0                        Vulkà Bianco      87    NaN  Sicily & Sardinia   \n",
       "1                            Avidagos      87   15.0              Douro   \n",
       "2                                 NaN      87   14.0             Oregon   \n",
       "3                Reserve Late Harvest      87   13.0           Michigan   \n",
       "4  Vintner's Reserve Wild Child Block      87   65.0             Oregon   \n",
       "\n",
       "              region_1           region_2         taster_name  \\\n",
       "0                 Etna                NaN       Kerin O’Keefe   \n",
       "1                  NaN                NaN          Roger Voss   \n",
       "2    Willamette Valley  Willamette Valley        Paul Gregutt   \n",
       "3  Lake Michigan Shore                NaN  Alexander Peartree   \n",
       "4    Willamette Valley  Willamette Valley        Paul Gregutt   \n",
       "\n",
       "  taster_twitter_handle                                              title  \\\n",
       "0          @kerinokeefe                  Nicosia 2013 Vulkà Bianco  (Etna)   \n",
       "1            @vossroger      Quinta dos Avidagos 2011 Avidagos Red (Douro)   \n",
       "2           @paulgwine       Rainstorm 2013 Pinot Gris (Willamette Valley)   \n",
       "3                   NaN  St. Julian 2013 Reserve Late Harvest Riesling ...   \n",
       "4           @paulgwine   Sweet Cheeks 2012 Vintner's Reserve Wild Child...   \n",
       "\n",
       "          variety               winery  \n",
       "0     White Blend              Nicosia  \n",
       "1  Portuguese Red  Quinta dos Avidagos  \n",
       "2      Pinot Gris            Rainstorm  \n",
       "3        Riesling           St. Julian  \n",
       "4      Pinot Noir         Sweet Cheeks  "
      ]
     },
     "execution_count": 1,
     "metadata": {},
     "output_type": "execute_result"
    }
   ],
   "source": [
    "import pandas as pd\n",
    "pd.set_option(\"display.max_rows\", 5)\n",
    "reviews = pd.read_csv(\"../input/wine-reviews/winemag-data-130k-v2.csv\", index_col=0)\n",
    "\n",
    "from learntools.core import binder; binder.bind(globals())\n",
    "from learntools.pandas.summary_functions_and_maps import *\n",
    "print(\"Setup complete.\")\n",
    "\n",
    "reviews.head()"
   ]
  },
  {
   "cell_type": "markdown",
   "id": "1ba4b56c",
   "metadata": {
    "papermill": {
     "duration": 0.004956,
     "end_time": "2023-10-18T00:25:46.559656",
     "exception": false,
     "start_time": "2023-10-18T00:25:46.554700",
     "status": "completed"
    },
    "tags": []
   },
   "source": [
    "# Exercises"
   ]
  },
  {
   "cell_type": "markdown",
   "id": "7f96210a",
   "metadata": {
    "papermill": {
     "duration": 0.004816,
     "end_time": "2023-10-18T00:25:46.569551",
     "exception": false,
     "start_time": "2023-10-18T00:25:46.564735",
     "status": "completed"
    },
    "tags": []
   },
   "source": [
    "## 1.\n",
    "\n",
    "What is the median of the `points` column in the `reviews` DataFrame?"
   ]
  },
  {
   "cell_type": "code",
   "execution_count": 2,
   "id": "cac71b1b",
   "metadata": {
    "execution": {
     "iopub.execute_input": "2023-10-18T00:25:46.582052Z",
     "iopub.status.busy": "2023-10-18T00:25:46.581591Z",
     "iopub.status.idle": "2023-10-18T00:25:46.593206Z",
     "shell.execute_reply": "2023-10-18T00:25:46.592097Z"
    },
    "papermill": {
     "duration": 0.021104,
     "end_time": "2023-10-18T00:25:46.595651",
     "exception": false,
     "start_time": "2023-10-18T00:25:46.574547",
     "status": "completed"
    },
    "tags": []
   },
   "outputs": [
    {
     "data": {
      "application/javascript": [
       "parent.postMessage({\"jupyterEvent\": \"custom.exercise_interaction\", \"data\": {\"outcomeType\": 1, \"valueTowardsCompletion\": 0.14285714285714285, \"interactionType\": 1, \"questionType\": 1, \"questionId\": \"1_MedianPoints\", \"learnToolsVersion\": \"0.3.4\", \"failureMessage\": \"\", \"exceptionClass\": \"\", \"trace\": \"\"}}, \"*\")"
      ],
      "text/plain": [
       "<IPython.core.display.Javascript object>"
      ]
     },
     "metadata": {},
     "output_type": "display_data"
    },
    {
     "data": {
      "text/markdown": [
       "<span style=\"color:#33cc33\">Correct</span>"
      ],
      "text/plain": [
       "Correct"
      ]
     },
     "metadata": {},
     "output_type": "display_data"
    }
   ],
   "source": [
    "median_points = reviews.points.median()\n",
    "\n",
    "# Check your answer\n",
    "q1.check()"
   ]
  },
  {
   "cell_type": "code",
   "execution_count": 3,
   "id": "4b992e72",
   "metadata": {
    "execution": {
     "iopub.execute_input": "2023-10-18T00:25:46.608494Z",
     "iopub.status.busy": "2023-10-18T00:25:46.608131Z",
     "iopub.status.idle": "2023-10-18T00:25:46.612307Z",
     "shell.execute_reply": "2023-10-18T00:25:46.611312Z"
    },
    "papermill": {
     "duration": 0.012679,
     "end_time": "2023-10-18T00:25:46.613982",
     "exception": false,
     "start_time": "2023-10-18T00:25:46.601303",
     "status": "completed"
    },
    "tags": []
   },
   "outputs": [],
   "source": [
    "# q1.hint()\n",
    "# q1.solution()"
   ]
  },
  {
   "cell_type": "markdown",
   "id": "01d9040b",
   "metadata": {
    "papermill": {
     "duration": 0.00511,
     "end_time": "2023-10-18T00:25:46.624655",
     "exception": false,
     "start_time": "2023-10-18T00:25:46.619545",
     "status": "completed"
    },
    "tags": []
   },
   "source": [
    "## 2. \n",
    "What countries are represented in the dataset? (Your answer should not include any duplicates.)"
   ]
  },
  {
   "cell_type": "code",
   "execution_count": 4,
   "id": "2b39357d",
   "metadata": {
    "execution": {
     "iopub.execute_input": "2023-10-18T00:25:46.637394Z",
     "iopub.status.busy": "2023-10-18T00:25:46.637027Z",
     "iopub.status.idle": "2023-10-18T00:25:46.651645Z",
     "shell.execute_reply": "2023-10-18T00:25:46.650741Z"
    },
    "papermill": {
     "duration": 0.023481,
     "end_time": "2023-10-18T00:25:46.653453",
     "exception": false,
     "start_time": "2023-10-18T00:25:46.629972",
     "status": "completed"
    },
    "tags": []
   },
   "outputs": [
    {
     "data": {
      "application/javascript": [
       "parent.postMessage({\"jupyterEvent\": \"custom.exercise_interaction\", \"data\": {\"outcomeType\": 1, \"valueTowardsCompletion\": 0.14285714285714285, \"interactionType\": 1, \"questionType\": 2, \"questionId\": \"2_UniqueCountries\", \"learnToolsVersion\": \"0.3.4\", \"failureMessage\": \"\", \"exceptionClass\": \"\", \"trace\": \"\"}}, \"*\")"
      ],
      "text/plain": [
       "<IPython.core.display.Javascript object>"
      ]
     },
     "metadata": {},
     "output_type": "display_data"
    },
    {
     "data": {
      "text/markdown": [
       "<span style=\"color:#33cc33\">Correct</span>"
      ],
      "text/plain": [
       "Correct"
      ]
     },
     "metadata": {},
     "output_type": "display_data"
    }
   ],
   "source": [
    "countries = reviews.country.unique()\n",
    "\n",
    "# Check your answer\n",
    "q2.check()"
   ]
  },
  {
   "cell_type": "code",
   "execution_count": 5,
   "id": "3c5c7a75",
   "metadata": {
    "execution": {
     "iopub.execute_input": "2023-10-18T00:25:46.666014Z",
     "iopub.status.busy": "2023-10-18T00:25:46.665667Z",
     "iopub.status.idle": "2023-10-18T00:25:46.669520Z",
     "shell.execute_reply": "2023-10-18T00:25:46.668572Z"
    },
    "papermill": {
     "duration": 0.012486,
     "end_time": "2023-10-18T00:25:46.671545",
     "exception": false,
     "start_time": "2023-10-18T00:25:46.659059",
     "status": "completed"
    },
    "tags": []
   },
   "outputs": [],
   "source": [
    "# q2.hint()\n",
    "# q2.solution()"
   ]
  },
  {
   "cell_type": "markdown",
   "id": "97077076",
   "metadata": {
    "papermill": {
     "duration": 0.005364,
     "end_time": "2023-10-18T00:25:46.682704",
     "exception": false,
     "start_time": "2023-10-18T00:25:46.677340",
     "status": "completed"
    },
    "tags": []
   },
   "source": [
    "## 3.\n",
    "How often does each country appear in the dataset? Create a Series `reviews_per_country` mapping countries to the count of reviews of wines from that country."
   ]
  },
  {
   "cell_type": "code",
   "execution_count": 6,
   "id": "d96f01e8",
   "metadata": {
    "execution": {
     "iopub.execute_input": "2023-10-18T00:25:46.695338Z",
     "iopub.status.busy": "2023-10-18T00:25:46.695004Z",
     "iopub.status.idle": "2023-10-18T00:25:46.712969Z",
     "shell.execute_reply": "2023-10-18T00:25:46.712018Z"
    },
    "papermill": {
     "duration": 0.026755,
     "end_time": "2023-10-18T00:25:46.714990",
     "exception": false,
     "start_time": "2023-10-18T00:25:46.688235",
     "status": "completed"
    },
    "tags": []
   },
   "outputs": [
    {
     "data": {
      "application/javascript": [
       "parent.postMessage({\"jupyterEvent\": \"custom.exercise_interaction\", \"data\": {\"outcomeType\": 1, \"valueTowardsCompletion\": 0.14285714285714285, \"interactionType\": 1, \"questionType\": 1, \"questionId\": \"3_ReviewsPerCountry\", \"learnToolsVersion\": \"0.3.4\", \"failureMessage\": \"\", \"exceptionClass\": \"\", \"trace\": \"\"}}, \"*\")"
      ],
      "text/plain": [
       "<IPython.core.display.Javascript object>"
      ]
     },
     "metadata": {},
     "output_type": "display_data"
    },
    {
     "data": {
      "text/markdown": [
       "<span style=\"color:#33cc33\">Correct</span>"
      ],
      "text/plain": [
       "Correct"
      ]
     },
     "metadata": {},
     "output_type": "display_data"
    }
   ],
   "source": [
    "reviews_per_country = reviews.country.value_counts()\n",
    "\n",
    "# Check your answer\n",
    "q3.check()"
   ]
  },
  {
   "cell_type": "code",
   "execution_count": 7,
   "id": "b70bde1f",
   "metadata": {
    "execution": {
     "iopub.execute_input": "2023-10-18T00:25:46.729298Z",
     "iopub.status.busy": "2023-10-18T00:25:46.728404Z",
     "iopub.status.idle": "2023-10-18T00:25:46.732755Z",
     "shell.execute_reply": "2023-10-18T00:25:46.731791Z"
    },
    "papermill": {
     "duration": 0.013319,
     "end_time": "2023-10-18T00:25:46.734698",
     "exception": false,
     "start_time": "2023-10-18T00:25:46.721379",
     "status": "completed"
    },
    "tags": []
   },
   "outputs": [],
   "source": [
    "# q3.hint()\n",
    "# q3.solution()"
   ]
  },
  {
   "cell_type": "markdown",
   "id": "a1b4d325",
   "metadata": {
    "papermill": {
     "duration": 0.00597,
     "end_time": "2023-10-18T00:25:46.746717",
     "exception": false,
     "start_time": "2023-10-18T00:25:46.740747",
     "status": "completed"
    },
    "tags": []
   },
   "source": [
    "## 4.\n",
    "Create variable `centered_price` containing a version of the `price` column with the mean price subtracted.\n",
    "\n",
    "(Note: this 'centering' transformation is a common preprocessing step before applying various machine learning algorithms.) "
   ]
  },
  {
   "cell_type": "code",
   "execution_count": 8,
   "id": "34131a69",
   "metadata": {
    "execution": {
     "iopub.execute_input": "2023-10-18T00:25:46.760551Z",
     "iopub.status.busy": "2023-10-18T00:25:46.760192Z",
     "iopub.status.idle": "2023-10-18T00:25:46.770225Z",
     "shell.execute_reply": "2023-10-18T00:25:46.769184Z"
    },
    "papermill": {
     "duration": 0.019455,
     "end_time": "2023-10-18T00:25:46.772199",
     "exception": false,
     "start_time": "2023-10-18T00:25:46.752744",
     "status": "completed"
    },
    "tags": []
   },
   "outputs": [
    {
     "data": {
      "application/javascript": [
       "parent.postMessage({\"jupyterEvent\": \"custom.exercise_interaction\", \"data\": {\"outcomeType\": 1, \"valueTowardsCompletion\": 0.14285714285714285, \"interactionType\": 1, \"questionType\": 1, \"questionId\": \"4_CenteredPrice\", \"learnToolsVersion\": \"0.3.4\", \"failureMessage\": \"\", \"exceptionClass\": \"\", \"trace\": \"\"}}, \"*\")"
      ],
      "text/plain": [
       "<IPython.core.display.Javascript object>"
      ]
     },
     "metadata": {},
     "output_type": "display_data"
    },
    {
     "data": {
      "text/markdown": [
       "<span style=\"color:#33cc33\">Correct</span>"
      ],
      "text/plain": [
       "Correct"
      ]
     },
     "metadata": {},
     "output_type": "display_data"
    }
   ],
   "source": [
    "centered_price = reviews.price - reviews.price.mean()\n",
    "\n",
    "# Check your answer\n",
    "q4.check()"
   ]
  },
  {
   "cell_type": "code",
   "execution_count": 9,
   "id": "ee0d367b",
   "metadata": {
    "execution": {
     "iopub.execute_input": "2023-10-18T00:25:46.786676Z",
     "iopub.status.busy": "2023-10-18T00:25:46.786346Z",
     "iopub.status.idle": "2023-10-18T00:25:46.789720Z",
     "shell.execute_reply": "2023-10-18T00:25:46.789089Z"
    },
    "papermill": {
     "duration": 0.013141,
     "end_time": "2023-10-18T00:25:46.791414",
     "exception": false,
     "start_time": "2023-10-18T00:25:46.778273",
     "status": "completed"
    },
    "tags": []
   },
   "outputs": [],
   "source": [
    "# q4.hint()\n",
    "# q4.solution()"
   ]
  },
  {
   "cell_type": "markdown",
   "id": "4893101f",
   "metadata": {
    "papermill": {
     "duration": 0.005391,
     "end_time": "2023-10-18T00:25:46.802678",
     "exception": false,
     "start_time": "2023-10-18T00:25:46.797287",
     "status": "completed"
    },
    "tags": []
   },
   "source": [
    "## 5.\n",
    "I'm an economical wine buyer. Which wine is the \"best bargain\"? Create a variable `bargain_wine` with the title of the wine with the highest points-to-price ratio in the dataset."
   ]
  },
  {
   "cell_type": "code",
   "execution_count": 10,
   "id": "e84ce1e9",
   "metadata": {
    "execution": {
     "iopub.execute_input": "2023-10-18T00:25:46.815997Z",
     "iopub.status.busy": "2023-10-18T00:25:46.815613Z",
     "iopub.status.idle": "2023-10-18T00:25:46.832398Z",
     "shell.execute_reply": "2023-10-18T00:25:46.831267Z"
    },
    "papermill": {
     "duration": 0.026028,
     "end_time": "2023-10-18T00:25:46.834364",
     "exception": false,
     "start_time": "2023-10-18T00:25:46.808336",
     "status": "completed"
    },
    "tags": []
   },
   "outputs": [
    {
     "data": {
      "application/javascript": [
       "parent.postMessage({\"jupyterEvent\": \"custom.exercise_interaction\", \"data\": {\"outcomeType\": 1, \"valueTowardsCompletion\": 0.14285714285714285, \"interactionType\": 1, \"questionType\": 2, \"questionId\": \"5_BargainWine\", \"learnToolsVersion\": \"0.3.4\", \"failureMessage\": \"\", \"exceptionClass\": \"\", \"trace\": \"\"}}, \"*\")"
      ],
      "text/plain": [
       "<IPython.core.display.Javascript object>"
      ]
     },
     "metadata": {},
     "output_type": "display_data"
    },
    {
     "data": {
      "text/markdown": [
       "<span style=\"color:#33cc33\">Correct</span>"
      ],
      "text/plain": [
       "Correct"
      ]
     },
     "metadata": {},
     "output_type": "display_data"
    }
   ],
   "source": [
    "bargain_idx = (reviews.points / reviews.price).idxmax()\n",
    "bargain_wine = reviews.loc[bargain_idx, 'title']\n",
    "\n",
    "# Check your answer\n",
    "q5.check()"
   ]
  },
  {
   "cell_type": "code",
   "execution_count": 11,
   "id": "f3be7742",
   "metadata": {
    "execution": {
     "iopub.execute_input": "2023-10-18T00:25:46.848395Z",
     "iopub.status.busy": "2023-10-18T00:25:46.848007Z",
     "iopub.status.idle": "2023-10-18T00:25:46.852596Z",
     "shell.execute_reply": "2023-10-18T00:25:46.851501Z"
    },
    "papermill": {
     "duration": 0.013835,
     "end_time": "2023-10-18T00:25:46.854460",
     "exception": false,
     "start_time": "2023-10-18T00:25:46.840625",
     "status": "completed"
    },
    "tags": []
   },
   "outputs": [],
   "source": [
    "# q5.hint()\n",
    "# q5.solution()"
   ]
  },
  {
   "cell_type": "markdown",
   "id": "a647b861",
   "metadata": {
    "papermill": {
     "duration": 0.005517,
     "end_time": "2023-10-18T00:25:46.865836",
     "exception": false,
     "start_time": "2023-10-18T00:25:46.860319",
     "status": "completed"
    },
    "tags": []
   },
   "source": [
    "## 6.\n",
    "There are only so many words you can use when describing a bottle of wine. Is a wine more likely to be \"tropical\" or \"fruity\"? Create a Series `descriptor_counts` counting how many times each of these two words appears in the `description` column in the dataset. (For simplicity, let's ignore the capitalized versions of these words.)"
   ]
  },
  {
   "cell_type": "code",
   "execution_count": 12,
   "id": "a63e4d65",
   "metadata": {
    "execution": {
     "iopub.execute_input": "2023-10-18T00:25:46.879465Z",
     "iopub.status.busy": "2023-10-18T00:25:46.879049Z",
     "iopub.status.idle": "2023-10-18T00:25:47.010916Z",
     "shell.execute_reply": "2023-10-18T00:25:47.010170Z"
    },
    "papermill": {
     "duration": 0.140896,
     "end_time": "2023-10-18T00:25:47.012589",
     "exception": false,
     "start_time": "2023-10-18T00:25:46.871693",
     "status": "completed"
    },
    "tags": []
   },
   "outputs": [
    {
     "data": {
      "application/javascript": [
       "parent.postMessage({\"jupyterEvent\": \"custom.exercise_interaction\", \"data\": {\"outcomeType\": 1, \"valueTowardsCompletion\": 0.14285714285714285, \"interactionType\": 1, \"questionType\": 1, \"questionId\": \"6_DescriptorCounts\", \"learnToolsVersion\": \"0.3.4\", \"failureMessage\": \"\", \"exceptionClass\": \"\", \"trace\": \"\"}}, \"*\")"
      ],
      "text/plain": [
       "<IPython.core.display.Javascript object>"
      ]
     },
     "metadata": {},
     "output_type": "display_data"
    },
    {
     "data": {
      "text/markdown": [
       "<span style=\"color:#33cc33\">Correct</span>"
      ],
      "text/plain": [
       "Correct"
      ]
     },
     "metadata": {},
     "output_type": "display_data"
    }
   ],
   "source": [
    "n_trop = reviews.description.map(lambda desc: \"tropical\" in desc).sum()\n",
    "n_fruity = reviews.description.map(lambda desc: \"fruity\" in desc).sum()\n",
    "descriptor_counts = pd.Series([n_trop, n_fruity], index=['tropical', 'fruity'])\n",
    "\n",
    "# Check your answer\n",
    "q6.check()"
   ]
  },
  {
   "cell_type": "code",
   "execution_count": 13,
   "id": "c2f3f7fc",
   "metadata": {
    "execution": {
     "iopub.execute_input": "2023-10-18T00:25:47.027226Z",
     "iopub.status.busy": "2023-10-18T00:25:47.026849Z",
     "iopub.status.idle": "2023-10-18T00:25:47.030112Z",
     "shell.execute_reply": "2023-10-18T00:25:47.029387Z"
    },
    "papermill": {
     "duration": 0.013074,
     "end_time": "2023-10-18T00:25:47.031951",
     "exception": false,
     "start_time": "2023-10-18T00:25:47.018877",
     "status": "completed"
    },
    "tags": []
   },
   "outputs": [],
   "source": [
    "# q6.hint()\n",
    "# q6.solution()"
   ]
  },
  {
   "cell_type": "markdown",
   "id": "e6e01cc1",
   "metadata": {
    "papermill": {
     "duration": 0.0062,
     "end_time": "2023-10-18T00:25:47.045847",
     "exception": false,
     "start_time": "2023-10-18T00:25:47.039647",
     "status": "completed"
    },
    "tags": []
   },
   "source": [
    "## 7.\n",
    "We'd like to host these wine reviews on our website, but a rating system ranging from 80 to 100 points is too hard to understand - we'd like to translate them into simple star ratings. A score of 95 or higher counts as 3 stars, a score of at least 85 but less than 95 is 2 stars. Any other score is 1 star.\n",
    "\n",
    "Also, the Canadian Vintners Association bought a lot of ads on the site, so any wines from Canada should automatically get 3 stars, regardless of points.\n",
    "\n",
    "Create a series `star_ratings` with the number of stars corresponding to each review in the dataset."
   ]
  },
  {
   "cell_type": "code",
   "execution_count": 14,
   "id": "50362a4f",
   "metadata": {
    "execution": {
     "iopub.execute_input": "2023-10-18T00:25:47.061012Z",
     "iopub.status.busy": "2023-10-18T00:25:47.060244Z",
     "iopub.status.idle": "2023-10-18T00:25:49.530309Z",
     "shell.execute_reply": "2023-10-18T00:25:49.529070Z"
    },
    "papermill": {
     "duration": 2.480459,
     "end_time": "2023-10-18T00:25:49.532804",
     "exception": false,
     "start_time": "2023-10-18T00:25:47.052345",
     "status": "completed"
    },
    "tags": []
   },
   "outputs": [
    {
     "data": {
      "application/javascript": [
       "parent.postMessage({\"jupyterEvent\": \"custom.exercise_interaction\", \"data\": {\"outcomeType\": 1, \"valueTowardsCompletion\": 0.14285714285714285, \"interactionType\": 1, \"questionType\": 1, \"questionId\": \"7_StarRatings\", \"learnToolsVersion\": \"0.3.4\", \"failureMessage\": \"\", \"exceptionClass\": \"\", \"trace\": \"\"}}, \"*\")"
      ],
      "text/plain": [
       "<IPython.core.display.Javascript object>"
      ]
     },
     "metadata": {},
     "output_type": "display_data"
    },
    {
     "data": {
      "text/markdown": [
       "<span style=\"color:#33cc33\">Correct</span>"
      ],
      "text/plain": [
       "Correct"
      ]
     },
     "metadata": {},
     "output_type": "display_data"
    }
   ],
   "source": [
    "def stars(row):\n",
    "    if row.country == 'Canada':\n",
    "        return 3\n",
    "    elif row.points >= 95:\n",
    "        return 3\n",
    "    elif row.points >= 85:\n",
    "        return 2\n",
    "    else:\n",
    "        return 1\n",
    "\n",
    "star_ratings = reviews.apply(stars, axis='columns')\n",
    "\n",
    "# Check your answer\n",
    "q7.check()"
   ]
  },
  {
   "cell_type": "code",
   "execution_count": 15,
   "id": "28a696d6",
   "metadata": {
    "execution": {
     "iopub.execute_input": "2023-10-18T00:25:49.547823Z",
     "iopub.status.busy": "2023-10-18T00:25:49.547412Z",
     "iopub.status.idle": "2023-10-18T00:25:49.551961Z",
     "shell.execute_reply": "2023-10-18T00:25:49.550839Z"
    },
    "papermill": {
     "duration": 0.014272,
     "end_time": "2023-10-18T00:25:49.553690",
     "exception": false,
     "start_time": "2023-10-18T00:25:49.539418",
     "status": "completed"
    },
    "tags": []
   },
   "outputs": [],
   "source": [
    "# q7.hint()\n",
    "# q7.solution()"
   ]
  },
  {
   "cell_type": "markdown",
   "id": "11f5fa3f",
   "metadata": {
    "papermill": {
     "duration": 0.006027,
     "end_time": "2023-10-18T00:25:49.565938",
     "exception": false,
     "start_time": "2023-10-18T00:25:49.559911",
     "status": "completed"
    },
    "tags": []
   },
   "source": [
    "# Keep going\n",
    "Continue to **[grouping and sorting](https://www.kaggle.com/residentmario/grouping-and-sorting)**."
   ]
  },
  {
   "cell_type": "markdown",
   "id": "491bbd2a",
   "metadata": {
    "papermill": {
     "duration": 0.006112,
     "end_time": "2023-10-18T00:25:49.578269",
     "exception": false,
     "start_time": "2023-10-18T00:25:49.572157",
     "status": "completed"
    },
    "tags": []
   },
   "source": [
    "---\n",
    "\n",
    "\n",
    "\n",
    "\n",
    "*Have questions or comments? Visit the [course discussion forum](https://www.kaggle.com/learn/pandas/discussion) to chat with other learners.*"
   ]
  }
 ],
 "metadata": {
  "kernelspec": {
   "display_name": "Python 3",
   "language": "python",
   "name": "python3"
  },
  "language_info": {
   "codemirror_mode": {
    "name": "ipython",
    "version": 3
   },
   "file_extension": ".py",
   "mimetype": "text/x-python",
   "name": "python",
   "nbconvert_exporter": "python",
   "pygments_lexer": "ipython3",
   "version": "3.10.12"
  },
  "papermill": {
   "default_parameters": {},
   "duration": 13.378877,
   "end_time": "2023-10-18T00:25:50.306489",
   "environment_variables": {},
   "exception": null,
   "input_path": "__notebook__.ipynb",
   "output_path": "__notebook__.ipynb",
   "parameters": {},
   "start_time": "2023-10-18T00:25:36.927612",
   "version": "2.4.0"
  }
 },
 "nbformat": 4,
 "nbformat_minor": 5
}
