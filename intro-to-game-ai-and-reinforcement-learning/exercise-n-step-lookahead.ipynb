{
 "cells": [
  {
   "cell_type": "markdown",
   "id": "4064498e",
   "metadata": {
    "papermill": {
     "duration": 0.00482,
     "end_time": "2024-12-03T05:08:06.755483",
     "exception": false,
     "start_time": "2024-12-03T05:08:06.750663",
     "status": "completed"
    },
    "tags": []
   },
   "source": [
    "**This notebook is an exercise in the [Intro to Game AI and Reinforcement Learning](https://www.kaggle.com/learn/intro-to-game-ai-and-reinforcement-learning) course.  You can reference the tutorial at [this link](https://www.kaggle.com/alexisbcook/n-step-lookahead).**\n",
    "\n",
    "---\n"
   ]
  },
  {
   "cell_type": "markdown",
   "id": "92c6fe21",
   "metadata": {
    "papermill": {
     "duration": 0.004118,
     "end_time": "2024-12-03T05:08:06.763812",
     "exception": false,
     "start_time": "2024-12-03T05:08:06.759694",
     "status": "completed"
    },
    "tags": []
   },
   "source": [
    "# Introduction\n",
    "\n",
    "In the tutorial, you learned how to build a reasonably intelligent agent with the minimax algorithm.  In this exercise, you will check your understanding and submit your own agent to the competition."
   ]
  },
  {
   "cell_type": "code",
   "execution_count": 1,
   "id": "04e12e09",
   "metadata": {
    "execution": {
     "iopub.execute_input": "2024-12-03T05:08:06.773742Z",
     "iopub.status.busy": "2024-12-03T05:08:06.773363Z",
     "iopub.status.idle": "2024-12-03T05:08:07.755442Z",
     "shell.execute_reply": "2024-12-03T05:08:07.754082Z"
    },
    "papermill": {
     "duration": 0.990401,
     "end_time": "2024-12-03T05:08:07.758386",
     "exception": false,
     "start_time": "2024-12-03T05:08:06.767985",
     "status": "completed"
    },
    "tags": []
   },
   "outputs": [],
   "source": [
    "from learntools.core import binder\n",
    "binder.bind(globals())\n",
    "from learntools.game_ai.ex3 import *"
   ]
  },
  {
   "cell_type": "markdown",
   "id": "6fbeebce",
   "metadata": {
    "papermill": {
     "duration": 0.005304,
     "end_time": "2024-12-03T05:08:07.768522",
     "exception": false,
     "start_time": "2024-12-03T05:08:07.763218",
     "status": "completed"
    },
    "tags": []
   },
   "source": [
    "### 1) A closer look\n",
    "\n",
    "The heuristic from the tutorial looks at all groups of four adjacent grid locations on the same row, column, or diagonal and assigns points for each occurrence of the following patterns:\n",
    "\n",
    "<center>\n",
    "<img src=\"https://storage.googleapis.com/kaggle-media/learn/images/3NvBEGL.png\" width=70%><br/>\n",
    "</center>\n",
    "\n",
    "Is it really necessary to use so many numbers to define the heuristic?  Consider simplifying it, as in the image below.\n",
    "\n",
    "<center>\n",
    "<img src=\"https://storage.googleapis.com/kaggle-media/learn/images/grViegG.png\" width=70%><br/>\n",
    "</center>\n",
    "\n",
    "How would each heuristic score the potential moves in the example below (where, in this case, the agent looks only one step ahead)?  Which heuristic would lead to the agent selecting the better move?\n",
    "\n",
    "<center>\n",
    "<img src=\"https://storage.googleapis.com/kaggle-media/learn/images/LWPLy7N.png\" width=100%><br/>\n",
    "</center>"
   ]
  },
  {
   "cell_type": "code",
   "execution_count": 2,
   "id": "ac3d7665",
   "metadata": {
    "execution": {
     "iopub.execute_input": "2024-12-03T05:08:07.779088Z",
     "iopub.status.busy": "2024-12-03T05:08:07.778555Z",
     "iopub.status.idle": "2024-12-03T05:08:07.783031Z",
     "shell.execute_reply": "2024-12-03T05:08:07.782198Z"
    },
    "papermill": {
     "duration": 0.01199,
     "end_time": "2024-12-03T05:08:07.785135",
     "exception": false,
     "start_time": "2024-12-03T05:08:07.773145",
     "status": "completed"
    },
    "tags": []
   },
   "outputs": [],
   "source": [
    "#q_1.hint()"
   ]
  },
  {
   "cell_type": "code",
   "execution_count": 3,
   "id": "2541127e",
   "metadata": {
    "execution": {
     "iopub.execute_input": "2024-12-03T05:08:07.795277Z",
     "iopub.status.busy": "2024-12-03T05:08:07.794841Z",
     "iopub.status.idle": "2024-12-03T05:08:07.805172Z",
     "shell.execute_reply": "2024-12-03T05:08:07.804020Z"
    },
    "papermill": {
     "duration": 0.018074,
     "end_time": "2024-12-03T05:08:07.807446",
     "exception": false,
     "start_time": "2024-12-03T05:08:07.789372",
     "status": "completed"
    },
    "tags": []
   },
   "outputs": [
    {
     "data": {
      "application/javascript": [
       "parent.postMessage({\"jupyterEvent\": \"custom.exercise_interaction\", \"data\": {\"interactionType\": 3, \"questionType\": 4, \"questionId\": \"1_WorseHeuristic\", \"learnToolsVersion\": \"0.3.4\", \"valueTowardsCompletion\": 0.0, \"failureMessage\": \"\", \"exceptionClass\": \"\", \"trace\": \"\", \"outcomeType\": 4}}, \"*\")"
      ],
      "text/plain": [
       "<IPython.core.display.Javascript object>"
      ]
     },
     "metadata": {},
     "output_type": "display_data"
    },
    {
     "data": {
      "text/markdown": [
       "<span style=\"color:#33cc99\">Solution:</span> The first heuristic is guaranteed to select column 2 to block the opponent from winning.  The second heuristic selects either column 2 or column 3 (where it selects each with 50% probability). Thus, for this game board, the first heuristic is better. In general, we can expect that the first heuristic is a better heuristic, since we cannot trust the second heuristic to block the opponent from winning."
      ],
      "text/plain": [
       "Solution: The first heuristic is guaranteed to select column 2 to block the opponent from winning.  The second heuristic selects either column 2 or column 3 (where it selects each with 50% probability). Thus, for this game board, the first heuristic is better. In general, we can expect that the first heuristic is a better heuristic, since we cannot trust the second heuristic to block the opponent from winning."
      ]
     },
     "metadata": {},
     "output_type": "display_data"
    }
   ],
   "source": [
    "# Check your answer (Run this code cell to receive credit!)\n",
    "q_1.solution()"
   ]
  },
  {
   "cell_type": "markdown",
   "id": "302aa0cf",
   "metadata": {
    "papermill": {
     "duration": 0.004405,
     "end_time": "2024-12-03T05:08:07.816660",
     "exception": false,
     "start_time": "2024-12-03T05:08:07.812255",
     "status": "completed"
    },
    "tags": []
   },
   "source": [
    "### 2) Count the leaves\n",
    "\n",
    "In the tutorial, we worked with a small game tree.\n",
    "\n",
    "<center>\n",
    "<img src=\"https://storage.googleapis.com/kaggle-media/learn/images/BrRe7Bu.png\" width=90%><br/>\n",
    "</center>\n",
    "\n",
    "The game tree above has 8 leaf nodes that appear at the bottom of the tree.  By definition, \"leaf nodes\" in a game tree are nodes that don't have nodes below them.\n",
    "\n",
    "In the ConnectX competition, the game trees will be much larger!  \n",
    "\n",
    "To see this, consider a minimax agent that is trying to plan its first move, where all columns in the game board are  empty.  Say the agent builds a game tree of depth 3.  How many leaf nodes are in the game tree?  \n",
    "\n",
    "Use your answer to fill in the blank below."
   ]
  },
  {
   "cell_type": "code",
   "execution_count": 4,
   "id": "ecb4bfb5",
   "metadata": {
    "execution": {
     "iopub.execute_input": "2024-12-03T05:08:07.827401Z",
     "iopub.status.busy": "2024-12-03T05:08:07.827011Z",
     "iopub.status.idle": "2024-12-03T05:08:07.836508Z",
     "shell.execute_reply": "2024-12-03T05:08:07.835239Z"
    },
    "papermill": {
     "duration": 0.017397,
     "end_time": "2024-12-03T05:08:07.838726",
     "exception": false,
     "start_time": "2024-12-03T05:08:07.821329",
     "status": "completed"
    },
    "tags": []
   },
   "outputs": [
    {
     "data": {
      "application/javascript": [
       "parent.postMessage({\"jupyterEvent\": \"custom.exercise_interaction\", \"data\": {\"outcomeType\": 1, \"valueTowardsCompletion\": 0.2, \"interactionType\": 1, \"questionType\": 1, \"questionId\": \"2_NumLeaves\", \"learnToolsVersion\": \"0.3.4\", \"failureMessage\": \"\", \"exceptionClass\": \"\", \"trace\": \"\"}}, \"*\")"
      ],
      "text/plain": [
       "<IPython.core.display.Javascript object>"
      ]
     },
     "metadata": {},
     "output_type": "display_data"
    },
    {
     "data": {
      "text/markdown": [
       "<span style=\"color:#33cc33\">Correct</span>"
      ],
      "text/plain": [
       "Correct"
      ]
     },
     "metadata": {},
     "output_type": "display_data"
    }
   ],
   "source": [
    "# Fill in the blank\n",
    "num_leaves = 7*7*7\n",
    "\n",
    "# Check your answer\n",
    "q_2.check()"
   ]
  },
  {
   "cell_type": "code",
   "execution_count": 5,
   "id": "aca221be",
   "metadata": {
    "execution": {
     "iopub.execute_input": "2024-12-03T05:08:07.850677Z",
     "iopub.status.busy": "2024-12-03T05:08:07.850268Z",
     "iopub.status.idle": "2024-12-03T05:08:07.855071Z",
     "shell.execute_reply": "2024-12-03T05:08:07.853986Z"
    },
    "papermill": {
     "duration": 0.013562,
     "end_time": "2024-12-03T05:08:07.857269",
     "exception": false,
     "start_time": "2024-12-03T05:08:07.843707",
     "status": "completed"
    },
    "tags": []
   },
   "outputs": [],
   "source": [
    "# Lines below will give you a hint or solution code\n",
    "# q_2.hint()\n",
    "# q_2.solution()"
   ]
  },
  {
   "cell_type": "markdown",
   "id": "c87f6165",
   "metadata": {
    "papermill": {
     "duration": 0.004356,
     "end_time": "2024-12-03T05:08:07.866254",
     "exception": false,
     "start_time": "2024-12-03T05:08:07.861898",
     "status": "completed"
    },
    "tags": []
   },
   "source": [
    "### 3) Which move will the agent select?\n",
    "\n",
    "In this question, you'll check your understanding of the minimax algorithm.  Remember that with this algorithm, \n",
    "> The agent chooses moves to get a score that is as high as possible, and it assumes the opponent will counteract this by choosing moves to force the score to be as low as possible.\n",
    "\n",
    "Consider the toy example below of a game tree that the agent will use to select its next move.  \n",
    "<center>\n",
    "<img src=\"https://storage.googleapis.com/kaggle-media/learn/images/QlfWGM9.png\" width=80%><br/>\n",
    "</center>\n",
    "\n",
    "Which move will the agent select?  Use your answer to set the value of the `selected_move` variable below.  Your answer should be one of `1`, `2`, or `3`."
   ]
  },
  {
   "cell_type": "code",
   "execution_count": 6,
   "id": "3c92b84c",
   "metadata": {
    "execution": {
     "iopub.execute_input": "2024-12-03T05:08:07.877150Z",
     "iopub.status.busy": "2024-12-03T05:08:07.876746Z",
     "iopub.status.idle": "2024-12-03T05:08:07.885569Z",
     "shell.execute_reply": "2024-12-03T05:08:07.884533Z"
    },
    "papermill": {
     "duration": 0.016773,
     "end_time": "2024-12-03T05:08:07.887719",
     "exception": false,
     "start_time": "2024-12-03T05:08:07.870946",
     "status": "completed"
    },
    "tags": []
   },
   "outputs": [
    {
     "data": {
      "application/javascript": [
       "parent.postMessage({\"jupyterEvent\": \"custom.exercise_interaction\", \"data\": {\"outcomeType\": 1, \"valueTowardsCompletion\": 0.2, \"interactionType\": 1, \"questionType\": 2, \"questionId\": \"3_WhichMove\", \"learnToolsVersion\": \"0.3.4\", \"failureMessage\": \"\", \"exceptionClass\": \"\", \"trace\": \"\"}}, \"*\")"
      ],
      "text/plain": [
       "<IPython.core.display.Javascript object>"
      ]
     },
     "metadata": {},
     "output_type": "display_data"
    },
    {
     "data": {
      "text/markdown": [
       "<span style=\"color:#33cc33\">Correct</span>"
      ],
      "text/plain": [
       "Correct"
      ]
     },
     "metadata": {},
     "output_type": "display_data"
    }
   ],
   "source": [
    "# Fill in the blank\n",
    "selected_move = 3\n",
    "\n",
    "# Check your answer\n",
    "q_3.check()"
   ]
  },
  {
   "cell_type": "code",
   "execution_count": 7,
   "id": "85d6b4c4",
   "metadata": {
    "execution": {
     "iopub.execute_input": "2024-12-03T05:08:07.899188Z",
     "iopub.status.busy": "2024-12-03T05:08:07.898806Z",
     "iopub.status.idle": "2024-12-03T05:08:07.903412Z",
     "shell.execute_reply": "2024-12-03T05:08:07.902412Z"
    },
    "papermill": {
     "duration": 0.012968,
     "end_time": "2024-12-03T05:08:07.905734",
     "exception": false,
     "start_time": "2024-12-03T05:08:07.892766",
     "status": "completed"
    },
    "tags": []
   },
   "outputs": [],
   "source": [
    "# Lines below will give you a hint or solution code\n",
    "# q_3.hint()\n",
    "# q_3.solution()"
   ]
  },
  {
   "cell_type": "markdown",
   "id": "4e83bc6c",
   "metadata": {
    "papermill": {
     "duration": 0.004535,
     "end_time": "2024-12-03T05:08:07.915270",
     "exception": false,
     "start_time": "2024-12-03T05:08:07.910735",
     "status": "completed"
    },
    "tags": []
   },
   "source": [
    "### 4) Examine the assumptions\n",
    "\n",
    "The minimax agent assumes that its opponent plays optimally (with respect to the heuristic, and using a game tree of limited depth).  But this is almost never the case, in practice: it's far more likely for the agent to encounter a suboptimal (that is: worse than optimal) opponent.  \n",
    "\n",
    "Say the minimax agent encounters a suboptimal opponent. Should we expect the minimax agent to still play the game well, despite the contradiction with its assumptions?  If so, why?"
   ]
  },
  {
   "cell_type": "code",
   "execution_count": 8,
   "id": "ddde117d",
   "metadata": {
    "execution": {
     "iopub.execute_input": "2024-12-03T05:08:07.926400Z",
     "iopub.status.busy": "2024-12-03T05:08:07.925934Z",
     "iopub.status.idle": "2024-12-03T05:08:07.931071Z",
     "shell.execute_reply": "2024-12-03T05:08:07.929815Z"
    },
    "papermill": {
     "duration": 0.013308,
     "end_time": "2024-12-03T05:08:07.933365",
     "exception": false,
     "start_time": "2024-12-03T05:08:07.920057",
     "status": "completed"
    },
    "tags": []
   },
   "outputs": [],
   "source": [
    "#q_4.hint()"
   ]
  },
  {
   "cell_type": "code",
   "execution_count": 9,
   "id": "077a76df",
   "metadata": {
    "execution": {
     "iopub.execute_input": "2024-12-03T05:08:07.945073Z",
     "iopub.status.busy": "2024-12-03T05:08:07.944646Z",
     "iopub.status.idle": "2024-12-03T05:08:07.953546Z",
     "shell.execute_reply": "2024-12-03T05:08:07.952446Z"
    },
    "papermill": {
     "duration": 0.017752,
     "end_time": "2024-12-03T05:08:07.956186",
     "exception": false,
     "start_time": "2024-12-03T05:08:07.938434",
     "status": "completed"
    },
    "tags": []
   },
   "outputs": [
    {
     "data": {
      "application/javascript": [
       "parent.postMessage({\"jupyterEvent\": \"custom.exercise_interaction\", \"data\": {\"interactionType\": 3, \"questionType\": 4, \"questionId\": \"4_Assumptions\", \"learnToolsVersion\": \"0.3.4\", \"valueTowardsCompletion\": 0.0, \"failureMessage\": \"\", \"exceptionClass\": \"\", \"trace\": \"\", \"outcomeType\": 4}}, \"*\")"
      ],
      "text/plain": [
       "<IPython.core.display.Javascript object>"
      ]
     },
     "metadata": {},
     "output_type": "display_data"
    },
    {
     "data": {
      "text/markdown": [
       "<span style=\"color:#33cc99\">Solution:</span> We can still expect the minimax agent to perform well. On a high level, assuming an optimal opponent simply overestimates the opponent, but does not break the algorithm.  The effect of overestimating the opponent is merely that the minimax agent will take longer to win, than if it had a more accurate understanding of its opponent.  For instance, the minimax agent is highly unlikely to select the same column three times in its first three moves (since it assumes an optimal opponent that will certainly block the winning play in the next move), but this is not a bad initial strategy for playing against an agent that selects columns completely at random."
      ],
      "text/plain": [
       "Solution: We can still expect the minimax agent to perform well. On a high level, assuming an optimal opponent simply overestimates the opponent, but does not break the algorithm.  The effect of overestimating the opponent is merely that the minimax agent will take longer to win, than if it had a more accurate understanding of its opponent.  For instance, the minimax agent is highly unlikely to select the same column three times in its first three moves (since it assumes an optimal opponent that will certainly block the winning play in the next move), but this is not a bad initial strategy for playing against an agent that selects columns completely at random."
      ]
     },
     "metadata": {},
     "output_type": "display_data"
    }
   ],
   "source": [
    "# Check your answer (Run this code cell to receive credit!)\n",
    "q_4.solution()"
   ]
  },
  {
   "cell_type": "markdown",
   "id": "d6484cf8",
   "metadata": {
    "papermill": {
     "duration": 0.004945,
     "end_time": "2024-12-03T05:08:07.966352",
     "exception": false,
     "start_time": "2024-12-03T05:08:07.961407",
     "status": "completed"
    },
    "tags": []
   },
   "source": [
    "### 5) Submit to the competition\n",
    "\n",
    "Now, it's time to submit an agent to the competition!  Use the next code cell to define an agent.  (You can see an example of how to write a valid agent in **[this notebook](https://www.kaggle.com/alexisbcook/create-a-connectx-agent)**.)\n",
    "\n",
    "If you decide to use the minimax code from the tutorial, you might like to add [**alpha-beta pruning**](https://en.wikipedia.org/wiki/Alpha%E2%80%93beta_pruning) to decrease the computation time (i.e., get the minimax algorithm to run much faster!).  In this case, \"alpha\" and \"beta\" to refer to two values that are maintained while the algorithm is running, that help to identify early stopping conditions.  \n",
    "\n",
    "Without alpha-beta pruning, minimax evaluates each leaf node.  With alpha-beta pruning, minimax only evaluates nodes that could provide information that affects the agent's choice of action.  Put another way, it identifies nodes that could not possibly affect the final result and avoids evaluating them."
   ]
  },
  {
   "cell_type": "code",
   "execution_count": 10,
   "id": "de47a3ca",
   "metadata": {
    "execution": {
     "iopub.execute_input": "2024-12-03T05:08:07.978478Z",
     "iopub.status.busy": "2024-12-03T05:08:07.978014Z",
     "iopub.status.idle": "2024-12-03T05:08:07.984037Z",
     "shell.execute_reply": "2024-12-03T05:08:07.983074Z"
    },
    "papermill": {
     "duration": 0.014773,
     "end_time": "2024-12-03T05:08:07.986241",
     "exception": false,
     "start_time": "2024-12-03T05:08:07.971468",
     "status": "completed"
    },
    "tags": []
   },
   "outputs": [],
   "source": [
    "def my_agent(obs, config):\n",
    "    # Your code here: Amend the agent!\n",
    "    import random\n",
    "    valid_moves = [col for col in range(config.columns) if obs.board[col] == 0]\n",
    "    return random.choice(valid_moves)"
   ]
  },
  {
   "cell_type": "code",
   "execution_count": 11,
   "id": "b3d23b95",
   "metadata": {
    "execution": {
     "iopub.execute_input": "2024-12-03T05:08:07.998056Z",
     "iopub.status.busy": "2024-12-03T05:08:07.997648Z",
     "iopub.status.idle": "2024-12-03T05:08:08.006271Z",
     "shell.execute_reply": "2024-12-03T05:08:08.005149Z"
    },
    "papermill": {
     "duration": 0.016949,
     "end_time": "2024-12-03T05:08:08.008348",
     "exception": false,
     "start_time": "2024-12-03T05:08:07.991399",
     "status": "completed"
    },
    "tags": []
   },
   "outputs": [
    {
     "data": {
      "application/javascript": [
       "parent.postMessage({\"jupyterEvent\": \"custom.exercise_interaction\", \"data\": {\"outcomeType\": 1, \"valueTowardsCompletion\": 0.2, \"interactionType\": 1, \"questionType\": 2, \"questionId\": \"5_JustSubmitEx3\", \"learnToolsVersion\": \"0.3.4\", \"failureMessage\": \"\", \"exceptionClass\": \"\", \"trace\": \"\"}}, \"*\")"
      ],
      "text/plain": [
       "<IPython.core.display.Javascript object>"
      ]
     },
     "metadata": {},
     "output_type": "display_data"
    },
    {
     "data": {
      "text/markdown": [
       "<span style=\"color:#33cc33\">Thank you for creating an agent!</span>"
      ],
      "text/plain": [
       "Thank you for creating an agent!"
      ]
     },
     "metadata": {},
     "output_type": "display_data"
    }
   ],
   "source": [
    "# Run this code cell to get credit for creating an agent\n",
    "q_5.check()"
   ]
  },
  {
   "cell_type": "code",
   "execution_count": 12,
   "id": "7d03aa9d",
   "metadata": {
    "execution": {
     "iopub.execute_input": "2024-12-03T05:08:08.020848Z",
     "iopub.status.busy": "2024-12-03T05:08:08.020450Z",
     "iopub.status.idle": "2024-12-03T05:08:08.028397Z",
     "shell.execute_reply": "2024-12-03T05:08:08.027316Z"
    },
    "papermill": {
     "duration": 0.016964,
     "end_time": "2024-12-03T05:08:08.030686",
     "exception": false,
     "start_time": "2024-12-03T05:08:08.013722",
     "status": "completed"
    },
    "tags": []
   },
   "outputs": [
    {
     "name": "stdout",
     "output_type": "stream",
     "text": [
      "<function my_agent at 0x7c7b64f41990> written to submission.py\n"
     ]
    }
   ],
   "source": [
    "import inspect\n",
    "import os\n",
    "\n",
    "def write_agent_to_file(function, file):\n",
    "    with open(file, \"a\" if os.path.exists(file) else \"w\") as f:\n",
    "        f.write(inspect.getsource(function))\n",
    "        print(function, \"written to\", file)\n",
    "\n",
    "write_agent_to_file(my_agent, \"submission.py\")"
   ]
  },
  {
   "cell_type": "markdown",
   "id": "7ea4c61e",
   "metadata": {
    "papermill": {
     "duration": 0.005074,
     "end_time": "2024-12-03T05:08:08.041469",
     "exception": false,
     "start_time": "2024-12-03T05:08:08.036395",
     "status": "completed"
    },
    "tags": []
   },
   "source": [
    "Then, follow these steps to submit your agent to the competition:\n",
    "1. Begin by clicking on the **Save Version** button in the top right corner of the window.  This will generate a pop-up window.  \n",
    "2. Ensure that the **Save and Run All** option is selected, and then click on the **Save** button.\n",
    "3. This generates a window in the bottom left corner of the notebook.  After it has finished running, click on the number to the right of the **Save Version** button.  This pulls up a list of versions on the right of the screen.  Click on the ellipsis **(...)** to the right of the most recent version, and select **Open in Viewer**.  This brings you into view mode of the same page. You will need to scroll down to get back to these instructions.\n",
    "4. Click on the **Data** tab near the top of the screen.  Then, click on the file you would like to submit, and click on the **Submit** button to submit your results to the leaderboard.\n",
    "\n",
    "You have now successfully submitted to the competition!\n",
    "\n",
    "If you want to keep working to improve your performance, select the **Edit** button in the top right of the screen. Then you can change your code and repeat the process. There's a lot of room to improve, and you will climb up the leaderboard as you work.\n",
    "\n",
    "\n",
    "Go to **\"My Submissions\"** to view your score and episodes being played.\n",
    "\n",
    "# Keep going\n",
    "\n",
    "Move on to learn how to **[use deep reinforcement learning](https://www.kaggle.com/alexisbcook/deep-reinforcement-learning)** to develop an agent without a heuristic!"
   ]
  },
  {
   "cell_type": "markdown",
   "id": "0a3e9f78",
   "metadata": {
    "papermill": {
     "duration": 0.00497,
     "end_time": "2024-12-03T05:08:08.051693",
     "exception": false,
     "start_time": "2024-12-03T05:08:08.046723",
     "status": "completed"
    },
    "tags": []
   },
   "source": [
    "---\n",
    "\n",
    "\n",
    "\n",
    "\n",
    "*Have questions or comments? Visit the [course discussion forum](https://www.kaggle.com/learn/intro-to-game-ai-and-reinforcement-learning/discussion) to chat with other learners.*"
   ]
  }
 ],
 "metadata": {
  "kaggle": {
   "accelerator": "none",
   "dataSources": [
    {
     "databundleVersionId": 899221,
     "sourceId": 17592,
     "sourceType": "competition"
    }
   ],
   "isGpuEnabled": false,
   "isInternetEnabled": false,
   "language": "python",
   "sourceType": "notebook"
  },
  "kernelspec": {
   "display_name": "Python 3",
   "language": "python",
   "name": "python3"
  },
  "language_info": {
   "codemirror_mode": {
    "name": "ipython",
    "version": 3
   },
   "file_extension": ".py",
   "mimetype": "text/x-python",
   "name": "python",
   "nbconvert_exporter": "python",
   "pygments_lexer": "ipython3",
   "version": "3.10.14"
  },
  "papermill": {
   "default_parameters": {},
   "duration": 4.561297,
   "end_time": "2024-12-03T05:08:08.578284",
   "environment_variables": {},
   "exception": null,
   "input_path": "__notebook__.ipynb",
   "output_path": "__notebook__.ipynb",
   "parameters": {},
   "start_time": "2024-12-03T05:08:04.016987",
   "version": "2.6.0"
  }
 },
 "nbformat": 4,
 "nbformat_minor": 5
}
