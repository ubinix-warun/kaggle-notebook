{
 "cells": [
  {
   "cell_type": "markdown",
   "id": "24a27cbb",
   "metadata": {
    "papermill": {
     "duration": 0.007899,
     "end_time": "2023-02-12T15:32:33.168590",
     "exception": false,
     "start_time": "2023-02-12T15:32:33.160691",
     "status": "completed"
    },
    "tags": []
   },
   "source": [
    "**This notebook is an exercise in the [Intro to Programming](https://www.kaggle.com/learn/intro-to-programming) course.  You can reference the tutorial at [this link](https://www.kaggle.com/alexisbcook/intro-to-lists).**\n",
    "\n",
    "---\n"
   ]
  },
  {
   "cell_type": "markdown",
   "id": "2814b1ff",
   "metadata": {
    "papermill": {
     "duration": 0.00622,
     "end_time": "2023-02-12T15:32:33.182699",
     "exception": false,
     "start_time": "2023-02-12T15:32:33.176479",
     "status": "completed"
    },
    "tags": []
   },
   "source": [
    "In the tutorial, you learned how to define and modify Python lists.  In this exercise, you will use your new knowledge to solve several problems.\n",
    "\n",
    "# Set up the notebook\n",
    "\n",
    "Run the next code cell without changes to set up the notebook."
   ]
  },
  {
   "cell_type": "code",
   "execution_count": 1,
   "id": "13c03764",
   "metadata": {
    "execution": {
     "iopub.execute_input": "2023-02-12T15:32:33.198247Z",
     "iopub.status.busy": "2023-02-12T15:32:33.196814Z",
     "iopub.status.idle": "2023-02-12T15:32:33.272680Z",
     "shell.execute_reply": "2023-02-12T15:32:33.271454Z"
    },
    "papermill": {
     "duration": 0.086763,
     "end_time": "2023-02-12T15:32:33.275796",
     "exception": false,
     "start_time": "2023-02-12T15:32:33.189033",
     "status": "completed"
    },
    "tags": []
   },
   "outputs": [
    {
     "name": "stdout",
     "output_type": "stream",
     "text": [
      "Setup complete.\n"
     ]
    }
   ],
   "source": [
    "from learntools.core import binder\n",
    "binder.bind(globals())\n",
    "from learntools.intro_to_programming.ex5 import *\n",
    "print('Setup complete.')"
   ]
  },
  {
   "cell_type": "markdown",
   "id": "88a93711",
   "metadata": {
    "papermill": {
     "duration": 0.008665,
     "end_time": "2023-02-12T15:32:33.292010",
     "exception": false,
     "start_time": "2023-02-12T15:32:33.283345",
     "status": "completed"
    },
    "tags": []
   },
   "source": [
    "# Question 1\n",
    "\n",
    "You own a restaurant with five food dishes, organized in the Python list `menu` below.  One day, you decide to:\n",
    "- remove bean soup (`'bean soup'`) from the menu, and\n",
    "- add roasted beet salad (`'roasted beet salad'`) to the menu.\n",
    "\n",
    "Implement this change to the list below.  While completing this task, \n",
    "- do not change the line that creates the `menu` list.  \n",
    "- your answer should use `.remove()` and `.append()`.  "
   ]
  },
  {
   "cell_type": "code",
   "execution_count": 2,
   "id": "fb6d167d",
   "metadata": {
    "execution": {
     "iopub.execute_input": "2023-02-12T15:32:33.308006Z",
     "iopub.status.busy": "2023-02-12T15:32:33.306870Z",
     "iopub.status.idle": "2023-02-12T15:32:33.318848Z",
     "shell.execute_reply": "2023-02-12T15:32:33.317896Z"
    },
    "papermill": {
     "duration": 0.022472,
     "end_time": "2023-02-12T15:32:33.321258",
     "exception": false,
     "start_time": "2023-02-12T15:32:33.298786",
     "status": "completed"
    },
    "tags": []
   },
   "outputs": [
    {
     "data": {
      "application/javascript": [
       "parent.postMessage({\"jupyterEvent\": \"custom.exercise_interaction\", \"data\": {\"outcomeType\": 1, \"valueTowardsCompletion\": 0.2, \"interactionType\": 1, \"questionType\": 2, \"questionId\": \"1_FoodMenu\", \"learnToolsVersion\": \"0.3.4\", \"failureMessage\": \"\", \"exceptionClass\": \"\", \"trace\": \"\"}}, \"*\")"
      ],
      "text/plain": [
       "<IPython.core.display.Javascript object>"
      ]
     },
     "metadata": {},
     "output_type": "display_data"
    },
    {
     "data": {
      "text/markdown": [
       "<span style=\"color:#33cc33\">Correct</span>"
      ],
      "text/plain": [
       "Correct"
      ]
     },
     "metadata": {},
     "output_type": "display_data"
    }
   ],
   "source": [
    "# Do not change: Initial menu for your restaurant\n",
    "menu = ['stewed meat with onions', 'bean soup', 'risotto with trout and shrimp',\n",
    "       'fish soup with cream and onion', 'gyro']\n",
    "\n",
    "# TODO: remove 'bean soup', and add 'roasted beet salad' to the end of the menu\n",
    "____\n",
    "menu.remove('bean soup')\n",
    "menu.append('roasted beet salad')\n",
    "# Do not change: Check your answer\n",
    "q1.check()"
   ]
  },
  {
   "cell_type": "code",
   "execution_count": 3,
   "id": "2cdc4a85",
   "metadata": {
    "execution": {
     "iopub.execute_input": "2023-02-12T15:32:33.337713Z",
     "iopub.status.busy": "2023-02-12T15:32:33.336874Z",
     "iopub.status.idle": "2023-02-12T15:32:33.341794Z",
     "shell.execute_reply": "2023-02-12T15:32:33.340446Z"
    },
    "papermill": {
     "duration": 0.016503,
     "end_time": "2023-02-12T15:32:33.344996",
     "exception": false,
     "start_time": "2023-02-12T15:32:33.328493",
     "status": "completed"
    },
    "tags": []
   },
   "outputs": [],
   "source": [
    "# Uncomment to see a hint\n",
    "#q1.hint()\n",
    "\n",
    "# Uncomment to see the solution\n",
    "#q1.solution()"
   ]
  },
  {
   "cell_type": "markdown",
   "id": "17a17687",
   "metadata": {
    "papermill": {
     "duration": 0.007299,
     "end_time": "2023-02-12T15:32:33.359653",
     "exception": false,
     "start_time": "2023-02-12T15:32:33.352354",
     "status": "completed"
    },
    "tags": []
   },
   "source": [
    "# Question 2\n",
    "\n",
    "The list `num_customers` contains the number of customers who came into your restaurant every day over the last month (which lasted thirty days).  Fill in values for each of the following:\n",
    "- `avg_first_seven` - average number of customers who visited in the first seven days\n",
    "- `avg_last_seven` - average number of customers who visited in the last seven days\n",
    "- `max_month` - number of customers on the day that got the most customers in the last month\n",
    "- `min_month` - number of customers on the day that got the least customers in the last month\n",
    "\n",
    "Answer this question by writing code.  For instance, if you have to find the minimum value in a list, use `min()` instead of scanning for the smallest value and directly filling in a number."
   ]
  },
  {
   "cell_type": "code",
   "execution_count": 4,
   "id": "4269e003",
   "metadata": {
    "execution": {
     "iopub.execute_input": "2023-02-12T15:32:33.376250Z",
     "iopub.status.busy": "2023-02-12T15:32:33.375433Z",
     "iopub.status.idle": "2023-02-12T15:32:33.386884Z",
     "shell.execute_reply": "2023-02-12T15:32:33.385854Z"
    },
    "papermill": {
     "duration": 0.022995,
     "end_time": "2023-02-12T15:32:33.389381",
     "exception": false,
     "start_time": "2023-02-12T15:32:33.366386",
     "status": "completed"
    },
    "tags": []
   },
   "outputs": [
    {
     "data": {
      "application/javascript": [
       "parent.postMessage({\"jupyterEvent\": \"custom.exercise_interaction\", \"data\": {\"outcomeType\": 1, \"valueTowardsCompletion\": 0.2, \"interactionType\": 1, \"questionType\": 1, \"questionId\": \"2_NumCustomers\", \"learnToolsVersion\": \"0.3.4\", \"failureMessage\": \"\", \"exceptionClass\": \"\", \"trace\": \"\"}}, \"*\")"
      ],
      "text/plain": [
       "<IPython.core.display.Javascript object>"
      ]
     },
     "metadata": {},
     "output_type": "display_data"
    },
    {
     "data": {
      "text/markdown": [
       "<span style=\"color:#33cc33\">Correct</span>"
      ],
      "text/plain": [
       "Correct"
      ]
     },
     "metadata": {},
     "output_type": "display_data"
    }
   ],
   "source": [
    "# Do not change: Number of customers each day for the last month\n",
    "num_customers = [137, 147, 135, 128, 170, 174, 165, 146, 126, 159,\n",
    "                 141, 148, 132, 147, 168, 153, 170, 161, 148, 152,\n",
    "                 141, 151, 131, 149, 164, 163, 143, 143, 166, 171]\n",
    "\n",
    "# TODO: Fill in values for the variables below\n",
    "avg_first_seven = sum(num_customers[:7])/7\n",
    "avg_last_seven = sum(num_customers[len(num_customers)-7:])/7\n",
    "max_month = max(num_customers)\n",
    "min_month = min(num_customers)\n",
    "\n",
    "# Do not change: Check your answer\n",
    "q2.check()"
   ]
  },
  {
   "cell_type": "code",
   "execution_count": 5,
   "id": "3e9589b9",
   "metadata": {
    "execution": {
     "iopub.execute_input": "2023-02-12T15:32:33.405819Z",
     "iopub.status.busy": "2023-02-12T15:32:33.405044Z",
     "iopub.status.idle": "2023-02-12T15:32:33.409136Z",
     "shell.execute_reply": "2023-02-12T15:32:33.408250Z"
    },
    "papermill": {
     "duration": 0.015201,
     "end_time": "2023-02-12T15:32:33.411838",
     "exception": false,
     "start_time": "2023-02-12T15:32:33.396637",
     "status": "completed"
    },
    "tags": []
   },
   "outputs": [],
   "source": [
    "# Uncomment to see a hint\n",
    "#q2.hint()\n",
    "\n",
    "# Uncomment to see the solution\n",
    "#q2.solution()"
   ]
  },
  {
   "cell_type": "markdown",
   "id": "8ba3680a",
   "metadata": {
    "papermill": {
     "duration": 0.00702,
     "end_time": "2023-02-12T15:32:33.426210",
     "exception": false,
     "start_time": "2023-02-12T15:32:33.419190",
     "status": "completed"
    },
    "tags": []
   },
   "source": [
    "# Question 3\n",
    "\n",
    "In the tutorial, we gave an example of a Python string with information that was better as a list."
   ]
  },
  {
   "cell_type": "code",
   "execution_count": 6,
   "id": "5c13360a",
   "metadata": {
    "execution": {
     "iopub.execute_input": "2023-02-12T15:32:33.444024Z",
     "iopub.status.busy": "2023-02-12T15:32:33.443310Z",
     "iopub.status.idle": "2023-02-12T15:32:33.448050Z",
     "shell.execute_reply": "2023-02-12T15:32:33.447126Z"
    },
    "papermill": {
     "duration": 0.017081,
     "end_time": "2023-02-12T15:32:33.451385",
     "exception": false,
     "start_time": "2023-02-12T15:32:33.434304",
     "status": "completed"
    },
    "tags": []
   },
   "outputs": [],
   "source": [
    "flowers = \"pink primrose,hard-leaved pocket orchid,canterbury bells,sweet pea,english marigold,tiger lily,moon orchid,bird of paradise,monkshood,globe thistle\""
   ]
  },
  {
   "cell_type": "markdown",
   "id": "37daad1e",
   "metadata": {
    "papermill": {
     "duration": 0.006632,
     "end_time": "2023-02-12T15:32:33.465343",
     "exception": false,
     "start_time": "2023-02-12T15:32:33.458711",
     "status": "completed"
    },
    "tags": []
   },
   "source": [
    "You can actually use Python to quickly turn this string into a list with `.split()`.  In the parentheses, we need to provide the character should be used to mark the end of one list item and the beginning of another, and enclose it in quotation marks.  In this case, that character is a comma."
   ]
  },
  {
   "cell_type": "code",
   "execution_count": 7,
   "id": "f1f00da2",
   "metadata": {
    "execution": {
     "iopub.execute_input": "2023-02-12T15:32:33.482018Z",
     "iopub.status.busy": "2023-02-12T15:32:33.481270Z",
     "iopub.status.idle": "2023-02-12T15:32:33.488798Z",
     "shell.execute_reply": "2023-02-12T15:32:33.486792Z"
    },
    "papermill": {
     "duration": 0.01878,
     "end_time": "2023-02-12T15:32:33.491439",
     "exception": false,
     "start_time": "2023-02-12T15:32:33.472659",
     "status": "completed"
    },
    "tags": []
   },
   "outputs": [
    {
     "name": "stdout",
     "output_type": "stream",
     "text": [
      "['pink primrose', 'hard-leaved pocket orchid', 'canterbury bells', 'sweet pea', 'english marigold', 'tiger lily', 'moon orchid', 'bird of paradise', 'monkshood', 'globe thistle']\n"
     ]
    }
   ],
   "source": [
    " print(flowers.split(\",\"))"
   ]
  },
  {
   "cell_type": "markdown",
   "id": "a2bb75e0",
   "metadata": {
    "papermill": {
     "duration": 0.006639,
     "end_time": "2023-02-12T15:32:33.508071",
     "exception": false,
     "start_time": "2023-02-12T15:32:33.501432",
     "status": "completed"
    },
    "tags": []
   },
   "source": [
    "Now it is your turn to try this out!  Create two Python lists:\n",
    "- `letters` should be a Python list where each entry is an uppercase letter of the English alphabet.  For instance, the first two entries should be `\"A\"` and `\"B\"`, and the final two entries should be `\"Y\"` and `\"Z\"`.  Use the string `alphabet` to create this list.\n",
    "- `address` should be a Python list where each row in `address` is a different item in the list.  Currently, each row in `address` is separated by a comma. "
   ]
  },
  {
   "cell_type": "code",
   "execution_count": 8,
   "id": "0866f343",
   "metadata": {
    "execution": {
     "iopub.execute_input": "2023-02-12T15:32:33.523863Z",
     "iopub.status.busy": "2023-02-12T15:32:33.523443Z",
     "iopub.status.idle": "2023-02-12T15:32:33.535080Z",
     "shell.execute_reply": "2023-02-12T15:32:33.534019Z"
    },
    "papermill": {
     "duration": 0.022615,
     "end_time": "2023-02-12T15:32:33.537635",
     "exception": false,
     "start_time": "2023-02-12T15:32:33.515020",
     "status": "completed"
    },
    "tags": []
   },
   "outputs": [
    {
     "data": {
      "application/javascript": [
       "parent.postMessage({\"jupyterEvent\": \"custom.exercise_interaction\", \"data\": {\"outcomeType\": 1, \"valueTowardsCompletion\": 0.2, \"interactionType\": 1, \"questionType\": 1, \"questionId\": \"3_SplitString\", \"learnToolsVersion\": \"0.3.4\", \"failureMessage\": \"\", \"exceptionClass\": \"\", \"trace\": \"\"}}, \"*\")"
      ],
      "text/plain": [
       "<IPython.core.display.Javascript object>"
      ]
     },
     "metadata": {},
     "output_type": "display_data"
    },
    {
     "data": {
      "text/markdown": [
       "<span style=\"color:#33cc33\">Correct</span>"
      ],
      "text/plain": [
       "Correct"
      ]
     },
     "metadata": {},
     "output_type": "display_data"
    }
   ],
   "source": [
    "# DO not change: Define two Python strings\n",
    "alphabet = \"A.B.C.D.E.F.G.H.I.J.K.L.M.N.O.P.Q.R.S.T.U.V.W.X.Y.Z\"\n",
    "address = \"Mr. H. Potter,The cupboard under the Stairs,4 Privet Drive,Little Whinging,Surrey\"\n",
    "\n",
    "# TODO: Convert strings into Python lists\n",
    "letters = alphabet.split(\".\")\n",
    "formatted_address = address.split(\",\")\n",
    "\n",
    "# Do not change: Check your answer\n",
    "q3.check()"
   ]
  },
  {
   "cell_type": "code",
   "execution_count": 9,
   "id": "96b00427",
   "metadata": {
    "execution": {
     "iopub.execute_input": "2023-02-12T15:32:33.555415Z",
     "iopub.status.busy": "2023-02-12T15:32:33.554548Z",
     "iopub.status.idle": "2023-02-12T15:32:33.559972Z",
     "shell.execute_reply": "2023-02-12T15:32:33.558920Z"
    },
    "papermill": {
     "duration": 0.017693,
     "end_time": "2023-02-12T15:32:33.562621",
     "exception": false,
     "start_time": "2023-02-12T15:32:33.544928",
     "status": "completed"
    },
    "tags": []
   },
   "outputs": [],
   "source": [
    "# Uncomment to see a hint\n",
    "#q3.hint()\n",
    "\n",
    "# Uncomment to see the solution\n",
    "#q3.solution()"
   ]
  },
  {
   "cell_type": "markdown",
   "id": "91f96805",
   "metadata": {
    "papermill": {
     "duration": 0.008124,
     "end_time": "2023-02-12T15:32:33.578933",
     "exception": false,
     "start_time": "2023-02-12T15:32:33.570809",
     "status": "completed"
    },
    "tags": []
   },
   "source": [
    "# Question 4\n",
    "\n",
    "In the Python course, you'll learn all about **list comprehensions**, which allow you to create a list based on the values in another list.  In this question, you'll get a brief preview of how they work.\n",
    "\n",
    "Say we're working with the list below."
   ]
  },
  {
   "cell_type": "code",
   "execution_count": 10,
   "id": "097466fe",
   "metadata": {
    "execution": {
     "iopub.execute_input": "2023-02-12T15:32:33.598385Z",
     "iopub.status.busy": "2023-02-12T15:32:33.597390Z",
     "iopub.status.idle": "2023-02-12T15:32:33.603561Z",
     "shell.execute_reply": "2023-02-12T15:32:33.602460Z"
    },
    "papermill": {
     "duration": 0.01916,
     "end_time": "2023-02-12T15:32:33.606280",
     "exception": false,
     "start_time": "2023-02-12T15:32:33.587120",
     "status": "completed"
    },
    "tags": []
   },
   "outputs": [],
   "source": [
    "test_ratings = [1, 2, 3, 4, 5]"
   ]
  },
  {
   "cell_type": "markdown",
   "id": "b87bfd7c",
   "metadata": {
    "papermill": {
     "duration": 0.00781,
     "end_time": "2023-02-12T15:32:33.622633",
     "exception": false,
     "start_time": "2023-02-12T15:32:33.614823",
     "status": "completed"
    },
    "tags": []
   },
   "source": [
    "Then we can use this list (`test_ratings`) to create a new list (`test_liked`) where each item has been turned into a boolean, depending on whether or not the item is greater than or equal to four."
   ]
  },
  {
   "cell_type": "code",
   "execution_count": 11,
   "id": "02b3ea67",
   "metadata": {
    "execution": {
     "iopub.execute_input": "2023-02-12T15:32:33.642028Z",
     "iopub.status.busy": "2023-02-12T15:32:33.641306Z",
     "iopub.status.idle": "2023-02-12T15:32:33.648245Z",
     "shell.execute_reply": "2023-02-12T15:32:33.646605Z"
    },
    "papermill": {
     "duration": 0.020807,
     "end_time": "2023-02-12T15:32:33.651043",
     "exception": false,
     "start_time": "2023-02-12T15:32:33.630236",
     "status": "completed"
    },
    "tags": []
   },
   "outputs": [
    {
     "name": "stdout",
     "output_type": "stream",
     "text": [
      "[False, False, False, True, True]\n"
     ]
    }
   ],
   "source": [
    "test_liked = [i>=4 for i in test_ratings]\n",
    "print(test_liked)"
   ]
  },
  {
   "cell_type": "markdown",
   "id": "41188af2",
   "metadata": {
    "papermill": {
     "duration": 0.007174,
     "end_time": "2023-02-12T15:32:33.666522",
     "exception": false,
     "start_time": "2023-02-12T15:32:33.659348",
     "status": "completed"
    },
    "tags": []
   },
   "source": [
    "In this question, you'll use this list comprehension to define a function `percentage_liked()` that takes one argument as input:\n",
    "- `ratings`: list of ratings that people gave to a movie, where each rating is a number between 1-5, inclusive\n",
    "\n",
    "We say someone liked the movie, if they gave a rating of either 4 or 5.  Your function should return the percentage of people who liked the movie.\n",
    "\n",
    "For instance, if we supply a value of `[1, 2, 3, 4, 5, 4, 5, 1]`, then 50% (4/8) of the people liked the movie, and the function should return `0.5`.\n",
    "\n",
    "Part of the function has already been completed for you.  You need only use `list_liked` to calculate `percentage_liked`."
   ]
  },
  {
   "cell_type": "code",
   "execution_count": 12,
   "id": "76343cd5",
   "metadata": {
    "execution": {
     "iopub.execute_input": "2023-02-12T15:32:33.683496Z",
     "iopub.status.busy": "2023-02-12T15:32:33.682407Z",
     "iopub.status.idle": "2023-02-12T15:32:33.695514Z",
     "shell.execute_reply": "2023-02-12T15:32:33.694064Z"
    },
    "papermill": {
     "duration": 0.024539,
     "end_time": "2023-02-12T15:32:33.698400",
     "exception": false,
     "start_time": "2023-02-12T15:32:33.673861",
     "status": "completed"
    },
    "tags": []
   },
   "outputs": [
    {
     "data": {
      "application/javascript": [
       "parent.postMessage({\"jupyterEvent\": \"custom.exercise_interaction\", \"data\": {\"outcomeType\": 1, \"valueTowardsCompletion\": 0.2, \"interactionType\": 1, \"questionType\": 2, \"questionId\": \"4_PercentageLiked\", \"learnToolsVersion\": \"0.3.4\", \"failureMessage\": \"\", \"exceptionClass\": \"\", \"trace\": \"\"}}, \"*\")"
      ],
      "text/plain": [
       "<IPython.core.display.Javascript object>"
      ]
     },
     "metadata": {},
     "output_type": "display_data"
    },
    {
     "data": {
      "text/markdown": [
       "<span style=\"color:#33cc33\">Correct</span>"
      ],
      "text/plain": [
       "Correct"
      ]
     },
     "metadata": {},
     "output_type": "display_data"
    }
   ],
   "source": [
    "\n",
    "def percentage_liked(ratings):\n",
    "    list_liked = [i>=4 for i in ratings]\n",
    "    # TODO: Complete the function\n",
    "    percentage_liked = sum(list_liked)/len(ratings)\n",
    "    return percentage_liked\n",
    "\n",
    "# Do not change: should return 0.5\n",
    "percentage_liked([1, 2, 3, 4, 5, 4, 5, 1])\n",
    "\n",
    "# Do not change: Check your answer\n",
    "q4.check()"
   ]
  },
  {
   "cell_type": "code",
   "execution_count": 13,
   "id": "8760d656",
   "metadata": {
    "execution": {
     "iopub.execute_input": "2023-02-12T15:32:33.715915Z",
     "iopub.status.busy": "2023-02-12T15:32:33.715524Z",
     "iopub.status.idle": "2023-02-12T15:32:33.720886Z",
     "shell.execute_reply": "2023-02-12T15:32:33.719495Z"
    },
    "papermill": {
     "duration": 0.017313,
     "end_time": "2023-02-12T15:32:33.723369",
     "exception": false,
     "start_time": "2023-02-12T15:32:33.706056",
     "status": "completed"
    },
    "tags": []
   },
   "outputs": [],
   "source": [
    "# Uncomment to see a hint\n",
    "# q4.hint()\n",
    "\n",
    "# Uncomment to see the solution\n",
    "# q4.solution()"
   ]
  },
  {
   "cell_type": "markdown",
   "id": "d311d9da",
   "metadata": {
    "papermill": {
     "duration": 0.007853,
     "end_time": "2023-02-12T15:32:33.739310",
     "exception": false,
     "start_time": "2023-02-12T15:32:33.731457",
     "status": "completed"
    },
    "tags": []
   },
   "source": [
    "# 🌶️ Question 5\n",
    " \n",
    "Say you're doing analytics for a website.  You need to write a function that returns the percentage growth in the total number of users relative to a specified number of years ago.\n",
    "\n",
    "Your function `percentage_growth()` should take two arguments as input:\n",
    "- `num_users` = Python list with the total number of users each year.  So `num_users[0]` is the total number of users in the first year, `num_users[1]` is the total number of users in the second year, and so on.  The final entry in the list gives the total number of users in the most recently completed year.\n",
    "- `yrs_ago` = number of years to go back in time when calculating the growth percentage\n",
    "\n",
    "For instance, say `num_users = [920344, 1043553, 1204334, 1458996, 1503323, 1593432, 1623463, 1843064, 1930992, 2001078]`.\n",
    "- if `yrs_ago = 1`, we want the function to return a value of about `0.036`. This corresponds to a percentage growth of approximately 3.6%, calculated as (2001078 - 1930992)/1930992.\n",
    "- if `years_ago = 7`, we would want to return approximately `0.66`.  This corresponds to a percentage growth of approximately 66%, calculated as (2001078 - 1204334)/1204334.\n",
    "\n",
    "Your coworker sent you a draft of a function, but it doesn't seem to be doing the correct calculation.  Can you figure out what has gone wrong and make the needed changes?"
   ]
  },
  {
   "cell_type": "code",
   "execution_count": 14,
   "id": "1a784875",
   "metadata": {
    "execution": {
     "iopub.execute_input": "2023-02-12T15:32:33.757112Z",
     "iopub.status.busy": "2023-02-12T15:32:33.755885Z",
     "iopub.status.idle": "2023-02-12T15:32:33.770800Z",
     "shell.execute_reply": "2023-02-12T15:32:33.768875Z"
    },
    "papermill": {
     "duration": 0.027991,
     "end_time": "2023-02-12T15:32:33.774955",
     "exception": false,
     "start_time": "2023-02-12T15:32:33.746964",
     "status": "completed"
    },
    "tags": []
   },
   "outputs": [
    {
     "name": "stdout",
     "output_type": "stream",
     "text": [
      "0.03629533421163837\n",
      "0.6615639847417742\n"
     ]
    },
    {
     "data": {
      "application/javascript": [
       "parent.postMessage({\"jupyterEvent\": \"custom.exercise_interaction\", \"data\": {\"outcomeType\": 1, \"valueTowardsCompletion\": 0.2, \"interactionType\": 1, \"questionType\": 2, \"questionId\": \"5_WebsiteAnalytics\", \"learnToolsVersion\": \"0.3.4\", \"failureMessage\": \"\", \"exceptionClass\": \"\", \"trace\": \"\"}}, \"*\")"
      ],
      "text/plain": [
       "<IPython.core.display.Javascript object>"
      ]
     },
     "metadata": {},
     "output_type": "display_data"
    },
    {
     "data": {
      "text/markdown": [
       "<span style=\"color:#33cc33\">Correct</span>"
      ],
      "text/plain": [
       "Correct"
      ]
     },
     "metadata": {},
     "output_type": "display_data"
    }
   ],
   "source": [
    "# TODO: Edit the function\n",
    "def percentage_growth(num_users, yrs_ago):\n",
    "    growth = (num_users[len(num_users)-1] - num_users[len(num_users)-(yrs_ago+1)])/num_users[len(num_users)-(yrs_ago+1)]\n",
    "    return growth\n",
    "\n",
    "# Do not change: Variable for calculating some test examples\n",
    "num_users_test = [920344, 1043553, 1204334, 1458996, 1503323, 1593432, 1623463, 1843064, 1930992, 2001078]\n",
    "\n",
    "# Do not change: Should return .036\n",
    "print(percentage_growth(num_users_test, 1))\n",
    "\n",
    "# Do not change: Should return 0.66\n",
    "print(percentage_growth(num_users_test, 7))\n",
    "\n",
    "# Do not change: Check your answer\n",
    "q5.check()"
   ]
  },
  {
   "cell_type": "code",
   "execution_count": 15,
   "id": "006167d3",
   "metadata": {
    "execution": {
     "iopub.execute_input": "2023-02-12T15:32:33.792932Z",
     "iopub.status.busy": "2023-02-12T15:32:33.792511Z",
     "iopub.status.idle": "2023-02-12T15:32:33.798680Z",
     "shell.execute_reply": "2023-02-12T15:32:33.796809Z"
    },
    "papermill": {
     "duration": 0.018233,
     "end_time": "2023-02-12T15:32:33.801365",
     "exception": false,
     "start_time": "2023-02-12T15:32:33.783132",
     "status": "completed"
    },
    "tags": []
   },
   "outputs": [],
   "source": [
    "# Uncomment to see a hint\n",
    "#q5.hint()\n",
    "\n",
    "# Uncomment to see the solution\n",
    "#q5.solution()"
   ]
  },
  {
   "cell_type": "markdown",
   "id": "186c6cc2",
   "metadata": {
    "papermill": {
     "duration": 0.007816,
     "end_time": "2023-02-12T15:32:33.817436",
     "exception": false,
     "start_time": "2023-02-12T15:32:33.809620",
     "status": "completed"
    },
    "tags": []
   },
   "source": [
    "# Congratulations!\n",
    "\n",
    "Congratulations for finishing the Intro to Programming course!  You should be proud of your very first steps with learning programming.  As next steps, we recommend taking:\n",
    "- the **[Python course](http://www.kaggle.com/learn/python)**, and \n",
    "- the **[Intro to Machine Learning course](https://www.kaggle.com/learn/intro-to-machine-learning)**."
   ]
  },
  {
   "cell_type": "markdown",
   "id": "93585c8d",
   "metadata": {
    "papermill": {
     "duration": 0.007756,
     "end_time": "2023-02-12T15:32:33.833290",
     "exception": false,
     "start_time": "2023-02-12T15:32:33.825534",
     "status": "completed"
    },
    "tags": []
   },
   "source": [
    "---\n",
    "\n",
    "\n",
    "\n",
    "\n",
    "*Have questions or comments? Visit the [course discussion forum](https://www.kaggle.com/learn/intro-to-programming/discussion) to chat with other learners.*"
   ]
  }
 ],
 "metadata": {
  "kernelspec": {
   "display_name": "Python 3",
   "language": "python",
   "name": "python3"
  },
  "language_info": {
   "codemirror_mode": {
    "name": "ipython",
    "version": 3
   },
   "file_extension": ".py",
   "mimetype": "text/x-python",
   "name": "python",
   "nbconvert_exporter": "python",
   "pygments_lexer": "ipython3",
   "version": "3.7.12"
  },
  "papermill": {
   "default_parameters": {},
   "duration": 12.33046,
   "end_time": "2023-02-12T15:32:34.667506",
   "environment_variables": {},
   "exception": null,
   "input_path": "__notebook__.ipynb",
   "output_path": "__notebook__.ipynb",
   "parameters": {},
   "start_time": "2023-02-12T15:32:22.337046",
   "version": "2.3.4"
  }
 },
 "nbformat": 4,
 "nbformat_minor": 5
}
