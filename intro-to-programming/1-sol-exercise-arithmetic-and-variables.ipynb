{
 "cells": [
  {
   "cell_type": "markdown",
   "id": "b49da337",
   "metadata": {
    "papermill": {
     "duration": 0.006935,
     "end_time": "2023-02-12T14:38:30.176205",
     "exception": false,
     "start_time": "2023-02-12T14:38:30.169270",
     "status": "completed"
    },
    "tags": []
   },
   "source": [
    "**This notebook is an exercise in the [Intro to Programming](https://www.kaggle.com/learn/intro-to-programming) course.  You can reference the tutorial at [this link](https://www.kaggle.com/alexisbcook/arithmetic-and-variables).**\n",
    "\n",
    "---\n"
   ]
  },
  {
   "cell_type": "markdown",
   "id": "a2cf0b26",
   "metadata": {
    "papermill": {
     "duration": 0.005425,
     "end_time": "2023-02-12T14:38:30.187977",
     "exception": false,
     "start_time": "2023-02-12T14:38:30.182552",
     "status": "completed"
    },
    "tags": []
   },
   "source": [
    "This exercise will get you started with running your own code.  \n",
    "\n",
    "# Set up the notebook\n",
    "\n",
    "To begin, run the code in the next cell.\n",
    "- Begin by clicking inside the code cell.  \n",
    "- Click on the triangle (in the shape of a \"Play button\") that appears to the left of the code cell.\n",
    "- If your code was run sucessfully, you will see `Setup Complete` as output below the cell.\n",
    "\n",
    "Instead of clicking on the triangle, you can also run code by pressing Shift + Enter on your keyboard.  Try this now!  Nothing bad will happen if you run the code more than once."
   ]
  },
  {
   "cell_type": "code",
   "execution_count": 1,
   "id": "e5506995",
   "metadata": {
    "execution": {
     "iopub.execute_input": "2023-02-12T14:38:30.201971Z",
     "iopub.status.busy": "2023-02-12T14:38:30.201368Z",
     "iopub.status.idle": "2023-02-12T14:38:30.259785Z",
     "shell.execute_reply": "2023-02-12T14:38:30.258587Z"
    },
    "papermill": {
     "duration": 0.069959,
     "end_time": "2023-02-12T14:38:30.263668",
     "exception": false,
     "start_time": "2023-02-12T14:38:30.193709",
     "status": "completed"
    },
    "tags": []
   },
   "outputs": [
    {
     "name": "stdout",
     "output_type": "stream",
     "text": [
      "Setup complete.\n"
     ]
    }
   ],
   "source": [
    "# Set up the exercise\n",
    "from learntools.core import binder\n",
    "binder.bind(globals())\n",
    "from learntools.intro_to_programming.ex1 import *\n",
    "print('Setup complete.')"
   ]
  },
  {
   "cell_type": "markdown",
   "id": "7d158388",
   "metadata": {
    "papermill": {
     "duration": 0.005807,
     "end_time": "2023-02-12T14:38:30.276497",
     "exception": false,
     "start_time": "2023-02-12T14:38:30.270690",
     "status": "completed"
    },
    "tags": []
   },
   "source": [
    "The code above sets up the notebook so that it can check your answers in this exercise.  You should never modify this code.  (Otherwise, the notebook won't be able to verify that you have successfully completed the exercise.)\n",
    "\n",
    "After finishing all of the questions below, you'll see the exercise marked as complete on the [course page](http://www.kaggle.com/learn/intro-to-programming).  Once you complete all of the lessons, you'll get a course completion certificate!\n",
    "\n",
    "# Question 1\n",
    "\n",
    "Next, you will run some code from the tutorial, so you can see how it works for yourself.  Run the next code cell without changes."
   ]
  },
  {
   "cell_type": "code",
   "execution_count": 2,
   "id": "594c9843",
   "metadata": {
    "execution": {
     "iopub.execute_input": "2023-02-12T14:38:30.290113Z",
     "iopub.status.busy": "2023-02-12T14:38:30.289731Z",
     "iopub.status.idle": "2023-02-12T14:38:30.301688Z",
     "shell.execute_reply": "2023-02-12T14:38:30.300496Z"
    },
    "papermill": {
     "duration": 0.022096,
     "end_time": "2023-02-12T14:38:30.304499",
     "exception": false,
     "start_time": "2023-02-12T14:38:30.282403",
     "status": "completed"
    },
    "tags": []
   },
   "outputs": [
    {
     "name": "stdout",
     "output_type": "stream",
     "text": [
      "Hello, world!\n"
     ]
    },
    {
     "data": {
      "application/javascript": [
       "parent.postMessage({\"jupyterEvent\": \"custom.exercise_interaction\", \"data\": {\"outcomeType\": 1, \"valueTowardsCompletion\": 0.2, \"interactionType\": 1, \"questionType\": 2, \"questionId\": \"1_RunHelloWorld\", \"learnToolsVersion\": \"0.3.4\", \"failureMessage\": \"\", \"exceptionClass\": \"\", \"trace\": \"\"}}, \"*\")"
      ],
      "text/plain": [
       "<IPython.core.display.Javascript object>"
      ]
     },
     "metadata": {},
     "output_type": "display_data"
    },
    {
     "data": {
      "text/markdown": [
       "<span style=\"color:#33cc33\">If you see 'Hello, world!' above, You have successfully printed a message, and you're ready to move on to the next question.</span>"
      ],
      "text/plain": [
       "If you see 'Hello, world!' above, You have successfully printed a message, and you're ready to move on to the next question."
      ]
     },
     "metadata": {},
     "output_type": "display_data"
    }
   ],
   "source": [
    "print(\"Hello, world!\")\n",
    "\n",
    "# DO NOT REMOVE: Mark this question as completed\n",
    "q1.check()"
   ]
  },
  {
   "cell_type": "markdown",
   "id": "9d12e722",
   "metadata": {
    "papermill": {
     "duration": 0.006268,
     "end_time": "2023-02-12T14:38:30.316979",
     "exception": false,
     "start_time": "2023-02-12T14:38:30.310711",
     "status": "completed"
    },
    "tags": []
   },
   "source": [
    "You just ran code to print `Hello world!`, which you should see in the output above.\n",
    "\n",
    "The second line of code (`q1.check()`) checks your answer.  You should never modify this checking code; if you remove it, you won't get credit for completing the problem.\n",
    "\n",
    "# Question 2\n",
    "\n",
    "Now, you will print another message of your choosing.  To do this, change `print(\"Your message here!\")` to use a different message.  For instance, you might like to change it to something like:\n",
    "- `print(\"Good morning!\")`\n",
    "- `print(\"I am learning how to code :D\")`\n",
    "\n",
    "Or, you might like to see what happens if you write something like `print(\"3+4\")`.  Does it return 7, or does it just think of `\"3+4\"` as just another message?\n",
    "\n",
    "Make sure that your message is enclosed in quotation marks (`\"`), and the message itself does not use quotation marks. For instance, this will throw an error: `print(\"She said \"great job\" and gave me a high-five!\")` because the message contains quotation marks.  If you decide to take the Python course after completing this course, you will learn more about how to avoid this error in [Lesson 6](https://www.kaggle.com/colinmorris/strings-and-dictionaries).\n",
    "\n",
    "Feel free to try out multiple messages!"
   ]
  },
  {
   "cell_type": "code",
   "execution_count": 3,
   "id": "8276bc29",
   "metadata": {
    "execution": {
     "iopub.execute_input": "2023-02-12T14:38:30.331937Z",
     "iopub.status.busy": "2023-02-12T14:38:30.331533Z",
     "iopub.status.idle": "2023-02-12T14:38:30.342069Z",
     "shell.execute_reply": "2023-02-12T14:38:30.340705Z"
    },
    "papermill": {
     "duration": 0.021251,
     "end_time": "2023-02-12T14:38:30.344567",
     "exception": false,
     "start_time": "2023-02-12T14:38:30.323316",
     "status": "completed"
    },
    "tags": []
   },
   "outputs": [
    {
     "name": "stdout",
     "output_type": "stream",
     "text": [
      "Good morning!\n",
      "I am learning how to code :D\n"
     ]
    },
    {
     "data": {
      "application/javascript": [
       "parent.postMessage({\"jupyterEvent\": \"custom.exercise_interaction\", \"data\": {\"outcomeType\": 1, \"valueTowardsCompletion\": 0.2, \"interactionType\": 1, \"questionType\": 2, \"questionId\": \"2_PrintAnotherMsg\", \"learnToolsVersion\": \"0.3.4\", \"failureMessage\": \"\", \"exceptionClass\": \"\", \"trace\": \"\"}}, \"*\")"
      ],
      "text/plain": [
       "<IPython.core.display.Javascript object>"
      ]
     },
     "metadata": {},
     "output_type": "display_data"
    },
    {
     "data": {
      "text/markdown": [
       "<span style=\"color:#33cc33\">Once you have printed your own message, you're ready to move on to the next question.</span>"
      ],
      "text/plain": [
       "Once you have printed your own message, you're ready to move on to the next question."
      ]
     },
     "metadata": {},
     "output_type": "display_data"
    }
   ],
   "source": [
    "# TODO: Change the message\n",
    "print(\"Good morning!\")\n",
    "print(\"I am learning how to code :D\")\n",
    "\n",
    "# DO NOT REMOVE: Mark this question as completed \n",
    "q2.check()"
   ]
  },
  {
   "cell_type": "markdown",
   "id": "aeadd3bc",
   "metadata": {
    "papermill": {
     "duration": 0.006093,
     "end_time": "2023-02-12T14:38:30.357250",
     "exception": false,
     "start_time": "2023-02-12T14:38:30.351157",
     "status": "completed"
    },
    "tags": []
   },
   "source": [
    "# Question 3\n",
    "\n",
    "As you learned in the tutorial, a comment in Python has a pound sign (`#`) in front of it, which tells Python to ignore the text after it.\n",
    "\n",
    "Putting a pound sign in front of a line of code will make Python ignore that code.  For instance, this line would be ignored by Python, and nothing would appear in the output:\n",
    "```python\n",
    "#print(1+2)\n",
    "```\n",
    "Removing the pound sign will make it so that you can run the code again. When we remove the pound sign in front of a line of code, we call this **uncommenting**.\n",
    "\n",
    "In this problem, you will uncomment two lines in the code cell below and view the output:\n",
    "- Remove the `#` in front of `q3.hint()`.  To avoid errors, do NOT remove the `#` in front of `# Uncomment to view hint`.  \n",
    "- Next, remove the `#` in front of `q3.solution()`.\n",
    "\n",
    "As in the previous questions, do not change the final line of code that marks your work as completed."
   ]
  },
  {
   "cell_type": "code",
   "execution_count": 4,
   "id": "f06e22c1",
   "metadata": {
    "execution": {
     "iopub.execute_input": "2023-02-12T14:38:30.371715Z",
     "iopub.status.busy": "2023-02-12T14:38:30.371323Z",
     "iopub.status.idle": "2023-02-12T14:38:30.390589Z",
     "shell.execute_reply": "2023-02-12T14:38:30.388900Z"
    },
    "papermill": {
     "duration": 0.0295,
     "end_time": "2023-02-12T14:38:30.393183",
     "exception": false,
     "start_time": "2023-02-12T14:38:30.363683",
     "status": "completed"
    },
    "tags": []
   },
   "outputs": [
    {
     "data": {
      "application/javascript": [
       "parent.postMessage({\"jupyterEvent\": \"custom.exercise_interaction\", \"data\": {\"interactionType\": 2, \"questionType\": 2, \"questionId\": \"3_LearnCheckingCode\", \"learnToolsVersion\": \"0.3.4\", \"valueTowardsCompletion\": 0.0, \"failureMessage\": \"\", \"exceptionClass\": \"\", \"trace\": \"\", \"outcomeType\": 4}}, \"*\")"
      ],
      "text/plain": [
       "<IPython.core.display.Javascript object>"
      ]
     },
     "metadata": {},
     "output_type": "display_data"
    },
    {
     "data": {
      "text/markdown": [
       "<span style=\"color:#3366cc\">Hint:</span> If you're ever stuck on a question, it's a good idea to look at the hint before viewing the solution."
      ],
      "text/plain": [
       "Hint: If you're ever stuck on a question, it's a good idea to look at the hint before viewing the solution."
      ]
     },
     "metadata": {},
     "output_type": "display_data"
    },
    {
     "data": {
      "application/javascript": [
       "parent.postMessage({\"jupyterEvent\": \"custom.exercise_interaction\", \"data\": {\"interactionType\": 3, \"questionType\": 2, \"questionId\": \"3_LearnCheckingCode\", \"learnToolsVersion\": \"0.3.4\", \"valueTowardsCompletion\": 0.0, \"failureMessage\": \"\", \"exceptionClass\": \"\", \"trace\": \"\", \"outcomeType\": 4}}, \"*\")"
      ],
      "text/plain": [
       "<IPython.core.display.Javascript object>"
      ]
     },
     "metadata": {},
     "output_type": "display_data"
    },
    {
     "data": {
      "text/markdown": [
       "<span style=\"color:#33cc99\">Solution:</span> If you're still stuck on a question after viewing the hint and re-reading the tutorial, you can view the solution.  You can also view the solution after you have successfully submitted your own answer, to check if the official solution is any different (there may be more than one right answer!)."
      ],
      "text/plain": [
       "Solution: If you're still stuck on a question after viewing the hint and re-reading the tutorial, you can view the solution.  You can also view the solution after you have successfully submitted your own answer, to check if the official solution is any different (there may be more than one right answer!)."
      ]
     },
     "metadata": {},
     "output_type": "display_data"
    },
    {
     "name": "stdout",
     "output_type": "stream",
     "text": [
      "3\n"
     ]
    },
    {
     "data": {
      "application/javascript": [
       "parent.postMessage({\"jupyterEvent\": \"custom.exercise_interaction\", \"data\": {\"outcomeType\": 1, \"valueTowardsCompletion\": 0.2, \"interactionType\": 1, \"questionType\": 2, \"questionId\": \"3_LearnCheckingCode\", \"learnToolsVersion\": \"0.3.4\", \"failureMessage\": \"\", \"exceptionClass\": \"\", \"trace\": \"\"}}, \"*\")"
      ],
      "text/plain": [
       "<IPython.core.display.Javascript object>"
      ]
     },
     "metadata": {},
     "output_type": "display_data"
    },
    {
     "data": {
      "text/markdown": [
       "<span style=\"color:#33cc33\">Once you have printed the hint and the solution, you're ready to move on to the next question.</span>"
      ],
      "text/plain": [
       "Once you have printed the hint and the solution, you're ready to move on to the next question."
      ]
     },
     "metadata": {},
     "output_type": "display_data"
    }
   ],
   "source": [
    "# Uncomment to get a hint\n",
    "q3.hint()\n",
    "\n",
    "# Uncomment to view solution\n",
    "q3.solution()\n",
    "\n",
    "print(1+2)\n",
    "\n",
    "# DO NOT REMOVE: Check your answer\n",
    "q3.check()"
   ]
  },
  {
   "cell_type": "markdown",
   "id": "7b6a3d63",
   "metadata": {
    "papermill": {
     "duration": 0.00683,
     "end_time": "2023-02-12T14:38:30.407527",
     "exception": false,
     "start_time": "2023-02-12T14:38:30.400697",
     "status": "completed"
    },
    "tags": []
   },
   "source": [
    "In the next question, and in most of the exercises in this course, you will have the option to uncomment to view hints and solutions.  Once you feel comfortable with uncommenting, continue to the next question.\n"
   ]
  },
  {
   "cell_type": "markdown",
   "id": "64a6dab2",
   "metadata": {
    "papermill": {
     "duration": 0.006881,
     "end_time": "2023-02-12T14:38:30.421578",
     "exception": false,
     "start_time": "2023-02-12T14:38:30.414697",
     "status": "completed"
    },
    "tags": []
   },
   "source": [
    "# Question 4\n",
    "\n",
    "In the tutorial, you defined several variables to calculate the total number of seconds in a year.  Run the next code cell to do the calculation here."
   ]
  },
  {
   "cell_type": "code",
   "execution_count": 5,
   "id": "234e5164",
   "metadata": {
    "execution": {
     "iopub.execute_input": "2023-02-12T14:38:30.437724Z",
     "iopub.status.busy": "2023-02-12T14:38:30.437280Z",
     "iopub.status.idle": "2023-02-12T14:38:30.443533Z",
     "shell.execute_reply": "2023-02-12T14:38:30.442237Z"
    },
    "papermill": {
     "duration": 0.017948,
     "end_time": "2023-02-12T14:38:30.446660",
     "exception": false,
     "start_time": "2023-02-12T14:38:30.428712",
     "status": "completed"
    },
    "tags": []
   },
   "outputs": [
    {
     "name": "stdout",
     "output_type": "stream",
     "text": [
      "126144000\n"
     ]
    }
   ],
   "source": [
    "# Create variables\n",
    "num_years = 4\n",
    "days_per_year = 365 \n",
    "hours_per_day = 24\n",
    "mins_per_hour = 60\n",
    "secs_per_min = 60\n",
    "\n",
    "# Calculate number of seconds in four years\n",
    "total_secs = secs_per_min * mins_per_hour * hours_per_day * days_per_year * num_years\n",
    "print(total_secs)"
   ]
  },
  {
   "cell_type": "markdown",
   "id": "32b0f667",
   "metadata": {
    "papermill": {
     "duration": 0.00779,
     "end_time": "2023-02-12T14:38:30.462416",
     "exception": false,
     "start_time": "2023-02-12T14:38:30.454626",
     "status": "completed"
    },
    "tags": []
   },
   "source": [
    "Use the next code cell to:\n",
    "- Define a variable `births_per_min` and set it to 250.  (There are on average 250 babies born each minute.)\n",
    "- Define a variable `births_per_day` that contains the average number of babies born each day.  (To set the value of this variable, you should use `births_per_min` and some of the variables from the previous code cell.)\n",
    "\n",
    "Remember you can always get a hint if you need it!"
   ]
  },
  {
   "cell_type": "code",
   "execution_count": 6,
   "id": "99449813",
   "metadata": {
    "execution": {
     "iopub.execute_input": "2023-02-12T14:38:30.478715Z",
     "iopub.status.busy": "2023-02-12T14:38:30.478282Z",
     "iopub.status.idle": "2023-02-12T14:38:30.488476Z",
     "shell.execute_reply": "2023-02-12T14:38:30.487355Z"
    },
    "papermill": {
     "duration": 0.021088,
     "end_time": "2023-02-12T14:38:30.490739",
     "exception": false,
     "start_time": "2023-02-12T14:38:30.469651",
     "status": "completed"
    },
    "tags": []
   },
   "outputs": [
    {
     "data": {
      "application/javascript": [
       "parent.postMessage({\"jupyterEvent\": \"custom.exercise_interaction\", \"data\": {\"outcomeType\": 1, \"valueTowardsCompletion\": 0.2, \"interactionType\": 1, \"questionType\": 1, \"questionId\": \"4_BirthsPerYear\", \"learnToolsVersion\": \"0.3.4\", \"failureMessage\": \"\", \"exceptionClass\": \"\", \"trace\": \"\"}}, \"*\")"
      ],
      "text/plain": [
       "<IPython.core.display.Javascript object>"
      ]
     },
     "metadata": {},
     "output_type": "display_data"
    },
    {
     "data": {
      "text/markdown": [
       "<span style=\"color:#33cc33\">Correct</span>"
      ],
      "text/plain": [
       "Correct"
      ]
     },
     "metadata": {},
     "output_type": "display_data"
    }
   ],
   "source": [
    "# TODO: Set the value of the births_per_min variable\n",
    "births_per_min = 250\n",
    "\n",
    "# TODO: Set the value of the births_per_day variable\n",
    "births_per_day = births_per_min * mins_per_hour * hours_per_day\n",
    "\n",
    "# DO NOT REMOVE: Check your answer\n",
    "q4.check()"
   ]
  },
  {
   "cell_type": "code",
   "execution_count": 7,
   "id": "bd06213c",
   "metadata": {
    "execution": {
     "iopub.execute_input": "2023-02-12T14:38:30.507648Z",
     "iopub.status.busy": "2023-02-12T14:38:30.507226Z",
     "iopub.status.idle": "2023-02-12T14:38:30.512323Z",
     "shell.execute_reply": "2023-02-12T14:38:30.511263Z"
    },
    "papermill": {
     "duration": 0.016114,
     "end_time": "2023-02-12T14:38:30.514599",
     "exception": false,
     "start_time": "2023-02-12T14:38:30.498485",
     "status": "completed"
    },
    "tags": []
   },
   "outputs": [],
   "source": [
    "# Uncomment to get a hint\n",
    "#q4.hint()\n",
    "\n",
    "# Uncomment to view solution\n",
    "#q4.solution()"
   ]
  },
  {
   "cell_type": "markdown",
   "id": "8b468653",
   "metadata": {
    "papermill": {
     "duration": 0.00711,
     "end_time": "2023-02-12T14:38:30.529306",
     "exception": false,
     "start_time": "2023-02-12T14:38:30.522196",
     "status": "completed"
    },
    "tags": []
   },
   "source": [
    "# 🌶️ Question 5\n",
    "\n",
    "(Questions marked with a 🌶️ will be a little bit more challenging than the others!  Remember you can always get a hint or view the solution.)\n",
    "\n",
    "The [Titanic competition](https://www.kaggle.com/c/titanic) is Kaggle's most famous data science competition. In this competition, participants are challenged to build a machine learning model that can predict whether or not passengers survived the Titanic shipwreck, based on information like age, sex, family size, and ticket number.\n",
    "\n",
    "Run the next code cell without changes to load and preview the titanic data.\n",
    "\n",
    "Don't worry about the details of the code for now - the end result is just that the all of the titanic data has been loaded in a variable named `titanic_data`.  (In order to learn how to write this code yourself, you can take the [Python course](https://www.kaggle.com/learn/python) and then the [Pandas course](https://www.kaggle.com/learn/pandas).)"
   ]
  },
  {
   "cell_type": "code",
   "execution_count": 8,
   "id": "74829621",
   "metadata": {
    "execution": {
     "iopub.execute_input": "2023-02-12T14:38:30.546214Z",
     "iopub.status.busy": "2023-02-12T14:38:30.545761Z",
     "iopub.status.idle": "2023-02-12T14:38:30.583409Z",
     "shell.execute_reply": "2023-02-12T14:38:30.582150Z"
    },
    "papermill": {
     "duration": 0.049308,
     "end_time": "2023-02-12T14:38:30.586133",
     "exception": false,
     "start_time": "2023-02-12T14:38:30.536825",
     "status": "completed"
    },
    "tags": []
   },
   "outputs": [
    {
     "data": {
      "text/html": [
       "<div>\n",
       "<style scoped>\n",
       "    .dataframe tbody tr th:only-of-type {\n",
       "        vertical-align: middle;\n",
       "    }\n",
       "\n",
       "    .dataframe tbody tr th {\n",
       "        vertical-align: top;\n",
       "    }\n",
       "\n",
       "    .dataframe thead th {\n",
       "        text-align: right;\n",
       "    }\n",
       "</style>\n",
       "<table border=\"1\" class=\"dataframe\">\n",
       "  <thead>\n",
       "    <tr style=\"text-align: right;\">\n",
       "      <th></th>\n",
       "      <th>PassengerId</th>\n",
       "      <th>Survived</th>\n",
       "      <th>Pclass</th>\n",
       "      <th>Name</th>\n",
       "      <th>Sex</th>\n",
       "      <th>Age</th>\n",
       "      <th>SibSp</th>\n",
       "      <th>Parch</th>\n",
       "      <th>Ticket</th>\n",
       "      <th>Fare</th>\n",
       "      <th>Cabin</th>\n",
       "      <th>Embarked</th>\n",
       "    </tr>\n",
       "  </thead>\n",
       "  <tbody>\n",
       "    <tr>\n",
       "      <th>0</th>\n",
       "      <td>1</td>\n",
       "      <td>0</td>\n",
       "      <td>3</td>\n",
       "      <td>Braund, Mr. Owen Harris</td>\n",
       "      <td>male</td>\n",
       "      <td>22.0</td>\n",
       "      <td>1</td>\n",
       "      <td>0</td>\n",
       "      <td>A/5 21171</td>\n",
       "      <td>7.2500</td>\n",
       "      <td>NaN</td>\n",
       "      <td>S</td>\n",
       "    </tr>\n",
       "    <tr>\n",
       "      <th>1</th>\n",
       "      <td>2</td>\n",
       "      <td>1</td>\n",
       "      <td>1</td>\n",
       "      <td>Cumings, Mrs. John Bradley (Florence Briggs Th...</td>\n",
       "      <td>female</td>\n",
       "      <td>38.0</td>\n",
       "      <td>1</td>\n",
       "      <td>0</td>\n",
       "      <td>PC 17599</td>\n",
       "      <td>71.2833</td>\n",
       "      <td>C85</td>\n",
       "      <td>C</td>\n",
       "    </tr>\n",
       "    <tr>\n",
       "      <th>2</th>\n",
       "      <td>3</td>\n",
       "      <td>1</td>\n",
       "      <td>3</td>\n",
       "      <td>Heikkinen, Miss. Laina</td>\n",
       "      <td>female</td>\n",
       "      <td>26.0</td>\n",
       "      <td>0</td>\n",
       "      <td>0</td>\n",
       "      <td>STON/O2. 3101282</td>\n",
       "      <td>7.9250</td>\n",
       "      <td>NaN</td>\n",
       "      <td>S</td>\n",
       "    </tr>\n",
       "    <tr>\n",
       "      <th>3</th>\n",
       "      <td>4</td>\n",
       "      <td>1</td>\n",
       "      <td>1</td>\n",
       "      <td>Futrelle, Mrs. Jacques Heath (Lily May Peel)</td>\n",
       "      <td>female</td>\n",
       "      <td>35.0</td>\n",
       "      <td>1</td>\n",
       "      <td>0</td>\n",
       "      <td>113803</td>\n",
       "      <td>53.1000</td>\n",
       "      <td>C123</td>\n",
       "      <td>S</td>\n",
       "    </tr>\n",
       "    <tr>\n",
       "      <th>4</th>\n",
       "      <td>5</td>\n",
       "      <td>0</td>\n",
       "      <td>3</td>\n",
       "      <td>Allen, Mr. William Henry</td>\n",
       "      <td>male</td>\n",
       "      <td>35.0</td>\n",
       "      <td>0</td>\n",
       "      <td>0</td>\n",
       "      <td>373450</td>\n",
       "      <td>8.0500</td>\n",
       "      <td>NaN</td>\n",
       "      <td>S</td>\n",
       "    </tr>\n",
       "  </tbody>\n",
       "</table>\n",
       "</div>"
      ],
      "text/plain": [
       "   PassengerId  Survived  Pclass  \\\n",
       "0            1         0       3   \n",
       "1            2         1       1   \n",
       "2            3         1       3   \n",
       "3            4         1       1   \n",
       "4            5         0       3   \n",
       "\n",
       "                                                Name     Sex   Age  SibSp  \\\n",
       "0                            Braund, Mr. Owen Harris    male  22.0      1   \n",
       "1  Cumings, Mrs. John Bradley (Florence Briggs Th...  female  38.0      1   \n",
       "2                             Heikkinen, Miss. Laina  female  26.0      0   \n",
       "3       Futrelle, Mrs. Jacques Heath (Lily May Peel)  female  35.0      1   \n",
       "4                           Allen, Mr. William Henry    male  35.0      0   \n",
       "\n",
       "   Parch            Ticket     Fare Cabin Embarked  \n",
       "0      0         A/5 21171   7.2500   NaN        S  \n",
       "1      0          PC 17599  71.2833   C85        C  \n",
       "2      0  STON/O2. 3101282   7.9250   NaN        S  \n",
       "3      0            113803  53.1000  C123        S  \n",
       "4      0            373450   8.0500   NaN        S  "
      ]
     },
     "execution_count": 8,
     "metadata": {},
     "output_type": "execute_result"
    }
   ],
   "source": [
    "# Load the data from the titanic competition\n",
    "import pandas as pd\n",
    "titanic_data = pd.read_csv(\"../input/titanic/train.csv\")\n",
    "\n",
    "# Show the first five rows of the data\n",
    "titanic_data.head()"
   ]
  },
  {
   "cell_type": "markdown",
   "id": "99820f05",
   "metadata": {
    "papermill": {
     "duration": 0.007478,
     "end_time": "2023-02-12T14:38:30.601592",
     "exception": false,
     "start_time": "2023-02-12T14:38:30.594114",
     "status": "completed"
    },
    "tags": []
   },
   "source": [
    "The data has a different row for each passenger.  \n",
    "\n",
    "The next code cell defines and prints the values of three variables:  \n",
    "- `total` = total number of passengers who boarded the ship\n",
    "- `survived` = number of passengers who survived the shipwreck\n",
    "- `minors` = number of passengers under 18 years of age\n",
    "\n",
    "Run the code cell without changes.  (Don't worry about the details of how these variables are calculated for now.  You can learn more about how to calculate these values in the [Pandas course](https://www.kaggle.com/learn/pandas).)"
   ]
  },
  {
   "cell_type": "code",
   "execution_count": 9,
   "id": "e5b8ad71",
   "metadata": {
    "execution": {
     "iopub.execute_input": "2023-02-12T14:38:30.619008Z",
     "iopub.status.busy": "2023-02-12T14:38:30.618584Z",
     "iopub.status.idle": "2023-02-12T14:38:30.628461Z",
     "shell.execute_reply": "2023-02-12T14:38:30.627170Z"
    },
    "papermill": {
     "duration": 0.022756,
     "end_time": "2023-02-12T14:38:30.632017",
     "exception": false,
     "start_time": "2023-02-12T14:38:30.609261",
     "status": "completed"
    },
    "tags": []
   },
   "outputs": [
    {
     "name": "stdout",
     "output_type": "stream",
     "text": [
      "891\n",
      "342\n",
      "113\n"
     ]
    }
   ],
   "source": [
    "# Number of total passengers\n",
    "total = len(titanic_data)\n",
    "print(total)\n",
    "\n",
    "# Number of passengers who survived\n",
    "survived = (titanic_data.Survived == 1).sum()\n",
    "print(survived)\n",
    "\n",
    "# Number of passengers under 18\n",
    "minors = (titanic_data.Age < 18).sum()\n",
    "print(minors)"
   ]
  },
  {
   "cell_type": "markdown",
   "id": "183c82df",
   "metadata": {
    "papermill": {
     "duration": 0.007506,
     "end_time": "2023-02-12T14:38:30.648308",
     "exception": false,
     "start_time": "2023-02-12T14:38:30.640802",
     "status": "completed"
    },
    "tags": []
   },
   "source": [
    "So, \n",
    "- `total = 891` (there were 891 passengers on board the Titanic),\n",
    "- `survived = 342` (342 passengers survived), and \n",
    "- `minors = 113` (113 passengers were under the age of 18).\n",
    "\n",
    "In the code cell below, replace the underlines (`____`) with code to calculate the values for two more variables:\n",
    "- `survived_fraction` should be set to the fraction of passengers who survived the Titanic disaster.\n",
    "- `minors_fraction` should be the fraction of passengers who were minors (under the age of 18).\n",
    "\n",
    "For each variable, your answer should be a number between 0 and 1.  \n",
    "\n",
    "If you need a hint or want to view the solution, you can skip to the next code cell and uncomment the appropriate lines of code (`q5.hint()` and `q5.solution()`)."
   ]
  },
  {
   "cell_type": "code",
   "execution_count": null,
   "id": "394881f1",
   "metadata": {
    "papermill": {
     "duration": 0.007562,
     "end_time": "2023-02-12T14:38:30.663646",
     "exception": false,
     "start_time": "2023-02-12T14:38:30.656084",
     "status": "completed"
    },
    "tags": []
   },
   "outputs": [],
   "source": []
  },
  {
   "cell_type": "code",
   "execution_count": 10,
   "id": "26342cbe",
   "metadata": {
    "execution": {
     "iopub.execute_input": "2023-02-12T14:38:30.680788Z",
     "iopub.status.busy": "2023-02-12T14:38:30.680389Z",
     "iopub.status.idle": "2023-02-12T14:38:30.690192Z",
     "shell.execute_reply": "2023-02-12T14:38:30.689308Z"
    },
    "papermill": {
     "duration": 0.024514,
     "end_time": "2023-02-12T14:38:30.695878",
     "exception": false,
     "start_time": "2023-02-12T14:38:30.671364",
     "status": "completed"
    },
    "tags": []
   },
   "outputs": [
    {
     "name": "stdout",
     "output_type": "stream",
     "text": [
      "0.3838383838383838\n",
      "0.12682379349046016\n"
     ]
    },
    {
     "data": {
      "application/javascript": [
       "parent.postMessage({\"jupyterEvent\": \"custom.exercise_interaction\", \"data\": {\"outcomeType\": 1, \"valueTowardsCompletion\": 0.2, \"interactionType\": 1, \"questionType\": 1, \"questionId\": \"5_BonusTitanic\", \"learnToolsVersion\": \"0.3.4\", \"failureMessage\": \"\", \"exceptionClass\": \"\", \"trace\": \"\"}}, \"*\")"
      ],
      "text/plain": [
       "<IPython.core.display.Javascript object>"
      ]
     },
     "metadata": {},
     "output_type": "display_data"
    },
    {
     "data": {
      "text/markdown": [
       "<span style=\"color:#33cc33\">Correct</span>"
      ],
      "text/plain": [
       "Correct"
      ]
     },
     "metadata": {},
     "output_type": "display_data"
    }
   ],
   "source": [
    "# TODO: Fill in the value of the survived_fraction variable\n",
    "survived_fraction = survived / total\n",
    "\n",
    "# Print the value of the variable\n",
    "print(survived_fraction)\n",
    "\n",
    "# TODO: Fill in the value of the minors_fraction variable\n",
    "minors_fraction = minors / total\n",
    "\n",
    "# Print the value of the variable\n",
    "print(minors_fraction)\n",
    "\n",
    "# DO NOT REMOVE: Check your answer\n",
    "q5.check()"
   ]
  },
  {
   "cell_type": "code",
   "execution_count": 11,
   "id": "ab303dab",
   "metadata": {
    "execution": {
     "iopub.execute_input": "2023-02-12T14:38:30.715354Z",
     "iopub.status.busy": "2023-02-12T14:38:30.714926Z",
     "iopub.status.idle": "2023-02-12T14:38:30.719153Z",
     "shell.execute_reply": "2023-02-12T14:38:30.717938Z"
    },
    "papermill": {
     "duration": 0.016625,
     "end_time": "2023-02-12T14:38:30.721482",
     "exception": false,
     "start_time": "2023-02-12T14:38:30.704857",
     "status": "completed"
    },
    "tags": []
   },
   "outputs": [],
   "source": [
    "# Uncomment to receive a hint\n",
    "#q5.hint()\n",
    "\n",
    "# Uncomment to view the solution\n",
    "#q5.solution()"
   ]
  },
  {
   "cell_type": "markdown",
   "id": "9f295e78",
   "metadata": {
    "papermill": {
     "duration": 0.007781,
     "end_time": "2023-02-12T14:38:30.737419",
     "exception": false,
     "start_time": "2023-02-12T14:38:30.729638",
     "status": "completed"
    },
    "tags": []
   },
   "source": [
    "# Bonus Exercise\n",
    "\n",
    "As an **optional** next step, you're encouraged to make a submission to the Titanic competition.  \n",
    "> To do this, follow the instructions in the **[notebook here](https://www.kaggle.com/alexisbcook/titanic-tutorial)**.  \n",
    "\n",
    "The notebook is beginner-friendly and does not assume you have any experience with coding.  At the same time, you'll learn how to author your own notebooks on Kaggle, and it gives you a great idea of what you'll be able to do if you continue to learn data science!\n",
    "\n",
    "# Keep going\n",
    "\n",
    "Congratulations!  You have just finished the first exercise in the Intro to Programming course!  \n",
    "\n",
    "You are now ready to learn how to **[organize your code with functions](https://www.kaggle.com/alexisbcook/functions)**."
   ]
  },
  {
   "cell_type": "markdown",
   "id": "87bbdee6",
   "metadata": {
    "papermill": {
     "duration": 0.007841,
     "end_time": "2023-02-12T14:38:30.753323",
     "exception": false,
     "start_time": "2023-02-12T14:38:30.745482",
     "status": "completed"
    },
    "tags": []
   },
   "source": [
    "---\n",
    "\n",
    "\n",
    "\n",
    "\n",
    "*Have questions or comments? Visit the [course discussion forum](https://www.kaggle.com/learn/intro-to-programming/discussion) to chat with other learners.*"
   ]
  }
 ],
 "metadata": {
  "kernelspec": {
   "display_name": "Python 3",
   "language": "python",
   "name": "python3"
  },
  "language_info": {
   "codemirror_mode": {
    "name": "ipython",
    "version": 3
   },
   "file_extension": ".py",
   "mimetype": "text/x-python",
   "name": "python",
   "nbconvert_exporter": "python",
   "pygments_lexer": "ipython3",
   "version": "3.7.12"
  },
  "papermill": {
   "default_parameters": {},
   "duration": 9.581272,
   "end_time": "2023-02-12T14:38:31.383475",
   "environment_variables": {},
   "exception": null,
   "input_path": "__notebook__.ipynb",
   "output_path": "__notebook__.ipynb",
   "parameters": {},
   "start_time": "2023-02-12T14:38:21.802203",
   "version": "2.3.4"
  }
 },
 "nbformat": 4,
 "nbformat_minor": 5
}
