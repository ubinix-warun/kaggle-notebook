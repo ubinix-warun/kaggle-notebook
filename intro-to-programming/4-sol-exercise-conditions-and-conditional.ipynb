{
 "cells": [
  {
   "cell_type": "markdown",
   "id": "41b1a9a1",
   "metadata": {
    "papermill": {
     "duration": 0.008086,
     "end_time": "2023-02-12T15:28:05.764294",
     "exception": false,
     "start_time": "2023-02-12T15:28:05.756208",
     "status": "completed"
    },
    "tags": []
   },
   "source": [
    "**This notebook is an exercise in the [Intro to Programming](https://www.kaggle.com/learn/intro-to-programming) course.  You can reference the tutorial at [this link](https://www.kaggle.com/alexisbcook/conditions-and-conditional-statements).**\n",
    "\n",
    "---\n"
   ]
  },
  {
   "cell_type": "markdown",
   "id": "99ab050e",
   "metadata": {
    "papermill": {
     "duration": 0.006461,
     "end_time": "2023-02-12T15:28:05.777786",
     "exception": false,
     "start_time": "2023-02-12T15:28:05.771325",
     "status": "completed"
    },
    "tags": []
   },
   "source": [
    "In the tutorial, you learned about conditions and conditional statements. In this exercise, you will use what you learned to answer several questions.\n",
    "\n",
    "# Set up the notebook\n",
    "\n",
    "Run the next code cell without changes to set up the notebook."
   ]
  },
  {
   "cell_type": "code",
   "execution_count": 1,
   "id": "2748dcc2",
   "metadata": {
    "execution": {
     "iopub.execute_input": "2023-02-12T15:28:05.793102Z",
     "iopub.status.busy": "2023-02-12T15:28:05.792618Z",
     "iopub.status.idle": "2023-02-12T15:28:05.848545Z",
     "shell.execute_reply": "2023-02-12T15:28:05.847320Z"
    },
    "papermill": {
     "duration": 0.067011,
     "end_time": "2023-02-12T15:28:05.851454",
     "exception": false,
     "start_time": "2023-02-12T15:28:05.784443",
     "status": "completed"
    },
    "tags": []
   },
   "outputs": [
    {
     "name": "stdout",
     "output_type": "stream",
     "text": [
      "Setup complete.\n"
     ]
    }
   ],
   "source": [
    "from learntools.core import binder\n",
    "binder.bind(globals())\n",
    "from learntools.intro_to_programming.ex4 import *\n",
    "print('Setup complete.')"
   ]
  },
  {
   "cell_type": "markdown",
   "id": "32cd4910",
   "metadata": {
    "papermill": {
     "duration": 0.006514,
     "end_time": "2023-02-12T15:28:05.865007",
     "exception": false,
     "start_time": "2023-02-12T15:28:05.858493",
     "status": "completed"
    },
    "tags": []
   },
   "source": [
    "# Question 1\n",
    "\n",
    "You work at a college admissions office.  When inspecting a dataset of college applicants, you notice that some students have represented their grades with letters (`\"A\"`, `\"B\"`, `\"C\"`, `\"D\"`, `\"F\"`), whereas others have represented their grades with a number between 0 and 100.\n",
    "\n",
    "You realize that for consistency, all of the grades should be formatted in the same way, and you decide to format them all as letters.  For the conversion, you decide to assign:\n",
    "- `\"A\"` - any grade 90-100, inclusive\n",
    "- `\"B\"` - any grade 80-89, inclusive\n",
    "- `\"C\"` - any grade 70-79, inclusive\n",
    "- `\"D\"` - any grade 60-69, inclusive\n",
    "- `\"F\"` - any grade <60\n",
    "\n",
    "Write a function `get_grade()` that takes as input:\n",
    "- `score` - an integer 0-100 corresponding to a numerical grade\n",
    "\n",
    "It should return a Python string with the letter grade that it corresponds to.  For instance,\n",
    "- A score of 85 corresponds to a B grade.  In other words, `get_grade(85)` should return `\"B\"`.\n",
    "- A score of 49 corresponds to an F grade.  In other words, `get_grade(49)` should return `\"F\"`.\n",
    "\n",
    "Make sure that when supplying the grade that is returned by the function, it is enclosed in quotes.  (For instance, if you want to return `\"A\"`, you should write `return \"A\"` and not `return A`.)"
   ]
  },
  {
   "cell_type": "code",
   "execution_count": 2,
   "id": "2ca84c19",
   "metadata": {
    "execution": {
     "iopub.execute_input": "2023-02-12T15:28:05.880499Z",
     "iopub.status.busy": "2023-02-12T15:28:05.880071Z",
     "iopub.status.idle": "2023-02-12T15:28:05.893056Z",
     "shell.execute_reply": "2023-02-12T15:28:05.892004Z"
    },
    "papermill": {
     "duration": 0.02337,
     "end_time": "2023-02-12T15:28:05.895252",
     "exception": false,
     "start_time": "2023-02-12T15:28:05.871882",
     "status": "completed"
    },
    "tags": []
   },
   "outputs": [
    {
     "data": {
      "application/javascript": [
       "parent.postMessage({\"jupyterEvent\": \"custom.exercise_interaction\", \"data\": {\"outcomeType\": 1, \"valueTowardsCompletion\": 0.2, \"interactionType\": 1, \"questionType\": 2, \"questionId\": \"1_GetGrade\", \"learnToolsVersion\": \"0.3.4\", \"failureMessage\": \"\", \"exceptionClass\": \"\", \"trace\": \"\"}}, \"*\")"
      ],
      "text/plain": [
       "<IPython.core.display.Javascript object>"
      ]
     },
     "metadata": {},
     "output_type": "display_data"
    },
    {
     "data": {
      "text/markdown": [
       "<span style=\"color:#33cc33\">Correct</span>"
      ],
      "text/plain": [
       "Correct"
      ]
     },
     "metadata": {},
     "output_type": "display_data"
    }
   ],
   "source": [
    "# TODO: Edit the function to return the correct grade for different scores\n",
    "def get_grade(score):\n",
    "    grade = \"F\"\n",
    "    if 100 >= score and score >= 90:\n",
    "        grade = \"A\"\n",
    "    elif 89 >= score and score >= 80:\n",
    "        grade = \"B\"\n",
    "    elif 79 >= score and score >= 70:\n",
    "        grade = \"C\"\n",
    "    elif 69 >= score and score >= 60:\n",
    "        grade = \"D\"\n",
    "        \n",
    "    return grade\n",
    "    \n",
    "# Check your answer\n",
    "q1.check()"
   ]
  },
  {
   "cell_type": "code",
   "execution_count": 3,
   "id": "1a1f6185",
   "metadata": {
    "execution": {
     "iopub.execute_input": "2023-02-12T15:28:05.911552Z",
     "iopub.status.busy": "2023-02-12T15:28:05.911118Z",
     "iopub.status.idle": "2023-02-12T15:28:05.915623Z",
     "shell.execute_reply": "2023-02-12T15:28:05.914500Z"
    },
    "papermill": {
     "duration": 0.015648,
     "end_time": "2023-02-12T15:28:05.918011",
     "exception": false,
     "start_time": "2023-02-12T15:28:05.902363",
     "status": "completed"
    },
    "tags": []
   },
   "outputs": [],
   "source": [
    "# Uncomment to see a hint\n",
    "#q1.hint()\n",
    "\n",
    "# Uncomment to see the solution\n",
    "#q1.solution()"
   ]
  },
  {
   "cell_type": "markdown",
   "id": "044cebd4",
   "metadata": {
    "papermill": {
     "duration": 0.006901,
     "end_time": "2023-02-12T15:28:05.932134",
     "exception": false,
     "start_time": "2023-02-12T15:28:05.925233",
     "status": "completed"
    },
    "tags": []
   },
   "source": [
    "# Question 2\n",
    "\n",
    "In the exercise for the previous lesson, you wrote a function `cost_of_project()` that estimated the price of rings for an online shop that sells rings with custom engravings.  This function did not use conditional statements.  In this exercise, you will rewrite the function to use conditional statements.  Recall that the online shop has the following price structure:\n",
    "- Gold plated rings have a base cost of \\\\$50, and you charge \\\\$7 per engraved unit.  \n",
    "- Solid gold rings have a base cost of \\\\$100, and you charge \\\\$10 per engraved unit.\n",
    "- Spaces and punctuation are counted as engraved units.\n",
    "\n",
    "Your function `cost_of_project()` takes two arguments:\n",
    "- `engraving` - a Python string with the text of the engraving\n",
    "- `solid_gold` - a Boolean that indicates whether the ring is solid gold\n",
    "\n",
    "It should return the cost of the project.  \n",
    "\n",
    "The function has been partially completed for you, and you need to fill in the blanks to complete the function."
   ]
  },
  {
   "cell_type": "code",
   "execution_count": 4,
   "id": "7273f8e1",
   "metadata": {
    "execution": {
     "iopub.execute_input": "2023-02-12T15:28:05.948226Z",
     "iopub.status.busy": "2023-02-12T15:28:05.947819Z",
     "iopub.status.idle": "2023-02-12T15:28:05.956258Z",
     "shell.execute_reply": "2023-02-12T15:28:05.955465Z"
    },
    "papermill": {
     "duration": 0.019098,
     "end_time": "2023-02-12T15:28:05.958455",
     "exception": false,
     "start_time": "2023-02-12T15:28:05.939357",
     "status": "completed"
    },
    "tags": []
   },
   "outputs": [
    {
     "data": {
      "application/javascript": [
       "parent.postMessage({\"jupyterEvent\": \"custom.exercise_interaction\", \"data\": {\"outcomeType\": 1, \"valueTowardsCompletion\": 0.2, \"interactionType\": 1, \"questionType\": 2, \"questionId\": \"2_CostProjectPartDeux\", \"learnToolsVersion\": \"0.3.4\", \"failureMessage\": \"\", \"exceptionClass\": \"\", \"trace\": \"\"}}, \"*\")"
      ],
      "text/plain": [
       "<IPython.core.display.Javascript object>"
      ]
     },
     "metadata": {},
     "output_type": "display_data"
    },
    {
     "data": {
      "text/markdown": [
       "<span style=\"color:#33cc33\">Correct</span>"
      ],
      "text/plain": [
       "Correct"
      ]
     },
     "metadata": {},
     "output_type": "display_data"
    }
   ],
   "source": [
    "def cost_of_project(engraving, solid_gold):\n",
    "    if solid_gold == True:\n",
    "        cost = 100 + 10 * len(engraving)\n",
    "    else:\n",
    "        cost = 50 + 7 * len(engraving)\n",
    "    return cost\n",
    "\n",
    "# Check your answer\n",
    "q2.check()"
   ]
  },
  {
   "cell_type": "code",
   "execution_count": 5,
   "id": "15a0db29",
   "metadata": {
    "execution": {
     "iopub.execute_input": "2023-02-12T15:28:05.976524Z",
     "iopub.status.busy": "2023-02-12T15:28:05.976081Z",
     "iopub.status.idle": "2023-02-12T15:28:05.980558Z",
     "shell.execute_reply": "2023-02-12T15:28:05.979494Z"
    },
    "papermill": {
     "duration": 0.015766,
     "end_time": "2023-02-12T15:28:05.982883",
     "exception": false,
     "start_time": "2023-02-12T15:28:05.967117",
     "status": "completed"
    },
    "tags": []
   },
   "outputs": [],
   "source": [
    "# Uncomment to see a hint\n",
    "# q2.hint()\n",
    "\n",
    "# Uncomment to see the solution\n",
    "#q2.solution()"
   ]
  },
  {
   "cell_type": "markdown",
   "id": "9e81a675",
   "metadata": {
    "papermill": {
     "duration": 0.007117,
     "end_time": "2023-02-12T15:28:05.997565",
     "exception": false,
     "start_time": "2023-02-12T15:28:05.990448",
     "status": "completed"
    },
    "tags": []
   },
   "source": [
    "# Question 3\n",
    "\n",
    "You are a programmer at a water agency.  Recently, you have been tasked to write a function `get_water_bill()` that takes as input:\n",
    "- `num_gallons` = the number of gallons of water that a customer used that month.  (This will always be an integer with no decimal part.)\n",
    "\n",
    "It should output the water bill.  \n",
    "\n",
    "The water agency uses this pricing structure:\n",
    "<table style=\"width: 100%;\">\n",
    "<tbody>\n",
    "<tr><th><b>Tier</b></th><th><b>Amount in gallons</b></th><th><b>Price per 1000 gallons</b></th></tr>\n",
    "<tr>\n",
    "<td>Tier 1</td>\n",
    "<td>0 - 8,000</td>\n",
    "<td>\\$5</td>\n",
    "</tr>\n",
    "<tr>\n",
    "<td>Tier 2</td>\n",
    "<td>8,001 - 22,000</td>\n",
    "<td>\\$6</td>\n",
    "</tr>\n",
    "<tr>\n",
    "<td>Tier 3</td>\n",
    "<td>22,001 - 30,000</td>\n",
    "<td>\\$7</td>\n",
    "</tr>\n",
    "<tr>\n",
    "<td>Tier 4</td>\n",
    "<td>30,001+</td>\n",
    "<td>\\$10</td>\n",
    "</tr>\n",
    "</tbody>\n",
    "</table>\n",
    "\n",
    "For example: \n",
    "- Someone who uses 10,000 gallons of water in a month is placed in Tier 2, and needs to pay a water bill of \\\\$6 * 10 = \\\\$60.  In other words, `get_water_bill(10000)` should return `60.0`.\n",
    "- Someone who uses 25,000 gallons of water in a month is placed in Tier 3, and needs to pay a water bill of \\\\$7 * 25 = \\\\$175.  In other words, `get_water_bill(25000)` should return `175.0`.\n",
    "\n",
    "**Do not round your answer.**  So, your answer might return fractions of a penny."
   ]
  },
  {
   "cell_type": "code",
   "execution_count": 6,
   "id": "7df36830",
   "metadata": {
    "execution": {
     "iopub.execute_input": "2023-02-12T15:28:06.013900Z",
     "iopub.status.busy": "2023-02-12T15:28:06.013508Z",
     "iopub.status.idle": "2023-02-12T15:28:06.023681Z",
     "shell.execute_reply": "2023-02-12T15:28:06.022876Z"
    },
    "papermill": {
     "duration": 0.020874,
     "end_time": "2023-02-12T15:28:06.025799",
     "exception": false,
     "start_time": "2023-02-12T15:28:06.004925",
     "status": "completed"
    },
    "tags": []
   },
   "outputs": [
    {
     "data": {
      "application/javascript": [
       "parent.postMessage({\"jupyterEvent\": \"custom.exercise_interaction\", \"data\": {\"outcomeType\": 1, \"valueTowardsCompletion\": 0.2, \"interactionType\": 1, \"questionType\": 2, \"questionId\": \"3_GetWaterBill\", \"learnToolsVersion\": \"0.3.4\", \"failureMessage\": \"\", \"exceptionClass\": \"\", \"trace\": \"\"}}, \"*\")"
      ],
      "text/plain": [
       "<IPython.core.display.Javascript object>"
      ]
     },
     "metadata": {},
     "output_type": "display_data"
    },
    {
     "data": {
      "text/markdown": [
       "<span style=\"color:#33cc33\">Correct</span>"
      ],
      "text/plain": [
       "Correct"
      ]
     },
     "metadata": {},
     "output_type": "display_data"
    }
   ],
   "source": [
    "# TODO: Edit the function to return the correct bill for different\n",
    "# values of num_gallons\n",
    "def get_water_bill(num_gallons):\n",
    "    bill = 0\n",
    "    if num_gallons <= 8000:\n",
    "        bill = 5 * (num_gallons / 1000)\n",
    "    elif num_gallons <= 22000:\n",
    "        bill = 6 * (num_gallons / 1000)\n",
    "    elif num_gallons <= 30000:\n",
    "        bill = 7 * (num_gallons / 1000)\n",
    "    else:\n",
    "        bill = 10 * (num_gallons / 1000)\n",
    "    return bill\n",
    "\n",
    "# Check your answer\n",
    "q3.check()"
   ]
  },
  {
   "cell_type": "code",
   "execution_count": 7,
   "id": "5bf8a839",
   "metadata": {
    "execution": {
     "iopub.execute_input": "2023-02-12T15:28:06.043291Z",
     "iopub.status.busy": "2023-02-12T15:28:06.042909Z",
     "iopub.status.idle": "2023-02-12T15:28:06.046433Z",
     "shell.execute_reply": "2023-02-12T15:28:06.045684Z"
    },
    "papermill": {
     "duration": 0.014879,
     "end_time": "2023-02-12T15:28:06.048486",
     "exception": false,
     "start_time": "2023-02-12T15:28:06.033607",
     "status": "completed"
    },
    "tags": []
   },
   "outputs": [],
   "source": [
    "# Uncomment to see a hint\n",
    "# q3.hint()\n",
    "\n",
    "# Uncomment to see the solution\n",
    "#q3.solution()"
   ]
  },
  {
   "cell_type": "markdown",
   "id": "16bed598",
   "metadata": {
    "papermill": {
     "duration": 0.007144,
     "end_time": "2023-02-12T15:28:06.063104",
     "exception": false,
     "start_time": "2023-02-12T15:28:06.055960",
     "status": "completed"
    },
    "tags": []
   },
   "source": [
    "# Question 4\n",
    "\n",
    "You work for a company that provides data services.  For \\\\$100/month, your company provides 15 gigabytes (GB) of data.  Then, any additional data is billed at \\\\$0.10/MB (or \\\\$100/GB, since 1,000 MB are in 1 GB).\n",
    "\n",
    "Use the next code cell to write a function `get_phone_bill()` that takes as input:\n",
    "- `gb` = number of GB that the customer used in a month\n",
    "\n",
    "It should return the customer's total phone bill.\n",
    "\n",
    "For instance:\n",
    "- A customer who uses 10 GB of data in one month is billed only \\\\$100, since the usage stayed under 15 GB.  In other words, `get_phone_bill(10)` should return `100`.\n",
    "- A customer who uses 15.1 GB (or 15 GB + 100 MB) of data in one month has gone over by .1 GB, so they must pay \\\\$100 (cost of plan), plus \\\\$0.10 * 100 = \\\\$10, for a total bill of \\\\$110.  In other words, `get_phone_bill(15.1)` should return `110`.\n",
    "\n",
    "Do not round your answer."
   ]
  },
  {
   "cell_type": "code",
   "execution_count": 8,
   "id": "af970f1f",
   "metadata": {
    "execution": {
     "iopub.execute_input": "2023-02-12T15:28:06.080230Z",
     "iopub.status.busy": "2023-02-12T15:28:06.079584Z",
     "iopub.status.idle": "2023-02-12T15:28:06.087860Z",
     "shell.execute_reply": "2023-02-12T15:28:06.087069Z"
    },
    "papermill": {
     "duration": 0.019265,
     "end_time": "2023-02-12T15:28:06.089864",
     "exception": false,
     "start_time": "2023-02-12T15:28:06.070599",
     "status": "completed"
    },
    "tags": []
   },
   "outputs": [
    {
     "data": {
      "application/javascript": [
       "parent.postMessage({\"jupyterEvent\": \"custom.exercise_interaction\", \"data\": {\"outcomeType\": 1, \"valueTowardsCompletion\": 0.2, \"interactionType\": 1, \"questionType\": 2, \"questionId\": \"4_GetPhoneBill\", \"learnToolsVersion\": \"0.3.4\", \"failureMessage\": \"\", \"exceptionClass\": \"\", \"trace\": \"\"}}, \"*\")"
      ],
      "text/plain": [
       "<IPython.core.display.Javascript object>"
      ]
     },
     "metadata": {},
     "output_type": "display_data"
    },
    {
     "data": {
      "text/markdown": [
       "<span style=\"color:#33cc33\">Correct</span>"
      ],
      "text/plain": [
       "Correct"
      ]
     },
     "metadata": {},
     "output_type": "display_data"
    }
   ],
   "source": [
    "# TODO: Edit the function to return the correct bill for different\n",
    "# values of GB\n",
    "def get_phone_bill(gb):\n",
    "    bill = 0\n",
    "    if gb <= 15:\n",
    "        bill = 100\n",
    "    else:\n",
    "        bill = 100 + (gb - 15) * 100\n",
    "    return bill\n",
    "\n",
    "# Check your answer\n",
    "q4.check()"
   ]
  },
  {
   "cell_type": "code",
   "execution_count": 9,
   "id": "2c6fbeac",
   "metadata": {
    "execution": {
     "iopub.execute_input": "2023-02-12T15:28:06.107596Z",
     "iopub.status.busy": "2023-02-12T15:28:06.106833Z",
     "iopub.status.idle": "2023-02-12T15:28:06.111122Z",
     "shell.execute_reply": "2023-02-12T15:28:06.110226Z"
    },
    "papermill": {
     "duration": 0.015771,
     "end_time": "2023-02-12T15:28:06.113283",
     "exception": false,
     "start_time": "2023-02-12T15:28:06.097512",
     "status": "completed"
    },
    "tags": []
   },
   "outputs": [],
   "source": [
    "# Uncomment to see a hint\n",
    "# q4.hint()\n",
    "\n",
    "# Uncomment to see the solution\n",
    "#q4.solution()"
   ]
  },
  {
   "cell_type": "markdown",
   "id": "5edeb04b",
   "metadata": {
    "papermill": {
     "duration": 0.007459,
     "end_time": "2023-02-12T15:28:06.130082",
     "exception": false,
     "start_time": "2023-02-12T15:28:06.122623",
     "status": "completed"
    },
    "tags": []
   },
   "source": [
    "# 🌶️ Question 5\n",
    "\n",
    "In Mexico, foods and beverages that are high in saturated fat, trans fat, sugar, sodium, and/or calories appear with warning labels that are designed to help consumers make healthy food choices.\n",
    "\n",
    "For instance, the [box of cookies](https://world.openfoodfacts.org/product/7501000673209/florentinas-gamesa) in the image below appears with two labels (in the upper right corner):\n",
    "- EXCESO CALORÍAS (in English, EXCESS CALORIES)\n",
    "- EXCESO AZÚCARES (in English, EXCESS SUGAR)\n",
    "\n",
    "<center><img src=\"https://i.imgur.com/VXYKHnM.png\" alt=\"drawing\" width=\"500\"/></center>\n",
    "\n",
    "In this question, you'll work with a function `get_labels()` that takes the nutritional details about a food item and prints the needed warning labels.  This function takes several inputs:\n",
    "- `food_type` = one of `\"solid\"` or `\"liquid\"`\n",
    "- `serving_size` = size of one serving (if solid, in grams; if liquid, in milliliters)\n",
    "- `calories_per_serving` = calories in one serving\n",
    "- `saturated_fat_g` = grams of saturated fat in one serving\n",
    "- `trans_fat_g` = grams of trans fat in one serving\n",
    "- `sodium_mg` = mg of sodium in one serving\n",
    "- `sugars_g` = grams of sugar in one serving\n",
    "\n",
    "Note that some of the code here should feel unfamiliar to you, since we have not shared the details of how some of the functions like `excess_sugar()` or `excess_saturated_fat()` work.  But at a high level, these are functions that return a value of `True` if the food is deemed to have an excess of sugar or saturated fat, respectively.  These functions are used within the `get_labels()` function, and whenever there is an excess (of sugar or saturated fat, but also of trans fat, sodium, or calories), it prints the corresponding label."
   ]
  },
  {
   "cell_type": "code",
   "execution_count": 10,
   "id": "5a2fb716",
   "metadata": {
    "execution": {
     "iopub.execute_input": "2023-02-12T15:28:06.147686Z",
     "iopub.status.busy": "2023-02-12T15:28:06.147191Z",
     "iopub.status.idle": "2023-02-12T15:28:06.156244Z",
     "shell.execute_reply": "2023-02-12T15:28:06.155450Z"
    },
    "papermill": {
     "duration": 0.020783,
     "end_time": "2023-02-12T15:28:06.158720",
     "exception": false,
     "start_time": "2023-02-12T15:28:06.137937",
     "status": "completed"
    },
    "tags": []
   },
   "outputs": [],
   "source": [
    "# import functions needed to make get_labels work\n",
    "from learntools.intro_to_programming.ex4q5 import excess_sugar, excess_saturated_fat, excess_trans_fat, excess_sodium, excess_calories\n",
    "\n",
    "def get_labels(food_type, serving_size, calories_per_serving, saturated_fat_g, trans_fat_g, sodium_mg, sugars_g):\n",
    "    # Print messages based on findings\n",
    "    if excess_sugar(sugars_g, calories_per_serving) == True:\n",
    "        print(\"EXCESO AZÚCARES / EXCESS SUGAR\")\n",
    "    if excess_saturated_fat(saturated_fat_g, calories_per_serving) == True:\n",
    "        print(\"EXCESO GRASAS SATURADAS / EXCESS SATURATED FAT\")\n",
    "    if excess_trans_fat(trans_fat_g, calories_per_serving) == True:\n",
    "        print(\"EXCESO GRASAS TRANS / EXCESS TRANS FAT\")\n",
    "    if excess_sodium(calories_per_serving, sodium_mg) == True:\n",
    "        print(\"EXCESO SODIO / EXCESS SODIUM\")\n",
    "    if excess_calories(food_type, calories_per_serving, serving_size) == True:\n",
    "        print(\"EXCESO CALORÍAS / EXCESS CALORIES\")"
   ]
  },
  {
   "cell_type": "markdown",
   "id": "6f706229",
   "metadata": {
    "papermill": {
     "duration": 0.007356,
     "end_time": "2023-02-12T15:28:06.173851",
     "exception": false,
     "start_time": "2023-02-12T15:28:06.166495",
     "status": "completed"
    },
    "tags": []
   },
   "source": [
    "The next code cell demonstrates how to use `get_labels()` to get the warning labels that the food item should contain.  We begin with [bologna](https://world.openfoodfacts.org/product/4099100179378/bologna).  Here is [an image](https://imgur.com/Cfcx72e) with all of the nutritional information.  Note that for this food,\n",
    "- `food_type = \"solid\"` (because bologna is a solid and not a liquid)\n",
    "- `serving_size = 32` (the serving size is 32 grams)\n",
    "- `calories_per_serving = 110` (there are 110 calories per serving)\n",
    "- `saturated_fat_g = 2.5` (there are 2.5 grams of saturated fat per serving)\n",
    "- `trans_fat_g = 0` (there are 0 grams of trans fat per serving)\n",
    "- `sodium_mg = 400` (there are 400 mg of sodium per serving)\n",
    "- `sugars_g = 1` (the nutrition facts say <1g, but we will round it up to 1 gram per serving to be safe)\n",
    "\n",
    "By supplying all of these values to the function, we can print the warning labels."
   ]
  },
  {
   "cell_type": "code",
   "execution_count": 11,
   "id": "55270781",
   "metadata": {
    "execution": {
     "iopub.execute_input": "2023-02-12T15:28:06.191600Z",
     "iopub.status.busy": "2023-02-12T15:28:06.190864Z",
     "iopub.status.idle": "2023-02-12T15:28:06.196470Z",
     "shell.execute_reply": "2023-02-12T15:28:06.195244Z"
    },
    "papermill": {
     "duration": 0.01796,
     "end_time": "2023-02-12T15:28:06.199506",
     "exception": false,
     "start_time": "2023-02-12T15:28:06.181546",
     "status": "completed"
    },
    "tags": []
   },
   "outputs": [
    {
     "name": "stdout",
     "output_type": "stream",
     "text": [
      "EXCESO GRASAS SATURADAS / EXCESS SATURATED FAT\n",
      "EXCESO SODIO / EXCESS SODIUM\n",
      "EXCESO CALORÍAS / EXCESS CALORIES\n"
     ]
    }
   ],
   "source": [
    "# bologna https://world.openfoodfacts.org/product/4099100179378/bologna\n",
    "get_labels(\"solid\", 32, 110, 2.5, 0, 400, 1)"
   ]
  },
  {
   "cell_type": "markdown",
   "id": "de80bcf9",
   "metadata": {
    "papermill": {
     "duration": 0.00756,
     "end_time": "2023-02-12T15:28:06.215551",
     "exception": false,
     "start_time": "2023-02-12T15:28:06.207991",
     "status": "completed"
    },
    "tags": []
   },
   "source": [
    "This bologna has three labels, printed in the output above.\n",
    "\n",
    "For the rest of this question, you will use the same `get_labels()` function to determine the labels for more foods.  This question is designed to help you get practice with feeling comfortable with code that other people have written, and where you don't have time to review every single line of code before interacting with it.  For instance, when you take the [Intro to Machine Learning course](http://www.kaggle.com/learn/intro-to-machine-learning), you'll work with a Python package called \"scikit-learn\", which is a large collection of code that you'll learn how to run without reviewing all of the code in detail (as it would take too long, and you can trust that it was implemented correctly).\n",
    "\n",
    "In general, as you continue coding in Python, you will often be running code that other people have written.  This is common practice for advanced programmers.\n",
    "\n",
    "In the next code cell, fill in the values for [this cereal](https://world.openfoodfacts.org/product/7501008023624/zucaritas-kellogg-s).  Here is [an image](https://imgur.com/a/MUxzHVU) with all of the nutritional information.\n",
    "\n",
    "**Note**: running the line of code below as-is will return an error.  You have to fill in the nutritional values first."
   ]
  },
  {
   "cell_type": "code",
   "execution_count": 12,
   "id": "55f13c10",
   "metadata": {
    "execution": {
     "iopub.execute_input": "2023-02-12T15:28:06.233470Z",
     "iopub.status.busy": "2023-02-12T15:28:06.232613Z",
     "iopub.status.idle": "2023-02-12T15:28:06.239244Z",
     "shell.execute_reply": "2023-02-12T15:28:06.237663Z"
    },
    "papermill": {
     "duration": 0.018775,
     "end_time": "2023-02-12T15:28:06.242093",
     "exception": false,
     "start_time": "2023-02-12T15:28:06.223318",
     "status": "completed"
    },
    "tags": []
   },
   "outputs": [
    {
     "name": "stdout",
     "output_type": "stream",
     "text": [
      "EXCESO GRASAS SATURADAS / EXCESS SATURATED FAT\n",
      "EXCESO SODIO / EXCESS SODIUM\n",
      "EXCESO CALORÍAS / EXCESS CALORIES\n"
     ]
    }
   ],
   "source": [
    "# zucaritas cereal https://world.openfoodfacts.org/product/7501008023624/zucaritas-kellogg-s\n",
    "# TODO: Uncomment the line below, fill in the values, and run the function\n",
    "get_labels('solid',32, 110, 2.5, 0, 400, 1)"
   ]
  },
  {
   "cell_type": "markdown",
   "id": "7d0788fa",
   "metadata": {
    "papermill": {
     "duration": 0.008161,
     "end_time": "2023-02-12T15:28:06.258487",
     "exception": false,
     "start_time": "2023-02-12T15:28:06.250326",
     "status": "completed"
    },
    "tags": []
   },
   "source": [
    "Next, try [these mozzarella sticks](https://world-es.openfoodfacts.org/producto/0062325540104/mozzarella-cheese-sticks).  Here is [an image](https://imgur.com/rcdB7VH) with all of the nutritional information."
   ]
  },
  {
   "cell_type": "code",
   "execution_count": 13,
   "id": "873da648",
   "metadata": {
    "execution": {
     "iopub.execute_input": "2023-02-12T15:28:06.277481Z",
     "iopub.status.busy": "2023-02-12T15:28:06.276285Z",
     "iopub.status.idle": "2023-02-12T15:28:06.282811Z",
     "shell.execute_reply": "2023-02-12T15:28:06.281484Z"
    },
    "papermill": {
     "duration": 0.019623,
     "end_time": "2023-02-12T15:28:06.286166",
     "exception": false,
     "start_time": "2023-02-12T15:28:06.266543",
     "status": "completed"
    },
    "tags": []
   },
   "outputs": [
    {
     "name": "stdout",
     "output_type": "stream",
     "text": [
      "EXCESO GRASAS SATURADAS / EXCESS SATURATED FAT\n",
      "EXCESO SODIO / EXCESS SODIUM\n",
      "EXCESO CALORÍAS / EXCESS CALORIES\n"
     ]
    }
   ],
   "source": [
    "# mozzarella sticks https://world-es.openfoodfacts.org/producto/0062325540104/mozzarella-cheese-sticks\n",
    "# TODO: Uncomment the line below, fill in the values, and run the function\n",
    "#get_labels()\n",
    "get_labels('solid',32, 110, 2.5, 0, 400, 1)"
   ]
  },
  {
   "cell_type": "markdown",
   "id": "aca04cd6",
   "metadata": {
    "papermill": {
     "duration": 0.007625,
     "end_time": "2023-02-12T15:28:06.302213",
     "exception": false,
     "start_time": "2023-02-12T15:28:06.294588",
     "status": "completed"
    },
    "tags": []
   },
   "source": [
    "Feel free to skip to the end of the notebook now and run `q5.check()` to complete the exercise.  If you want to try more foods, \n",
    "- try [these cookies](https://world.openfoodfacts.org/product/0069700118545/biscuits-au-sucre-pretraches).  Here is [an image](https://imgur.com/2Bc271o) with all of the nutritional information.\n",
    "- try [this soda](https://world-es.openfoodfacts.org/producto/0078000113464/orange-soda-sunkist).  Here is [an image](https://imgur.com/RsBYa8E) with all of the nutritional information.\n",
    "\n",
    "Use the two code cells below for this."
   ]
  },
  {
   "cell_type": "code",
   "execution_count": 14,
   "id": "bbe71eb6",
   "metadata": {
    "execution": {
     "iopub.execute_input": "2023-02-12T15:28:06.320959Z",
     "iopub.status.busy": "2023-02-12T15:28:06.319740Z",
     "iopub.status.idle": "2023-02-12T15:28:06.326532Z",
     "shell.execute_reply": "2023-02-12T15:28:06.325064Z"
    },
    "papermill": {
     "duration": 0.018459,
     "end_time": "2023-02-12T15:28:06.328785",
     "exception": false,
     "start_time": "2023-02-12T15:28:06.310326",
     "status": "completed"
    },
    "tags": []
   },
   "outputs": [
    {
     "name": "stdout",
     "output_type": "stream",
     "text": [
      "EXCESO GRASAS SATURADAS / EXCESS SATURATED FAT\n",
      "EXCESO SODIO / EXCESS SODIUM\n",
      "EXCESO CALORÍAS / EXCESS CALORIES\n"
     ]
    }
   ],
   "source": [
    "# pillsbury cookies https://world.openfoodfacts.org/product/0069700118545/biscuits-au-sucre-pretraches\n",
    "# TODO: Uncomment the line below, fill in the values, and run the function\n",
    "#get_labels()\n",
    "get_labels('solid',32, 110, 2.5, 0, 400, 1)"
   ]
  },
  {
   "cell_type": "code",
   "execution_count": 15,
   "id": "d8cceba8",
   "metadata": {
    "execution": {
     "iopub.execute_input": "2023-02-12T15:28:06.346690Z",
     "iopub.status.busy": "2023-02-12T15:28:06.346245Z",
     "iopub.status.idle": "2023-02-12T15:28:06.352866Z",
     "shell.execute_reply": "2023-02-12T15:28:06.351611Z"
    },
    "papermill": {
     "duration": 0.019637,
     "end_time": "2023-02-12T15:28:06.356383",
     "exception": false,
     "start_time": "2023-02-12T15:28:06.336746",
     "status": "completed"
    },
    "tags": []
   },
   "outputs": [
    {
     "name": "stdout",
     "output_type": "stream",
     "text": [
      "EXCESO GRASAS SATURADAS / EXCESS SATURATED FAT\n",
      "EXCESO SODIO / EXCESS SODIUM\n",
      "EXCESO CALORÍAS / EXCESS CALORIES\n"
     ]
    }
   ],
   "source": [
    "# sunkist orange soda https://world-es.openfoodfacts.org/producto/0078000113464/orange-soda-sunkist\n",
    "# TODO: Uncomment the line below, fill in the values, and run the function\n",
    "#get_labels()\n",
    "get_labels('solid',32, 110, 2.5, 0, 400, 1)"
   ]
  },
  {
   "cell_type": "markdown",
   "id": "da2f0431",
   "metadata": {
    "papermill": {
     "duration": 0.007851,
     "end_time": "2023-02-12T15:28:06.372740",
     "exception": false,
     "start_time": "2023-02-12T15:28:06.364889",
     "status": "completed"
    },
    "tags": []
   },
   "source": [
    "Once you have finished investigating the food items in this question, run the final code cell to get credit for completing this problem."
   ]
  },
  {
   "cell_type": "code",
   "execution_count": 16,
   "id": "c1cf05c1",
   "metadata": {
    "execution": {
     "iopub.execute_input": "2023-02-12T15:28:06.390287Z",
     "iopub.status.busy": "2023-02-12T15:28:06.389892Z",
     "iopub.status.idle": "2023-02-12T15:28:06.399556Z",
     "shell.execute_reply": "2023-02-12T15:28:06.398458Z"
    },
    "papermill": {
     "duration": 0.021248,
     "end_time": "2023-02-12T15:28:06.401919",
     "exception": false,
     "start_time": "2023-02-12T15:28:06.380671",
     "status": "completed"
    },
    "tags": []
   },
   "outputs": [
    {
     "data": {
      "application/javascript": [
       "parent.postMessage({\"jupyterEvent\": \"custom.exercise_interaction\", \"data\": {\"outcomeType\": 1, \"valueTowardsCompletion\": 0.2, \"interactionType\": 1, \"questionType\": 2, \"questionId\": \"5_GetLabels\", \"learnToolsVersion\": \"0.3.4\", \"failureMessage\": \"\", \"exceptionClass\": \"\", \"trace\": \"\"}}, \"*\")"
      ],
      "text/plain": [
       "<IPython.core.display.Javascript object>"
      ]
     },
     "metadata": {},
     "output_type": "display_data"
    },
    {
     "data": {
      "text/markdown": [
       "<span style=\"color:#33cc33\">Once you have determined the labels for all of the food items, you're ready to move on to the next lesson!</span>"
      ],
      "text/plain": [
       "Once you have determined the labels for all of the food items, you're ready to move on to the next lesson!"
      ]
     },
     "metadata": {},
     "output_type": "display_data"
    }
   ],
   "source": [
    "# Get credit for completing the problem\n",
    "q5.check()"
   ]
  },
  {
   "cell_type": "markdown",
   "id": "e477168b",
   "metadata": {
    "papermill": {
     "duration": 0.007976,
     "end_time": "2023-02-12T15:28:06.418147",
     "exception": false,
     "start_time": "2023-02-12T15:28:06.410171",
     "status": "completed"
    },
    "tags": []
   },
   "source": [
    "# Keep going\n",
    "\n",
    "Continue to the next lesson to **[learn about Python lists](https://www.kaggle.com/alexisbcook/intro-to-lists)**."
   ]
  },
  {
   "cell_type": "markdown",
   "id": "7ec3ab96",
   "metadata": {
    "papermill": {
     "duration": 0.007735,
     "end_time": "2023-02-12T15:28:06.434023",
     "exception": false,
     "start_time": "2023-02-12T15:28:06.426288",
     "status": "completed"
    },
    "tags": []
   },
   "source": [
    "---\n",
    "\n",
    "\n",
    "\n",
    "\n",
    "*Have questions or comments? Visit the [course discussion forum](https://www.kaggle.com/learn/intro-to-programming/discussion) to chat with other learners.*"
   ]
  }
 ],
 "metadata": {
  "kernelspec": {
   "display_name": "Python 3",
   "language": "python",
   "name": "python3"
  },
  "language_info": {
   "codemirror_mode": {
    "name": "ipython",
    "version": 3
   },
   "file_extension": ".py",
   "mimetype": "text/x-python",
   "name": "python",
   "nbconvert_exporter": "python",
   "pygments_lexer": "ipython3",
   "version": "3.7.12"
  },
  "papermill": {
   "default_parameters": {},
   "duration": 9.711862,
   "end_time": "2023-02-12T15:28:07.064633",
   "environment_variables": {},
   "exception": null,
   "input_path": "__notebook__.ipynb",
   "output_path": "__notebook__.ipynb",
   "parameters": {},
   "start_time": "2023-02-12T15:27:57.352771",
   "version": "2.3.4"
  }
 },
 "nbformat": 4,
 "nbformat_minor": 5
}
