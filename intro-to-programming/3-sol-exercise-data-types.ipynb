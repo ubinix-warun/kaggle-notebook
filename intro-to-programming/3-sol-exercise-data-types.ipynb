{
 "cells": [
  {
   "cell_type": "markdown",
   "id": "14b0044a",
   "metadata": {
    "papermill": {
     "duration": 0.008413,
     "end_time": "2023-02-12T14:45:07.131684",
     "exception": false,
     "start_time": "2023-02-12T14:45:07.123271",
     "status": "completed"
    },
    "tags": []
   },
   "source": [
    "**This notebook is an exercise in the [Intro to Programming](https://www.kaggle.com/learn/intro-to-programming) course.  You can reference the tutorial at [this link](https://www.kaggle.com/alexisbcook/data-types).**\n",
    "\n",
    "---\n"
   ]
  },
  {
   "cell_type": "markdown",
   "id": "0219271c",
   "metadata": {
    "papermill": {
     "duration": 0.006416,
     "end_time": "2023-02-12T14:45:07.145996",
     "exception": false,
     "start_time": "2023-02-12T14:45:07.139580",
     "status": "completed"
    },
    "tags": []
   },
   "source": [
    "In the tutorial, you learned about four different data types: floats, integers, strings, and booleans.  In this exercise, you'll experiment with them.\n",
    "\n",
    "# Set up the notebook\n",
    "\n",
    "Run the next code cell without changes to set up the notebook."
   ]
  },
  {
   "cell_type": "code",
   "execution_count": 1,
   "id": "a6a42d74",
   "metadata": {
    "execution": {
     "iopub.execute_input": "2023-02-12T14:45:07.162236Z",
     "iopub.status.busy": "2023-02-12T14:45:07.161646Z",
     "iopub.status.idle": "2023-02-12T14:45:07.234390Z",
     "shell.execute_reply": "2023-02-12T14:45:07.232673Z"
    },
    "papermill": {
     "duration": 0.085964,
     "end_time": "2023-02-12T14:45:07.238673",
     "exception": false,
     "start_time": "2023-02-12T14:45:07.152709",
     "status": "completed"
    },
    "tags": []
   },
   "outputs": [
    {
     "name": "stdout",
     "output_type": "stream",
     "text": [
      "Setup complete.\n"
     ]
    }
   ],
   "source": [
    "# Set up the exercise\n",
    "from learntools.core import binder\n",
    "binder.bind(globals())\n",
    "from learntools.intro_to_programming.ex3 import *\n",
    "print('Setup complete.')"
   ]
  },
  {
   "cell_type": "markdown",
   "id": "8143b4d5",
   "metadata": {
    "papermill": {
     "duration": 0.006751,
     "end_time": "2023-02-12T14:45:07.253008",
     "exception": false,
     "start_time": "2023-02-12T14:45:07.246257",
     "status": "completed"
    },
    "tags": []
   },
   "source": [
    "# Question 1\n",
    "\n",
    "You have seen how to convert a float to an integer with the `int` function.  Try this out yourself by running the code cell below."
   ]
  },
  {
   "cell_type": "code",
   "execution_count": 2,
   "id": "60f534b6",
   "metadata": {
    "execution": {
     "iopub.execute_input": "2023-02-12T14:45:07.269254Z",
     "iopub.status.busy": "2023-02-12T14:45:07.268769Z",
     "iopub.status.idle": "2023-02-12T14:45:07.276808Z",
     "shell.execute_reply": "2023-02-12T14:45:07.275389Z"
    },
    "papermill": {
     "duration": 0.019057,
     "end_time": "2023-02-12T14:45:07.279284",
     "exception": false,
     "start_time": "2023-02-12T14:45:07.260227",
     "status": "completed"
    },
    "tags": []
   },
   "outputs": [
    {
     "name": "stdout",
     "output_type": "stream",
     "text": [
      "1.0\n",
      "<class 'float'>\n",
      "1\n",
      "<class 'int'>\n"
     ]
    }
   ],
   "source": [
    "# Define a float\n",
    "y = 1.\n",
    "print(y)\n",
    "print(type(y))\n",
    "\n",
    "# Convert float to integer with the int function\n",
    "z = int(y)\n",
    "print(z)\n",
    "print(type(z))"
   ]
  },
  {
   "cell_type": "markdown",
   "id": "e8c62a2b",
   "metadata": {
    "papermill": {
     "duration": 0.006716,
     "end_time": "2023-02-12T14:45:07.293577",
     "exception": false,
     "start_time": "2023-02-12T14:45:07.286861",
     "status": "completed"
    },
    "tags": []
   },
   "source": [
    "In this case, the float you are using has no numbers after the decimal.  \n",
    "- But what happens when you try to convert a float with a fractional part to an integer?  \n",
    "- How does the outcome of the `int` function change for positive and negative numbers?\n",
    "\n",
    "Use the next code cell to investigate and answer these questions.  Feel free to add or remove any lines of code -- it is your workspace!"
   ]
  },
  {
   "cell_type": "code",
   "execution_count": 3,
   "id": "88122c41",
   "metadata": {
    "execution": {
     "iopub.execute_input": "2023-02-12T14:45:07.310782Z",
     "iopub.status.busy": "2023-02-12T14:45:07.309239Z",
     "iopub.status.idle": "2023-02-12T14:45:07.317853Z",
     "shell.execute_reply": "2023-02-12T14:45:07.315961Z"
    },
    "papermill": {
     "duration": 0.019947,
     "end_time": "2023-02-12T14:45:07.320616",
     "exception": false,
     "start_time": "2023-02-12T14:45:07.300669",
     "status": "completed"
    },
    "tags": []
   },
   "outputs": [
    {
     "name": "stdout",
     "output_type": "stream",
     "text": [
      "1\n",
      "1\n",
      "-3\n",
      "-2\n"
     ]
    }
   ],
   "source": [
    "# Uncomment and run this code to get started!\n",
    "print(int(1.2321))\n",
    "print(int(1.747))\n",
    "print(int(-3.94535))\n",
    "print(int(-2.19774))"
   ]
  },
  {
   "cell_type": "markdown",
   "id": "984d555d",
   "metadata": {
    "papermill": {
     "duration": 0.006885,
     "end_time": "2023-02-12T14:45:07.335201",
     "exception": false,
     "start_time": "2023-02-12T14:45:07.328316",
     "status": "completed"
    },
    "tags": []
   },
   "source": [
    "Once you have an answer, run the code cell below to see the solution.  Viewing the solution will give you credit for answering the problem."
   ]
  },
  {
   "cell_type": "code",
   "execution_count": 4,
   "id": "1abb0b39",
   "metadata": {
    "execution": {
     "iopub.execute_input": "2023-02-12T14:45:07.352350Z",
     "iopub.status.busy": "2023-02-12T14:45:07.351049Z",
     "iopub.status.idle": "2023-02-12T14:45:07.365189Z",
     "shell.execute_reply": "2023-02-12T14:45:07.363827Z"
    },
    "papermill": {
     "duration": 0.025989,
     "end_time": "2023-02-12T14:45:07.368360",
     "exception": false,
     "start_time": "2023-02-12T14:45:07.342371",
     "status": "completed"
    },
    "tags": []
   },
   "outputs": [
    {
     "data": {
      "application/javascript": [
       "parent.postMessage({\"jupyterEvent\": \"custom.exercise_interaction\", \"data\": {\"outcomeType\": 1, \"valueTowardsCompletion\": 0.2, \"interactionType\": 1, \"questionType\": 4, \"questionId\": \"1_FloatToInt\", \"learnToolsVersion\": \"0.3.4\", \"failureMessage\": \"\", \"exceptionClass\": \"\", \"trace\": \"\"}}, \"*\")"
      ],
      "text/plain": [
       "<IPython.core.display.Javascript object>"
      ]
     },
     "metadata": {},
     "output_type": "display_data"
    },
    {
     "data": {
      "text/markdown": [
       "<span style=\"color:#33cc33\">Correct:</span> \n",
       "\n",
       "Negative floats are always rounded UP to the closest integer (for instance, both -1.1 and -1.9 are rounded up to -1). Positive floats are always rounded DOWN to the closest integer (for instance, 2.1 and 2.9 are rounded down to 2)."
      ],
      "text/plain": [
       "Correct: \n",
       "\n",
       "Negative floats are always rounded UP to the closest integer (for instance, both -1.1 and -1.9 are rounded up to -1). Positive floats are always rounded DOWN to the closest integer (for instance, 2.1 and 2.9 are rounded down to 2)."
      ]
     },
     "metadata": {},
     "output_type": "display_data"
    }
   ],
   "source": [
    "# Check your answer (Run this code cell to receive credit!)\n",
    "q1.check()"
   ]
  },
  {
   "cell_type": "markdown",
   "id": "57615e90",
   "metadata": {
    "papermill": {
     "duration": 0.007369,
     "end_time": "2023-02-12T14:45:07.383284",
     "exception": false,
     "start_time": "2023-02-12T14:45:07.375915",
     "status": "completed"
    },
    "tags": []
   },
   "source": [
    "# Question 2\n",
    "\n",
    "In the tutorial, you learned about booleans (which can take a value of `True` or `False`), in addition to integers, floats, and strings.  For this question, your goal is to determine what happens when you multiply a boolean by any of these data types.  Specifically, \n",
    "- What happens when you multiply an integer or float by `True`?  What happens when you multiply them by `False`?  How does the answer change if the numbers are positive or negative?\n",
    "- What happens when you multiply a string by `True`?  By `False`?\n",
    "\n",
    "Use the next code cell for your investigation. "
   ]
  },
  {
   "cell_type": "code",
   "execution_count": 5,
   "id": "8f0c6dec",
   "metadata": {
    "execution": {
     "iopub.execute_input": "2023-02-12T14:45:07.400434Z",
     "iopub.status.busy": "2023-02-12T14:45:07.399893Z",
     "iopub.status.idle": "2023-02-12T14:45:07.407063Z",
     "shell.execute_reply": "2023-02-12T14:45:07.405718Z"
    },
    "papermill": {
     "duration": 0.0192,
     "end_time": "2023-02-12T14:45:07.409932",
     "exception": false,
     "start_time": "2023-02-12T14:45:07.390732",
     "status": "completed"
    },
    "tags": []
   },
   "outputs": [
    {
     "name": "stdout",
     "output_type": "stream",
     "text": [
      "3\n",
      "-3.1\n",
      "<class 'str'>\n",
      "0\n"
     ]
    }
   ],
   "source": [
    "# Uncomment and run this code to get started!\n",
    "print(3 * True)\n",
    "print(-3.1 * True)\n",
    "print(type(\"abc\" * False))\n",
    "print(len(\"abc\" * False))"
   ]
  },
  {
   "cell_type": "markdown",
   "id": "961ada98",
   "metadata": {
    "papermill": {
     "duration": 0.006913,
     "end_time": "2023-02-12T14:45:07.425818",
     "exception": false,
     "start_time": "2023-02-12T14:45:07.418905",
     "status": "completed"
    },
    "tags": []
   },
   "source": [
    "Once you have an answer, run the code cell below to see the solution.  Viewing the solution will give you credit for answering the problem."
   ]
  },
  {
   "cell_type": "code",
   "execution_count": 6,
   "id": "4c1069db",
   "metadata": {
    "execution": {
     "iopub.execute_input": "2023-02-12T14:45:07.443185Z",
     "iopub.status.busy": "2023-02-12T14:45:07.442627Z",
     "iopub.status.idle": "2023-02-12T14:45:07.452701Z",
     "shell.execute_reply": "2023-02-12T14:45:07.451390Z"
    },
    "papermill": {
     "duration": 0.022738,
     "end_time": "2023-02-12T14:45:07.455973",
     "exception": false,
     "start_time": "2023-02-12T14:45:07.433235",
     "status": "completed"
    },
    "tags": []
   },
   "outputs": [
    {
     "data": {
      "application/javascript": [
       "parent.postMessage({\"jupyterEvent\": \"custom.exercise_interaction\", \"data\": {\"outcomeType\": 1, \"valueTowardsCompletion\": 0.2, \"interactionType\": 1, \"questionType\": 4, \"questionId\": \"2_MultiplyBooleans\", \"learnToolsVersion\": \"0.3.4\", \"failureMessage\": \"\", \"exceptionClass\": \"\", \"trace\": \"\"}}, \"*\")"
      ],
      "text/plain": [
       "<IPython.core.display.Javascript object>"
      ]
     },
     "metadata": {},
     "output_type": "display_data"
    },
    {
     "data": {
      "text/markdown": [
       "<span style=\"color:#33cc33\">Correct:</span> \n",
       "\n",
       "When you multiple an integer or float by a boolean with value `True`, it just returns that same integer or float (and is equivalent to multiplying by 1).  If you multiply an integer or float by a boolean with value `False`, it always returns 0.  This is true for both positive and negative numbers.  If you multiply a string by a boolean with value `True`, it just returns that same string.  And if you multiply a string by a boolean with value `False`, it returns an empty string (or a string with length zero)."
      ],
      "text/plain": [
       "Correct: \n",
       "\n",
       "When you multiple an integer or float by a boolean with value `True`, it just returns that same integer or float (and is equivalent to multiplying by 1).  If you multiply an integer or float by a boolean with value `False`, it always returns 0.  This is true for both positive and negative numbers.  If you multiply a string by a boolean with value `True`, it just returns that same string.  And if you multiply a string by a boolean with value `False`, it returns an empty string (or a string with length zero)."
      ]
     },
     "metadata": {},
     "output_type": "display_data"
    }
   ],
   "source": [
    "# Check your answer (Run this code cell to receive credit!)\n",
    "q2.check()"
   ]
  },
  {
   "cell_type": "markdown",
   "id": "45879018",
   "metadata": {
    "papermill": {
     "duration": 0.007625,
     "end_time": "2023-02-12T14:45:07.473781",
     "exception": false,
     "start_time": "2023-02-12T14:45:07.466156",
     "status": "completed"
    },
    "tags": []
   },
   "source": [
    "# Question 3\n",
    "\n",
    "In this question, you will build off your work from the previous exercise to write a function that estimates the value of a house.\n",
    "\n",
    "Use the next code cell to create a function `get_expected_cost` that takes as input three variables:\n",
    "- `beds` - number of bedrooms (data type float)\n",
    "- `baths` - number of bathrooms (data type float)\n",
    "- `has_basement` - whether or not the house has a basement (data type boolean)\n",
    "\n",
    "It should return the expected cost of a house with those characteristics. Assume that:\n",
    "- the expected cost for a house with 0 bedrooms and 0 bathrooms, and no basement is 80000, \n",
    "- each bedroom adds 30000 to the expected cost,\n",
    "- each bathroom adds 10000 to the expected cost, and\n",
    "- a basement adds 40000 to the expected cost.\n",
    "\n",
    "For instance,\n",
    "- a house with 1 bedroom, 1 bathroom, and no basement has an expected cost of 80000 + 30000 + 10000 = 120000.  This value will be calculated with `get_expected_cost(1, 1, False)`.\n",
    "- a house with 2 bedrooms, 1 bathroom, and a basement has an expected cost of 80000 + 2*30000 + 10000 + 40000 = 190000.  This value will be calculated with `get_expected_cost(2, 1, True)`.\n",
    "\n",
    "Remember you can always get a hint by uncommenting `q3.hint()` in the code cell following the next!"
   ]
  },
  {
   "cell_type": "code",
   "execution_count": 7,
   "id": "74fb45da",
   "metadata": {
    "execution": {
     "iopub.execute_input": "2023-02-12T14:45:07.491531Z",
     "iopub.status.busy": "2023-02-12T14:45:07.490972Z",
     "iopub.status.idle": "2023-02-12T14:45:07.503131Z",
     "shell.execute_reply": "2023-02-12T14:45:07.501689Z"
    },
    "papermill": {
     "duration": 0.024129,
     "end_time": "2023-02-12T14:45:07.505734",
     "exception": false,
     "start_time": "2023-02-12T14:45:07.481605",
     "status": "completed"
    },
    "tags": []
   },
   "outputs": [
    {
     "data": {
      "application/javascript": [
       "parent.postMessage({\"jupyterEvent\": \"custom.exercise_interaction\", \"data\": {\"outcomeType\": 1, \"valueTowardsCompletion\": 0.2, \"interactionType\": 1, \"questionType\": 2, \"questionId\": \"3_EstimateHouseValueBool\", \"learnToolsVersion\": \"0.3.4\", \"failureMessage\": \"\", \"exceptionClass\": \"\", \"trace\": \"\"}}, \"*\")"
      ],
      "text/plain": [
       "<IPython.core.display.Javascript object>"
      ]
     },
     "metadata": {},
     "output_type": "display_data"
    },
    {
     "data": {
      "text/markdown": [
       "<span style=\"color:#33cc33\">Correct</span>"
      ],
      "text/plain": [
       "Correct"
      ]
     },
     "metadata": {},
     "output_type": "display_data"
    }
   ],
   "source": [
    "# TODO: Complete the function\n",
    "def get_expected_cost(beds, baths, has_basement):\n",
    "    value = 80000 + 30000 * beds + 10000 * baths\n",
    "    if has_basement == True:\n",
    "        value = value + 40000\n",
    "    return value\n",
    "\n",
    "# Check your answer \n",
    "q3.check()"
   ]
  },
  {
   "cell_type": "code",
   "execution_count": 8,
   "id": "1b8913b0",
   "metadata": {
    "execution": {
     "iopub.execute_input": "2023-02-12T14:45:07.524569Z",
     "iopub.status.busy": "2023-02-12T14:45:07.523864Z",
     "iopub.status.idle": "2023-02-12T14:45:07.529663Z",
     "shell.execute_reply": "2023-02-12T14:45:07.528143Z"
    },
    "papermill": {
     "duration": 0.018912,
     "end_time": "2023-02-12T14:45:07.532731",
     "exception": false,
     "start_time": "2023-02-12T14:45:07.513819",
     "status": "completed"
    },
    "tags": []
   },
   "outputs": [],
   "source": [
    "# Uncomment to see a hint\n",
    "#q3.hint()\n",
    "\n",
    "# Uncomment to view the solution\n",
    "#q3.solution()"
   ]
  },
  {
   "cell_type": "markdown",
   "id": "3cd79c75",
   "metadata": {
    "papermill": {
     "duration": 0.007614,
     "end_time": "2023-02-12T14:45:07.548246",
     "exception": false,
     "start_time": "2023-02-12T14:45:07.540632",
     "status": "completed"
    },
    "tags": []
   },
   "source": [
    "# Question 4\n",
    "\n",
    "We'll continue our study of boolean arithmetic.  For this question, your task is to provide a description of what happpens when you add booleans. \n",
    "\n",
    "Use the next code cell for your investigation.  Feel free to add or remove any lines of code - use it as your workspace!"
   ]
  },
  {
   "cell_type": "code",
   "execution_count": 9,
   "id": "921fe100",
   "metadata": {
    "execution": {
     "iopub.execute_input": "2023-02-12T14:45:07.566672Z",
     "iopub.status.busy": "2023-02-12T14:45:07.566130Z",
     "iopub.status.idle": "2023-02-12T14:45:07.573663Z",
     "shell.execute_reply": "2023-02-12T14:45:07.572283Z"
    },
    "papermill": {
     "duration": 0.020068,
     "end_time": "2023-02-12T14:45:07.576543",
     "exception": false,
     "start_time": "2023-02-12T14:45:07.556475",
     "status": "completed"
    },
    "tags": []
   },
   "outputs": [
    {
     "name": "stdout",
     "output_type": "stream",
     "text": [
      "0\n",
      "1\n",
      "1\n",
      "2\n",
      "3\n"
     ]
    }
   ],
   "source": [
    "print(False + False)\n",
    "print(True + False)\n",
    "print(False + True)\n",
    "print(True + True)\n",
    "print(False + True + True + True)"
   ]
  },
  {
   "cell_type": "markdown",
   "id": "4a65eeb6",
   "metadata": {
    "papermill": {
     "duration": 0.007615,
     "end_time": "2023-02-12T14:45:07.592199",
     "exception": false,
     "start_time": "2023-02-12T14:45:07.584584",
     "status": "completed"
    },
    "tags": []
   },
   "source": [
    "Once you have an answer, run the code cell below to see the solution.  Viewing the solution will give you credit for answering the problem."
   ]
  },
  {
   "cell_type": "code",
   "execution_count": 10,
   "id": "fb9992c3",
   "metadata": {
    "execution": {
     "iopub.execute_input": "2023-02-12T14:45:07.610651Z",
     "iopub.status.busy": "2023-02-12T14:45:07.610107Z",
     "iopub.status.idle": "2023-02-12T14:45:07.620328Z",
     "shell.execute_reply": "2023-02-12T14:45:07.619012Z"
    },
    "papermill": {
     "duration": 0.02235,
     "end_time": "2023-02-12T14:45:07.622823",
     "exception": false,
     "start_time": "2023-02-12T14:45:07.600473",
     "status": "completed"
    },
    "tags": []
   },
   "outputs": [
    {
     "data": {
      "application/javascript": [
       "parent.postMessage({\"jupyterEvent\": \"custom.exercise_interaction\", \"data\": {\"outcomeType\": 1, \"valueTowardsCompletion\": 0.2, \"interactionType\": 1, \"questionType\": 4, \"questionId\": \"4_AddingBooleans\", \"learnToolsVersion\": \"0.3.4\", \"failureMessage\": \"\", \"exceptionClass\": \"\", \"trace\": \"\"}}, \"*\")"
      ],
      "text/plain": [
       "<IPython.core.display.Javascript object>"
      ]
     },
     "metadata": {},
     "output_type": "display_data"
    },
    {
     "data": {
      "text/markdown": [
       "<span style=\"color:#33cc33\">Correct:</span> \n",
       "\n",
       "When you add booleans, adding `False` is equivalent to adding 0, and adding `True` is equivalent to adding 1."
      ],
      "text/plain": [
       "Correct: \n",
       "\n",
       "When you add booleans, adding `False` is equivalent to adding 0, and adding `True` is equivalent to adding 1."
      ]
     },
     "metadata": {},
     "output_type": "display_data"
    }
   ],
   "source": [
    "# Check your answer (Run this code cell to receive credit!)\n",
    "q4.check()"
   ]
  },
  {
   "cell_type": "markdown",
   "id": "c590a311",
   "metadata": {
    "papermill": {
     "duration": 0.007834,
     "end_time": "2023-02-12T14:45:07.638745",
     "exception": false,
     "start_time": "2023-02-12T14:45:07.630911",
     "status": "completed"
    },
    "tags": []
   },
   "source": [
    "# 🌶️ Question 5\n",
    "\n",
    "You own an online shop where you sell rings with custom engravings.  You offer both gold plated and solid gold rings.\n",
    "- Gold plated rings have a base cost of \\\\$50, and you charge \\\\$7 per engraved unit.  \n",
    "- Solid gold rings have a base cost of \\\\$100, and you charge \\\\$10 per engraved unit.\n",
    "- Spaces and punctuation are counted as engraved units.\n",
    "\n",
    "Write a function `cost_of_project()` that takes two arguments:\n",
    "- `engraving` - a Python string with the text of the engraving\n",
    "- `solid_gold` - a Boolean that indicates whether the ring is solid gold\n",
    "\n",
    "It should return the cost of the project.  This question should be fairly challenging, and you may need a hint."
   ]
  },
  {
   "cell_type": "code",
   "execution_count": 11,
   "id": "96cbed95",
   "metadata": {
    "execution": {
     "iopub.execute_input": "2023-02-12T14:45:07.657206Z",
     "iopub.status.busy": "2023-02-12T14:45:07.656596Z",
     "iopub.status.idle": "2023-02-12T14:45:07.667268Z",
     "shell.execute_reply": "2023-02-12T14:45:07.666402Z"
    },
    "papermill": {
     "duration": 0.023009,
     "end_time": "2023-02-12T14:45:07.669756",
     "exception": false,
     "start_time": "2023-02-12T14:45:07.646747",
     "status": "completed"
    },
    "tags": []
   },
   "outputs": [
    {
     "data": {
      "application/javascript": [
       "parent.postMessage({\"jupyterEvent\": \"custom.exercise_interaction\", \"data\": {\"outcomeType\": 1, \"valueTowardsCompletion\": 0.2, \"interactionType\": 1, \"questionType\": 2, \"questionId\": \"5_CustomEngravings\", \"learnToolsVersion\": \"0.3.4\", \"failureMessage\": \"\", \"exceptionClass\": \"\", \"trace\": \"\"}}, \"*\")"
      ],
      "text/plain": [
       "<IPython.core.display.Javascript object>"
      ]
     },
     "metadata": {},
     "output_type": "display_data"
    },
    {
     "data": {
      "text/markdown": [
       "<span style=\"color:#33cc33\">Correct</span>"
      ],
      "text/plain": [
       "Correct"
      ]
     },
     "metadata": {},
     "output_type": "display_data"
    }
   ],
   "source": [
    "def cost_of_project(engraving, solid_gold):\n",
    "    cost = solid_gold * (100 + 10 * len(engraving)) \n",
    "    cost = cost + (not solid_gold) * (50 + 7 * len(engraving))\n",
    "    return cost\n",
    "\n",
    "# Check your answer\n",
    "q5.check()"
   ]
  },
  {
   "cell_type": "code",
   "execution_count": 12,
   "id": "00f39174",
   "metadata": {
    "execution": {
     "iopub.execute_input": "2023-02-12T14:45:07.688697Z",
     "iopub.status.busy": "2023-02-12T14:45:07.688134Z",
     "iopub.status.idle": "2023-02-12T14:45:07.693578Z",
     "shell.execute_reply": "2023-02-12T14:45:07.692083Z"
    },
    "papermill": {
     "duration": 0.018204,
     "end_time": "2023-02-12T14:45:07.696393",
     "exception": false,
     "start_time": "2023-02-12T14:45:07.678189",
     "status": "completed"
    },
    "tags": []
   },
   "outputs": [],
   "source": [
    "# Uncomment to see a hint\n",
    "#q5.hint()\n",
    "\n",
    "# Uncomment to view the solution\n",
    "# q5.solution()"
   ]
  },
  {
   "cell_type": "markdown",
   "id": "7df9a73e",
   "metadata": {
    "papermill": {
     "duration": 0.008501,
     "end_time": "2023-02-12T14:45:07.713427",
     "exception": false,
     "start_time": "2023-02-12T14:45:07.704926",
     "status": "completed"
    },
    "tags": []
   },
   "source": [
    "Run the next code cell to calculate the cost of engraving `Charlie+Denver` on a solid gold ring."
   ]
  },
  {
   "cell_type": "code",
   "execution_count": 13,
   "id": "43941587",
   "metadata": {
    "execution": {
     "iopub.execute_input": "2023-02-12T14:45:07.734101Z",
     "iopub.status.busy": "2023-02-12T14:45:07.732617Z",
     "iopub.status.idle": "2023-02-12T14:45:07.740064Z",
     "shell.execute_reply": "2023-02-12T14:45:07.738767Z"
    },
    "papermill": {
     "duration": 0.020812,
     "end_time": "2023-02-12T14:45:07.743171",
     "exception": false,
     "start_time": "2023-02-12T14:45:07.722359",
     "status": "completed"
    },
    "tags": []
   },
   "outputs": [
    {
     "name": "stdout",
     "output_type": "stream",
     "text": [
      "240\n"
     ]
    }
   ],
   "source": [
    "project_one = cost_of_project(\"Charlie+Denver\", True)\n",
    "print(project_one)"
   ]
  },
  {
   "cell_type": "markdown",
   "id": "75f47e90",
   "metadata": {
    "papermill": {
     "duration": 0.008147,
     "end_time": "2023-02-12T14:45:07.760034",
     "exception": false,
     "start_time": "2023-02-12T14:45:07.751887",
     "status": "completed"
    },
    "tags": []
   },
   "source": [
    "Use the next code cell to calculate the cost of engraving `08/10/2000` on a gold plated ring."
   ]
  },
  {
   "cell_type": "code",
   "execution_count": 14,
   "id": "b09f1140",
   "metadata": {
    "execution": {
     "iopub.execute_input": "2023-02-12T14:45:07.779415Z",
     "iopub.status.busy": "2023-02-12T14:45:07.778918Z",
     "iopub.status.idle": "2023-02-12T14:45:07.786216Z",
     "shell.execute_reply": "2023-02-12T14:45:07.784460Z"
    },
    "papermill": {
     "duration": 0.020716,
     "end_time": "2023-02-12T14:45:07.789273",
     "exception": false,
     "start_time": "2023-02-12T14:45:07.768557",
     "status": "completed"
    },
    "tags": []
   },
   "outputs": [
    {
     "name": "stdout",
     "output_type": "stream",
     "text": [
      "120\n"
     ]
    }
   ],
   "source": [
    "project_two = cost_of_project(\"08/10/2000\", False)\n",
    "print(project_two)"
   ]
  },
  {
   "cell_type": "markdown",
   "id": "f15195ee",
   "metadata": {
    "papermill": {
     "duration": 0.00822,
     "end_time": "2023-02-12T14:45:07.806138",
     "exception": false,
     "start_time": "2023-02-12T14:45:07.797918",
     "status": "completed"
    },
    "tags": []
   },
   "source": [
    "# Keep going\n",
    "\n",
    "Continue to the next lesson to **[learn about conditions and conditional statements](https://www.kaggle.com/alexisbcook/conditions-and-conditional-statements)**."
   ]
  },
  {
   "cell_type": "markdown",
   "id": "5adc6561",
   "metadata": {
    "papermill": {
     "duration": 0.008259,
     "end_time": "2023-02-12T14:45:07.823958",
     "exception": false,
     "start_time": "2023-02-12T14:45:07.815699",
     "status": "completed"
    },
    "tags": []
   },
   "source": [
    "---\n",
    "\n",
    "\n",
    "\n",
    "\n",
    "*Have questions or comments? Visit the [course discussion forum](https://www.kaggle.com/learn/intro-to-programming/discussion) to chat with other learners.*"
   ]
  }
 ],
 "metadata": {
  "kernelspec": {
   "display_name": "Python 3",
   "language": "python",
   "name": "python3"
  },
  "language_info": {
   "codemirror_mode": {
    "name": "ipython",
    "version": 3
   },
   "file_extension": ".py",
   "mimetype": "text/x-python",
   "name": "python",
   "nbconvert_exporter": "python",
   "pygments_lexer": "ipython3",
   "version": "3.7.12"
  },
  "papermill": {
   "default_parameters": {},
   "duration": 11.434377,
   "end_time": "2023-02-12T14:45:08.860139",
   "environment_variables": {},
   "exception": null,
   "input_path": "__notebook__.ipynb",
   "output_path": "__notebook__.ipynb",
   "parameters": {},
   "start_time": "2023-02-12T14:44:57.425762",
   "version": "2.3.4"
  }
 },
 "nbformat": 4,
 "nbformat_minor": 5
}
