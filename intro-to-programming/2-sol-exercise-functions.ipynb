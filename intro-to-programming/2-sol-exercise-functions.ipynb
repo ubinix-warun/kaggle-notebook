{
 "cells": [
  {
   "cell_type": "markdown",
   "id": "9f40fdcb",
   "metadata": {
    "papermill": {
     "duration": 0.006964,
     "end_time": "2023-02-12T14:43:32.657992",
     "exception": false,
     "start_time": "2023-02-12T14:43:32.651028",
     "status": "completed"
    },
    "tags": []
   },
   "source": [
    "**This notebook is an exercise in the [Intro to Programming](https://www.kaggle.com/learn/intro-to-programming) course.  You can reference the tutorial at [this link](https://www.kaggle.com/alexisbcook/functions).**\n",
    "\n",
    "---\n"
   ]
  },
  {
   "cell_type": "markdown",
   "id": "abba7118",
   "metadata": {
    "papermill": {
     "duration": 0.005354,
     "end_time": "2023-02-12T14:43:32.669065",
     "exception": false,
     "start_time": "2023-02-12T14:43:32.663711",
     "status": "completed"
    },
    "tags": []
   },
   "source": [
    "In the tutorial, you learned about functions. In this exercise, you'll write some of your own!\n",
    "\n",
    "# Set up the notebook\n",
    "\n",
    "Run the next code cell without changes to set up the notebook."
   ]
  },
  {
   "cell_type": "code",
   "execution_count": 1,
   "id": "fad102e9",
   "metadata": {
    "execution": {
     "iopub.execute_input": "2023-02-12T14:43:32.682357Z",
     "iopub.status.busy": "2023-02-12T14:43:32.681867Z",
     "iopub.status.idle": "2023-02-12T14:43:32.736258Z",
     "shell.execute_reply": "2023-02-12T14:43:32.735362Z"
    },
    "papermill": {
     "duration": 0.064059,
     "end_time": "2023-02-12T14:43:32.738749",
     "exception": false,
     "start_time": "2023-02-12T14:43:32.674690",
     "status": "completed"
    },
    "tags": []
   },
   "outputs": [
    {
     "name": "stdout",
     "output_type": "stream",
     "text": [
      "Setup complete.\n"
     ]
    }
   ],
   "source": [
    "# Set up the exercise\n",
    "import math\n",
    "from learntools.core import binder\n",
    "binder.bind(globals())\n",
    "from learntools.intro_to_programming.ex2 import *\n",
    "print('Setup complete.')"
   ]
  },
  {
   "cell_type": "markdown",
   "id": "6576cce2",
   "metadata": {
    "papermill": {
     "duration": 0.00534,
     "end_time": "2023-02-12T14:43:32.749878",
     "exception": false,
     "start_time": "2023-02-12T14:43:32.744538",
     "status": "completed"
    },
    "tags": []
   },
   "source": [
    "# Question 1\n",
    "\n",
    "In the [House Prices - Advanced Regression Techniques competition](https://www.kaggle.com/c/house-prices-advanced-regression-techniques/overview), you need to use information like the number of bedrooms and bathrooms to predict the price of a house.  Inspired by this competition, you'll write your own function to do this.\n",
    "\n",
    "In the next code cell, create a function `get_expected_cost()` that has two arguments:\n",
    "- `beds` - number of bedrooms \n",
    "- `baths` - number of bathrooms\n",
    "\n",
    "It should return the expected cost of a house with that number of bedrooms and bathrooms.  Assume that:\n",
    "- the expected cost for a house with 0 bedrooms and 0 bathrooms is `80000`.  \n",
    "- each bedroom adds `30000` to the expected cost\n",
    "- each bathroom adds `10000` to the expected cost.\n",
    "\n",
    "For instance, \n",
    "- a house with 1 bedroom and 1 bathroom has an expected cost of `120000`, and \n",
    "- a house with 2 bedrooms and 1 bathroom has an expected cost of `150000`."
   ]
  },
  {
   "cell_type": "code",
   "execution_count": 2,
   "id": "5c1f6b0a",
   "metadata": {
    "execution": {
     "iopub.execute_input": "2023-02-12T14:43:32.763238Z",
     "iopub.status.busy": "2023-02-12T14:43:32.762474Z",
     "iopub.status.idle": "2023-02-12T14:43:32.773269Z",
     "shell.execute_reply": "2023-02-12T14:43:32.772419Z"
    },
    "papermill": {
     "duration": 0.019918,
     "end_time": "2023-02-12T14:43:32.775345",
     "exception": false,
     "start_time": "2023-02-12T14:43:32.755427",
     "status": "completed"
    },
    "tags": []
   },
   "outputs": [
    {
     "data": {
      "application/javascript": [
       "parent.postMessage({\"jupyterEvent\": \"custom.exercise_interaction\", \"data\": {\"outcomeType\": 1, \"valueTowardsCompletion\": 0.2, \"interactionType\": 1, \"questionType\": 2, \"questionId\": \"1_GetExpectedCost\", \"learnToolsVersion\": \"0.3.4\", \"failureMessage\": \"\", \"exceptionClass\": \"\", \"trace\": \"\"}}, \"*\")"
      ],
      "text/plain": [
       "<IPython.core.display.Javascript object>"
      ]
     },
     "metadata": {},
     "output_type": "display_data"
    },
    {
     "data": {
      "text/markdown": [
       "<span style=\"color:#33cc33\">Correct</span>"
      ],
      "text/plain": [
       "Correct"
      ]
     },
     "metadata": {},
     "output_type": "display_data"
    }
   ],
   "source": [
    "# TODO: Complete the function\n",
    "def get_expected_cost(beds, baths):\n",
    "    if beds == 0 and baths == 0:\n",
    "        return 80000\n",
    "    value = 80000 + beds * 30000 + baths * 10000\n",
    "    return value\n",
    "\n",
    "# Check your answer \n",
    "q1.check()"
   ]
  },
  {
   "cell_type": "code",
   "execution_count": 3,
   "id": "474f3a29",
   "metadata": {
    "execution": {
     "iopub.execute_input": "2023-02-12T14:43:32.789037Z",
     "iopub.status.busy": "2023-02-12T14:43:32.788596Z",
     "iopub.status.idle": "2023-02-12T14:43:32.792905Z",
     "shell.execute_reply": "2023-02-12T14:43:32.792004Z"
    },
    "papermill": {
     "duration": 0.013654,
     "end_time": "2023-02-12T14:43:32.794970",
     "exception": false,
     "start_time": "2023-02-12T14:43:32.781316",
     "status": "completed"
    },
    "tags": []
   },
   "outputs": [],
   "source": [
    "# Uncomment to see a hint\n",
    "#q1.hint()\n",
    "\n",
    "# Uncomment to view the solution\n",
    "#q1.solution()"
   ]
  },
  {
   "cell_type": "markdown",
   "id": "36bddd36",
   "metadata": {
    "papermill": {
     "duration": 0.005633,
     "end_time": "2023-02-12T14:43:32.806691",
     "exception": false,
     "start_time": "2023-02-12T14:43:32.801058",
     "status": "completed"
    },
    "tags": []
   },
   "source": [
    "# Question 2\n",
    "\n",
    "You are thinking about buying a home and want to get an idea of how much you will spend, based on the number of bedrooms and bathrooms.  You are trying to decide between four different options:\n",
    "- Option 1: house with two bedrooms and three bathrooms\n",
    "- Option 2: house with three bedrooms and two bathrooms\n",
    "- Option 3: house with three bedrooms and three bathrooms\n",
    "- Option 4: house with three bedrooms and four bathrooms\n",
    "\n",
    "Use the `get_expected_cost()` function you defined in question 1 to set `option_1`, `option_2`, `option_3`, and `option_4` to the expected cost of each option."
   ]
  },
  {
   "cell_type": "code",
   "execution_count": 4,
   "id": "b02c0d10",
   "metadata": {
    "execution": {
     "iopub.execute_input": "2023-02-12T14:43:32.820960Z",
     "iopub.status.busy": "2023-02-12T14:43:32.819882Z",
     "iopub.status.idle": "2023-02-12T14:43:32.831849Z",
     "shell.execute_reply": "2023-02-12T14:43:32.830673Z"
    },
    "papermill": {
     "duration": 0.021676,
     "end_time": "2023-02-12T14:43:32.834279",
     "exception": false,
     "start_time": "2023-02-12T14:43:32.812603",
     "status": "completed"
    },
    "tags": []
   },
   "outputs": [
    {
     "name": "stdout",
     "output_type": "stream",
     "text": [
      "170000\n",
      "190000\n",
      "200000\n",
      "210000\n"
     ]
    },
    {
     "data": {
      "application/javascript": [
       "parent.postMessage({\"jupyterEvent\": \"custom.exercise_interaction\", \"data\": {\"outcomeType\": 1, \"valueTowardsCompletion\": 0.2, \"interactionType\": 1, \"questionType\": 1, \"questionId\": \"2_RunGetExpectedCost\", \"learnToolsVersion\": \"0.3.4\", \"failureMessage\": \"\", \"exceptionClass\": \"\", \"trace\": \"\"}}, \"*\")"
      ],
      "text/plain": [
       "<IPython.core.display.Javascript object>"
      ]
     },
     "metadata": {},
     "output_type": "display_data"
    },
    {
     "data": {
      "text/markdown": [
       "<span style=\"color:#33cc33\">Correct</span>"
      ],
      "text/plain": [
       "Correct"
      ]
     },
     "metadata": {},
     "output_type": "display_data"
    }
   ],
   "source": [
    "# TODO: Use the get_expected_cost function to fill in each value\n",
    "option_one = get_expected_cost(2,3)\n",
    "option_two = get_expected_cost(3,2)\n",
    "option_three = get_expected_cost(3,3)\n",
    "option_four = get_expected_cost(3,4)\n",
    "\n",
    "print(option_one)\n",
    "print(option_two)\n",
    "print(option_three)\n",
    "print(option_four)\n",
    "\n",
    "# Check your answer\n",
    "q2.check()"
   ]
  },
  {
   "cell_type": "code",
   "execution_count": 5,
   "id": "8c9be63a",
   "metadata": {
    "execution": {
     "iopub.execute_input": "2023-02-12T14:43:32.849301Z",
     "iopub.status.busy": "2023-02-12T14:43:32.848617Z",
     "iopub.status.idle": "2023-02-12T14:43:32.852691Z",
     "shell.execute_reply": "2023-02-12T14:43:32.851842Z"
    },
    "papermill": {
     "duration": 0.014573,
     "end_time": "2023-02-12T14:43:32.855286",
     "exception": false,
     "start_time": "2023-02-12T14:43:32.840713",
     "status": "completed"
    },
    "tags": []
   },
   "outputs": [],
   "source": [
    "# Uncomment to see a hint\n",
    "#q2.hint()\n",
    "\n",
    "# Uncomment to view the solution\n",
    "#q2.solution()"
   ]
  },
  {
   "cell_type": "markdown",
   "id": "3e82460b",
   "metadata": {
    "papermill": {
     "duration": 0.005984,
     "end_time": "2023-02-12T14:43:32.869447",
     "exception": false,
     "start_time": "2023-02-12T14:43:32.863463",
     "status": "completed"
    },
    "tags": []
   },
   "source": [
    "# Question 3\n",
    "\n",
    "You're a home decorator, and you'd like to use Python to streamline some of your work.  Specifically, you're creating a tool that you intend to use to calculate the cost of painting a room.\n",
    "\n",
    "As a first step, define a function `get_cost()` that takes as input:\n",
    "- `sqft_walls` = total square feet of walls to be painted\n",
    "- `sqft_ceiling` = square feet of ceiling to be painted\n",
    "- `sqft_per_gallon` = number of square feet that you can cover with one gallon of paint\n",
    "- `cost_per_gallon` = cost (in dollars) of one gallon of paint\n",
    "\n",
    "It should return the cost (in dollars) of putting one coat of paint on all walls and the ceiling.  Assume you can buy the exact amount of paint that you need, so you can buy partial gallons (e.g., if you need 7.523 gallons, you can buy that exact amount, instead of needing to buy 8 gallons and waste some paint).  Do not round your answer."
   ]
  },
  {
   "cell_type": "code",
   "execution_count": 6,
   "id": "c6686de9",
   "metadata": {
    "execution": {
     "iopub.execute_input": "2023-02-12T14:43:32.884190Z",
     "iopub.status.busy": "2023-02-12T14:43:32.883456Z",
     "iopub.status.idle": "2023-02-12T14:43:32.892553Z",
     "shell.execute_reply": "2023-02-12T14:43:32.891707Z"
    },
    "papermill": {
     "duration": 0.019093,
     "end_time": "2023-02-12T14:43:32.894796",
     "exception": false,
     "start_time": "2023-02-12T14:43:32.875703",
     "status": "completed"
    },
    "tags": []
   },
   "outputs": [
    {
     "data": {
      "application/javascript": [
       "parent.postMessage({\"jupyterEvent\": \"custom.exercise_interaction\", \"data\": {\"outcomeType\": 1, \"valueTowardsCompletion\": 0.2, \"interactionType\": 1, \"questionType\": 2, \"questionId\": \"3_GetCostPaint\", \"learnToolsVersion\": \"0.3.4\", \"failureMessage\": \"\", \"exceptionClass\": \"\", \"trace\": \"\"}}, \"*\")"
      ],
      "text/plain": [
       "<IPython.core.display.Javascript object>"
      ]
     },
     "metadata": {},
     "output_type": "display_data"
    },
    {
     "data": {
      "text/markdown": [
       "<span style=\"color:#33cc33\">Correct</span>"
      ],
      "text/plain": [
       "Correct"
      ]
     },
     "metadata": {},
     "output_type": "display_data"
    }
   ],
   "source": [
    "# TODO: Finish defining the function\n",
    "def get_cost(sqft_walls, sqft_ceiling, sqft_per_gallon, cost_per_gallon):\n",
    "    cost = ((sqft_walls + sqft_ceiling) / sqft_per_gallon) * cost_per_gallon\n",
    "    return cost\n",
    "\n",
    "# Check your answer\n",
    "q3.check()"
   ]
  },
  {
   "cell_type": "code",
   "execution_count": 7,
   "id": "346c7e3e",
   "metadata": {
    "execution": {
     "iopub.execute_input": "2023-02-12T14:43:32.910156Z",
     "iopub.status.busy": "2023-02-12T14:43:32.909369Z",
     "iopub.status.idle": "2023-02-12T14:43:32.914005Z",
     "shell.execute_reply": "2023-02-12T14:43:32.913210Z"
    },
    "papermill": {
     "duration": 0.014863,
     "end_time": "2023-02-12T14:43:32.916222",
     "exception": false,
     "start_time": "2023-02-12T14:43:32.901359",
     "status": "completed"
    },
    "tags": []
   },
   "outputs": [],
   "source": [
    "# Uncomment to see a hint\n",
    "# q3.hint()\n",
    "\n",
    "# Uncomment to view the solution\n",
    "# q3.solution()"
   ]
  },
  {
   "cell_type": "markdown",
   "id": "5ababe52",
   "metadata": {
    "papermill": {
     "duration": 0.007484,
     "end_time": "2023-02-12T14:43:32.931143",
     "exception": false,
     "start_time": "2023-02-12T14:43:32.923659",
     "status": "completed"
    },
    "tags": []
   },
   "source": [
    "# Question 4\n",
    "\n",
    "Use the `get_cost()` function you defined in Question 3 to calculate the cost of applying one coat of paint to a room with:\n",
    "- 432 square feet of walls, and\n",
    "- 144 square feet of ceiling.\n",
    "\n",
    "Assume that one gallon of paint covers 400 square feet and costs $15.  As in Question 3, assume you can buy partial gallons of paint.  Do not round your answer."
   ]
  },
  {
   "cell_type": "code",
   "execution_count": 8,
   "id": "dba368ea",
   "metadata": {
    "execution": {
     "iopub.execute_input": "2023-02-12T14:43:32.946877Z",
     "iopub.status.busy": "2023-02-12T14:43:32.946101Z",
     "iopub.status.idle": "2023-02-12T14:43:32.955452Z",
     "shell.execute_reply": "2023-02-12T14:43:32.954589Z"
    },
    "papermill": {
     "duration": 0.019888,
     "end_time": "2023-02-12T14:43:32.957664",
     "exception": false,
     "start_time": "2023-02-12T14:43:32.937776",
     "status": "completed"
    },
    "tags": []
   },
   "outputs": [
    {
     "data": {
      "application/javascript": [
       "parent.postMessage({\"jupyterEvent\": \"custom.exercise_interaction\", \"data\": {\"outcomeType\": 1, \"valueTowardsCompletion\": 0.2, \"interactionType\": 1, \"questionType\": 1, \"questionId\": \"4_GetCostPaintExample\", \"learnToolsVersion\": \"0.3.4\", \"failureMessage\": \"\", \"exceptionClass\": \"\", \"trace\": \"\"}}, \"*\")"
      ],
      "text/plain": [
       "<IPython.core.display.Javascript object>"
      ]
     },
     "metadata": {},
     "output_type": "display_data"
    },
    {
     "data": {
      "text/markdown": [
       "<span style=\"color:#33cc33\">Correct</span>"
      ],
      "text/plain": [
       "Correct"
      ]
     },
     "metadata": {},
     "output_type": "display_data"
    }
   ],
   "source": [
    "# TODO: Set the project_cost variable to the cost of the project\n",
    "project_cost = get_cost(432,144,400,15)\n",
    "\n",
    "# Check your answer\n",
    "q4.check()"
   ]
  },
  {
   "cell_type": "code",
   "execution_count": 9,
   "id": "4a9006de",
   "metadata": {
    "execution": {
     "iopub.execute_input": "2023-02-12T14:43:32.973643Z",
     "iopub.status.busy": "2023-02-12T14:43:32.972841Z",
     "iopub.status.idle": "2023-02-12T14:43:32.977611Z",
     "shell.execute_reply": "2023-02-12T14:43:32.976805Z"
    },
    "papermill": {
     "duration": 0.015556,
     "end_time": "2023-02-12T14:43:32.980002",
     "exception": false,
     "start_time": "2023-02-12T14:43:32.964446",
     "status": "completed"
    },
    "tags": []
   },
   "outputs": [],
   "source": [
    "# Uncomment to see a hint\n",
    "#q4.hint()\n",
    "\n",
    "# Uncomment to view the solution\n",
    "#q4.solution()"
   ]
  },
  {
   "cell_type": "markdown",
   "id": "0da0bed3",
   "metadata": {
    "papermill": {
     "duration": 0.006539,
     "end_time": "2023-02-12T14:43:32.994290",
     "exception": false,
     "start_time": "2023-02-12T14:43:32.987751",
     "status": "completed"
    },
    "tags": []
   },
   "source": [
    "# 🌶️ Question 5\n",
    "\n",
    "Now say you can no longer buy fractions of a gallon.  (For instance, if you need 4.3 gallons to do a project, then you have to buy 5 gallons of paint.)\n",
    "\n",
    "With this new scenario, you will create a new function `get_actual_cost` that uses the same inputs and calculates the cost of your project.\n",
    "\n",
    "One function that you'll need to use to do this is `math.ceil()`.  We demonstrate usage of this function in the code cell below.  It takes as a number as input and rounds the number up to the nearest integer.  \n",
    "\n",
    "Run the next code cell to test this function for yourself.  Feel free to change the value of `test_value` and make sure `math.ceil()` returns the number you expect."
   ]
  },
  {
   "cell_type": "code",
   "execution_count": 10,
   "id": "94219259",
   "metadata": {
    "execution": {
     "iopub.execute_input": "2023-02-12T14:43:33.010017Z",
     "iopub.status.busy": "2023-02-12T14:43:33.009571Z",
     "iopub.status.idle": "2023-02-12T14:43:33.015591Z",
     "shell.execute_reply": "2023-02-12T14:43:33.014353Z"
    },
    "papermill": {
     "duration": 0.017015,
     "end_time": "2023-02-12T14:43:33.018156",
     "exception": false,
     "start_time": "2023-02-12T14:43:33.001141",
     "status": "completed"
    },
    "tags": []
   },
   "outputs": [
    {
     "name": "stdout",
     "output_type": "stream",
     "text": [
      "3\n"
     ]
    }
   ],
   "source": [
    "test_value = 2.17\n",
    "\n",
    "rounded_value = math.ceil(test_value)\n",
    "print(rounded_value)"
   ]
  },
  {
   "cell_type": "markdown",
   "id": "e2569fd4",
   "metadata": {
    "papermill": {
     "duration": 0.006895,
     "end_time": "2023-02-12T14:43:33.032154",
     "exception": false,
     "start_time": "2023-02-12T14:43:33.025259",
     "status": "completed"
    },
    "tags": []
   },
   "source": [
    "Use the next code cell to define the function `get_actual_cost()`.  You'll need to use the `math.ceil()` function to do this.\n",
    "\n",
    "When answering this question, note that it's completely valid to define a function that makes use of another function.  For instance, we can define a function `round_up_and_divide_by_three` that makes use of the `math.ceil` function:\n",
    "```\n",
    "def round_up_and_divide_by_three(num):\n",
    "    new_value = math.ceil(num)\n",
    "    final_value = new_value / 3\n",
    "    return final_value\n",
    "```"
   ]
  },
  {
   "cell_type": "code",
   "execution_count": 11,
   "id": "a4dce5d7",
   "metadata": {
    "execution": {
     "iopub.execute_input": "2023-02-12T14:43:33.048500Z",
     "iopub.status.busy": "2023-02-12T14:43:33.047797Z",
     "iopub.status.idle": "2023-02-12T14:43:33.057521Z",
     "shell.execute_reply": "2023-02-12T14:43:33.056611Z"
    },
    "papermill": {
     "duration": 0.020556,
     "end_time": "2023-02-12T14:43:33.059706",
     "exception": false,
     "start_time": "2023-02-12T14:43:33.039150",
     "status": "completed"
    },
    "tags": []
   },
   "outputs": [
    {
     "data": {
      "application/javascript": [
       "parent.postMessage({\"jupyterEvent\": \"custom.exercise_interaction\", \"data\": {\"outcomeType\": 1, \"valueTowardsCompletion\": 0.2, \"interactionType\": 1, \"questionType\": 2, \"questionId\": \"5_NoMoreFractions\", \"learnToolsVersion\": \"0.3.4\", \"failureMessage\": \"\", \"exceptionClass\": \"\", \"trace\": \"\"}}, \"*\")"
      ],
      "text/plain": [
       "<IPython.core.display.Javascript object>"
      ]
     },
     "metadata": {},
     "output_type": "display_data"
    },
    {
     "data": {
      "text/markdown": [
       "<span style=\"color:#33cc33\">Correct</span>"
      ],
      "text/plain": [
       "Correct"
      ]
     },
     "metadata": {},
     "output_type": "display_data"
    }
   ],
   "source": [
    "def get_actual_cost(sqft_walls, sqft_ceiling, sqft_per_gallon, cost_per_gallon):\n",
    "    cost = math.ceil((sqft_walls + sqft_ceiling) / sqft_per_gallon) * cost_per_gallon\n",
    "    return cost\n",
    "\n",
    "# Check your answer\n",
    "q5.check()"
   ]
  },
  {
   "cell_type": "code",
   "execution_count": 12,
   "id": "233f7396",
   "metadata": {
    "execution": {
     "iopub.execute_input": "2023-02-12T14:43:33.076408Z",
     "iopub.status.busy": "2023-02-12T14:43:33.075704Z",
     "iopub.status.idle": "2023-02-12T14:43:33.080446Z",
     "shell.execute_reply": "2023-02-12T14:43:33.079527Z"
    },
    "papermill": {
     "duration": 0.015905,
     "end_time": "2023-02-12T14:43:33.082816",
     "exception": false,
     "start_time": "2023-02-12T14:43:33.066911",
     "status": "completed"
    },
    "tags": []
   },
   "outputs": [],
   "source": [
    "# Uncomment to see a hint\n",
    "#q5.hint()\n",
    "\n",
    "# Uncomment to view the solution\n",
    "#q5.solution()"
   ]
  },
  {
   "cell_type": "markdown",
   "id": "e2b94f5b",
   "metadata": {
    "papermill": {
     "duration": 0.007127,
     "end_time": "2023-02-12T14:43:33.097376",
     "exception": false,
     "start_time": "2023-02-12T14:43:33.090249",
     "status": "completed"
    },
    "tags": []
   },
   "source": [
    "Once your function is verified as correct, run the next code cell to calculate the updated cost of your project."
   ]
  },
  {
   "cell_type": "code",
   "execution_count": 13,
   "id": "0661c90e",
   "metadata": {
    "execution": {
     "iopub.execute_input": "2023-02-12T14:43:33.114093Z",
     "iopub.status.busy": "2023-02-12T14:43:33.113421Z",
     "iopub.status.idle": "2023-02-12T14:43:33.120667Z",
     "shell.execute_reply": "2023-02-12T14:43:33.119572Z"
    },
    "papermill": {
     "duration": 0.018121,
     "end_time": "2023-02-12T14:43:33.122824",
     "exception": false,
     "start_time": "2023-02-12T14:43:33.104703",
     "status": "completed"
    },
    "tags": []
   },
   "outputs": [
    {
     "data": {
      "text/plain": [
       "30"
      ]
     },
     "execution_count": 13,
     "metadata": {},
     "output_type": "execute_result"
    }
   ],
   "source": [
    "get_actual_cost(432, 144, 400, 15) "
   ]
  },
  {
   "cell_type": "markdown",
   "id": "8bf04422",
   "metadata": {
    "papermill": {
     "duration": 0.007091,
     "end_time": "2023-02-12T14:43:33.137241",
     "exception": false,
     "start_time": "2023-02-12T14:43:33.130150",
     "status": "completed"
    },
    "tags": []
   },
   "source": [
    "Say you're working with a slightly larger room.  Run the next code cell to calculate the cost of the project."
   ]
  },
  {
   "cell_type": "code",
   "execution_count": 14,
   "id": "48e15d89",
   "metadata": {
    "execution": {
     "iopub.execute_input": "2023-02-12T14:43:33.154475Z",
     "iopub.status.busy": "2023-02-12T14:43:33.153808Z",
     "iopub.status.idle": "2023-02-12T14:43:33.160687Z",
     "shell.execute_reply": "2023-02-12T14:43:33.159712Z"
    },
    "papermill": {
     "duration": 0.018014,
     "end_time": "2023-02-12T14:43:33.162862",
     "exception": false,
     "start_time": "2023-02-12T14:43:33.144848",
     "status": "completed"
    },
    "tags": []
   },
   "outputs": [
    {
     "data": {
      "text/plain": [
       "45"
      ]
     },
     "execution_count": 14,
     "metadata": {},
     "output_type": "execute_result"
    }
   ],
   "source": [
    "get_actual_cost(594, 288, 400, 15) "
   ]
  },
  {
   "cell_type": "markdown",
   "id": "6b2213fe",
   "metadata": {
    "papermill": {
     "duration": 0.007843,
     "end_time": "2023-02-12T14:43:33.180315",
     "exception": false,
     "start_time": "2023-02-12T14:43:33.172472",
     "status": "completed"
    },
    "tags": []
   },
   "source": [
    "# Keep going\n",
    "\n",
    "Continue to learn about **[data types](https://www.kaggle.com/alexisbcook/data-types)**."
   ]
  },
  {
   "cell_type": "markdown",
   "id": "ee474da5",
   "metadata": {
    "papermill": {
     "duration": 0.007179,
     "end_time": "2023-02-12T14:43:33.195149",
     "exception": false,
     "start_time": "2023-02-12T14:43:33.187970",
     "status": "completed"
    },
    "tags": []
   },
   "source": [
    "---\n",
    "\n",
    "\n",
    "\n",
    "\n",
    "*Have questions or comments? Visit the [course discussion forum](https://www.kaggle.com/learn/intro-to-programming/discussion) to chat with other learners.*"
   ]
  }
 ],
 "metadata": {
  "kernelspec": {
   "display_name": "Python 3",
   "language": "python",
   "name": "python3"
  },
  "language_info": {
   "codemirror_mode": {
    "name": "ipython",
    "version": 3
   },
   "file_extension": ".py",
   "mimetype": "text/x-python",
   "name": "python",
   "nbconvert_exporter": "python",
   "pygments_lexer": "ipython3",
   "version": "3.7.12"
  },
  "papermill": {
   "default_parameters": {},
   "duration": 9.547707,
   "end_time": "2023-02-12T14:43:33.824068",
   "environment_variables": {},
   "exception": null,
   "input_path": "__notebook__.ipynb",
   "output_path": "__notebook__.ipynb",
   "parameters": {},
   "start_time": "2023-02-12T14:43:24.276361",
   "version": "2.3.4"
  }
 },
 "nbformat": 4,
 "nbformat_minor": 5
}
