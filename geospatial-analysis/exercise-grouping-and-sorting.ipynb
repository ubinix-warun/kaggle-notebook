{
 "cells": [
  {
   "cell_type": "markdown",
   "id": "959a82a3",
   "metadata": {
    "papermill": {
     "duration": 0.005051,
     "end_time": "2023-10-14T03:26:20.679841",
     "exception": false,
     "start_time": "2023-10-14T03:26:20.674790",
     "status": "completed"
    },
    "tags": []
   },
   "source": [
    "**This notebook is an exercise in the [Pandas](https://www.kaggle.com/learn/pandas) course.  You can reference the tutorial at [this link](https://www.kaggle.com/residentmario/grouping-and-sorting).**\n",
    "\n",
    "---\n"
   ]
  },
  {
   "cell_type": "markdown",
   "id": "a8132c4c",
   "metadata": {
    "papermill": {
     "duration": 0.004205,
     "end_time": "2023-10-14T03:26:20.688734",
     "exception": false,
     "start_time": "2023-10-14T03:26:20.684529",
     "status": "completed"
    },
    "tags": []
   },
   "source": [
    "# Introduction\n",
    "\n",
    "In these exercises we'll apply groupwise analysis to our dataset.\n",
    "\n",
    "Run the code cell below to load the data before running the exercises."
   ]
  },
  {
   "cell_type": "code",
   "execution_count": 1,
   "id": "1420e52b",
   "metadata": {
    "execution": {
     "iopub.execute_input": "2023-10-14T03:26:20.699677Z",
     "iopub.status.busy": "2023-10-14T03:26:20.699346Z",
     "iopub.status.idle": "2023-10-14T03:26:24.059087Z",
     "shell.execute_reply": "2023-10-14T03:26:24.058007Z"
    },
    "papermill": {
     "duration": 3.368605,
     "end_time": "2023-10-14T03:26:24.061851",
     "exception": false,
     "start_time": "2023-10-14T03:26:20.693246",
     "status": "completed"
    },
    "tags": []
   },
   "outputs": [
    {
     "name": "stdout",
     "output_type": "stream",
     "text": [
      "Setup complete.\n"
     ]
    }
   ],
   "source": [
    "import pandas as pd\n",
    "\n",
    "reviews = pd.read_csv(\"../input/wine-reviews/winemag-data-130k-v2.csv\", index_col=0)\n",
    "#pd.set_option(\"display.max_rows\", 5)\n",
    "\n",
    "from learntools.core import binder; binder.bind(globals())\n",
    "from learntools.pandas.grouping_and_sorting import *\n",
    "print(\"Setup complete.\")"
   ]
  },
  {
   "cell_type": "markdown",
   "id": "e48df113",
   "metadata": {
    "papermill": {
     "duration": 0.004467,
     "end_time": "2023-10-14T03:26:24.071416",
     "exception": false,
     "start_time": "2023-10-14T03:26:24.066949",
     "status": "completed"
    },
    "tags": []
   },
   "source": [
    "# Exercises"
   ]
  },
  {
   "cell_type": "markdown",
   "id": "aadf10ef",
   "metadata": {
    "papermill": {
     "duration": 0.004399,
     "end_time": "2023-10-14T03:26:24.080436",
     "exception": false,
     "start_time": "2023-10-14T03:26:24.076037",
     "status": "completed"
    },
    "tags": []
   },
   "source": [
    "## 1.\n",
    "Who are the most common wine reviewers in the dataset? Create a `Series` whose index is the `taster_twitter_handle` category from the dataset, and whose values count how many reviews each person wrote."
   ]
  },
  {
   "cell_type": "code",
   "execution_count": 2,
   "id": "14b120bb",
   "metadata": {
    "execution": {
     "iopub.execute_input": "2023-10-14T03:26:24.091761Z",
     "iopub.status.busy": "2023-10-14T03:26:24.090673Z",
     "iopub.status.idle": "2023-10-14T03:26:24.112552Z",
     "shell.execute_reply": "2023-10-14T03:26:24.111273Z"
    },
    "papermill": {
     "duration": 0.029592,
     "end_time": "2023-10-14T03:26:24.114540",
     "exception": false,
     "start_time": "2023-10-14T03:26:24.084948",
     "status": "completed"
    },
    "tags": []
   },
   "outputs": [
    {
     "data": {
      "application/javascript": [
       "parent.postMessage({\"jupyterEvent\": \"custom.exercise_interaction\", \"data\": {\"outcomeType\": 1, \"valueTowardsCompletion\": 0.16666666666666666, \"interactionType\": 1, \"questionType\": 1, \"questionId\": \"1_ReviewsWritten\", \"learnToolsVersion\": \"0.3.4\", \"failureMessage\": \"\", \"exceptionClass\": \"\", \"trace\": \"\"}}, \"*\")"
      ],
      "text/plain": [
       "<IPython.core.display.Javascript object>"
      ]
     },
     "metadata": {},
     "output_type": "display_data"
    },
    {
     "data": {
      "text/markdown": [
       "<span style=\"color:#33cc33\">Correct:</span> \n",
       "\n",
       "\n",
       "```python\n",
       "reviews_written = reviews.groupby('taster_twitter_handle').size()\n",
       "```\n",
       "or\n",
       "```python\n",
       "reviews_written = reviews.groupby('taster_twitter_handle').taster_twitter_handle.count()\n",
       "```\n"
      ],
      "text/plain": [
       "Correct: \n",
       "\n",
       "\n",
       "```python\n",
       "reviews_written = reviews.groupby('taster_twitter_handle').size()\n",
       "```\n",
       "or\n",
       "```python\n",
       "reviews_written = reviews.groupby('taster_twitter_handle').taster_twitter_handle.count()\n",
       "```"
      ]
     },
     "metadata": {},
     "output_type": "display_data"
    }
   ],
   "source": [
    "# Your code here\n",
    "reviews_written = reviews.groupby('taster_twitter_handle').size()\n",
    "\n",
    "# Check your answer\n",
    "q1.check()"
   ]
  },
  {
   "cell_type": "code",
   "execution_count": 3,
   "id": "70e0a728",
   "metadata": {
    "execution": {
     "iopub.execute_input": "2023-10-14T03:26:24.126179Z",
     "iopub.status.busy": "2023-10-14T03:26:24.125510Z",
     "iopub.status.idle": "2023-10-14T03:26:24.129377Z",
     "shell.execute_reply": "2023-10-14T03:26:24.128449Z"
    },
    "papermill": {
     "duration": 0.01192,
     "end_time": "2023-10-14T03:26:24.131506",
     "exception": false,
     "start_time": "2023-10-14T03:26:24.119586",
     "status": "completed"
    },
    "tags": []
   },
   "outputs": [],
   "source": [
    "# q1.hint()\n",
    "# q1.solution()"
   ]
  },
  {
   "cell_type": "markdown",
   "id": "63bc44e8",
   "metadata": {
    "papermill": {
     "duration": 0.004651,
     "end_time": "2023-10-14T03:26:24.141176",
     "exception": false,
     "start_time": "2023-10-14T03:26:24.136525",
     "status": "completed"
    },
    "tags": []
   },
   "source": [
    "## 2.\n",
    "What is the best wine I can buy for a given amount of money? Create a `Series` whose index is wine prices and whose values is the maximum number of points a wine costing that much was given in a review. Sort the values by price, ascending (so that `4.0` dollars is at the top and `3300.0` dollars is at the bottom)."
   ]
  },
  {
   "cell_type": "code",
   "execution_count": 4,
   "id": "2509ed53",
   "metadata": {
    "execution": {
     "iopub.execute_input": "2023-10-14T03:26:24.152749Z",
     "iopub.status.busy": "2023-10-14T03:26:24.152024Z",
     "iopub.status.idle": "2023-10-14T03:26:24.164366Z",
     "shell.execute_reply": "2023-10-14T03:26:24.163559Z"
    },
    "papermill": {
     "duration": 0.02024,
     "end_time": "2023-10-14T03:26:24.166183",
     "exception": false,
     "start_time": "2023-10-14T03:26:24.145943",
     "status": "completed"
    },
    "tags": []
   },
   "outputs": [
    {
     "data": {
      "application/javascript": [
       "parent.postMessage({\"jupyterEvent\": \"custom.exercise_interaction\", \"data\": {\"outcomeType\": 1, \"valueTowardsCompletion\": 0.16666666666666666, \"interactionType\": 1, \"questionType\": 1, \"questionId\": \"2_BestRatingPerPrice\", \"learnToolsVersion\": \"0.3.4\", \"failureMessage\": \"\", \"exceptionClass\": \"\", \"trace\": \"\"}}, \"*\")"
      ],
      "text/plain": [
       "<IPython.core.display.Javascript object>"
      ]
     },
     "metadata": {},
     "output_type": "display_data"
    },
    {
     "data": {
      "text/markdown": [
       "<span style=\"color:#33cc33\">Correct</span>"
      ],
      "text/plain": [
       "Correct"
      ]
     },
     "metadata": {},
     "output_type": "display_data"
    }
   ],
   "source": [
    "best_rating_per_price = reviews.groupby('price')['points'].max().sort_index()\n",
    "\n",
    "# Check your answer\n",
    "q2.check()"
   ]
  },
  {
   "cell_type": "code",
   "execution_count": 5,
   "id": "87b8e33c",
   "metadata": {
    "execution": {
     "iopub.execute_input": "2023-10-14T03:26:24.177863Z",
     "iopub.status.busy": "2023-10-14T03:26:24.177524Z",
     "iopub.status.idle": "2023-10-14T03:26:24.181377Z",
     "shell.execute_reply": "2023-10-14T03:26:24.180489Z"
    },
    "papermill": {
     "duration": 0.011808,
     "end_time": "2023-10-14T03:26:24.183092",
     "exception": false,
     "start_time": "2023-10-14T03:26:24.171284",
     "status": "completed"
    },
    "tags": []
   },
   "outputs": [],
   "source": [
    "# q2.hint()\n",
    "# q2.solution()"
   ]
  },
  {
   "cell_type": "markdown",
   "id": "69d5f1fd",
   "metadata": {
    "papermill": {
     "duration": 0.004797,
     "end_time": "2023-10-14T03:26:24.192931",
     "exception": false,
     "start_time": "2023-10-14T03:26:24.188134",
     "status": "completed"
    },
    "tags": []
   },
   "source": [
    "## 3.\n",
    "What are the minimum and maximum prices for each `variety` of wine? Create a `DataFrame` whose index is the `variety` category from the dataset and whose values are the `min` and `max` values thereof."
   ]
  },
  {
   "cell_type": "code",
   "execution_count": 6,
   "id": "5545ea51",
   "metadata": {
    "execution": {
     "iopub.execute_input": "2023-10-14T03:26:24.204294Z",
     "iopub.status.busy": "2023-10-14T03:26:24.203949Z",
     "iopub.status.idle": "2023-10-14T03:26:24.227212Z",
     "shell.execute_reply": "2023-10-14T03:26:24.226273Z"
    },
    "papermill": {
     "duration": 0.031129,
     "end_time": "2023-10-14T03:26:24.229120",
     "exception": false,
     "start_time": "2023-10-14T03:26:24.197991",
     "status": "completed"
    },
    "tags": []
   },
   "outputs": [
    {
     "data": {
      "application/javascript": [
       "parent.postMessage({\"jupyterEvent\": \"custom.exercise_interaction\", \"data\": {\"outcomeType\": 1, \"valueTowardsCompletion\": 0.16666666666666666, \"interactionType\": 1, \"questionType\": 1, \"questionId\": \"3_PriceExtremes\", \"learnToolsVersion\": \"0.3.4\", \"failureMessage\": \"\", \"exceptionClass\": \"\", \"trace\": \"\"}}, \"*\")"
      ],
      "text/plain": [
       "<IPython.core.display.Javascript object>"
      ]
     },
     "metadata": {},
     "output_type": "display_data"
    },
    {
     "data": {
      "text/markdown": [
       "<span style=\"color:#33cc33\">Correct</span>"
      ],
      "text/plain": [
       "Correct"
      ]
     },
     "metadata": {},
     "output_type": "display_data"
    }
   ],
   "source": [
    "price_extremes = reviews.groupby('variety').price.agg([min, max])\n",
    "\n",
    "# Check your answer\n",
    "q3.check()"
   ]
  },
  {
   "cell_type": "code",
   "execution_count": 7,
   "id": "8c3b1606",
   "metadata": {
    "execution": {
     "iopub.execute_input": "2023-10-14T03:26:24.241688Z",
     "iopub.status.busy": "2023-10-14T03:26:24.241015Z",
     "iopub.status.idle": "2023-10-14T03:26:24.245557Z",
     "shell.execute_reply": "2023-10-14T03:26:24.244554Z"
    },
    "papermill": {
     "duration": 0.013247,
     "end_time": "2023-10-14T03:26:24.247741",
     "exception": false,
     "start_time": "2023-10-14T03:26:24.234494",
     "status": "completed"
    },
    "tags": []
   },
   "outputs": [],
   "source": [
    "# q3.hint()\n",
    "# q3.solution()"
   ]
  },
  {
   "cell_type": "markdown",
   "id": "018cfa2a",
   "metadata": {
    "papermill": {
     "duration": 0.005361,
     "end_time": "2023-10-14T03:26:24.258740",
     "exception": false,
     "start_time": "2023-10-14T03:26:24.253379",
     "status": "completed"
    },
    "tags": []
   },
   "source": [
    "## 4.\n",
    "What are the most expensive wine varieties? Create a variable `sorted_varieties` containing a copy of the dataframe from the previous question where varieties are sorted in descending order based on minimum price, then on maximum price (to break ties)."
   ]
  },
  {
   "cell_type": "code",
   "execution_count": 8,
   "id": "5589d329",
   "metadata": {
    "execution": {
     "iopub.execute_input": "2023-10-14T03:26:24.271188Z",
     "iopub.status.busy": "2023-10-14T03:26:24.270625Z",
     "iopub.status.idle": "2023-10-14T03:26:24.279533Z",
     "shell.execute_reply": "2023-10-14T03:26:24.278886Z"
    },
    "papermill": {
     "duration": 0.016944,
     "end_time": "2023-10-14T03:26:24.281119",
     "exception": false,
     "start_time": "2023-10-14T03:26:24.264175",
     "status": "completed"
    },
    "tags": []
   },
   "outputs": [
    {
     "data": {
      "application/javascript": [
       "parent.postMessage({\"jupyterEvent\": \"custom.exercise_interaction\", \"data\": {\"outcomeType\": 1, \"valueTowardsCompletion\": 0.16666666666666666, \"interactionType\": 1, \"questionType\": 1, \"questionId\": \"4_SortedVarieties\", \"learnToolsVersion\": \"0.3.4\", \"failureMessage\": \"\", \"exceptionClass\": \"\", \"trace\": \"\"}}, \"*\")"
      ],
      "text/plain": [
       "<IPython.core.display.Javascript object>"
      ]
     },
     "metadata": {},
     "output_type": "display_data"
    },
    {
     "data": {
      "text/markdown": [
       "<span style=\"color:#33cc33\">Correct</span>"
      ],
      "text/plain": [
       "Correct"
      ]
     },
     "metadata": {},
     "output_type": "display_data"
    }
   ],
   "source": [
    "sorted_varieties = price_extremes.sort_values(by=['min', 'max'], ascending=False)\n",
    "\n",
    "# Check your answer\n",
    "q4.check()"
   ]
  },
  {
   "cell_type": "code",
   "execution_count": 9,
   "id": "26d19e5b",
   "metadata": {
    "execution": {
     "iopub.execute_input": "2023-10-14T03:26:24.293445Z",
     "iopub.status.busy": "2023-10-14T03:26:24.293088Z",
     "iopub.status.idle": "2023-10-14T03:26:24.296283Z",
     "shell.execute_reply": "2023-10-14T03:26:24.295631Z"
    },
    "papermill": {
     "duration": 0.011148,
     "end_time": "2023-10-14T03:26:24.297818",
     "exception": false,
     "start_time": "2023-10-14T03:26:24.286670",
     "status": "completed"
    },
    "tags": []
   },
   "outputs": [],
   "source": [
    "# q4.hint()\n",
    "# q4.solution()"
   ]
  },
  {
   "cell_type": "markdown",
   "id": "bf412f0c",
   "metadata": {
    "papermill": {
     "duration": 0.005119,
     "end_time": "2023-10-14T03:26:24.308345",
     "exception": false,
     "start_time": "2023-10-14T03:26:24.303226",
     "status": "completed"
    },
    "tags": []
   },
   "source": [
    "## 5.\n",
    "Create a `Series` whose index is reviewers and whose values is the average review score given out by that reviewer. Hint: you will need the `taster_name` and `points` columns."
   ]
  },
  {
   "cell_type": "code",
   "execution_count": 10,
   "id": "d4ba1e82",
   "metadata": {
    "execution": {
     "iopub.execute_input": "2023-10-14T03:26:24.320368Z",
     "iopub.status.busy": "2023-10-14T03:26:24.320036Z",
     "iopub.status.idle": "2023-10-14T03:26:24.339132Z",
     "shell.execute_reply": "2023-10-14T03:26:24.338511Z"
    },
    "papermill": {
     "duration": 0.027221,
     "end_time": "2023-10-14T03:26:24.340933",
     "exception": false,
     "start_time": "2023-10-14T03:26:24.313712",
     "status": "completed"
    },
    "tags": []
   },
   "outputs": [
    {
     "data": {
      "application/javascript": [
       "parent.postMessage({\"jupyterEvent\": \"custom.exercise_interaction\", \"data\": {\"outcomeType\": 1, \"valueTowardsCompletion\": 0.16666666666666666, \"interactionType\": 1, \"questionType\": 1, \"questionId\": \"5_ReviewerMeanRatings\", \"learnToolsVersion\": \"0.3.4\", \"failureMessage\": \"\", \"exceptionClass\": \"\", \"trace\": \"\"}}, \"*\")"
      ],
      "text/plain": [
       "<IPython.core.display.Javascript object>"
      ]
     },
     "metadata": {},
     "output_type": "display_data"
    },
    {
     "data": {
      "text/markdown": [
       "<span style=\"color:#33cc33\">Correct</span>"
      ],
      "text/plain": [
       "Correct"
      ]
     },
     "metadata": {},
     "output_type": "display_data"
    }
   ],
   "source": [
    "reviewer_mean_ratings = reviews.groupby('taster_name').points.mean()\n",
    "\n",
    "# Check your answer\n",
    "q5.check()"
   ]
  },
  {
   "cell_type": "code",
   "execution_count": 11,
   "id": "ca469991",
   "metadata": {
    "execution": {
     "iopub.execute_input": "2023-10-14T03:26:24.353510Z",
     "iopub.status.busy": "2023-10-14T03:26:24.352981Z",
     "iopub.status.idle": "2023-10-14T03:26:24.356037Z",
     "shell.execute_reply": "2023-10-14T03:26:24.355455Z"
    },
    "papermill": {
     "duration": 0.011085,
     "end_time": "2023-10-14T03:26:24.357629",
     "exception": false,
     "start_time": "2023-10-14T03:26:24.346544",
     "status": "completed"
    },
    "tags": []
   },
   "outputs": [],
   "source": [
    "# q5.hint()\n",
    "# q5.solution()"
   ]
  },
  {
   "cell_type": "markdown",
   "id": "72ba179b",
   "metadata": {
    "papermill": {
     "duration": 0.005295,
     "end_time": "2023-10-14T03:26:24.368607",
     "exception": false,
     "start_time": "2023-10-14T03:26:24.363312",
     "status": "completed"
    },
    "tags": []
   },
   "source": [
    "Are there significant differences in the average scores assigned by the various reviewers? Run the cell below to use the `describe()` method to see a summary of the range of values."
   ]
  },
  {
   "cell_type": "code",
   "execution_count": 12,
   "id": "8121dc5b",
   "metadata": {
    "execution": {
     "iopub.execute_input": "2023-10-14T03:26:24.381245Z",
     "iopub.status.busy": "2023-10-14T03:26:24.380634Z",
     "iopub.status.idle": "2023-10-14T03:26:24.399369Z",
     "shell.execute_reply": "2023-10-14T03:26:24.398407Z"
    },
    "papermill": {
     "duration": 0.027246,
     "end_time": "2023-10-14T03:26:24.401318",
     "exception": false,
     "start_time": "2023-10-14T03:26:24.374072",
     "status": "completed"
    },
    "tags": []
   },
   "outputs": [
    {
     "data": {
      "text/plain": [
       "count    19.000000\n",
       "mean     88.233026\n",
       "std       1.243610\n",
       "min      85.855422\n",
       "25%      87.323501\n",
       "50%      88.536235\n",
       "75%      88.975256\n",
       "max      90.562551\n",
       "Name: points, dtype: float64"
      ]
     },
     "execution_count": 12,
     "metadata": {},
     "output_type": "execute_result"
    }
   ],
   "source": [
    "reviewer_mean_ratings.describe()"
   ]
  },
  {
   "cell_type": "markdown",
   "id": "a5c6f47d",
   "metadata": {
    "papermill": {
     "duration": 0.005456,
     "end_time": "2023-10-14T03:26:24.412615",
     "exception": false,
     "start_time": "2023-10-14T03:26:24.407159",
     "status": "completed"
    },
    "tags": []
   },
   "source": [
    "## 6.\n",
    "What combination of countries and varieties are most common? Create a `Series` whose index is a `MultiIndex`of `{country, variety}` pairs. For example, a pinot noir produced in the US should map to `{\"US\", \"Pinot Noir\"}`. Sort the values in the `Series` in descending order based on wine count."
   ]
  },
  {
   "cell_type": "code",
   "execution_count": 13,
   "id": "01c05eef",
   "metadata": {
    "execution": {
     "iopub.execute_input": "2023-10-14T03:26:24.425614Z",
     "iopub.status.busy": "2023-10-14T03:26:24.425050Z",
     "iopub.status.idle": "2023-10-14T03:26:24.461319Z",
     "shell.execute_reply": "2023-10-14T03:26:24.460436Z"
    },
    "papermill": {
     "duration": 0.044958,
     "end_time": "2023-10-14T03:26:24.463340",
     "exception": false,
     "start_time": "2023-10-14T03:26:24.418382",
     "status": "completed"
    },
    "tags": []
   },
   "outputs": [
    {
     "data": {
      "application/javascript": [
       "parent.postMessage({\"jupyterEvent\": \"custom.exercise_interaction\", \"data\": {\"outcomeType\": 1, \"valueTowardsCompletion\": 0.16666666666666666, \"interactionType\": 1, \"questionType\": 1, \"questionId\": \"6_GroupbyCountryVariety\", \"learnToolsVersion\": \"0.3.4\", \"failureMessage\": \"\", \"exceptionClass\": \"\", \"trace\": \"\"}}, \"*\")"
      ],
      "text/plain": [
       "<IPython.core.display.Javascript object>"
      ]
     },
     "metadata": {},
     "output_type": "display_data"
    },
    {
     "data": {
      "text/markdown": [
       "<span style=\"color:#33cc33\">Correct</span>"
      ],
      "text/plain": [
       "Correct"
      ]
     },
     "metadata": {},
     "output_type": "display_data"
    }
   ],
   "source": [
    "country_variety_counts = reviews.groupby(['country', 'variety']).size().sort_values(ascending=False)\n",
    "\n",
    "# Check your answer\n",
    "q6.check()"
   ]
  },
  {
   "cell_type": "code",
   "execution_count": 14,
   "id": "da862013",
   "metadata": {
    "execution": {
     "iopub.execute_input": "2023-10-14T03:26:24.477146Z",
     "iopub.status.busy": "2023-10-14T03:26:24.476499Z",
     "iopub.status.idle": "2023-10-14T03:26:24.480590Z",
     "shell.execute_reply": "2023-10-14T03:26:24.479801Z"
    },
    "papermill": {
     "duration": 0.013076,
     "end_time": "2023-10-14T03:26:24.482447",
     "exception": false,
     "start_time": "2023-10-14T03:26:24.469371",
     "status": "completed"
    },
    "tags": []
   },
   "outputs": [],
   "source": [
    "# q6.hint()\n",
    "# q6.solution()"
   ]
  },
  {
   "cell_type": "markdown",
   "id": "8682ca27",
   "metadata": {
    "papermill": {
     "duration": 0.005588,
     "end_time": "2023-10-14T03:26:24.493980",
     "exception": false,
     "start_time": "2023-10-14T03:26:24.488392",
     "status": "completed"
    },
    "tags": []
   },
   "source": [
    "# Keep going\n",
    "\n",
    "Move on to the [**data types and missing data**](https://www.kaggle.com/residentmario/data-types-and-missing-values)."
   ]
  },
  {
   "cell_type": "markdown",
   "id": "ac9a069a",
   "metadata": {
    "papermill": {
     "duration": 0.00549,
     "end_time": "2023-10-14T03:26:24.505279",
     "exception": false,
     "start_time": "2023-10-14T03:26:24.499789",
     "status": "completed"
    },
    "tags": []
   },
   "source": [
    "---\n",
    "\n",
    "\n",
    "\n",
    "\n",
    "*Have questions or comments? Visit the [course discussion forum](https://www.kaggle.com/learn/pandas/discussion) to chat with other learners.*"
   ]
  }
 ],
 "metadata": {
  "kernelspec": {
   "display_name": "Python 3",
   "language": "python",
   "name": "python3"
  },
  "language_info": {
   "codemirror_mode": {
    "name": "ipython",
    "version": 3
   },
   "file_extension": ".py",
   "mimetype": "text/x-python",
   "name": "python",
   "nbconvert_exporter": "python",
   "pygments_lexer": "ipython3",
   "version": "3.10.12"
  },
  "papermill": {
   "default_parameters": {},
   "duration": 7.415479,
   "end_time": "2023-10-14T03:26:25.030328",
   "environment_variables": {},
   "exception": null,
   "input_path": "__notebook__.ipynb",
   "output_path": "__notebook__.ipynb",
   "parameters": {},
   "start_time": "2023-10-14T03:26:17.614849",
   "version": "2.4.0"
  }
 },
 "nbformat": 4,
 "nbformat_minor": 5
}
