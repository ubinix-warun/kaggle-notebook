{
 "cells": [
  {
   "cell_type": "markdown",
   "id": "90183cbd",
   "metadata": {
    "papermill": {
     "duration": 0.007673,
     "end_time": "2023-02-13T06:46:13.081859",
     "exception": false,
     "start_time": "2023-02-13T06:46:13.074186",
     "status": "completed"
    },
    "tags": []
   },
   "source": [
    "**This notebook is an exercise in the [Python](https://www.kaggle.com/learn/python) course.  You can reference the tutorial at [this link](https://www.kaggle.com/colinmorris/hello-python).**\n",
    "\n",
    "---\n"
   ]
  },
  {
   "cell_type": "markdown",
   "id": "7c36162c",
   "metadata": {
    "papermill": {
     "duration": 0.006117,
     "end_time": "2023-02-13T06:46:13.094467",
     "exception": false,
     "start_time": "2023-02-13T06:46:13.088350",
     "status": "completed"
    },
    "tags": []
   },
   "source": [
    "Welcome to your first set of Python coding problems.  If this is your first time using Kaggle Notebooks, welcome! \n",
    "\n",
    "Notebooks are composed of blocks (called \"cells\") of text and code. Each of these is editable, though you'll mainly be editing the code cells to answer some questions.\n",
    "\n",
    "To get started, try running the code cell below (by pressing the ► button, or clicking on the cell and pressing ctrl+enter on your keyboard)."
   ]
  },
  {
   "cell_type": "code",
   "execution_count": 1,
   "id": "d866b16c",
   "metadata": {
    "execution": {
     "iopub.execute_input": "2023-02-13T06:46:13.110021Z",
     "iopub.status.busy": "2023-02-13T06:46:13.109408Z",
     "iopub.status.idle": "2023-02-13T06:46:13.123281Z",
     "shell.execute_reply": "2023-02-13T06:46:13.122524Z"
    },
    "papermill": {
     "duration": 0.024511,
     "end_time": "2023-02-13T06:46:13.125603",
     "exception": false,
     "start_time": "2023-02-13T06:46:13.101092",
     "status": "completed"
    },
    "tags": []
   },
   "outputs": [
    {
     "name": "stdout",
     "output_type": "stream",
     "text": [
      "You've successfully run some Python code\n",
      "Congratulations!\n"
     ]
    }
   ],
   "source": [
    "print(\"You've successfully run some Python code\")\n",
    "print(\"Congratulations!\")"
   ]
  },
  {
   "cell_type": "markdown",
   "id": "f92e074b",
   "metadata": {
    "papermill": {
     "duration": 0.006077,
     "end_time": "2023-02-13T06:46:13.138271",
     "exception": false,
     "start_time": "2023-02-13T06:46:13.132194",
     "status": "completed"
    },
    "tags": []
   },
   "source": [
    "Try adding another line of code in the cell above and re-running it. \n",
    "\n",
    "Now let's get a little fancier:  Add a new code cell by clicking on an existing code cell, hitting the escape key, and then hitting the `a` or `b` key.  The `a` key will add a cell above the current cell, and `b` adds a cell below.\n",
    "\n",
    "Great! Now you know how to use Notebooks.\n",
    "\n",
    "Each hands-on exercise starts by setting up our feedback and code checking mechanism. Run the code cell below to do that. Then you'll be ready to move on to question 0."
   ]
  },
  {
   "cell_type": "code",
   "execution_count": 2,
   "id": "1df346a7",
   "metadata": {
    "_kg_hide-input": true,
    "_kg_hide-output": true,
    "execution": {
     "iopub.execute_input": "2023-02-13T06:46:13.152547Z",
     "iopub.status.busy": "2023-02-13T06:46:13.152145Z",
     "iopub.status.idle": "2023-02-13T06:46:13.200472Z",
     "shell.execute_reply": "2023-02-13T06:46:13.199166Z"
    },
    "papermill": {
     "duration": 0.058563,
     "end_time": "2023-02-13T06:46:13.203243",
     "exception": false,
     "start_time": "2023-02-13T06:46:13.144680",
     "status": "completed"
    },
    "tags": []
   },
   "outputs": [
    {
     "name": "stdout",
     "output_type": "stream",
     "text": [
      "Setup complete! You're ready to start question 0.\n"
     ]
    }
   ],
   "source": [
    "from learntools.core import binder; binder.bind(globals())\n",
    "from learntools.python.ex1 import *\n",
    "print(\"Setup complete! You're ready to start question 0.\")"
   ]
  },
  {
   "cell_type": "markdown",
   "id": "844ef7b6",
   "metadata": {
    "papermill": {
     "duration": 0.006315,
     "end_time": "2023-02-13T06:46:13.216219",
     "exception": false,
     "start_time": "2023-02-13T06:46:13.209904",
     "status": "completed"
    },
    "tags": []
   },
   "source": [
    "# 0.\n",
    "\n",
    "*This is a silly question intended as an introduction to the format we use for hands-on exercises throughout all Kaggle courses.*\n",
    "\n",
    "**What is your favorite color? **\n",
    "\n",
    "To complete this question, create a variable called `color` in the cell below with an appropriate value. The function call `q0.check()` (which we've already provided in the cell below) will check your answer."
   ]
  },
  {
   "cell_type": "code",
   "execution_count": 3,
   "id": "69b95989",
   "metadata": {
    "execution": {
     "iopub.execute_input": "2023-02-13T06:46:13.231438Z",
     "iopub.status.busy": "2023-02-13T06:46:13.230420Z",
     "iopub.status.idle": "2023-02-13T06:46:13.240885Z",
     "shell.execute_reply": "2023-02-13T06:46:13.240128Z"
    },
    "papermill": {
     "duration": 0.020132,
     "end_time": "2023-02-13T06:46:13.242753",
     "exception": false,
     "start_time": "2023-02-13T06:46:13.222621",
     "status": "completed"
    },
    "tags": []
   },
   "outputs": [
    {
     "data": {
      "application/javascript": [
       "parent.postMessage({\"jupyterEvent\": \"custom.exercise_interaction\", \"data\": {\"outcomeType\": 4, \"interactionType\": 1, \"questionType\": 2, \"questionId\": \"0_ExerciseFormatTutorial\", \"learnToolsVersion\": \"0.3.4\", \"valueTowardsCompletion\": 0.0, \"failureMessage\": \"\", \"exceptionClass\": \"\", \"trace\": \"\"}}, \"*\")"
      ],
      "text/plain": [
       "<IPython.core.display.Javascript object>"
      ]
     },
     "metadata": {},
     "output_type": "display_data"
    },
    {
     "data": {
      "text/markdown": [
       "<span style=\"color:#ccaa33\">Check:</span> When you've updated the starter code, `check()` will tell you whether your code is correct. Remember, you must create the following variable: `color`"
      ],
      "text/plain": [
       "Check: When you've updated the starter code, `check()` will tell you whether your code is correct. Remember, you must create the following variable: `color`"
      ]
     },
     "metadata": {},
     "output_type": "display_data"
    }
   ],
   "source": [
    "# create a variable called color with an appropriate value on the line below\n",
    "# (Remember, strings in Python must be enclosed in 'single' or \"double\" quotes)\n",
    "____\n",
    "\n",
    "# Check your answer\n",
    "q0.check()"
   ]
  },
  {
   "cell_type": "markdown",
   "id": "b597f65f",
   "metadata": {
    "papermill": {
     "duration": 0.006551,
     "end_time": "2023-02-13T06:46:13.256259",
     "exception": false,
     "start_time": "2023-02-13T06:46:13.249708",
     "status": "completed"
    },
    "tags": []
   },
   "source": [
    "Didn't get the right answer? How do you not even know your own favorite color?!\n",
    "\n",
    "Delete the `#` in the line below to make one of the lines run. You can choose between getting a hint or the full answer by choosing which line to remove the `#` from. \n",
    "\n",
    "Removing the `#` is called uncommenting, because it changes that line from a \"comment\" which Python doesn't run to code, which Python does run."
   ]
  },
  {
   "cell_type": "code",
   "execution_count": 4,
   "id": "b4b5c0ce",
   "metadata": {
    "execution": {
     "iopub.execute_input": "2023-02-13T06:46:13.271412Z",
     "iopub.status.busy": "2023-02-13T06:46:13.271035Z",
     "iopub.status.idle": "2023-02-13T06:46:13.281721Z",
     "shell.execute_reply": "2023-02-13T06:46:13.280720Z"
    },
    "papermill": {
     "duration": 0.021054,
     "end_time": "2023-02-13T06:46:13.284088",
     "exception": false,
     "start_time": "2023-02-13T06:46:13.263034",
     "status": "completed"
    },
    "tags": []
   },
   "outputs": [
    {
     "data": {
      "application/javascript": [
       "parent.postMessage({\"jupyterEvent\": \"custom.exercise_interaction\", \"data\": {\"interactionType\": 2, \"questionType\": 2, \"questionId\": \"0_ExerciseFormatTutorial\", \"learnToolsVersion\": \"0.3.4\", \"valueTowardsCompletion\": 0.0, \"failureMessage\": \"\", \"exceptionClass\": \"\", \"trace\": \"\", \"outcomeType\": 4}}, \"*\")"
      ],
      "text/plain": [
       "<IPython.core.display.Javascript object>"
      ]
     },
     "metadata": {},
     "output_type": "display_data"
    },
    {
     "data": {
      "text/markdown": [
       "<span style=\"color:#3366cc\">Hint:</span> Your favorite color rhymes with *glue*."
      ],
      "text/plain": [
       "Hint: Your favorite color rhymes with *glue*."
      ]
     },
     "metadata": {},
     "output_type": "display_data"
    },
    {
     "data": {
      "application/javascript": [
       "parent.postMessage({\"jupyterEvent\": \"custom.exercise_interaction\", \"data\": {\"interactionType\": 3, \"questionType\": 2, \"questionId\": \"0_ExerciseFormatTutorial\", \"learnToolsVersion\": \"0.3.4\", \"valueTowardsCompletion\": 0.0, \"failureMessage\": \"\", \"exceptionClass\": \"\", \"trace\": \"\", \"outcomeType\": 4}}, \"*\")"
      ],
      "text/plain": [
       "<IPython.core.display.Javascript object>"
      ]
     },
     "metadata": {},
     "output_type": "display_data"
    },
    {
     "data": {
      "text/markdown": [
       "<span style=\"color:#33cc99\">Solution:</span> \n",
       "```python\n",
       "color = \"blue\"\n",
       "```"
      ],
      "text/plain": [
       "Solution: \n",
       "```python\n",
       "color = \"blue\"\n",
       "```"
      ]
     },
     "metadata": {},
     "output_type": "display_data"
    }
   ],
   "source": [
    "q0.hint()\n",
    "q0.solution()"
   ]
  },
  {
   "cell_type": "markdown",
   "id": "37f373d9",
   "metadata": {
    "papermill": {
     "duration": 0.00694,
     "end_time": "2023-02-13T06:46:13.299388",
     "exception": false,
     "start_time": "2023-02-13T06:46:13.292448",
     "status": "completed"
    },
    "tags": []
   },
   "source": [
    "The upcoming questions work the same way. The only thing that will change are the question numbers. For the next question, you'll call `q1.check()`, `q1.hint()`, `q1.solution()`, for question 2, you'll call `q2.check()`, and so on."
   ]
  },
  {
   "cell_type": "markdown",
   "id": "ba458034",
   "metadata": {
    "papermill": {
     "duration": 0.006707,
     "end_time": "2023-02-13T06:46:13.313142",
     "exception": false,
     "start_time": "2023-02-13T06:46:13.306435",
     "status": "completed"
    },
    "tags": []
   },
   "source": [
    "<hr/>\n",
    "\n",
    "# 1.\n",
    "\n",
    "Complete the code below. In case it's helpful, here is the table of available arithmetic operations:\n",
    "\n",
    "\n",
    "\n",
    "| Operator     | Name           | Description                                            |\n",
    "|--------------|----------------|--------------------------------------------------------|\n",
    "| ``a + b``    | Addition       | Sum of ``a`` and ``b``                                 |\n",
    "| ``a - b``    | Subtraction    | Difference of ``a`` and ``b``                          |\n",
    "| ``a * b``    | Multiplication | Product of ``a`` and ``b``                             |\n",
    "| ``a / b``    | True division  | Quotient of ``a`` and ``b``                            |\n",
    "| ``a // b``   | Floor division | Quotient of ``a`` and ``b``, removing fractional parts |\n",
    "| ``a % b``    | Modulus        | Integer remainder after division of ``a`` by ``b``     |\n",
    "| ``a ** b``   | Exponentiation | ``a`` raised to the power of ``b``                     |\n",
    "| ``-a``       | Negation       | The negative of ``a``                                  |\n",
    "\n",
    "<span style=\"display:none\"></span>\n"
   ]
  },
  {
   "cell_type": "code",
   "execution_count": 5,
   "id": "dbfa5c9a",
   "metadata": {
    "execution": {
     "iopub.execute_input": "2023-02-13T06:46:13.329266Z",
     "iopub.status.busy": "2023-02-13T06:46:13.328870Z",
     "iopub.status.idle": "2023-02-13T06:46:13.337981Z",
     "shell.execute_reply": "2023-02-13T06:46:13.336888Z"
    },
    "papermill": {
     "duration": 0.019863,
     "end_time": "2023-02-13T06:46:13.340205",
     "exception": false,
     "start_time": "2023-02-13T06:46:13.320342",
     "status": "completed"
    },
    "tags": []
   },
   "outputs": [
    {
     "data": {
      "application/javascript": [
       "parent.postMessage({\"jupyterEvent\": \"custom.exercise_interaction\", \"data\": {\"outcomeType\": 1, \"valueTowardsCompletion\": 0.25, \"interactionType\": 1, \"questionType\": 1, \"questionId\": \"1_CircleArea\", \"learnToolsVersion\": \"0.3.4\", \"failureMessage\": \"\", \"exceptionClass\": \"\", \"trace\": \"\"}}, \"*\")"
      ],
      "text/plain": [
       "<IPython.core.display.Javascript object>"
      ]
     },
     "metadata": {},
     "output_type": "display_data"
    },
    {
     "data": {
      "text/markdown": [
       "<span style=\"color:#33cc33\">Correct</span>"
      ],
      "text/plain": [
       "Correct"
      ]
     },
     "metadata": {},
     "output_type": "display_data"
    }
   ],
   "source": [
    "pi = 3.14159 # approximate\n",
    "diameter = 3\n",
    "\n",
    "# Create a variable called 'radius' equal to half the diameter\n",
    "radius = diameter / 2\n",
    "\n",
    "# Create a variable called 'area', using the formula for the area of a circle: pi times the radius squared\n",
    "area = pi * radius ** 2 \n",
    "\n",
    "# Check your answer\n",
    "q1.check()"
   ]
  },
  {
   "cell_type": "code",
   "execution_count": 6,
   "id": "68f45189",
   "metadata": {
    "execution": {
     "iopub.execute_input": "2023-02-13T06:46:13.356565Z",
     "iopub.status.busy": "2023-02-13T06:46:13.356179Z",
     "iopub.status.idle": "2023-02-13T06:46:13.361238Z",
     "shell.execute_reply": "2023-02-13T06:46:13.359943Z"
    },
    "papermill": {
     "duration": 0.015985,
     "end_time": "2023-02-13T06:46:13.363481",
     "exception": false,
     "start_time": "2023-02-13T06:46:13.347496",
     "status": "completed"
    },
    "tags": []
   },
   "outputs": [],
   "source": [
    "# Uncomment and run the lines below if you need help.\n",
    "#q1.hint()\n",
    "#q1.solution()"
   ]
  },
  {
   "cell_type": "markdown",
   "id": "3a88f4ef",
   "metadata": {
    "papermill": {
     "duration": 0.007078,
     "end_time": "2023-02-13T06:46:13.377944",
     "exception": false,
     "start_time": "2023-02-13T06:46:13.370866",
     "status": "completed"
    },
    "tags": []
   },
   "source": [
    "<hr/>\n",
    "\n",
    "# 2.\n",
    "\n",
    "Add code to the following cell to swap variables `a` and `b` (so that `a` refers to the object previously referred to by `b` and vice versa)."
   ]
  },
  {
   "cell_type": "code",
   "execution_count": 7,
   "id": "889dfdc6",
   "metadata": {
    "execution": {
     "iopub.execute_input": "2023-02-13T06:46:13.394195Z",
     "iopub.status.busy": "2023-02-13T06:46:13.393814Z",
     "iopub.status.idle": "2023-02-13T06:46:13.402537Z",
     "shell.execute_reply": "2023-02-13T06:46:13.401727Z"
    },
    "papermill": {
     "duration": 0.019427,
     "end_time": "2023-02-13T06:46:13.404623",
     "exception": false,
     "start_time": "2023-02-13T06:46:13.385196",
     "status": "completed"
    },
    "tags": []
   },
   "outputs": [
    {
     "data": {
      "application/javascript": [
       "parent.postMessage({\"jupyterEvent\": \"custom.exercise_interaction\", \"data\": {\"outcomeType\": 1, \"valueTowardsCompletion\": 0.25, \"interactionType\": 1, \"questionType\": 2, \"questionId\": \"2_VariableSwap\", \"learnToolsVersion\": \"0.3.4\", \"failureMessage\": \"\", \"exceptionClass\": \"\", \"trace\": \"\"}}, \"*\")"
      ],
      "text/plain": [
       "<IPython.core.display.Javascript object>"
      ]
     },
     "metadata": {},
     "output_type": "display_data"
    },
    {
     "data": {
      "text/markdown": [
       "<span style=\"color:#33cc33\">Correct:</span> \n",
       "\n",
       "The most straightforward solution is to use a third variable to temporarily store one of the old values. e.g.:\n",
       "\n",
       "    tmp = a\n",
       "    a = b\n",
       "    b = tmp\n",
       "\n",
       "If you've read lots of Python code, you might have seen the following trick to swap two variables in one line:\n",
       "\n",
       "    a, b = b, a\n",
       "\n",
       "We'll demystify this bit of Python magic later when we talk about *tuples*."
      ],
      "text/plain": [
       "Correct: \n",
       "\n",
       "The most straightforward solution is to use a third variable to temporarily store one of the old values. e.g.:\n",
       "\n",
       "    tmp = a\n",
       "    a = b\n",
       "    b = tmp\n",
       "\n",
       "If you've read lots of Python code, you might have seen the following trick to swap two variables in one line:\n",
       "\n",
       "    a, b = b, a\n",
       "\n",
       "We'll demystify this bit of Python magic later when we talk about *tuples*."
      ]
     },
     "metadata": {},
     "output_type": "display_data"
    }
   ],
   "source": [
    "########### Setup code - don't touch this part ######################\n",
    "# If you're curious, these are examples of lists. We'll talk about \n",
    "# them in depth a few lessons from now. For now, just know that they're\n",
    "# yet another type of Python object, like int or float.\n",
    "a = [1, 2, 3]\n",
    "b = [3, 2, 1]\n",
    "q2.store_original_ids()\n",
    "######################################################################\n",
    "\n",
    "# Your code goes here. Swap the values to which a and b refer.\n",
    "# If you get stuck, you can always uncomment one or both of the lines in\n",
    "# the next cell for a hint, or to peek at the solution.\n",
    "\n",
    "# tmp = a\n",
    "# a = b\n",
    "# b = tmp\n",
    "\n",
    "a, b = b, a\n",
    "\n",
    "######################################################################\n",
    "\n",
    "# Check your answer\n",
    "q2.check()"
   ]
  },
  {
   "cell_type": "code",
   "execution_count": 8,
   "id": "1da6979e",
   "metadata": {
    "execution": {
     "iopub.execute_input": "2023-02-13T06:46:13.421686Z",
     "iopub.status.busy": "2023-02-13T06:46:13.421274Z",
     "iopub.status.idle": "2023-02-13T06:46:13.425799Z",
     "shell.execute_reply": "2023-02-13T06:46:13.424792Z"
    },
    "papermill": {
     "duration": 0.015807,
     "end_time": "2023-02-13T06:46:13.428062",
     "exception": false,
     "start_time": "2023-02-13T06:46:13.412255",
     "status": "completed"
    },
    "tags": []
   },
   "outputs": [],
   "source": [
    "# q2.hint()"
   ]
  },
  {
   "cell_type": "code",
   "execution_count": 9,
   "id": "b5f4f6c3",
   "metadata": {
    "execution": {
     "iopub.execute_input": "2023-02-13T06:46:13.444806Z",
     "iopub.status.busy": "2023-02-13T06:46:13.444410Z",
     "iopub.status.idle": "2023-02-13T06:46:13.448628Z",
     "shell.execute_reply": "2023-02-13T06:46:13.447692Z"
    },
    "papermill": {
     "duration": 0.01507,
     "end_time": "2023-02-13T06:46:13.450797",
     "exception": false,
     "start_time": "2023-02-13T06:46:13.435727",
     "status": "completed"
    },
    "tags": []
   },
   "outputs": [],
   "source": [
    "# q2.solution()"
   ]
  },
  {
   "cell_type": "markdown",
   "id": "fbfbf195",
   "metadata": {
    "papermill": {
     "duration": 0.007413,
     "end_time": "2023-02-13T06:46:13.466035",
     "exception": false,
     "start_time": "2023-02-13T06:46:13.458622",
     "status": "completed"
    },
    "tags": []
   },
   "source": [
    "<hr/>\n",
    "\n",
    "# 3a.\n",
    "\n",
    "Add parentheses to the following expression so that it evaluates to 1."
   ]
  },
  {
   "cell_type": "code",
   "execution_count": 10,
   "id": "f87f958e",
   "metadata": {
    "execution": {
     "iopub.execute_input": "2023-02-13T06:46:13.483229Z",
     "iopub.status.busy": "2023-02-13T06:46:13.482771Z",
     "iopub.status.idle": "2023-02-13T06:46:13.489191Z",
     "shell.execute_reply": "2023-02-13T06:46:13.488102Z"
    },
    "papermill": {
     "duration": 0.017689,
     "end_time": "2023-02-13T06:46:13.491366",
     "exception": false,
     "start_time": "2023-02-13T06:46:13.473677",
     "status": "completed"
    },
    "tags": []
   },
   "outputs": [
    {
     "data": {
      "text/plain": [
       "1"
      ]
     },
     "execution_count": 10,
     "metadata": {},
     "output_type": "execute_result"
    }
   ],
   "source": [
    "(5 - 3) // 2"
   ]
  },
  {
   "cell_type": "code",
   "execution_count": 11,
   "id": "41b3b008",
   "metadata": {
    "execution": {
     "iopub.execute_input": "2023-02-13T06:46:13.509230Z",
     "iopub.status.busy": "2023-02-13T06:46:13.508096Z",
     "iopub.status.idle": "2023-02-13T06:46:13.512969Z",
     "shell.execute_reply": "2023-02-13T06:46:13.512154Z"
    },
    "papermill": {
     "duration": 0.016021,
     "end_time": "2023-02-13T06:46:13.515121",
     "exception": false,
     "start_time": "2023-02-13T06:46:13.499100",
     "status": "completed"
    },
    "tags": []
   },
   "outputs": [],
   "source": [
    "#q3.a.hint()"
   ]
  },
  {
   "cell_type": "code",
   "execution_count": 12,
   "id": "1ec2a50c",
   "metadata": {
    "execution": {
     "iopub.execute_input": "2023-02-13T06:46:13.533340Z",
     "iopub.status.busy": "2023-02-13T06:46:13.532118Z",
     "iopub.status.idle": "2023-02-13T06:46:13.540988Z",
     "shell.execute_reply": "2023-02-13T06:46:13.540032Z"
    },
    "papermill": {
     "duration": 0.02105,
     "end_time": "2023-02-13T06:46:13.544167",
     "exception": false,
     "start_time": "2023-02-13T06:46:13.523117",
     "status": "completed"
    },
    "tags": []
   },
   "outputs": [
    {
     "data": {
      "application/javascript": [
       "parent.postMessage({\"jupyterEvent\": \"custom.exercise_interaction\", \"data\": {\"interactionType\": 3, \"questionType\": 4, \"questionId\": \"3.1_ArithmeticParensEasy\", \"learnToolsVersion\": \"0.3.4\", \"valueTowardsCompletion\": 0.0, \"failureMessage\": \"\", \"exceptionClass\": \"\", \"trace\": \"\", \"outcomeType\": 4}}, \"*\")"
      ],
      "text/plain": [
       "<IPython.core.display.Javascript object>"
      ]
     },
     "metadata": {},
     "output_type": "display_data"
    },
    {
     "data": {
      "text/markdown": [
       "<span style=\"color:#33cc99\">Solution:</span> \n",
       "```python\n",
       "(5 - 3) // 2\n",
       "```"
      ],
      "text/plain": [
       "Solution: \n",
       "```python\n",
       "(5 - 3) // 2\n",
       "```"
      ]
     },
     "metadata": {},
     "output_type": "display_data"
    }
   ],
   "source": [
    "# Check your answer (Run this code cell to receive credit!)\n",
    "q3.a.solution()"
   ]
  },
  {
   "cell_type": "markdown",
   "id": "7b1327d6",
   "metadata": {
    "papermill": {
     "duration": 0.007882,
     "end_time": "2023-02-13T06:46:13.560901",
     "exception": false,
     "start_time": "2023-02-13T06:46:13.553019",
     "status": "completed"
    },
    "tags": []
   },
   "source": [
    "# 3b.  <span title=\"A bit spicy\" style=\"color: darkgreen \">🌶️</span>\n",
    "\n",
    "<small>Questions, like this one, marked a spicy pepper are a bit harder.</small>\n",
    "\n",
    "Add parentheses to the following expression so that it evaluates to 0."
   ]
  },
  {
   "cell_type": "code",
   "execution_count": 13,
   "id": "65da25fa",
   "metadata": {
    "execution": {
     "iopub.execute_input": "2023-02-13T06:46:13.578202Z",
     "iopub.status.busy": "2023-02-13T06:46:13.577814Z",
     "iopub.status.idle": "2023-02-13T06:46:13.583839Z",
     "shell.execute_reply": "2023-02-13T06:46:13.582896Z"
    },
    "papermill": {
     "duration": 0.017815,
     "end_time": "2023-02-13T06:46:13.586606",
     "exception": false,
     "start_time": "2023-02-13T06:46:13.568791",
     "status": "completed"
    },
    "tags": []
   },
   "outputs": [
    {
     "data": {
      "text/plain": [
       "0"
      ]
     },
     "execution_count": 13,
     "metadata": {},
     "output_type": "execute_result"
    }
   ],
   "source": [
    "(8 - 3) * (2 - (1 + 1))"
   ]
  },
  {
   "cell_type": "code",
   "execution_count": 14,
   "id": "4ee344cc",
   "metadata": {
    "execution": {
     "iopub.execute_input": "2023-02-13T06:46:13.604522Z",
     "iopub.status.busy": "2023-02-13T06:46:13.604147Z",
     "iopub.status.idle": "2023-02-13T06:46:13.608170Z",
     "shell.execute_reply": "2023-02-13T06:46:13.607131Z"
    },
    "papermill": {
     "duration": 0.015516,
     "end_time": "2023-02-13T06:46:13.610265",
     "exception": false,
     "start_time": "2023-02-13T06:46:13.594749",
     "status": "completed"
    },
    "tags": []
   },
   "outputs": [],
   "source": [
    "#q3.b.hint()"
   ]
  },
  {
   "cell_type": "code",
   "execution_count": 15,
   "id": "419a60b6",
   "metadata": {
    "execution": {
     "iopub.execute_input": "2023-02-13T06:46:13.627976Z",
     "iopub.status.busy": "2023-02-13T06:46:13.627630Z",
     "iopub.status.idle": "2023-02-13T06:46:13.636155Z",
     "shell.execute_reply": "2023-02-13T06:46:13.635037Z"
    },
    "papermill": {
     "duration": 0.020035,
     "end_time": "2023-02-13T06:46:13.638480",
     "exception": false,
     "start_time": "2023-02-13T06:46:13.618445",
     "status": "completed"
    },
    "tags": []
   },
   "outputs": [
    {
     "data": {
      "application/javascript": [
       "parent.postMessage({\"jupyterEvent\": \"custom.exercise_interaction\", \"data\": {\"interactionType\": 3, \"questionType\": 4, \"questionId\": \"3.2_ArithmeticParensHard\", \"learnToolsVersion\": \"0.3.4\", \"valueTowardsCompletion\": 0.0, \"failureMessage\": \"\", \"exceptionClass\": \"\", \"trace\": \"\", \"outcomeType\": 4}}, \"*\")"
      ],
      "text/plain": [
       "<IPython.core.display.Javascript object>"
      ]
     },
     "metadata": {},
     "output_type": "display_data"
    },
    {
     "data": {
      "text/markdown": [
       "<span style=\"color:#33cc99\">Solution:</span> `(8 - 3) * (2 - (1 + 1))` is one solution. There may be others."
      ],
      "text/plain": [
       "Solution: `(8 - 3) * (2 - (1 + 1))` is one solution. There may be others."
      ]
     },
     "metadata": {},
     "output_type": "display_data"
    }
   ],
   "source": [
    "# Check your answer (Run this code cell to receive credit!)\n",
    "q3.b.solution()"
   ]
  },
  {
   "cell_type": "markdown",
   "id": "9432ec3b",
   "metadata": {
    "papermill": {
     "duration": 0.00817,
     "end_time": "2023-02-13T06:46:13.655455",
     "exception": false,
     "start_time": "2023-02-13T06:46:13.647285",
     "status": "completed"
    },
    "tags": []
   },
   "source": [
    "<hr/>\n",
    "\n",
    "# 4. \n",
    "Alice, Bob and Carol have agreed to pool their Halloween candy and split it evenly among themselves.\n",
    "For the sake of their friendship, any candies left over will be smashed. For example, if they collectively\n",
    "bring home 91 candies, they'll take 30 each and smash 1.\n",
    "\n",
    "Write an arithmetic expression below to calculate how many candies they must smash for a given haul."
   ]
  },
  {
   "cell_type": "code",
   "execution_count": 16,
   "id": "f9f622ed",
   "metadata": {
    "execution": {
     "iopub.execute_input": "2023-02-13T06:46:13.673839Z",
     "iopub.status.busy": "2023-02-13T06:46:13.673436Z",
     "iopub.status.idle": "2023-02-13T06:46:13.682022Z",
     "shell.execute_reply": "2023-02-13T06:46:13.680988Z"
    },
    "papermill": {
     "duration": 0.02025,
     "end_time": "2023-02-13T06:46:13.684134",
     "exception": false,
     "start_time": "2023-02-13T06:46:13.663884",
     "status": "completed"
    },
    "tags": []
   },
   "outputs": [
    {
     "data": {
      "application/javascript": [
       "parent.postMessage({\"jupyterEvent\": \"custom.exercise_interaction\", \"data\": {\"outcomeType\": 1, \"valueTowardsCompletion\": 0.25, \"interactionType\": 1, \"questionType\": 1, \"questionId\": \"4_CandySplitting\", \"learnToolsVersion\": \"0.3.4\", \"failureMessage\": \"\", \"exceptionClass\": \"\", \"trace\": \"\"}}, \"*\")"
      ],
      "text/plain": [
       "<IPython.core.display.Javascript object>"
      ]
     },
     "metadata": {},
     "output_type": "display_data"
    },
    {
     "data": {
      "text/markdown": [
       "<span style=\"color:#33cc33\">Correct</span>"
      ],
      "text/plain": [
       "Correct"
      ]
     },
     "metadata": {},
     "output_type": "display_data"
    }
   ],
   "source": [
    "# Variables representing the number of candies collected by alice, bob, and carol\n",
    "alice_candies = 121\n",
    "bob_candies = 77\n",
    "carol_candies = 109\n",
    "\n",
    "# Your code goes here! Replace the right-hand side of this assignment with an expression\n",
    "# involving alice_candies, bob_candies, and carol_candies\n",
    "to_smash = (alice_candies + bob_candies + carol_candies) % 3\n",
    "\n",
    "# Check your answer\n",
    "q4.check()"
   ]
  },
  {
   "cell_type": "code",
   "execution_count": 17,
   "id": "acc72367",
   "metadata": {
    "execution": {
     "iopub.execute_input": "2023-02-13T06:46:13.703747Z",
     "iopub.status.busy": "2023-02-13T06:46:13.703066Z",
     "iopub.status.idle": "2023-02-13T06:46:13.706606Z",
     "shell.execute_reply": "2023-02-13T06:46:13.705860Z"
    },
    "papermill": {
     "duration": 0.015753,
     "end_time": "2023-02-13T06:46:13.708619",
     "exception": false,
     "start_time": "2023-02-13T06:46:13.692866",
     "status": "completed"
    },
    "tags": []
   },
   "outputs": [],
   "source": [
    "# q4.hint()\n",
    "# q4.solution()"
   ]
  },
  {
   "cell_type": "markdown",
   "id": "2dc98651",
   "metadata": {
    "papermill": {
     "duration": 0.008103,
     "end_time": "2023-02-13T06:46:13.725149",
     "exception": false,
     "start_time": "2023-02-13T06:46:13.717046",
     "status": "completed"
    },
    "tags": []
   },
   "source": [
    "# Keep Going\n",
    "\n",
    "Next up, you'll **[learn to write new functions and understand functions others write](https://www.kaggle.com/colinmorris/functions-and-getting-help)**. This will make you at least 10 times more productive as a Python programmer. "
   ]
  },
  {
   "cell_type": "markdown",
   "id": "886f37c9",
   "metadata": {
    "papermill": {
     "duration": 0.008151,
     "end_time": "2023-02-13T06:46:13.742777",
     "exception": false,
     "start_time": "2023-02-13T06:46:13.734626",
     "status": "completed"
    },
    "tags": []
   },
   "source": [
    "---\n",
    "\n",
    "\n",
    "\n",
    "\n",
    "*Have questions or comments? Visit the [course discussion forum](https://www.kaggle.com/learn/python/discussion) to chat with other learners.*"
   ]
  }
 ],
 "metadata": {
  "kernelspec": {
   "display_name": "Python 3",
   "language": "python",
   "name": "python3"
  },
  "language_info": {
   "codemirror_mode": {
    "name": "ipython",
    "version": 3
   },
   "file_extension": ".py",
   "mimetype": "text/x-python",
   "name": "python",
   "nbconvert_exporter": "python",
   "pygments_lexer": "ipython3",
   "version": "3.7.12"
  },
  "papermill": {
   "default_parameters": {},
   "duration": 9.697744,
   "end_time": "2023-02-13T06:46:14.371511",
   "environment_variables": {},
   "exception": null,
   "input_path": "__notebook__.ipynb",
   "output_path": "__notebook__.ipynb",
   "parameters": {},
   "start_time": "2023-02-13T06:46:04.673767",
   "version": "2.3.4"
  }
 },
 "nbformat": 4,
 "nbformat_minor": 5
}
