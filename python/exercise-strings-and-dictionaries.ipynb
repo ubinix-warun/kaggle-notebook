{
 "cells": [
  {
   "cell_type": "markdown",
   "id": "0406d550",
   "metadata": {
    "papermill": {
     "duration": 0.006596,
     "end_time": "2023-09-07T04:05:13.533567",
     "exception": false,
     "start_time": "2023-09-07T04:05:13.526971",
     "status": "completed"
    },
    "tags": []
   },
   "source": [
    "**This notebook is an exercise in the [Python](https://www.kaggle.com/learn/python) course.  You can reference the tutorial at [this link](https://www.kaggle.com/colinmorris/strings-and-dictionaries).**\n",
    "\n",
    "---\n"
   ]
  },
  {
   "cell_type": "markdown",
   "id": "026a540a",
   "metadata": {
    "papermill": {
     "duration": 0.005958,
     "end_time": "2023-09-07T04:05:13.545420",
     "exception": false,
     "start_time": "2023-09-07T04:05:13.539462",
     "status": "completed"
    },
    "tags": []
   },
   "source": [
    "You are almost done with the course. Nice job!\n",
    "\n",
    "We have a couple more interesting problems for you before you go. \n",
    "\n",
    "As always, run the setup code below before working on the questions."
   ]
  },
  {
   "cell_type": "code",
   "execution_count": 1,
   "id": "ddef0adf",
   "metadata": {
    "execution": {
     "iopub.execute_input": "2023-09-07T04:05:13.559259Z",
     "iopub.status.busy": "2023-09-07T04:05:13.557998Z",
     "iopub.status.idle": "2023-09-07T04:05:13.914768Z",
     "shell.execute_reply": "2023-09-07T04:05:13.913587Z"
    },
    "papermill": {
     "duration": 0.365543,
     "end_time": "2023-09-07T04:05:13.916707",
     "exception": false,
     "start_time": "2023-09-07T04:05:13.551164",
     "status": "completed"
    },
    "tags": []
   },
   "outputs": [
    {
     "name": "stdout",
     "output_type": "stream",
     "text": [
      "Setup complete.\n"
     ]
    }
   ],
   "source": [
    "from learntools.core import binder; binder.bind(globals())\n",
    "from learntools.python.ex6 import *\n",
    "print('Setup complete.')"
   ]
  },
  {
   "cell_type": "markdown",
   "id": "6610e686",
   "metadata": {
    "papermill": {
     "duration": 0.006015,
     "end_time": "2023-09-07T04:05:13.928754",
     "exception": false,
     "start_time": "2023-09-07T04:05:13.922739",
     "status": "completed"
    },
    "tags": []
   },
   "source": [
    "Let's start with a string lightning round to warm up. What are the lengths of the strings below?\n",
    "\n",
    "For each of the five strings below, predict what `len()` would return when passed that string. Use the variable `length` to record your answer, then run the cell to check whether you were right.  \n",
    "\n",
    "# 0a."
   ]
  },
  {
   "cell_type": "code",
   "execution_count": 2,
   "id": "fc221113",
   "metadata": {
    "execution": {
     "iopub.execute_input": "2023-09-07T04:05:13.945094Z",
     "iopub.status.busy": "2023-09-07T04:05:13.943734Z",
     "iopub.status.idle": "2023-09-07T04:05:13.951921Z",
     "shell.execute_reply": "2023-09-07T04:05:13.951333Z"
    },
    "papermill": {
     "duration": 0.019837,
     "end_time": "2023-09-07T04:05:13.954306",
     "exception": false,
     "start_time": "2023-09-07T04:05:13.934469",
     "status": "completed"
    },
    "tags": []
   },
   "outputs": [
    {
     "data": {
      "application/javascript": [
       "parent.postMessage({\"jupyterEvent\": \"custom.exercise_interaction\", \"data\": {\"outcomeType\": 1, \"valueTowardsCompletion\": 0.3333333333333333, \"interactionType\": 1, \"questionType\": 1, \"questionId\": \"0.1_ZA\", \"learnToolsVersion\": \"0.3.4\", \"failureMessage\": \"\", \"exceptionClass\": \"\", \"trace\": \"\"}}, \"*\")"
      ],
      "text/plain": [
       "<IPython.core.display.Javascript object>"
      ]
     },
     "metadata": {},
     "output_type": "display_data"
    },
    {
     "data": {
      "text/markdown": [
       "<span style=\"color:#33cc33\">Correct:</span> \n",
       "\n",
       "The empty string has length zero. Note that the empty string is also the only string that Python considers as False when converting to boolean."
      ],
      "text/plain": [
       "Correct: \n",
       "\n",
       "The empty string has length zero. Note that the empty string is also the only string that Python considers as False when converting to boolean."
      ]
     },
     "metadata": {},
     "output_type": "display_data"
    }
   ],
   "source": [
    "a = \"\"\n",
    "length = len(a)\n",
    "q0.a.check()"
   ]
  },
  {
   "cell_type": "markdown",
   "id": "2239b51d",
   "metadata": {
    "papermill": {
     "duration": 0.005875,
     "end_time": "2023-09-07T04:05:13.966687",
     "exception": false,
     "start_time": "2023-09-07T04:05:13.960812",
     "status": "completed"
    },
    "tags": []
   },
   "source": [
    "# 0b."
   ]
  },
  {
   "cell_type": "code",
   "execution_count": 3,
   "id": "20f523bc",
   "metadata": {
    "execution": {
     "iopub.execute_input": "2023-09-07T04:05:13.980439Z",
     "iopub.status.busy": "2023-09-07T04:05:13.979974Z",
     "iopub.status.idle": "2023-09-07T04:05:13.986179Z",
     "shell.execute_reply": "2023-09-07T04:05:13.985049Z"
    },
    "papermill": {
     "duration": 0.015963,
     "end_time": "2023-09-07T04:05:13.988687",
     "exception": false,
     "start_time": "2023-09-07T04:05:13.972724",
     "status": "completed"
    },
    "tags": []
   },
   "outputs": [
    {
     "data": {
      "application/javascript": [
       "parent.postMessage({\"jupyterEvent\": \"custom.exercise_interaction\", \"data\": {\"outcomeType\": 1, \"valueTowardsCompletion\": 0.3333333333333333, \"interactionType\": 1, \"questionType\": 1, \"questionId\": \"0.2_ZB\", \"learnToolsVersion\": \"0.3.4\", \"failureMessage\": \"\", \"exceptionClass\": \"\", \"trace\": \"\"}}, \"*\")"
      ],
      "text/plain": [
       "<IPython.core.display.Javascript object>"
      ]
     },
     "metadata": {},
     "output_type": "display_data"
    },
    {
     "data": {
      "text/markdown": [
       "<span style=\"color:#33cc33\">Correct:</span> \n",
       "\n",
       "Keep in mind Python includes spaces (and punctuation) when counting string length."
      ],
      "text/plain": [
       "Correct: \n",
       "\n",
       "Keep in mind Python includes spaces (and punctuation) when counting string length."
      ]
     },
     "metadata": {},
     "output_type": "display_data"
    }
   ],
   "source": [
    "b = \"it's ok\"\n",
    "length = len(b)\n",
    "q0.b.check()"
   ]
  },
  {
   "cell_type": "markdown",
   "id": "0e55ceee",
   "metadata": {
    "papermill": {
     "duration": 0.006413,
     "end_time": "2023-09-07T04:05:14.001880",
     "exception": false,
     "start_time": "2023-09-07T04:05:13.995467",
     "status": "completed"
    },
    "tags": []
   },
   "source": [
    "# 0c."
   ]
  },
  {
   "cell_type": "code",
   "execution_count": 4,
   "id": "e5ea18fc",
   "metadata": {
    "execution": {
     "iopub.execute_input": "2023-09-07T04:05:14.017781Z",
     "iopub.status.busy": "2023-09-07T04:05:14.017183Z",
     "iopub.status.idle": "2023-09-07T04:05:14.024015Z",
     "shell.execute_reply": "2023-09-07T04:05:14.023183Z"
    },
    "papermill": {
     "duration": 0.01692,
     "end_time": "2023-09-07T04:05:14.026119",
     "exception": false,
     "start_time": "2023-09-07T04:05:14.009199",
     "status": "completed"
    },
    "tags": []
   },
   "outputs": [
    {
     "data": {
      "application/javascript": [
       "parent.postMessage({\"jupyterEvent\": \"custom.exercise_interaction\", \"data\": {\"outcomeType\": 1, \"valueTowardsCompletion\": 0.3333333333333333, \"interactionType\": 1, \"questionType\": 1, \"questionId\": \"0.3_ZC\", \"learnToolsVersion\": \"0.3.4\", \"failureMessage\": \"\", \"exceptionClass\": \"\", \"trace\": \"\"}}, \"*\")"
      ],
      "text/plain": [
       "<IPython.core.display.Javascript object>"
      ]
     },
     "metadata": {},
     "output_type": "display_data"
    },
    {
     "data": {
      "text/markdown": [
       "<span style=\"color:#33cc33\">Correct:</span> \n",
       "\n",
       "Even though we use different syntax to create it, the string `c` is identical to `b`. In particular, note that the backslash is not part of the string, so it doesn't contribute to its length."
      ],
      "text/plain": [
       "Correct: \n",
       "\n",
       "Even though we use different syntax to create it, the string `c` is identical to `b`. In particular, note that the backslash is not part of the string, so it doesn't contribute to its length."
      ]
     },
     "metadata": {},
     "output_type": "display_data"
    }
   ],
   "source": [
    "c = 'it\\'s ok'\n",
    "length = len(c)\n",
    "q0.c.check()"
   ]
  },
  {
   "cell_type": "markdown",
   "id": "27b9c3f3",
   "metadata": {
    "papermill": {
     "duration": 0.006045,
     "end_time": "2023-09-07T04:05:14.038898",
     "exception": false,
     "start_time": "2023-09-07T04:05:14.032853",
     "status": "completed"
    },
    "tags": []
   },
   "source": [
    "# 0d."
   ]
  },
  {
   "cell_type": "code",
   "execution_count": 5,
   "id": "f2d5f3ee",
   "metadata": {
    "execution": {
     "iopub.execute_input": "2023-09-07T04:05:14.054343Z",
     "iopub.status.busy": "2023-09-07T04:05:14.053862Z",
     "iopub.status.idle": "2023-09-07T04:05:14.062722Z",
     "shell.execute_reply": "2023-09-07T04:05:14.061692Z"
    },
    "papermill": {
     "duration": 0.019237,
     "end_time": "2023-09-07T04:05:14.064422",
     "exception": false,
     "start_time": "2023-09-07T04:05:14.045185",
     "status": "completed"
    },
    "tags": []
   },
   "outputs": [
    {
     "data": {
      "application/javascript": [
       "parent.postMessage({\"jupyterEvent\": \"custom.exercise_interaction\", \"data\": {\"outcomeType\": 1, \"valueTowardsCompletion\": 0.3333333333333333, \"interactionType\": 1, \"questionType\": 1, \"questionId\": \"0.4_ZD\", \"learnToolsVersion\": \"0.3.4\", \"failureMessage\": \"\", \"exceptionClass\": \"\", \"trace\": \"\"}}, \"*\")"
      ],
      "text/plain": [
       "<IPython.core.display.Javascript object>"
      ]
     },
     "metadata": {},
     "output_type": "display_data"
    },
    {
     "data": {
      "text/markdown": [
       "<span style=\"color:#33cc33\">Correct:</span> \n",
       "\n",
       "The fact that this string was created using triple-quote syntax doesn't make any difference in terms of its content or length. This string is exactly the same as `'hey'`."
      ],
      "text/plain": [
       "Correct: \n",
       "\n",
       "The fact that this string was created using triple-quote syntax doesn't make any difference in terms of its content or length. This string is exactly the same as `'hey'`."
      ]
     },
     "metadata": {},
     "output_type": "display_data"
    }
   ],
   "source": [
    "d = \"\"\"hey\"\"\"\n",
    "length = len(d)\n",
    "q0.d.check()"
   ]
  },
  {
   "cell_type": "markdown",
   "id": "7b6fef9a",
   "metadata": {
    "papermill": {
     "duration": 0.00635,
     "end_time": "2023-09-07T04:05:14.077653",
     "exception": false,
     "start_time": "2023-09-07T04:05:14.071303",
     "status": "completed"
    },
    "tags": []
   },
   "source": [
    "# 0e."
   ]
  },
  {
   "cell_type": "code",
   "execution_count": 6,
   "id": "7392b839",
   "metadata": {
    "execution": {
     "iopub.execute_input": "2023-09-07T04:05:14.093236Z",
     "iopub.status.busy": "2023-09-07T04:05:14.092206Z",
     "iopub.status.idle": "2023-09-07T04:05:14.100490Z",
     "shell.execute_reply": "2023-09-07T04:05:14.099468Z"
    },
    "papermill": {
     "duration": 0.018459,
     "end_time": "2023-09-07T04:05:14.102577",
     "exception": false,
     "start_time": "2023-09-07T04:05:14.084118",
     "status": "completed"
    },
    "tags": []
   },
   "outputs": [
    {
     "data": {
      "application/javascript": [
       "parent.postMessage({\"jupyterEvent\": \"custom.exercise_interaction\", \"data\": {\"outcomeType\": 1, \"valueTowardsCompletion\": 0.3333333333333333, \"interactionType\": 1, \"questionType\": 1, \"questionId\": \"0.5_ZE\", \"learnToolsVersion\": \"0.3.4\", \"failureMessage\": \"\", \"exceptionClass\": \"\", \"trace\": \"\"}}, \"*\")"
      ],
      "text/plain": [
       "<IPython.core.display.Javascript object>"
      ]
     },
     "metadata": {},
     "output_type": "display_data"
    },
    {
     "data": {
      "text/markdown": [
       "<span style=\"color:#33cc33\">Correct:</span> \n",
       "\n",
       "The newline character is just a single character! (Even though we represent it to Python using a combination of two characters.)"
      ],
      "text/plain": [
       "Correct: \n",
       "\n",
       "The newline character is just a single character! (Even though we represent it to Python using a combination of two characters.)"
      ]
     },
     "metadata": {},
     "output_type": "display_data"
    }
   ],
   "source": [
    "e = '\\n'\n",
    "length = len(e)\n",
    "q0.e.check()"
   ]
  },
  {
   "cell_type": "markdown",
   "id": "a8f4ffc0",
   "metadata": {
    "papermill": {
     "duration": 0.006803,
     "end_time": "2023-09-07T04:05:14.116728",
     "exception": false,
     "start_time": "2023-09-07T04:05:14.109925",
     "status": "completed"
    },
    "tags": []
   },
   "source": [
    "# 1.\n",
    "\n",
    "There is a saying that \"Data scientists spend 80% of their time cleaning data, and 20% of their time complaining about cleaning data.\" Let's see if you can write a function to help clean US zip code data. Given a string, it should return whether or not that string represents a valid zip code. For our purposes, a valid zip code is any string consisting of exactly 5 digits.\n",
    "\n",
    "HINT: `str` has a method that will be useful here. Use `help(str)` to review a list of string methods."
   ]
  },
  {
   "cell_type": "code",
   "execution_count": 7,
   "id": "1047defa",
   "metadata": {
    "execution": {
     "iopub.execute_input": "2023-09-07T04:05:14.132716Z",
     "iopub.status.busy": "2023-09-07T04:05:14.132372Z",
     "iopub.status.idle": "2023-09-07T04:05:14.140532Z",
     "shell.execute_reply": "2023-09-07T04:05:14.139501Z"
    },
    "papermill": {
     "duration": 0.018709,
     "end_time": "2023-09-07T04:05:14.142486",
     "exception": false,
     "start_time": "2023-09-07T04:05:14.123777",
     "status": "completed"
    },
    "tags": []
   },
   "outputs": [
    {
     "data": {
      "application/javascript": [
       "parent.postMessage({\"jupyterEvent\": \"custom.exercise_interaction\", \"data\": {\"outcomeType\": 1, \"valueTowardsCompletion\": 0.3333333333333333, \"interactionType\": 1, \"questionType\": 2, \"questionId\": \"1_ZipValidator\", \"learnToolsVersion\": \"0.3.4\", \"failureMessage\": \"\", \"exceptionClass\": \"\", \"trace\": \"\"}}, \"*\")"
      ],
      "text/plain": [
       "<IPython.core.display.Javascript object>"
      ]
     },
     "metadata": {},
     "output_type": "display_data"
    },
    {
     "data": {
      "text/markdown": [
       "<span style=\"color:#33cc33\">Correct</span>"
      ],
      "text/plain": [
       "Correct"
      ]
     },
     "metadata": {},
     "output_type": "display_data"
    }
   ],
   "source": [
    "def is_valid_zip(zip_code):\n",
    "    \"\"\"Returns whether the input string is a valid (5 digit) zip code\n",
    "    \"\"\"\n",
    "#     print(help(zip_code))\n",
    "    return len(zip_code) == 5 and zip_code.isdigit()\n",
    "\n",
    "# Check your answer\n",
    "q1.check()"
   ]
  },
  {
   "cell_type": "code",
   "execution_count": 8,
   "id": "292a4a40",
   "metadata": {
    "execution": {
     "iopub.execute_input": "2023-09-07T04:05:14.158823Z",
     "iopub.status.busy": "2023-09-07T04:05:14.158284Z",
     "iopub.status.idle": "2023-09-07T04:05:14.161781Z",
     "shell.execute_reply": "2023-09-07T04:05:14.160864Z"
    },
    "papermill": {
     "duration": 0.013883,
     "end_time": "2023-09-07T04:05:14.163589",
     "exception": false,
     "start_time": "2023-09-07T04:05:14.149706",
     "status": "completed"
    },
    "tags": []
   },
   "outputs": [],
   "source": [
    "#q1.hint()\n",
    "#q1.solution()"
   ]
  },
  {
   "cell_type": "markdown",
   "id": "b513f39a",
   "metadata": {
    "papermill": {
     "duration": 0.007179,
     "end_time": "2023-09-07T04:05:14.178283",
     "exception": false,
     "start_time": "2023-09-07T04:05:14.171104",
     "status": "completed"
    },
    "tags": []
   },
   "source": [
    "# 2.\n",
    "\n",
    "A researcher has gathered thousands of news articles. But she wants to focus her attention on articles including a specific word. Complete the function below to help her filter her list of articles.\n",
    "\n",
    "Your function should meet the following criteria:\n",
    "\n",
    "- Do not include documents where the keyword string shows up only as a part of a larger word. For example, if she were looking for the keyword “closed”, you would not include the string “enclosed.” \n",
    "- She does not want you to distinguish upper case from lower case letters. So the phrase “Closed the case.” would be included when the keyword is “closed”\n",
    "- Do not let periods or commas affect what is matched. “It is closed.” would be included when the keyword is “closed”. But you can assume there are no other types of punctuation."
   ]
  },
  {
   "cell_type": "code",
   "execution_count": 9,
   "id": "15ca7629",
   "metadata": {
    "execution": {
     "iopub.execute_input": "2023-09-07T04:05:14.194685Z",
     "iopub.status.busy": "2023-09-07T04:05:14.194129Z",
     "iopub.status.idle": "2023-09-07T04:05:14.203065Z",
     "shell.execute_reply": "2023-09-07T04:05:14.202164Z"
    },
    "papermill": {
     "duration": 0.019486,
     "end_time": "2023-09-07T04:05:14.204872",
     "exception": false,
     "start_time": "2023-09-07T04:05:14.185386",
     "status": "completed"
    },
    "tags": []
   },
   "outputs": [
    {
     "data": {
      "application/javascript": [
       "parent.postMessage({\"jupyterEvent\": \"custom.exercise_interaction\", \"data\": {\"outcomeType\": 1, \"valueTowardsCompletion\": 0.3333333333333333, \"interactionType\": 1, \"questionType\": 2, \"questionId\": \"2_WordSearch\", \"learnToolsVersion\": \"0.3.4\", \"failureMessage\": \"\", \"exceptionClass\": \"\", \"trace\": \"\"}}, \"*\")"
      ],
      "text/plain": [
       "<IPython.core.display.Javascript object>"
      ]
     },
     "metadata": {},
     "output_type": "display_data"
    },
    {
     "data": {
      "text/markdown": [
       "<span style=\"color:#33cc33\">Correct</span>"
      ],
      "text/plain": [
       "Correct"
      ]
     },
     "metadata": {},
     "output_type": "display_data"
    }
   ],
   "source": [
    "def word_search(doc_list, keyword):\n",
    "    \"\"\"\n",
    "    Takes a list of documents (each document is a string) and a keyword. \n",
    "    Returns list of the index values into the original list for all documents \n",
    "    containing the keyword.\n",
    "\n",
    "    Example:\n",
    "    doc_list = [\"The Learn Python Challenge Casino.\", \"They bought a car\", \"Casinoville\"]\n",
    "    >>> word_search(doc_list, 'casino')\n",
    "    >>> [0]\n",
    "    \"\"\"\n",
    "    \n",
    "    index = []\n",
    "    for i in range(len(doc_list)):\n",
    "        doc = doc_list[i].lower().split(' ')\n",
    "        for d in doc:\n",
    "            x = ''.join(letter for letter in d if letter.isalnum())\n",
    "            if keyword.lower() == x:\n",
    "                index.append(i)\n",
    "                break\n",
    "            \n",
    "\n",
    "    return index;\n",
    "\n",
    "# Check your answer\n",
    "q2.check()"
   ]
  },
  {
   "cell_type": "code",
   "execution_count": 10,
   "id": "0fbcb3cd",
   "metadata": {
    "execution": {
     "iopub.execute_input": "2023-09-07T04:05:14.221777Z",
     "iopub.status.busy": "2023-09-07T04:05:14.221419Z",
     "iopub.status.idle": "2023-09-07T04:05:14.225822Z",
     "shell.execute_reply": "2023-09-07T04:05:14.224613Z"
    },
    "papermill": {
     "duration": 0.015411,
     "end_time": "2023-09-07T04:05:14.227819",
     "exception": false,
     "start_time": "2023-09-07T04:05:14.212408",
     "status": "completed"
    },
    "tags": []
   },
   "outputs": [],
   "source": [
    "# q2.hint()\n",
    "#q2.solution()"
   ]
  },
  {
   "cell_type": "markdown",
   "id": "a552f6fa",
   "metadata": {
    "papermill": {
     "duration": 0.006961,
     "end_time": "2023-09-07T04:05:14.242360",
     "exception": false,
     "start_time": "2023-09-07T04:05:14.235399",
     "status": "completed"
    },
    "tags": []
   },
   "source": [
    "# 3.\n",
    "\n",
    "Now the researcher wants to supply multiple keywords to search for. Complete the function below to help her.\n",
    "\n",
    "(You're encouraged to use the `word_search` function you just wrote when implementing this function. Reusing code in this way makes your programs more robust and readable - and it saves typing!)"
   ]
  },
  {
   "cell_type": "code",
   "execution_count": 11,
   "id": "8f02298b",
   "metadata": {
    "execution": {
     "iopub.execute_input": "2023-09-07T04:05:14.258932Z",
     "iopub.status.busy": "2023-09-07T04:05:14.258280Z",
     "iopub.status.idle": "2023-09-07T04:05:14.265700Z",
     "shell.execute_reply": "2023-09-07T04:05:14.264562Z"
    },
    "papermill": {
     "duration": 0.018539,
     "end_time": "2023-09-07T04:05:14.267950",
     "exception": false,
     "start_time": "2023-09-07T04:05:14.249411",
     "status": "completed"
    },
    "tags": []
   },
   "outputs": [
    {
     "data": {
      "application/javascript": [
       "parent.postMessage({\"jupyterEvent\": \"custom.exercise_interaction\", \"data\": {\"outcomeType\": 4, \"interactionType\": 1, \"questionType\": 2, \"questionId\": \"3_MultiWordSearch\", \"learnToolsVersion\": \"0.3.4\", \"valueTowardsCompletion\": 0.0, \"failureMessage\": \"\", \"exceptionClass\": \"\", \"trace\": \"\"}}, \"*\")"
      ],
      "text/plain": [
       "<IPython.core.display.Javascript object>"
      ]
     },
     "metadata": {},
     "output_type": "display_data"
    },
    {
     "data": {
      "text/markdown": [
       "<span style=\"color:#ccaa33\">Check:</span> When you've updated the starter code, `check()` will tell you whether your code is correct. "
      ],
      "text/plain": [
       "Check: When you've updated the starter code, `check()` will tell you whether your code is correct. "
      ]
     },
     "metadata": {},
     "output_type": "display_data"
    }
   ],
   "source": [
    "def multi_word_search(doc_list, keywords):\n",
    "    \"\"\"\n",
    "    Takes list of documents (each document is a string) and a list of keywords.  \n",
    "    Returns a dictionary where each key is a keyword, and the value is a list of indices\n",
    "    (from doc_list) of the documents containing that keyword\n",
    "\n",
    "    >>> doc_list = [\"The Learn Python Challenge Casino.\", \"They bought a car and a casino\", \"Casinoville\"]\n",
    "    >>> keywords = ['casino', 'they']\n",
    "    >>> multi_word_search(doc_list, keywords)\n",
    "    {'casino': [0, 1], 'they': [1]}\n",
    "    \"\"\"\n",
    "    pass\n",
    "\n",
    "# Check your answer\n",
    "q3.check()"
   ]
  },
  {
   "cell_type": "code",
   "execution_count": 12,
   "id": "43c7a7ce",
   "metadata": {
    "execution": {
     "iopub.execute_input": "2023-09-07T04:05:14.286338Z",
     "iopub.status.busy": "2023-09-07T04:05:14.285695Z",
     "iopub.status.idle": "2023-09-07T04:05:14.289652Z",
     "shell.execute_reply": "2023-09-07T04:05:14.288625Z"
    },
    "papermill": {
     "duration": 0.016082,
     "end_time": "2023-09-07T04:05:14.292203",
     "exception": false,
     "start_time": "2023-09-07T04:05:14.276121",
     "status": "completed"
    },
    "tags": []
   },
   "outputs": [],
   "source": [
    "#q3.solution()"
   ]
  },
  {
   "cell_type": "markdown",
   "id": "5b5b1cb7",
   "metadata": {
    "papermill": {
     "duration": 0.007638,
     "end_time": "2023-09-07T04:05:14.308307",
     "exception": false,
     "start_time": "2023-09-07T04:05:14.300669",
     "status": "completed"
    },
    "tags": []
   },
   "source": [
    "# Keep Going\n",
    "\n",
    "You've learned a lot. But even the best programmers rely heavily on \"libraries\" of code from other programmers. You'll learn about that in **[the last lesson](https://www.kaggle.com/colinmorris/working-with-external-libraries)**.\n"
   ]
  },
  {
   "cell_type": "markdown",
   "id": "22bd30d2",
   "metadata": {
    "papermill": {
     "duration": 0.008986,
     "end_time": "2023-09-07T04:05:14.325936",
     "exception": false,
     "start_time": "2023-09-07T04:05:14.316950",
     "status": "completed"
    },
    "tags": []
   },
   "source": [
    "---\n",
    "\n",
    "\n",
    "\n",
    "\n",
    "*Have questions or comments? Visit the [course discussion forum](https://www.kaggle.com/learn/python/discussion) to chat with other learners.*"
   ]
  }
 ],
 "kernelspec": {
  "display_name": "Python 3",
  "language": "python",
  "name": "python3"
 },
 "language_info": {
  "codemirror_mode": {
   "name": "ipython",
   "version": 3
  },
  "file_extension": ".py",
  "mimetype": "text/x-python",
  "name": "python",
  "nbconvert_exporter": "python",
  "pygments_lexer": "ipython3",
  "version": "3.6.4"
 },
 "metadata": {
  "kernelspec": {
   "display_name": "Python 3",
   "language": "python",
   "name": "python3"
  },
  "language_info": {
   "codemirror_mode": {
    "name": "ipython",
    "version": 3
   },
   "file_extension": ".py",
   "mimetype": "text/x-python",
   "name": "python",
   "nbconvert_exporter": "python",
   "pygments_lexer": "ipython3",
   "version": "3.10.12"
  },
  "papermill": {
   "default_parameters": {},
   "duration": 4.084484,
   "end_time": "2023-09-07T04:05:14.753314",
   "environment_variables": {},
   "exception": null,
   "input_path": "__notebook__.ipynb",
   "output_path": "__notebook__.ipynb",
   "parameters": {},
   "start_time": "2023-09-07T04:05:10.668830",
   "version": "2.4.0"
  }
 },
 "nbformat": 4,
 "nbformat_minor": 5
}
