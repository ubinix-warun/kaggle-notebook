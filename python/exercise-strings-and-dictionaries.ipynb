{
 "cells": [
  {
   "cell_type": "markdown",
   "id": "9dd62f44",
   "metadata": {
    "papermill": {
     "duration": 0.008328,
     "end_time": "2023-05-25T00:59:08.829623",
     "exception": false,
     "start_time": "2023-05-25T00:59:08.821295",
     "status": "completed"
    },
    "tags": []
   },
   "source": [
    "**This notebook is an exercise in the [Python](https://www.kaggle.com/learn/python) course.  You can reference the tutorial at [this link](https://www.kaggle.com/colinmorris/strings-and-dictionaries).**\n",
    "\n",
    "---\n"
   ]
  },
  {
   "cell_type": "markdown",
   "id": "2c99db77",
   "metadata": {
    "papermill": {
     "duration": 0.007262,
     "end_time": "2023-05-25T00:59:08.844440",
     "exception": false,
     "start_time": "2023-05-25T00:59:08.837178",
     "status": "completed"
    },
    "tags": []
   },
   "source": [
    "You are almost done with the course. Nice job!\n",
    "\n",
    "We have a couple more interesting problems for you before you go. \n",
    "\n",
    "As always, run the setup code below before working on the questions."
   ]
  },
  {
   "cell_type": "code",
   "execution_count": 1,
   "id": "a1c6d7bf",
   "metadata": {
    "execution": {
     "iopub.execute_input": "2023-05-25T00:59:08.862768Z",
     "iopub.status.busy": "2023-05-25T00:59:08.861841Z",
     "iopub.status.idle": "2023-05-25T00:59:08.931818Z",
     "shell.execute_reply": "2023-05-25T00:59:08.930261Z"
    },
    "papermill": {
     "duration": 0.082314,
     "end_time": "2023-05-25T00:59:08.934652",
     "exception": false,
     "start_time": "2023-05-25T00:59:08.852338",
     "status": "completed"
    },
    "tags": []
   },
   "outputs": [
    {
     "name": "stdout",
     "output_type": "stream",
     "text": [
      "Setup complete.\n"
     ]
    }
   ],
   "source": [
    "from learntools.core import binder; binder.bind(globals())\n",
    "from learntools.python.ex6 import *\n",
    "print('Setup complete.')"
   ]
  },
  {
   "cell_type": "markdown",
   "id": "673fe9ef",
   "metadata": {
    "papermill": {
     "duration": 0.006779,
     "end_time": "2023-05-25T00:59:08.948571",
     "exception": false,
     "start_time": "2023-05-25T00:59:08.941792",
     "status": "completed"
    },
    "tags": []
   },
   "source": [
    "Let's start with a string lightning round to warm up. What are the lengths of the strings below?\n",
    "\n",
    "For each of the five strings below, predict what `len()` would return when passed that string. Use the variable `length` to record your answer, then run the cell to check whether you were right.  \n",
    "\n",
    "# 0a."
   ]
  },
  {
   "cell_type": "code",
   "execution_count": 2,
   "id": "b59d7915",
   "metadata": {
    "execution": {
     "iopub.execute_input": "2023-05-25T00:59:08.964773Z",
     "iopub.status.busy": "2023-05-25T00:59:08.964337Z",
     "iopub.status.idle": "2023-05-25T00:59:08.976854Z",
     "shell.execute_reply": "2023-05-25T00:59:08.975629Z"
    },
    "papermill": {
     "duration": 0.0239,
     "end_time": "2023-05-25T00:59:08.979489",
     "exception": false,
     "start_time": "2023-05-25T00:59:08.955589",
     "status": "completed"
    },
    "tags": []
   },
   "outputs": [
    {
     "data": {
      "application/javascript": [
       "parent.postMessage({\"jupyterEvent\": \"custom.exercise_interaction\", \"data\": {\"outcomeType\": 1, \"valueTowardsCompletion\": 0.3333333333333333, \"interactionType\": 1, \"questionType\": 1, \"questionId\": \"0.1_ZA\", \"learnToolsVersion\": \"0.3.4\", \"failureMessage\": \"\", \"exceptionClass\": \"\", \"trace\": \"\"}}, \"*\")"
      ],
      "text/plain": [
       "<IPython.core.display.Javascript object>"
      ]
     },
     "metadata": {},
     "output_type": "display_data"
    },
    {
     "data": {
      "text/markdown": [
       "<span style=\"color:#33cc33\">Correct:</span> \n",
       "\n",
       "The empty string has length zero. Note that the empty string is also the only string that Python considers as False when converting to boolean."
      ],
      "text/plain": [
       "Correct: \n",
       "\n",
       "The empty string has length zero. Note that the empty string is also the only string that Python considers as False when converting to boolean."
      ]
     },
     "metadata": {},
     "output_type": "display_data"
    }
   ],
   "source": [
    "a = \"\"\n",
    "length = len(a)\n",
    "q0.a.check()"
   ]
  },
  {
   "cell_type": "markdown",
   "id": "13c9b6f1",
   "metadata": {
    "papermill": {
     "duration": 0.007073,
     "end_time": "2023-05-25T00:59:08.995528",
     "exception": false,
     "start_time": "2023-05-25T00:59:08.988455",
     "status": "completed"
    },
    "tags": []
   },
   "source": [
    "# 0b."
   ]
  },
  {
   "cell_type": "code",
   "execution_count": 3,
   "id": "621e48ae",
   "metadata": {
    "execution": {
     "iopub.execute_input": "2023-05-25T00:59:09.012458Z",
     "iopub.status.busy": "2023-05-25T00:59:09.011981Z",
     "iopub.status.idle": "2023-05-25T00:59:09.023970Z",
     "shell.execute_reply": "2023-05-25T00:59:09.022513Z"
    },
    "papermill": {
     "duration": 0.023499,
     "end_time": "2023-05-25T00:59:09.026343",
     "exception": false,
     "start_time": "2023-05-25T00:59:09.002844",
     "status": "completed"
    },
    "tags": []
   },
   "outputs": [
    {
     "data": {
      "application/javascript": [
       "parent.postMessage({\"jupyterEvent\": \"custom.exercise_interaction\", \"data\": {\"outcomeType\": 1, \"valueTowardsCompletion\": 0.3333333333333333, \"interactionType\": 1, \"questionType\": 1, \"questionId\": \"0.2_ZB\", \"learnToolsVersion\": \"0.3.4\", \"failureMessage\": \"\", \"exceptionClass\": \"\", \"trace\": \"\"}}, \"*\")"
      ],
      "text/plain": [
       "<IPython.core.display.Javascript object>"
      ]
     },
     "metadata": {},
     "output_type": "display_data"
    },
    {
     "data": {
      "text/markdown": [
       "<span style=\"color:#33cc33\">Correct:</span> \n",
       "\n",
       "Keep in mind Python includes spaces (and punctuation) when counting string length."
      ],
      "text/plain": [
       "Correct: \n",
       "\n",
       "Keep in mind Python includes spaces (and punctuation) when counting string length."
      ]
     },
     "metadata": {},
     "output_type": "display_data"
    }
   ],
   "source": [
    "b = \"it's ok\"\n",
    "length = len(b)\n",
    "q0.b.check()"
   ]
  },
  {
   "cell_type": "markdown",
   "id": "420b74b9",
   "metadata": {
    "papermill": {
     "duration": 0.007348,
     "end_time": "2023-05-25T00:59:09.041749",
     "exception": false,
     "start_time": "2023-05-25T00:59:09.034401",
     "status": "completed"
    },
    "tags": []
   },
   "source": [
    "# 0c."
   ]
  },
  {
   "cell_type": "code",
   "execution_count": 4,
   "id": "60001f1d",
   "metadata": {
    "execution": {
     "iopub.execute_input": "2023-05-25T00:59:09.059967Z",
     "iopub.status.busy": "2023-05-25T00:59:09.059533Z",
     "iopub.status.idle": "2023-05-25T00:59:09.070894Z",
     "shell.execute_reply": "2023-05-25T00:59:09.069607Z"
    },
    "papermill": {
     "duration": 0.02399,
     "end_time": "2023-05-25T00:59:09.073505",
     "exception": false,
     "start_time": "2023-05-25T00:59:09.049515",
     "status": "completed"
    },
    "tags": []
   },
   "outputs": [
    {
     "data": {
      "application/javascript": [
       "parent.postMessage({\"jupyterEvent\": \"custom.exercise_interaction\", \"data\": {\"outcomeType\": 1, \"valueTowardsCompletion\": 0.3333333333333333, \"interactionType\": 1, \"questionType\": 1, \"questionId\": \"0.3_ZC\", \"learnToolsVersion\": \"0.3.4\", \"failureMessage\": \"\", \"exceptionClass\": \"\", \"trace\": \"\"}}, \"*\")"
      ],
      "text/plain": [
       "<IPython.core.display.Javascript object>"
      ]
     },
     "metadata": {},
     "output_type": "display_data"
    },
    {
     "data": {
      "text/markdown": [
       "<span style=\"color:#33cc33\">Correct:</span> \n",
       "\n",
       "Even though we use different syntax to create it, the string `c` is identical to `b`. In particular, note that the backslash is not part of the string, so it doesn't contribute to its length."
      ],
      "text/plain": [
       "Correct: \n",
       "\n",
       "Even though we use different syntax to create it, the string `c` is identical to `b`. In particular, note that the backslash is not part of the string, so it doesn't contribute to its length."
      ]
     },
     "metadata": {},
     "output_type": "display_data"
    }
   ],
   "source": [
    "c = 'it\\'s ok'\n",
    "length = len(c)\n",
    "q0.c.check()"
   ]
  },
  {
   "cell_type": "markdown",
   "id": "36191712",
   "metadata": {
    "papermill": {
     "duration": 0.008053,
     "end_time": "2023-05-25T00:59:09.089581",
     "exception": false,
     "start_time": "2023-05-25T00:59:09.081528",
     "status": "completed"
    },
    "tags": []
   },
   "source": [
    "# 0d."
   ]
  },
  {
   "cell_type": "code",
   "execution_count": 5,
   "id": "d638dc54",
   "metadata": {
    "execution": {
     "iopub.execute_input": "2023-05-25T00:59:09.107418Z",
     "iopub.status.busy": "2023-05-25T00:59:09.106974Z",
     "iopub.status.idle": "2023-05-25T00:59:09.117417Z",
     "shell.execute_reply": "2023-05-25T00:59:09.116249Z"
    },
    "papermill": {
     "duration": 0.022531,
     "end_time": "2023-05-25T00:59:09.120127",
     "exception": false,
     "start_time": "2023-05-25T00:59:09.097596",
     "status": "completed"
    },
    "tags": []
   },
   "outputs": [
    {
     "data": {
      "application/javascript": [
       "parent.postMessage({\"jupyterEvent\": \"custom.exercise_interaction\", \"data\": {\"outcomeType\": 1, \"valueTowardsCompletion\": 0.3333333333333333, \"interactionType\": 1, \"questionType\": 1, \"questionId\": \"0.4_ZD\", \"learnToolsVersion\": \"0.3.4\", \"failureMessage\": \"\", \"exceptionClass\": \"\", \"trace\": \"\"}}, \"*\")"
      ],
      "text/plain": [
       "<IPython.core.display.Javascript object>"
      ]
     },
     "metadata": {},
     "output_type": "display_data"
    },
    {
     "data": {
      "text/markdown": [
       "<span style=\"color:#33cc33\">Correct:</span> \n",
       "\n",
       "The fact that this string was created using triple-quote syntax doesn't make any difference in terms of its content or length. This string is exactly the same as `'hey'`."
      ],
      "text/plain": [
       "Correct: \n",
       "\n",
       "The fact that this string was created using triple-quote syntax doesn't make any difference in terms of its content or length. This string is exactly the same as `'hey'`."
      ]
     },
     "metadata": {},
     "output_type": "display_data"
    }
   ],
   "source": [
    "d = \"\"\"hey\"\"\"\n",
    "length = len(d)\n",
    "q0.d.check()"
   ]
  },
  {
   "cell_type": "markdown",
   "id": "085a9781",
   "metadata": {
    "papermill": {
     "duration": 0.008401,
     "end_time": "2023-05-25T00:59:09.137514",
     "exception": false,
     "start_time": "2023-05-25T00:59:09.129113",
     "status": "completed"
    },
    "tags": []
   },
   "source": [
    "# 0e."
   ]
  },
  {
   "cell_type": "code",
   "execution_count": 6,
   "id": "f69de504",
   "metadata": {
    "execution": {
     "iopub.execute_input": "2023-05-25T00:59:09.157239Z",
     "iopub.status.busy": "2023-05-25T00:59:09.156831Z",
     "iopub.status.idle": "2023-05-25T00:59:09.166291Z",
     "shell.execute_reply": "2023-05-25T00:59:09.165418Z"
    },
    "papermill": {
     "duration": 0.022417,
     "end_time": "2023-05-25T00:59:09.168703",
     "exception": false,
     "start_time": "2023-05-25T00:59:09.146286",
     "status": "completed"
    },
    "tags": []
   },
   "outputs": [
    {
     "data": {
      "application/javascript": [
       "parent.postMessage({\"jupyterEvent\": \"custom.exercise_interaction\", \"data\": {\"outcomeType\": 1, \"valueTowardsCompletion\": 0.3333333333333333, \"interactionType\": 1, \"questionType\": 1, \"questionId\": \"0.5_ZE\", \"learnToolsVersion\": \"0.3.4\", \"failureMessage\": \"\", \"exceptionClass\": \"\", \"trace\": \"\"}}, \"*\")"
      ],
      "text/plain": [
       "<IPython.core.display.Javascript object>"
      ]
     },
     "metadata": {},
     "output_type": "display_data"
    },
    {
     "data": {
      "text/markdown": [
       "<span style=\"color:#33cc33\">Correct:</span> \n",
       "\n",
       "The newline character is just a single character! (Even though we represent it to Python using a combination of two characters.)"
      ],
      "text/plain": [
       "Correct: \n",
       "\n",
       "The newline character is just a single character! (Even though we represent it to Python using a combination of two characters.)"
      ]
     },
     "metadata": {},
     "output_type": "display_data"
    }
   ],
   "source": [
    "e = '\\n'\n",
    "length = len(e)\n",
    "q0.e.check()"
   ]
  },
  {
   "cell_type": "markdown",
   "id": "21bafd8b",
   "metadata": {
    "papermill": {
     "duration": 0.008894,
     "end_time": "2023-05-25T00:59:09.187850",
     "exception": false,
     "start_time": "2023-05-25T00:59:09.178956",
     "status": "completed"
    },
    "tags": []
   },
   "source": [
    "# 1.\n",
    "\n",
    "There is a saying that \"Data scientists spend 80% of their time cleaning data, and 20% of their time complaining about cleaning data.\" Let's see if you can write a function to help clean US zip code data. Given a string, it should return whether or not that string represents a valid zip code. For our purposes, a valid zip code is any string consisting of exactly 5 digits.\n",
    "\n",
    "HINT: `str` has a method that will be useful here. Use `help(str)` to review a list of string methods."
   ]
  },
  {
   "cell_type": "code",
   "execution_count": 7,
   "id": "6ebd2345",
   "metadata": {
    "execution": {
     "iopub.execute_input": "2023-05-25T00:59:09.208936Z",
     "iopub.status.busy": "2023-05-25T00:59:09.208506Z",
     "iopub.status.idle": "2023-05-25T00:59:09.218761Z",
     "shell.execute_reply": "2023-05-25T00:59:09.217348Z"
    },
    "papermill": {
     "duration": 0.024279,
     "end_time": "2023-05-25T00:59:09.221645",
     "exception": false,
     "start_time": "2023-05-25T00:59:09.197366",
     "status": "completed"
    },
    "tags": []
   },
   "outputs": [
    {
     "data": {
      "application/javascript": [
       "parent.postMessage({\"jupyterEvent\": \"custom.exercise_interaction\", \"data\": {\"outcomeType\": 1, \"valueTowardsCompletion\": 0.3333333333333333, \"interactionType\": 1, \"questionType\": 2, \"questionId\": \"1_ZipValidator\", \"learnToolsVersion\": \"0.3.4\", \"failureMessage\": \"\", \"exceptionClass\": \"\", \"trace\": \"\"}}, \"*\")"
      ],
      "text/plain": [
       "<IPython.core.display.Javascript object>"
      ]
     },
     "metadata": {},
     "output_type": "display_data"
    },
    {
     "data": {
      "text/markdown": [
       "<span style=\"color:#33cc33\">Correct</span>"
      ],
      "text/plain": [
       "Correct"
      ]
     },
     "metadata": {},
     "output_type": "display_data"
    }
   ],
   "source": [
    "def is_valid_zip(zip_code):\n",
    "    \"\"\"Returns whether the input string is a valid (5 digit) zip code\n",
    "    \"\"\"\n",
    "#     print(help(zip_code))\n",
    "    return len(zip_code) == 5 and zip_code.isdigit()\n",
    "\n",
    "# Check your answer\n",
    "q1.check()"
   ]
  },
  {
   "cell_type": "code",
   "execution_count": 8,
   "id": "ccfca46c",
   "metadata": {
    "execution": {
     "iopub.execute_input": "2023-05-25T00:59:09.242841Z",
     "iopub.status.busy": "2023-05-25T00:59:09.242395Z",
     "iopub.status.idle": "2023-05-25T00:59:09.246944Z",
     "shell.execute_reply": "2023-05-25T00:59:09.246064Z"
    },
    "papermill": {
     "duration": 0.018125,
     "end_time": "2023-05-25T00:59:09.249400",
     "exception": false,
     "start_time": "2023-05-25T00:59:09.231275",
     "status": "completed"
    },
    "tags": []
   },
   "outputs": [],
   "source": [
    "#q1.hint()\n",
    "#q1.solution()"
   ]
  },
  {
   "cell_type": "markdown",
   "id": "57d4f739",
   "metadata": {
    "papermill": {
     "duration": 0.008948,
     "end_time": "2023-05-25T00:59:09.267947",
     "exception": false,
     "start_time": "2023-05-25T00:59:09.258999",
     "status": "completed"
    },
    "tags": []
   },
   "source": [
    "# 2.\n",
    "\n",
    "A researcher has gathered thousands of news articles. But she wants to focus her attention on articles including a specific word. Complete the function below to help her filter her list of articles.\n",
    "\n",
    "Your function should meet the following criteria:\n",
    "\n",
    "- Do not include documents where the keyword string shows up only as a part of a larger word. For example, if she were looking for the keyword “closed”, you would not include the string “enclosed.” \n",
    "- She does not want you to distinguish upper case from lower case letters. So the phrase “Closed the case.” would be included when the keyword is “closed”\n",
    "- Do not let periods or commas affect what is matched. “It is closed.” would be included when the keyword is “closed”. But you can assume there are no other types of punctuation."
   ]
  },
  {
   "cell_type": "code",
   "execution_count": 9,
   "id": "e6aff03c",
   "metadata": {
    "execution": {
     "iopub.execute_input": "2023-05-25T00:59:09.288956Z",
     "iopub.status.busy": "2023-05-25T00:59:09.288573Z",
     "iopub.status.idle": "2023-05-25T00:59:09.296741Z",
     "shell.execute_reply": "2023-05-25T00:59:09.295601Z"
    },
    "papermill": {
     "duration": 0.022177,
     "end_time": "2023-05-25T00:59:09.299702",
     "exception": false,
     "start_time": "2023-05-25T00:59:09.277525",
     "status": "completed"
    },
    "tags": []
   },
   "outputs": [
    {
     "data": {
      "application/javascript": [
       "parent.postMessage({\"jupyterEvent\": \"custom.exercise_interaction\", \"data\": {\"outcomeType\": 4, \"interactionType\": 1, \"questionType\": 2, \"questionId\": \"2_WordSearch\", \"learnToolsVersion\": \"0.3.4\", \"valueTowardsCompletion\": 0.0, \"failureMessage\": \"\", \"exceptionClass\": \"\", \"trace\": \"\"}}, \"*\")"
      ],
      "text/plain": [
       "<IPython.core.display.Javascript object>"
      ]
     },
     "metadata": {},
     "output_type": "display_data"
    },
    {
     "data": {
      "text/markdown": [
       "<span style=\"color:#ccaa33\">Check:</span> When you've updated the starter code, `check()` will tell you whether your code is correct. "
      ],
      "text/plain": [
       "Check: When you've updated the starter code, `check()` will tell you whether your code is correct. "
      ]
     },
     "metadata": {},
     "output_type": "display_data"
    }
   ],
   "source": [
    "def word_search(doc_list, keyword):\n",
    "    \"\"\"\n",
    "    Takes a list of documents (each document is a string) and a keyword. \n",
    "    Returns list of the index values into the original list for all documents \n",
    "    containing the keyword.\n",
    "\n",
    "    Example:\n",
    "    doc_list = [\"The Learn Python Challenge Casino.\", \"They bought a car\", \"Casinoville\"]\n",
    "    >>> word_search(doc_list, 'casino')\n",
    "    >>> [0]\n",
    "    \"\"\"\n",
    "    pass\n",
    "\n",
    "# Check your answer\n",
    "q2.check()"
   ]
  },
  {
   "cell_type": "code",
   "execution_count": 10,
   "id": "dbfdf64d",
   "metadata": {
    "execution": {
     "iopub.execute_input": "2023-05-25T00:59:09.321413Z",
     "iopub.status.busy": "2023-05-25T00:59:09.320952Z",
     "iopub.status.idle": "2023-05-25T00:59:09.326321Z",
     "shell.execute_reply": "2023-05-25T00:59:09.325154Z"
    },
    "papermill": {
     "duration": 0.019218,
     "end_time": "2023-05-25T00:59:09.328651",
     "exception": false,
     "start_time": "2023-05-25T00:59:09.309433",
     "status": "completed"
    },
    "tags": []
   },
   "outputs": [],
   "source": [
    "#q2.hint()\n",
    "#q2.solution()"
   ]
  },
  {
   "cell_type": "markdown",
   "id": "380b3637",
   "metadata": {
    "papermill": {
     "duration": 0.009584,
     "end_time": "2023-05-25T00:59:09.348557",
     "exception": false,
     "start_time": "2023-05-25T00:59:09.338973",
     "status": "completed"
    },
    "tags": []
   },
   "source": [
    "# 3.\n",
    "\n",
    "Now the researcher wants to supply multiple keywords to search for. Complete the function below to help her.\n",
    "\n",
    "(You're encouraged to use the `word_search` function you just wrote when implementing this function. Reusing code in this way makes your programs more robust and readable - and it saves typing!)"
   ]
  },
  {
   "cell_type": "code",
   "execution_count": 11,
   "id": "f0e95fff",
   "metadata": {
    "execution": {
     "iopub.execute_input": "2023-05-25T00:59:09.370237Z",
     "iopub.status.busy": "2023-05-25T00:59:09.369807Z",
     "iopub.status.idle": "2023-05-25T00:59:09.381530Z",
     "shell.execute_reply": "2023-05-25T00:59:09.380271Z"
    },
    "papermill": {
     "duration": 0.02561,
     "end_time": "2023-05-25T00:59:09.384133",
     "exception": false,
     "start_time": "2023-05-25T00:59:09.358523",
     "status": "completed"
    },
    "tags": []
   },
   "outputs": [
    {
     "data": {
      "application/javascript": [
       "parent.postMessage({\"jupyterEvent\": \"custom.exercise_interaction\", \"data\": {\"outcomeType\": 4, \"interactionType\": 1, \"questionType\": 2, \"questionId\": \"3_MultiWordSearch\", \"learnToolsVersion\": \"0.3.4\", \"valueTowardsCompletion\": 0.0, \"failureMessage\": \"\", \"exceptionClass\": \"\", \"trace\": \"\"}}, \"*\")"
      ],
      "text/plain": [
       "<IPython.core.display.Javascript object>"
      ]
     },
     "metadata": {},
     "output_type": "display_data"
    },
    {
     "data": {
      "text/markdown": [
       "<span style=\"color:#ccaa33\">Check:</span> When you've updated the starter code, `check()` will tell you whether your code is correct. "
      ],
      "text/plain": [
       "Check: When you've updated the starter code, `check()` will tell you whether your code is correct. "
      ]
     },
     "metadata": {},
     "output_type": "display_data"
    }
   ],
   "source": [
    "def multi_word_search(doc_list, keywords):\n",
    "    \"\"\"\n",
    "    Takes list of documents (each document is a string) and a list of keywords.  \n",
    "    Returns a dictionary where each key is a keyword, and the value is a list of indices\n",
    "    (from doc_list) of the documents containing that keyword\n",
    "\n",
    "    >>> doc_list = [\"The Learn Python Challenge Casino.\", \"They bought a car and a casino\", \"Casinoville\"]\n",
    "    >>> keywords = ['casino', 'they']\n",
    "    >>> multi_word_search(doc_list, keywords)\n",
    "    {'casino': [0, 1], 'they': [1]}\n",
    "    \"\"\"\n",
    "    pass\n",
    "\n",
    "# Check your answer\n",
    "q3.check()"
   ]
  },
  {
   "cell_type": "code",
   "execution_count": 12,
   "id": "be1b16c1",
   "metadata": {
    "execution": {
     "iopub.execute_input": "2023-05-25T00:59:09.407284Z",
     "iopub.status.busy": "2023-05-25T00:59:09.406895Z",
     "iopub.status.idle": "2023-05-25T00:59:09.412089Z",
     "shell.execute_reply": "2023-05-25T00:59:09.410793Z"
    },
    "papermill": {
     "duration": 0.019956,
     "end_time": "2023-05-25T00:59:09.414878",
     "exception": false,
     "start_time": "2023-05-25T00:59:09.394922",
     "status": "completed"
    },
    "tags": []
   },
   "outputs": [],
   "source": [
    "#q3.solution()"
   ]
  },
  {
   "cell_type": "markdown",
   "id": "05bb86b5",
   "metadata": {
    "papermill": {
     "duration": 0.010016,
     "end_time": "2023-05-25T00:59:09.435458",
     "exception": false,
     "start_time": "2023-05-25T00:59:09.425442",
     "status": "completed"
    },
    "tags": []
   },
   "source": [
    "# Keep Going\n",
    "\n",
    "You've learned a lot. But even the best programmers rely heavily on \"libraries\" of code from other programmers. You'll learn about that in **[the last lesson](https://www.kaggle.com/colinmorris/working-with-external-libraries)**.\n"
   ]
  },
  {
   "cell_type": "markdown",
   "id": "68c126a7",
   "metadata": {
    "papermill": {
     "duration": 0.010457,
     "end_time": "2023-05-25T00:59:09.457108",
     "exception": false,
     "start_time": "2023-05-25T00:59:09.446651",
     "status": "completed"
    },
    "tags": []
   },
   "source": [
    "---\n",
    "\n",
    "\n",
    "\n",
    "\n",
    "*Have questions or comments? Visit the [course discussion forum](https://www.kaggle.com/learn/python/discussion) to chat with other learners.*"
   ]
  }
 ],
 "metadata": {
  "kernelspec": {
   "display_name": "Python 3",
   "language": "python",
   "name": "python3"
  },
  "language_info": {
   "codemirror_mode": {
    "name": "ipython",
    "version": 3
   },
   "file_extension": ".py",
   "mimetype": "text/x-python",
   "name": "python",
   "nbconvert_exporter": "python",
   "pygments_lexer": "ipython3",
   "version": "3.10.10"
  },
  "papermill": {
   "default_parameters": {},
   "duration": 14.999358,
   "end_time": "2023-05-25T00:59:10.393205",
   "environment_variables": {},
   "exception": null,
   "input_path": "__notebook__.ipynb",
   "output_path": "__notebook__.ipynb",
   "parameters": {},
   "start_time": "2023-05-25T00:58:55.393847",
   "version": "2.4.0"
  }
 },
 "nbformat": 4,
 "nbformat_minor": 5
}
