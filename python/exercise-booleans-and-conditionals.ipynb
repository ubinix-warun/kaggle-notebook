{
 "cells": [
  {
   "cell_type": "markdown",
   "id": "63da7765",
   "metadata": {
    "papermill": {
     "duration": 0.011968,
     "end_time": "2023-02-25T05:04:12.759182",
     "exception": false,
     "start_time": "2023-02-25T05:04:12.747214",
     "status": "completed"
    },
    "tags": []
   },
   "source": [
    "**This notebook is an exercise in the [Python](https://www.kaggle.com/learn/python) course.  You can reference the tutorial at [this link](https://www.kaggle.com/colinmorris/booleans-and-conditionals).**\n",
    "\n",
    "---\n"
   ]
  },
  {
   "cell_type": "markdown",
   "id": "039a75f2",
   "metadata": {
    "papermill": {
     "duration": 0.008486,
     "end_time": "2023-02-25T05:04:12.779608",
     "exception": false,
     "start_time": "2023-02-25T05:04:12.771122",
     "status": "completed"
    },
    "tags": []
   },
   "source": [
    "In this exercise, you'll put to work what you have learned about booleans and conditionals.\n",
    "\n",
    "To get started, **run the setup code below** before writing your own code (and if you leave this notebook and come back later, don't forget to run the setup code again)."
   ]
  },
  {
   "cell_type": "code",
   "execution_count": 1,
   "id": "676bb810",
   "metadata": {
    "execution": {
     "iopub.execute_input": "2023-02-25T05:04:12.800252Z",
     "iopub.status.busy": "2023-02-25T05:04:12.799065Z",
     "iopub.status.idle": "2023-02-25T05:04:12.851722Z",
     "shell.execute_reply": "2023-02-25T05:04:12.850377Z"
    },
    "papermill": {
     "duration": 0.066218,
     "end_time": "2023-02-25T05:04:12.854640",
     "exception": false,
     "start_time": "2023-02-25T05:04:12.788422",
     "status": "completed"
    },
    "tags": []
   },
   "outputs": [
    {
     "name": "stdout",
     "output_type": "stream",
     "text": [
      "Setup complete.\n"
     ]
    }
   ],
   "source": [
    "from learntools.core import binder;  binder.bind(globals())\n",
    "from learntools.python.ex3 import *\n",
    "print('Setup complete.')"
   ]
  },
  {
   "cell_type": "markdown",
   "id": "b3d38293",
   "metadata": {
    "papermill": {
     "duration": 0.008414,
     "end_time": "2023-02-25T05:04:12.872635",
     "exception": false,
     "start_time": "2023-02-25T05:04:12.864221",
     "status": "completed"
    },
    "tags": []
   },
   "source": [
    "# 1.\n",
    "\n",
    "Many programming languages have [`sign`](https://en.wikipedia.org/wiki/Sign_function) available as a built-in function. Python doesn't, but we can define our own!\n",
    "\n",
    "In the cell below, define a function called `sign` which takes a numerical argument and returns -1 if it's negative, 1 if it's positive, and 0 if it's 0."
   ]
  },
  {
   "cell_type": "code",
   "execution_count": 2,
   "id": "14b52e35",
   "metadata": {
    "execution": {
     "iopub.execute_input": "2023-02-25T05:04:12.892823Z",
     "iopub.status.busy": "2023-02-25T05:04:12.891837Z",
     "iopub.status.idle": "2023-02-25T05:04:12.903878Z",
     "shell.execute_reply": "2023-02-25T05:04:12.902515Z"
    },
    "papermill": {
     "duration": 0.024838,
     "end_time": "2023-02-25T05:04:12.906257",
     "exception": false,
     "start_time": "2023-02-25T05:04:12.881419",
     "status": "completed"
    },
    "tags": []
   },
   "outputs": [
    {
     "data": {
      "application/javascript": [
       "parent.postMessage({\"jupyterEvent\": \"custom.exercise_interaction\", \"data\": {\"outcomeType\": 1, \"valueTowardsCompletion\": 0.2, \"interactionType\": 1, \"questionType\": 2, \"questionId\": \"1_SignFunctionProblem\", \"learnToolsVersion\": \"0.3.4\", \"failureMessage\": \"\", \"exceptionClass\": \"\", \"trace\": \"\"}}, \"*\")"
      ],
      "text/plain": [
       "<IPython.core.display.Javascript object>"
      ]
     },
     "metadata": {},
     "output_type": "display_data"
    },
    {
     "data": {
      "text/markdown": [
       "<span style=\"color:#33cc33\">Correct</span>"
      ],
      "text/plain": [
       "Correct"
      ]
     },
     "metadata": {},
     "output_type": "display_data"
    }
   ],
   "source": [
    "# Your code goes here. Define a function called 'sign'\n",
    "def sign(num):\n",
    "    if num < 0:\n",
    "        return -1\n",
    "    elif num > 0:\n",
    "        return 1\n",
    "    \n",
    "    return 0 \n",
    "\n",
    "# Check your answer\n",
    "q1.check()"
   ]
  },
  {
   "cell_type": "code",
   "execution_count": 3,
   "id": "537b3d77",
   "metadata": {
    "execution": {
     "iopub.execute_input": "2023-02-25T05:04:12.926574Z",
     "iopub.status.busy": "2023-02-25T05:04:12.925860Z",
     "iopub.status.idle": "2023-02-25T05:04:12.930787Z",
     "shell.execute_reply": "2023-02-25T05:04:12.929857Z"
    },
    "papermill": {
     "duration": 0.017692,
     "end_time": "2023-02-25T05:04:12.933060",
     "exception": false,
     "start_time": "2023-02-25T05:04:12.915368",
     "status": "completed"
    },
    "tags": []
   },
   "outputs": [],
   "source": [
    "#q1.solution()"
   ]
  },
  {
   "cell_type": "markdown",
   "id": "543af230",
   "metadata": {
    "papermill": {
     "duration": 0.008526,
     "end_time": "2023-02-25T05:04:12.950558",
     "exception": false,
     "start_time": "2023-02-25T05:04:12.942032",
     "status": "completed"
    },
    "tags": []
   },
   "source": [
    "# 2.\n",
    "\n",
    "We've decided to add \"logging\" to our `to_smash` function from the previous exercise."
   ]
  },
  {
   "cell_type": "code",
   "execution_count": 4,
   "id": "eeb0658b",
   "metadata": {
    "execution": {
     "iopub.execute_input": "2023-02-25T05:04:12.971528Z",
     "iopub.status.busy": "2023-02-25T05:04:12.970804Z",
     "iopub.status.idle": "2023-02-25T05:04:12.980246Z",
     "shell.execute_reply": "2023-02-25T05:04:12.978980Z"
    },
    "papermill": {
     "duration": 0.022433,
     "end_time": "2023-02-25T05:04:12.982792",
     "exception": false,
     "start_time": "2023-02-25T05:04:12.960359",
     "status": "completed"
    },
    "tags": []
   },
   "outputs": [
    {
     "name": "stdout",
     "output_type": "stream",
     "text": [
      "Splitting 91 candies\n"
     ]
    },
    {
     "data": {
      "text/plain": [
       "1"
      ]
     },
     "execution_count": 4,
     "metadata": {},
     "output_type": "execute_result"
    }
   ],
   "source": [
    "def to_smash(total_candies):\n",
    "    \"\"\"Return the number of leftover candies that must be smashed after distributing\n",
    "    the given number of candies evenly between 3 friends.\n",
    "    \n",
    "    >>> to_smash(91)\n",
    "    1\n",
    "    \"\"\"\n",
    "    print(\"Splitting\", total_candies, \"candies\")\n",
    "    return total_candies % 3\n",
    "\n",
    "to_smash(91)"
   ]
  },
  {
   "cell_type": "markdown",
   "id": "9c1786e7",
   "metadata": {
    "papermill": {
     "duration": 0.008728,
     "end_time": "2023-02-25T05:04:13.000770",
     "exception": false,
     "start_time": "2023-02-25T05:04:12.992042",
     "status": "completed"
    },
    "tags": []
   },
   "source": [
    "What happens if we call it with `total_candies = 1`?"
   ]
  },
  {
   "cell_type": "code",
   "execution_count": 5,
   "id": "89229ea7",
   "metadata": {
    "execution": {
     "iopub.execute_input": "2023-02-25T05:04:13.020800Z",
     "iopub.status.busy": "2023-02-25T05:04:13.020414Z",
     "iopub.status.idle": "2023-02-25T05:04:13.027547Z",
     "shell.execute_reply": "2023-02-25T05:04:13.026439Z"
    },
    "papermill": {
     "duration": 0.021097,
     "end_time": "2023-02-25T05:04:13.030863",
     "exception": false,
     "start_time": "2023-02-25T05:04:13.009766",
     "status": "completed"
    },
    "tags": []
   },
   "outputs": [
    {
     "name": "stdout",
     "output_type": "stream",
     "text": [
      "Splitting 1 candies\n"
     ]
    },
    {
     "data": {
      "text/plain": [
       "1"
      ]
     },
     "execution_count": 5,
     "metadata": {},
     "output_type": "execute_result"
    }
   ],
   "source": [
    "to_smash(1)"
   ]
  },
  {
   "cell_type": "markdown",
   "id": "6540a065",
   "metadata": {
    "papermill": {
     "duration": 0.008949,
     "end_time": "2023-02-25T05:04:13.049194",
     "exception": false,
     "start_time": "2023-02-25T05:04:13.040245",
     "status": "completed"
    },
    "tags": []
   },
   "source": [
    "That isn't great grammar!\n",
    "\n",
    "Modify the definition in the cell below to correct the grammar of our print statement. (If there's only one candy, we should use the singular \"candy\" instead of the plural \"candies\")"
   ]
  },
  {
   "cell_type": "code",
   "execution_count": 6,
   "id": "102b2fb8",
   "metadata": {
    "execution": {
     "iopub.execute_input": "2023-02-25T05:04:13.069956Z",
     "iopub.status.busy": "2023-02-25T05:04:13.069548Z",
     "iopub.status.idle": "2023-02-25T05:04:13.079902Z",
     "shell.execute_reply": "2023-02-25T05:04:13.078082Z"
    },
    "papermill": {
     "duration": 0.02429,
     "end_time": "2023-02-25T05:04:13.082803",
     "exception": false,
     "start_time": "2023-02-25T05:04:13.058513",
     "status": "completed"
    },
    "tags": []
   },
   "outputs": [
    {
     "name": "stdout",
     "output_type": "stream",
     "text": [
      "Splitting 91 candies\n",
      "Splitting 1 candy\n"
     ]
    },
    {
     "data": {
      "text/plain": [
       "1"
      ]
     },
     "execution_count": 6,
     "metadata": {},
     "output_type": "execute_result"
    }
   ],
   "source": [
    "def to_smash(total_candies):\n",
    "    \"\"\"Return the number of leftover candies that must be smashed after distributing\n",
    "    the given number of candies evenly between 3 friends.\n",
    "    \n",
    "    >>> to_smash(91)\n",
    "    1\n",
    "    \"\"\"\n",
    "    if total_candies == 1: \n",
    "        print(\"Splitting\", total_candies, \"candy\")\n",
    "    else:\n",
    "        print(\"Splitting\", total_candies, \"candies\")\n",
    "        \n",
    "    return total_candies % 3\n",
    "\n",
    "\n",
    "to_smash(91)\n",
    "to_smash(1)"
   ]
  },
  {
   "cell_type": "markdown",
   "id": "c522817c",
   "metadata": {
    "papermill": {
     "duration": 0.009274,
     "end_time": "2023-02-25T05:04:13.101919",
     "exception": false,
     "start_time": "2023-02-25T05:04:13.092645",
     "status": "completed"
    },
    "tags": []
   },
   "source": [
    "To get credit for completing this problem, and to see the official answer, run the code cell below."
   ]
  },
  {
   "cell_type": "code",
   "execution_count": 7,
   "id": "6f3d3f0c",
   "metadata": {
    "execution": {
     "iopub.execute_input": "2023-02-25T05:04:13.123212Z",
     "iopub.status.busy": "2023-02-25T05:04:13.122469Z",
     "iopub.status.idle": "2023-02-25T05:04:13.132840Z",
     "shell.execute_reply": "2023-02-25T05:04:13.131700Z"
    },
    "papermill": {
     "duration": 0.023535,
     "end_time": "2023-02-25T05:04:13.135102",
     "exception": false,
     "start_time": "2023-02-25T05:04:13.111567",
     "status": "completed"
    },
    "tags": []
   },
   "outputs": [
    {
     "data": {
      "application/javascript": [
       "parent.postMessage({\"jupyterEvent\": \"custom.exercise_interaction\", \"data\": {\"interactionType\": 3, \"questionType\": 4, \"questionId\": \"2_PluralizationProblem\", \"learnToolsVersion\": \"0.3.4\", \"valueTowardsCompletion\": 0.0, \"failureMessage\": \"\", \"exceptionClass\": \"\", \"trace\": \"\", \"outcomeType\": 4}}, \"*\")"
      ],
      "text/plain": [
       "<IPython.core.display.Javascript object>"
      ]
     },
     "metadata": {},
     "output_type": "display_data"
    },
    {
     "data": {
      "text/markdown": [
       "<span style=\"color:#33cc99\">Solution:</span> A straightforward (and totally fine) solution is to replace the original `print` call with:\n",
       "\n",
       "```python\n",
       "if total_candies == 1:\n",
       "    print(\"Splitting 1 candy\")\n",
       "else:\n",
       "    print(\"Splitting\", total_candies, \"candies\")\n",
       "```\n",
       "\n",
       "Here's a slightly more succinct solution using a conditional expression:\n",
       "\n",
       "```python\n",
       "print(\"Splitting\", total_candies, \"candy\" if total_candies == 1 else \"candies\")\n",
       "```"
      ],
      "text/plain": [
       "Solution: A straightforward (and totally fine) solution is to replace the original `print` call with:\n",
       "\n",
       "```python\n",
       "if total_candies == 1:\n",
       "    print(\"Splitting 1 candy\")\n",
       "else:\n",
       "    print(\"Splitting\", total_candies, \"candies\")\n",
       "```\n",
       "\n",
       "Here's a slightly more succinct solution using a conditional expression:\n",
       "\n",
       "```python\n",
       "print(\"Splitting\", total_candies, \"candy\" if total_candies == 1 else \"candies\")\n",
       "```"
      ]
     },
     "metadata": {},
     "output_type": "display_data"
    }
   ],
   "source": [
    "# Check your answer (Run this code cell to receive credit!)\n",
    "q2.solution()"
   ]
  },
  {
   "cell_type": "markdown",
   "id": "2b9c3f13",
   "metadata": {
    "papermill": {
     "duration": 0.009461,
     "end_time": "2023-02-25T05:04:13.154433",
     "exception": false,
     "start_time": "2023-02-25T05:04:13.144972",
     "status": "completed"
    },
    "tags": []
   },
   "source": [
    "# 3. <span title=\"A bit spicy\" style=\"color: darkgreen \">🌶️</span>\n",
    "\n",
    "In the tutorial, we talked about deciding whether we're prepared for the weather. I said that I'm safe from today's weather if...\n",
    "- I have an umbrella...\n",
    "- or if the rain isn't too heavy and I have a hood...\n",
    "- otherwise, I'm still fine unless it's raining *and* it's a workday\n",
    "\n",
    "The function below uses our first attempt at turning this logic into a Python expression. I claimed that there was a bug in that code. Can you find it?\n",
    "\n",
    "To prove that `prepared_for_weather` is buggy, come up with a set of inputs where either:\n",
    "- the function returns `False` (but should have returned `True`), or\n",
    "- the function returned `True` (but should have returned `False`).\n",
    "\n",
    "To get credit for completing this question, your code should return a <font color='#33cc33'>Correct</font> result."
   ]
  },
  {
   "cell_type": "code",
   "execution_count": 8,
   "id": "dba7b9f1",
   "metadata": {
    "execution": {
     "iopub.execute_input": "2023-02-25T05:04:13.177132Z",
     "iopub.status.busy": "2023-02-25T05:04:13.176734Z",
     "iopub.status.idle": "2023-02-25T05:04:13.189528Z",
     "shell.execute_reply": "2023-02-25T05:04:13.188067Z"
    },
    "papermill": {
     "duration": 0.027242,
     "end_time": "2023-02-25T05:04:13.192169",
     "exception": false,
     "start_time": "2023-02-25T05:04:13.164927",
     "status": "completed"
    },
    "tags": []
   },
   "outputs": [
    {
     "name": "stdout",
     "output_type": "stream",
     "text": [
      "False\n"
     ]
    },
    {
     "data": {
      "application/javascript": [
       "parent.postMessage({\"jupyterEvent\": \"custom.exercise_interaction\", \"data\": {\"outcomeType\": 1, \"valueTowardsCompletion\": 0.2, \"interactionType\": 1, \"questionType\": 1, \"questionId\": \"3_WeatherDebug\", \"learnToolsVersion\": \"0.3.4\", \"failureMessage\": \"\", \"exceptionClass\": \"\", \"trace\": \"\"}}, \"*\")"
      ],
      "text/plain": [
       "<IPython.core.display.Javascript object>"
      ]
     },
     "metadata": {},
     "output_type": "display_data"
    },
    {
     "data": {
      "text/markdown": [
       "<span style=\"color:#33cc33\">Correct:</span> \n",
       "\n",
       "One example of a failing test case is:\n",
       "\n",
       "```python\n",
       "have_umbrella = False\n",
       "rain_level = 0.0\n",
       "have_hood = False\n",
       "is_workday = False\n",
       "```\n",
       "\n",
       "Clearly we're prepared for the weather in this case. It's not raining. Not only that, it's not a workday, so we don't even need to leave the house! But our function will return False on these inputs.\n",
       "\n",
       "The key problem is that Python implictly parenthesizes the last part as:\n",
       "\n",
       "```python\n",
       "(not (rain_level > 0)) and is_workday\n",
       "```\n",
       "\n",
       "Whereas what we were trying to express would look more like:\n",
       "\n",
       "```python\n",
       "not (rain_level > 0 and is_workday)\n",
       "```\n"
      ],
      "text/plain": [
       "Correct: \n",
       "\n",
       "One example of a failing test case is:\n",
       "\n",
       "```python\n",
       "have_umbrella = False\n",
       "rain_level = 0.0\n",
       "have_hood = False\n",
       "is_workday = False\n",
       "```\n",
       "\n",
       "Clearly we're prepared for the weather in this case. It's not raining. Not only that, it's not a workday, so we don't even need to leave the house! But our function will return False on these inputs.\n",
       "\n",
       "The key problem is that Python implictly parenthesizes the last part as:\n",
       "\n",
       "```python\n",
       "(not (rain_level > 0)) and is_workday\n",
       "```\n",
       "\n",
       "Whereas what we were trying to express would look more like:\n",
       "\n",
       "```python\n",
       "not (rain_level > 0 and is_workday)\n",
       "```"
      ]
     },
     "metadata": {},
     "output_type": "display_data"
    }
   ],
   "source": [
    "def prepared_for_weather(have_umbrella, rain_level, have_hood, is_workday):\n",
    "    # Don't change this code. Our goal is just to find the bug, not fix it!\n",
    "    return have_umbrella or rain_level < 5 and have_hood or not rain_level > 0 and is_workday\n",
    "\n",
    "# Change the values of these inputs so they represent a case where prepared_for_weather\n",
    "# returns the wrong answer.\n",
    "have_umbrella = False\n",
    "rain_level = 0.0\n",
    "have_hood = False\n",
    "is_workday = False\n",
    "\n",
    "# Check what the function returns given the current values of the variables above\n",
    "actual = prepared_for_weather(have_umbrella, rain_level, have_hood, is_workday)\n",
    "print(actual)\n",
    "\n",
    "# Check your answer\n",
    "q3.check()"
   ]
  },
  {
   "cell_type": "code",
   "execution_count": 9,
   "id": "2200e010",
   "metadata": {
    "execution": {
     "iopub.execute_input": "2023-02-25T05:04:13.214412Z",
     "iopub.status.busy": "2023-02-25T05:04:13.214005Z",
     "iopub.status.idle": "2023-02-25T05:04:13.218648Z",
     "shell.execute_reply": "2023-02-25T05:04:13.217415Z"
    },
    "papermill": {
     "duration": 0.018756,
     "end_time": "2023-02-25T05:04:13.221131",
     "exception": false,
     "start_time": "2023-02-25T05:04:13.202375",
     "status": "completed"
    },
    "tags": []
   },
   "outputs": [],
   "source": [
    "# q3.hint()\n",
    "# q3.solution()"
   ]
  },
  {
   "cell_type": "markdown",
   "id": "2d928b7e",
   "metadata": {
    "papermill": {
     "duration": 0.00987,
     "end_time": "2023-02-25T05:04:13.241597",
     "exception": false,
     "start_time": "2023-02-25T05:04:13.231727",
     "status": "completed"
    },
    "tags": []
   },
   "source": [
    "# 4.\n",
    "\n",
    "The function `is_negative` below is implemented correctly - it returns True if the given number is negative and False otherwise.\n",
    "\n",
    "However, it's more verbose than it needs to be. We can actually reduce the number of lines of code in this function by *75%* while keeping the same behaviour. \n",
    "\n",
    "See if you can come up with an equivalent body that uses just **one line** of code, and put it in the function `concise_is_negative`. (HINT: you don't even need Python's ternary syntax)"
   ]
  },
  {
   "cell_type": "code",
   "execution_count": 10,
   "id": "3e9cd9c1",
   "metadata": {
    "execution": {
     "iopub.execute_input": "2023-02-25T05:04:13.263926Z",
     "iopub.status.busy": "2023-02-25T05:04:13.263513Z",
     "iopub.status.idle": "2023-02-25T05:04:13.275179Z",
     "shell.execute_reply": "2023-02-25T05:04:13.273994Z"
    },
    "papermill": {
     "duration": 0.025792,
     "end_time": "2023-02-25T05:04:13.277718",
     "exception": false,
     "start_time": "2023-02-25T05:04:13.251926",
     "status": "completed"
    },
    "tags": []
   },
   "outputs": [
    {
     "data": {
      "application/javascript": [
       "parent.postMessage({\"jupyterEvent\": \"custom.exercise_interaction\", \"data\": {\"outcomeType\": 1, \"valueTowardsCompletion\": 0.2, \"interactionType\": 1, \"questionType\": 2, \"questionId\": \"4_ConciseIsNegative\", \"learnToolsVersion\": \"0.3.4\", \"failureMessage\": \"\", \"exceptionClass\": \"\", \"trace\": \"\"}}, \"*\")"
      ],
      "text/plain": [
       "<IPython.core.display.Javascript object>"
      ]
     },
     "metadata": {},
     "output_type": "display_data"
    },
    {
     "data": {
      "text/markdown": [
       "<span style=\"color:#33cc33\">Correct</span>"
      ],
      "text/plain": [
       "Correct"
      ]
     },
     "metadata": {},
     "output_type": "display_data"
    }
   ],
   "source": [
    "def is_negative(number):\n",
    "    if number < 0:\n",
    "        return True\n",
    "    else:\n",
    "        return False\n",
    "\n",
    "def concise_is_negative(number):\n",
    "    return number < 0\n",
    "\n",
    "# Check your answer\n",
    "q4.check()"
   ]
  },
  {
   "cell_type": "code",
   "execution_count": 11,
   "id": "cd69575e",
   "metadata": {
    "execution": {
     "iopub.execute_input": "2023-02-25T05:04:13.300369Z",
     "iopub.status.busy": "2023-02-25T05:04:13.299905Z",
     "iopub.status.idle": "2023-02-25T05:04:13.304780Z",
     "shell.execute_reply": "2023-02-25T05:04:13.303658Z"
    },
    "papermill": {
     "duration": 0.018941,
     "end_time": "2023-02-25T05:04:13.307039",
     "exception": false,
     "start_time": "2023-02-25T05:04:13.288098",
     "status": "completed"
    },
    "tags": []
   },
   "outputs": [],
   "source": [
    "#q4.hint()\n",
    "#q4.solution()"
   ]
  },
  {
   "cell_type": "markdown",
   "id": "a4c1c4e5",
   "metadata": {
    "papermill": {
     "duration": 0.009834,
     "end_time": "2023-02-25T05:04:13.327113",
     "exception": false,
     "start_time": "2023-02-25T05:04:13.317279",
     "status": "completed"
    },
    "tags": []
   },
   "source": [
    "# 5a.\n",
    "\n",
    "The boolean variables `ketchup`, `mustard` and `onion` represent whether a customer wants a particular topping on their hot dog. We want to implement a number of boolean functions that correspond to some yes-or-no questions about the customer's order. For example:"
   ]
  },
  {
   "cell_type": "code",
   "execution_count": 12,
   "id": "71fed39e",
   "metadata": {
    "execution": {
     "iopub.execute_input": "2023-02-25T05:04:13.350079Z",
     "iopub.status.busy": "2023-02-25T05:04:13.349676Z",
     "iopub.status.idle": "2023-02-25T05:04:13.355031Z",
     "shell.execute_reply": "2023-02-25T05:04:13.353689Z"
    },
    "papermill": {
     "duration": 0.019637,
     "end_time": "2023-02-25T05:04:13.357427",
     "exception": false,
     "start_time": "2023-02-25T05:04:13.337790",
     "status": "completed"
    },
    "tags": []
   },
   "outputs": [],
   "source": [
    "def onionless(ketchup, mustard, onion):\n",
    "    \"\"\"Return whether the customer doesn't want onions.\n",
    "    \"\"\"\n",
    "    return not onion"
   ]
  },
  {
   "cell_type": "code",
   "execution_count": 13,
   "id": "d16e8d95",
   "metadata": {
    "execution": {
     "iopub.execute_input": "2023-02-25T05:04:13.380138Z",
     "iopub.status.busy": "2023-02-25T05:04:13.379722Z",
     "iopub.status.idle": "2023-02-25T05:04:13.390344Z",
     "shell.execute_reply": "2023-02-25T05:04:13.389366Z"
    },
    "papermill": {
     "duration": 0.024873,
     "end_time": "2023-02-25T05:04:13.392762",
     "exception": false,
     "start_time": "2023-02-25T05:04:13.367889",
     "status": "completed"
    },
    "tags": []
   },
   "outputs": [
    {
     "data": {
      "application/javascript": [
       "parent.postMessage({\"jupyterEvent\": \"custom.exercise_interaction\", \"data\": {\"outcomeType\": 1, \"valueTowardsCompletion\": 0.2, \"interactionType\": 1, \"questionType\": 2, \"questionId\": \"5.1_AllToppings\", \"learnToolsVersion\": \"0.3.4\", \"failureMessage\": \"\", \"exceptionClass\": \"\", \"trace\": \"\"}}, \"*\")"
      ],
      "text/plain": [
       "<IPython.core.display.Javascript object>"
      ]
     },
     "metadata": {},
     "output_type": "display_data"
    },
    {
     "data": {
      "text/markdown": [
       "<span style=\"color:#33cc33\">Correct</span>"
      ],
      "text/plain": [
       "Correct"
      ]
     },
     "metadata": {},
     "output_type": "display_data"
    }
   ],
   "source": [
    "def wants_all_toppings(ketchup, mustard, onion):\n",
    "    \"\"\"Return whether the customer wants \"the works\" (all 3 toppings)\n",
    "    \"\"\"\n",
    "    return ketchup and mustard and onion\n",
    "\n",
    "# Check your answer\n",
    "q5.a.check()"
   ]
  },
  {
   "cell_type": "code",
   "execution_count": 14,
   "id": "49551b97",
   "metadata": {
    "execution": {
     "iopub.execute_input": "2023-02-25T05:04:13.415897Z",
     "iopub.status.busy": "2023-02-25T05:04:13.415478Z",
     "iopub.status.idle": "2023-02-25T05:04:13.420293Z",
     "shell.execute_reply": "2023-02-25T05:04:13.419091Z"
    },
    "papermill": {
     "duration": 0.019099,
     "end_time": "2023-02-25T05:04:13.422596",
     "exception": false,
     "start_time": "2023-02-25T05:04:13.403497",
     "status": "completed"
    },
    "tags": []
   },
   "outputs": [],
   "source": [
    "#q5.a.hint()\n",
    "#q5.a.solution()"
   ]
  },
  {
   "cell_type": "markdown",
   "id": "c51e5214",
   "metadata": {
    "papermill": {
     "duration": 0.010831,
     "end_time": "2023-02-25T05:04:13.444074",
     "exception": false,
     "start_time": "2023-02-25T05:04:13.433243",
     "status": "completed"
    },
    "tags": []
   },
   "source": [
    "# 5b.\n",
    "\n",
    "For the next function, fill in the body to match the English description in the docstring. "
   ]
  },
  {
   "cell_type": "code",
   "execution_count": 15,
   "id": "ad60a425",
   "metadata": {
    "execution": {
     "iopub.execute_input": "2023-02-25T05:04:13.467427Z",
     "iopub.status.busy": "2023-02-25T05:04:13.467002Z",
     "iopub.status.idle": "2023-02-25T05:04:13.476173Z",
     "shell.execute_reply": "2023-02-25T05:04:13.475316Z"
    },
    "papermill": {
     "duration": 0.023445,
     "end_time": "2023-02-25T05:04:13.478349",
     "exception": false,
     "start_time": "2023-02-25T05:04:13.454904",
     "status": "completed"
    },
    "tags": []
   },
   "outputs": [
    {
     "data": {
      "application/javascript": [
       "parent.postMessage({\"jupyterEvent\": \"custom.exercise_interaction\", \"data\": {\"outcomeType\": 1, \"valueTowardsCompletion\": 0.2, \"interactionType\": 1, \"questionType\": 2, \"questionId\": \"5.2_PlainDog\", \"learnToolsVersion\": \"0.3.4\", \"failureMessage\": \"\", \"exceptionClass\": \"\", \"trace\": \"\"}}, \"*\")"
      ],
      "text/plain": [
       "<IPython.core.display.Javascript object>"
      ]
     },
     "metadata": {},
     "output_type": "display_data"
    },
    {
     "data": {
      "text/markdown": [
       "<span style=\"color:#33cc33\">Correct:</span> \n",
       "\n",
       "One solution looks like:\n",
       "```python\n",
       "return not ketchup and not mustard and not onion\n",
       "```\n",
       "\n",
       "We can also [\"factor out\" the nots](https://en.wikipedia.org/wiki/De_Morgan%27s_laws) to get:\n",
       "\n",
       "```python\n",
       "return not (ketchup or mustard or onion)\n",
       "```"
      ],
      "text/plain": [
       "Correct: \n",
       "\n",
       "One solution looks like:\n",
       "```python\n",
       "return not ketchup and not mustard and not onion\n",
       "```\n",
       "\n",
       "We can also [\"factor out\" the nots](https://en.wikipedia.org/wiki/De_Morgan%27s_laws) to get:\n",
       "\n",
       "```python\n",
       "return not (ketchup or mustard or onion)\n",
       "```"
      ]
     },
     "metadata": {},
     "output_type": "display_data"
    }
   ],
   "source": [
    "def wants_plain_hotdog(ketchup, mustard, onion):\n",
    "    \"\"\"Return whether the customer wants a plain hot dog with no toppings.\n",
    "    \"\"\"\n",
    "    return not (ketchup or mustard or onion)\n",
    "\n",
    "# Check your answer\n",
    "q5.b.check()"
   ]
  },
  {
   "cell_type": "code",
   "execution_count": 16,
   "id": "1c80cba5",
   "metadata": {
    "execution": {
     "iopub.execute_input": "2023-02-25T05:04:13.503204Z",
     "iopub.status.busy": "2023-02-25T05:04:13.501935Z",
     "iopub.status.idle": "2023-02-25T05:04:13.507136Z",
     "shell.execute_reply": "2023-02-25T05:04:13.506071Z"
    },
    "papermill": {
     "duration": 0.019915,
     "end_time": "2023-02-25T05:04:13.509321",
     "exception": false,
     "start_time": "2023-02-25T05:04:13.489406",
     "status": "completed"
    },
    "tags": []
   },
   "outputs": [],
   "source": [
    "#q5.b.hint()\n",
    "#q5.b.solution()"
   ]
  },
  {
   "cell_type": "markdown",
   "id": "6e1c128d",
   "metadata": {
    "papermill": {
     "duration": 0.010628,
     "end_time": "2023-02-25T05:04:13.530877",
     "exception": false,
     "start_time": "2023-02-25T05:04:13.520249",
     "status": "completed"
    },
    "tags": []
   },
   "source": [
    "# 5c.\n",
    "\n",
    "You know what to do: for the next function, fill in the body to match the English description in the docstring."
   ]
  },
  {
   "cell_type": "code",
   "execution_count": 17,
   "id": "587b6f1d",
   "metadata": {
    "execution": {
     "iopub.execute_input": "2023-02-25T05:04:13.555483Z",
     "iopub.status.busy": "2023-02-25T05:04:13.555046Z",
     "iopub.status.idle": "2023-02-25T05:04:13.565104Z",
     "shell.execute_reply": "2023-02-25T05:04:13.563967Z"
    },
    "papermill": {
     "duration": 0.025007,
     "end_time": "2023-02-25T05:04:13.567496",
     "exception": false,
     "start_time": "2023-02-25T05:04:13.542489",
     "status": "completed"
    },
    "tags": []
   },
   "outputs": [
    {
     "data": {
      "application/javascript": [
       "parent.postMessage({\"jupyterEvent\": \"custom.exercise_interaction\", \"data\": {\"outcomeType\": 1, \"valueTowardsCompletion\": 0.2, \"interactionType\": 1, \"questionType\": 2, \"questionId\": \"5.3_OneSauce\", \"learnToolsVersion\": \"0.3.4\", \"failureMessage\": \"\", \"exceptionClass\": \"\", \"trace\": \"\"}}, \"*\")"
      ],
      "text/plain": [
       "<IPython.core.display.Javascript object>"
      ]
     },
     "metadata": {},
     "output_type": "display_data"
    },
    {
     "data": {
      "text/markdown": [
       "<span style=\"color:#33cc33\">Correct</span>"
      ],
      "text/plain": [
       "Correct"
      ]
     },
     "metadata": {},
     "output_type": "display_data"
    }
   ],
   "source": [
    "def exactly_one_sauce(ketchup, mustard, onion):\n",
    "    \"\"\"Return whether the customer wants either ketchup or mustard, but not both.\n",
    "    (You may be familiar with this operation under the name \"exclusive or\")\n",
    "    \"\"\"\n",
    "    return ketchup ^ mustard \n",
    "\n",
    "# Check your answer\n",
    "q5.c.check()"
   ]
  },
  {
   "cell_type": "code",
   "execution_count": 18,
   "id": "77f31951",
   "metadata": {
    "execution": {
     "iopub.execute_input": "2023-02-25T05:04:13.591843Z",
     "iopub.status.busy": "2023-02-25T05:04:13.591466Z",
     "iopub.status.idle": "2023-02-25T05:04:13.595906Z",
     "shell.execute_reply": "2023-02-25T05:04:13.594619Z"
    },
    "papermill": {
     "duration": 0.019603,
     "end_time": "2023-02-25T05:04:13.598256",
     "exception": false,
     "start_time": "2023-02-25T05:04:13.578653",
     "status": "completed"
    },
    "tags": []
   },
   "outputs": [],
   "source": [
    "#q5.c.hint()\n",
    "#q5.c.solution()"
   ]
  },
  {
   "cell_type": "markdown",
   "id": "6aae7ed3",
   "metadata": {
    "papermill": {
     "duration": 0.010934,
     "end_time": "2023-02-25T05:04:13.620469",
     "exception": false,
     "start_time": "2023-02-25T05:04:13.609535",
     "status": "completed"
    },
    "tags": []
   },
   "source": [
    "# 6. <span title=\"A bit spicy\" style=\"color: darkgreen \">🌶️</span>\n",
    "\n",
    "We’ve seen that calling `bool()` on an integer returns `False` if it’s equal to 0 and `True` otherwise. What happens if we call `int()` on a bool? Try it out in the notebook cell below.\n",
    "\n",
    "Can you take advantage of this to write a succinct function that corresponds to the English sentence \"does the customer want exactly one topping?\"?"
   ]
  },
  {
   "cell_type": "code",
   "execution_count": 19,
   "id": "009ff4ef",
   "metadata": {
    "execution": {
     "iopub.execute_input": "2023-02-25T05:04:13.645368Z",
     "iopub.status.busy": "2023-02-25T05:04:13.644904Z",
     "iopub.status.idle": "2023-02-25T05:04:13.654964Z",
     "shell.execute_reply": "2023-02-25T05:04:13.653760Z"
    },
    "papermill": {
     "duration": 0.025026,
     "end_time": "2023-02-25T05:04:13.657166",
     "exception": false,
     "start_time": "2023-02-25T05:04:13.632140",
     "status": "completed"
    },
    "tags": []
   },
   "outputs": [
    {
     "data": {
      "application/javascript": [
       "parent.postMessage({\"jupyterEvent\": \"custom.exercise_interaction\", \"data\": {\"outcomeType\": 1, \"valueTowardsCompletion\": 0.2, \"interactionType\": 1, \"questionType\": 2, \"questionId\": \"6_OneTopping\", \"learnToolsVersion\": \"0.3.4\", \"failureMessage\": \"\", \"exceptionClass\": \"\", \"trace\": \"\"}}, \"*\")"
      ],
      "text/plain": [
       "<IPython.core.display.Javascript object>"
      ]
     },
     "metadata": {},
     "output_type": "display_data"
    },
    {
     "data": {
      "text/markdown": [
       "<span style=\"color:#33cc33\">Correct:</span> \n",
       "\n",
       "This condition would be pretty complicated to express using just `and`, `or` and `not`, but using boolean-to-integer conversion gives us this short solution:\n",
       "```python\n",
       "return (int(ketchup) + int(mustard) + int(onion)) == 1\n",
       "```\n",
       "\n",
       "Fun fact: we don't technically need to call `int` on the arguments. Just by doing addition with booleans, Python implicitly does the integer conversion. So we could also write...\n",
       "\n",
       "```python\n",
       "return (ketchup + mustard + onion) == 1\n",
       "```"
      ],
      "text/plain": [
       "Correct: \n",
       "\n",
       "This condition would be pretty complicated to express using just `and`, `or` and `not`, but using boolean-to-integer conversion gives us this short solution:\n",
       "```python\n",
       "return (int(ketchup) + int(mustard) + int(onion)) == 1\n",
       "```\n",
       "\n",
       "Fun fact: we don't technically need to call `int` on the arguments. Just by doing addition with booleans, Python implicitly does the integer conversion. So we could also write...\n",
       "\n",
       "```python\n",
       "return (ketchup + mustard + onion) == 1\n",
       "```"
      ]
     },
     "metadata": {},
     "output_type": "display_data"
    }
   ],
   "source": [
    "def exactly_one_topping(ketchup, mustard, onion):\n",
    "    \"\"\"Return whether the customer wants exactly one of the three available toppings\n",
    "    on their hot dog.\n",
    "    \"\"\"\n",
    "    return (int(ketchup) + int(mustard) + int(onion)) == 1\n",
    "\n",
    "# Check your answer\n",
    "q6.check()"
   ]
  },
  {
   "cell_type": "code",
   "execution_count": 20,
   "id": "d7900705",
   "metadata": {
    "execution": {
     "iopub.execute_input": "2023-02-25T05:04:13.682554Z",
     "iopub.status.busy": "2023-02-25T05:04:13.682129Z",
     "iopub.status.idle": "2023-02-25T05:04:13.686500Z",
     "shell.execute_reply": "2023-02-25T05:04:13.685193Z"
    },
    "papermill": {
     "duration": 0.0197,
     "end_time": "2023-02-25T05:04:13.688832",
     "exception": false,
     "start_time": "2023-02-25T05:04:13.669132",
     "status": "completed"
    },
    "tags": []
   },
   "outputs": [],
   "source": [
    "#q6.hint()\n",
    "#q6.solution()"
   ]
  },
  {
   "cell_type": "markdown",
   "id": "22ebafab",
   "metadata": {
    "papermill": {
     "duration": 0.011205,
     "end_time": "2023-02-25T05:04:13.711698",
     "exception": false,
     "start_time": "2023-02-25T05:04:13.700493",
     "status": "completed"
    },
    "tags": []
   },
   "source": [
    "# 7. <span title=\"A bit spicy\" style=\"color: darkgreen \">🌶️</span> (Optional)\n",
    "\n",
    "In this problem we'll be working with a simplified version of [blackjack](https://en.wikipedia.org/wiki/Blackjack) (aka twenty-one). In this version there is one player (who you'll control) and a dealer. Play proceeds as follows:\n",
    "\n",
    "- The player is dealt two face-up cards. The dealer is dealt one face-up card.\n",
    "- The player may ask to be dealt another card ('hit') as many times as they wish. If the sum of their cards exceeds 21, they lose the round immediately.\n",
    "- The dealer then deals additional cards to himself until either:\n",
    "    - the sum of the dealer's cards exceeds 21, in which case the player wins the round\n",
    "    - the sum of the dealer's cards is greater than or equal to 17. If the player's total is greater than the dealer's, the player wins. Otherwise, the dealer wins (even in case of a tie).\n",
    "    \n",
    "When calculating the sum of cards, Jack, Queen, and King count for 10. Aces can count as 1 or 11 (when referring to a player's \"total\" above, we mean the largest total that can be made without exceeding 21. So e.g. A+8 = 19, A+8+8 = 17)\n",
    "\n",
    "For this problem, you'll write a function representing the player's decision-making strategy in this game. We've provided a very unintelligent implementation below:"
   ]
  },
  {
   "cell_type": "code",
   "execution_count": 21,
   "id": "58e6bf38",
   "metadata": {
    "execution": {
     "iopub.execute_input": "2023-02-25T05:04:13.736970Z",
     "iopub.status.busy": "2023-02-25T05:04:13.736583Z",
     "iopub.status.idle": "2023-02-25T05:04:13.741356Z",
     "shell.execute_reply": "2023-02-25T05:04:13.740512Z"
    },
    "papermill": {
     "duration": 0.019976,
     "end_time": "2023-02-25T05:04:13.743450",
     "exception": false,
     "start_time": "2023-02-25T05:04:13.723474",
     "status": "completed"
    },
    "tags": []
   },
   "outputs": [],
   "source": [
    "def should_hit(dealer_total, player_total, player_low_aces, player_high_aces):\n",
    "    \"\"\"Return True if the player should hit (request another card) given the current game\n",
    "    state, or False if the player should stay.\n",
    "    When calculating a hand's total value, we count aces as \"high\" (with value 11) if doing so\n",
    "    doesn't bring the total above 21, otherwise we count them as low (with value 1). \n",
    "    For example, if the player's hand is {A, A, A, 7}, we will count it as 11 + 1 + 1 + 7,\n",
    "    and therefore set player_total=20, player_low_aces=2, player_high_aces=1.\n",
    "    \"\"\"\n",
    "    return False"
   ]
  },
  {
   "cell_type": "markdown",
   "id": "8e95462b",
   "metadata": {
    "papermill": {
     "duration": 0.015865,
     "end_time": "2023-02-25T05:04:13.770871",
     "exception": false,
     "start_time": "2023-02-25T05:04:13.755006",
     "status": "completed"
    },
    "tags": []
   },
   "source": [
    "This very conservative agent *always* sticks with the hand of two cards that they're dealt.\n",
    "\n",
    "We'll be simulating games between your player agent and our own dealer agent by calling your function.\n",
    "\n",
    "Try running the function below to see an example of a simulated game:"
   ]
  },
  {
   "cell_type": "code",
   "execution_count": 22,
   "id": "6d0eb830",
   "metadata": {
    "execution": {
     "iopub.execute_input": "2023-02-25T05:04:13.799259Z",
     "iopub.status.busy": "2023-02-25T05:04:13.798758Z",
     "iopub.status.idle": "2023-02-25T05:04:13.806413Z",
     "shell.execute_reply": "2023-02-25T05:04:13.805311Z"
    },
    "papermill": {
     "duration": 0.032184,
     "end_time": "2023-02-25T05:04:13.815992",
     "exception": false,
     "start_time": "2023-02-25T05:04:13.783808",
     "status": "completed"
    },
    "tags": []
   },
   "outputs": [
    {
     "name": "stdout",
     "output_type": "stream",
     "text": [
      "Player starts with 9 and J (total = 19)\n",
      "Dealer starts with J\n",
      "\n",
      "__Player's turn__\n",
      "Player stays\n",
      "\n",
      "__Dealer's turn__\n",
      "Dealer hits and receives 3. (total = 13)\n",
      "Dealer hits and receives Q. (total = 23)\n",
      "Dealer busts! Player wins.\n"
     ]
    }
   ],
   "source": [
    "q7.simulate_one_game()"
   ]
  },
  {
   "cell_type": "markdown",
   "id": "1f355380",
   "metadata": {
    "papermill": {
     "duration": 0.013898,
     "end_time": "2023-02-25T05:04:13.846451",
     "exception": false,
     "start_time": "2023-02-25T05:04:13.832553",
     "status": "completed"
    },
    "tags": []
   },
   "source": [
    "The real test of your agent's mettle is their average win rate over many games. Try calling the function below to simulate 50000 games of blackjack (it may take a couple seconds):"
   ]
  },
  {
   "cell_type": "code",
   "execution_count": 23,
   "id": "f5de23b0",
   "metadata": {
    "execution": {
     "iopub.execute_input": "2023-02-25T05:04:13.878781Z",
     "iopub.status.busy": "2023-02-25T05:04:13.877399Z",
     "iopub.status.idle": "2023-02-25T05:04:15.566028Z",
     "shell.execute_reply": "2023-02-25T05:04:15.564105Z"
    },
    "papermill": {
     "duration": 1.70457,
     "end_time": "2023-02-25T05:04:15.568670",
     "exception": false,
     "start_time": "2023-02-25T05:04:13.864100",
     "status": "completed"
    },
    "tags": []
   },
   "outputs": [
    {
     "name": "stdout",
     "output_type": "stream",
     "text": [
      "Player won 19099 out of 50000 games (win rate = 38.2%)\n"
     ]
    }
   ],
   "source": [
    "q7.simulate(n_games=50000)"
   ]
  },
  {
   "cell_type": "markdown",
   "id": "df0f95ff",
   "metadata": {
    "papermill": {
     "duration": 0.011403,
     "end_time": "2023-02-25T05:04:15.592272",
     "exception": false,
     "start_time": "2023-02-25T05:04:15.580869",
     "status": "completed"
    },
    "tags": []
   },
   "source": [
    "Our dumb agent that completely ignores the game state still manages to win shockingly often!\n",
    "\n",
    "Try adding some more smarts to the `should_hit` function and see how it affects the results."
   ]
  },
  {
   "cell_type": "code",
   "execution_count": 24,
   "id": "89b664b0",
   "metadata": {
    "execution": {
     "iopub.execute_input": "2023-02-25T05:04:15.617727Z",
     "iopub.status.busy": "2023-02-25T05:04:15.617315Z",
     "iopub.status.idle": "2023-02-25T05:04:17.338855Z",
     "shell.execute_reply": "2023-02-25T05:04:17.337053Z"
    },
    "papermill": {
     "duration": 1.737621,
     "end_time": "2023-02-25T05:04:17.341528",
     "exception": false,
     "start_time": "2023-02-25T05:04:15.603907",
     "status": "completed"
    },
    "tags": []
   },
   "outputs": [
    {
     "name": "stdout",
     "output_type": "stream",
     "text": [
      "Player won 18876 out of 50000 games (win rate = 37.8%)\n"
     ]
    }
   ],
   "source": [
    "def should_hit(dealer_total, player_total, player_low_aces, player_high_aces):\n",
    "    \"\"\"Return True if the player should hit (request another card) given the current game\n",
    "    state, or False if the player should stay.\n",
    "    When calculating a hand's total value, we count aces as \"high\" (with value 11) if doing so\n",
    "    doesn't bring the total above 21, otherwise we count them as low (with value 1). \n",
    "    For example, if the player's hand is {A, A, A, 7}, we will count it as 11 + 1 + 1 + 7,\n",
    "    and therefore set player_total=20, player_low_aces=2, player_high_aces=1.\n",
    "    \"\"\"\n",
    "    return False\n",
    "\n",
    "q7.simulate(n_games=50000)"
   ]
  },
  {
   "cell_type": "markdown",
   "id": "ea71baaf",
   "metadata": {
    "papermill": {
     "duration": 0.011773,
     "end_time": "2023-02-25T05:04:17.365657",
     "exception": false,
     "start_time": "2023-02-25T05:04:17.353884",
     "status": "completed"
    },
    "tags": []
   },
   "source": [
    "# Keep Going\n",
    "\n",
    "Learn about **[lists and tuples](https://www.kaggle.com/colinmorris/lists)** to handle multiple items of data in a systematic way."
   ]
  },
  {
   "cell_type": "markdown",
   "id": "a7d61695",
   "metadata": {
    "papermill": {
     "duration": 0.011543,
     "end_time": "2023-02-25T05:04:17.389329",
     "exception": false,
     "start_time": "2023-02-25T05:04:17.377786",
     "status": "completed"
    },
    "tags": []
   },
   "source": [
    "---\n",
    "\n",
    "\n",
    "\n",
    "\n",
    "*Have questions or comments? Visit the [course discussion forum](https://www.kaggle.com/learn/python/discussion) to chat with other learners.*"
   ]
  }
 ],
 "metadata": {
  "kernelspec": {
   "display_name": "Python 3",
   "language": "python",
   "name": "python3"
  },
  "language_info": {
   "codemirror_mode": {
    "name": "ipython",
    "version": 3
   },
   "file_extension": ".py",
   "mimetype": "text/x-python",
   "name": "python",
   "nbconvert_exporter": "python",
   "pygments_lexer": "ipython3",
   "version": "3.7.12"
  },
  "papermill": {
   "default_parameters": {},
   "duration": 15.272008,
   "end_time": "2023-02-25T05:04:18.023576",
   "environment_variables": {},
   "exception": null,
   "input_path": "__notebook__.ipynb",
   "output_path": "__notebook__.ipynb",
   "parameters": {},
   "start_time": "2023-02-25T05:04:02.751568",
   "version": "2.4.0"
  }
 },
 "nbformat": 4,
 "nbformat_minor": 5
}
