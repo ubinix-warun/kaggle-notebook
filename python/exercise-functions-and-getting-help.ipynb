{
 "cells": [
  {
   "cell_type": "markdown",
   "id": "58db2098",
   "metadata": {
    "papermill": {
     "duration": 0.006959,
     "end_time": "2023-02-16T05:14:50.676843",
     "exception": false,
     "start_time": "2023-02-16T05:14:50.669884",
     "status": "completed"
    },
    "tags": []
   },
   "source": [
    "**This notebook is an exercise in the [Python](https://www.kaggle.com/learn/python) course.  You can reference the tutorial at [this link](https://www.kaggle.com/colinmorris/functions-and-getting-help).**\n",
    "\n",
    "---\n"
   ]
  },
  {
   "cell_type": "markdown",
   "id": "3010c4c6",
   "metadata": {
    "papermill": {
     "duration": 0.003786,
     "end_time": "2023-02-16T05:14:50.684794",
     "exception": false,
     "start_time": "2023-02-16T05:14:50.681008",
     "status": "completed"
    },
    "tags": []
   },
   "source": [
    "Functions are powerful. Try writing some yourself.\n",
    "\n",
    "As before, don't forget to run the setup code below before jumping into question 1."
   ]
  },
  {
   "cell_type": "code",
   "execution_count": 1,
   "id": "d2926b97",
   "metadata": {
    "_kg_hide-input": true,
    "_kg_hide-output": true,
    "execution": {
     "iopub.execute_input": "2023-02-16T05:14:50.694769Z",
     "iopub.status.busy": "2023-02-16T05:14:50.694314Z",
     "iopub.status.idle": "2023-02-16T05:14:50.738801Z",
     "shell.execute_reply": "2023-02-16T05:14:50.737786Z"
    },
    "papermill": {
     "duration": 0.052287,
     "end_time": "2023-02-16T05:14:50.741063",
     "exception": false,
     "start_time": "2023-02-16T05:14:50.688776",
     "status": "completed"
    },
    "tags": []
   },
   "outputs": [
    {
     "name": "stdout",
     "output_type": "stream",
     "text": [
      "Setup complete.\n"
     ]
    }
   ],
   "source": [
    "# SETUP. You don't need to worry for now about what this code does or how it works.\n",
    "from learntools.core import binder; binder.bind(globals())\n",
    "from learntools.python.ex2 import *\n",
    "print('Setup complete.')"
   ]
  },
  {
   "cell_type": "markdown",
   "id": "02ffadb0",
   "metadata": {
    "papermill": {
     "duration": 0.003741,
     "end_time": "2023-02-16T05:14:50.749075",
     "exception": false,
     "start_time": "2023-02-16T05:14:50.745334",
     "status": "completed"
    },
    "tags": []
   },
   "source": [
    "# 1.\n",
    "\n",
    "Complete the body of the following function according to its docstring.\n",
    "\n",
    "HINT: Python has a built-in function `round`."
   ]
  },
  {
   "cell_type": "code",
   "execution_count": 2,
   "id": "d98327f1",
   "metadata": {
    "execution": {
     "iopub.execute_input": "2023-02-16T05:14:50.758770Z",
     "iopub.status.busy": "2023-02-16T05:14:50.758409Z",
     "iopub.status.idle": "2023-02-16T05:14:50.768272Z",
     "shell.execute_reply": "2023-02-16T05:14:50.767472Z"
    },
    "papermill": {
     "duration": 0.016849,
     "end_time": "2023-02-16T05:14:50.769868",
     "exception": false,
     "start_time": "2023-02-16T05:14:50.753019",
     "status": "completed"
    },
    "tags": []
   },
   "outputs": [
    {
     "data": {
      "application/javascript": [
       "parent.postMessage({\"jupyterEvent\": \"custom.exercise_interaction\", \"data\": {\"outcomeType\": 1, \"valueTowardsCompletion\": 0.16666666666666666, \"interactionType\": 1, \"questionType\": 2, \"questionId\": \"1_RoundFunctionProblem\", \"learnToolsVersion\": \"0.3.4\", \"failureMessage\": \"\", \"exceptionClass\": \"\", \"trace\": \"\"}}, \"*\")"
      ],
      "text/plain": [
       "<IPython.core.display.Javascript object>"
      ]
     },
     "metadata": {},
     "output_type": "display_data"
    },
    {
     "data": {
      "text/markdown": [
       "<span style=\"color:#33cc33\">Correct</span>"
      ],
      "text/plain": [
       "Correct"
      ]
     },
     "metadata": {},
     "output_type": "display_data"
    }
   ],
   "source": [
    "def round_to_two_places(num):\n",
    "    \"\"\"Return the given number rounded to two decimal places. \n",
    "    \n",
    "    >>> round_to_two_places(3.14159)\n",
    "    3.14\n",
    "    \"\"\"\n",
    "    # Replace this body with your own code.\n",
    "    # (\"pass\" is a keyword that does literally nothing. We used it as a placeholder\n",
    "    # because after we begin a code block, Python requires at least one line of code)\n",
    "    return round(num,2)\n",
    "\n",
    "# Check your answer\n",
    "q1.check()"
   ]
  },
  {
   "cell_type": "code",
   "execution_count": 3,
   "id": "73d62127",
   "metadata": {
    "execution": {
     "iopub.execute_input": "2023-02-16T05:14:50.779692Z",
     "iopub.status.busy": "2023-02-16T05:14:50.779349Z",
     "iopub.status.idle": "2023-02-16T05:14:50.783819Z",
     "shell.execute_reply": "2023-02-16T05:14:50.782427Z"
    },
    "papermill": {
     "duration": 0.011553,
     "end_time": "2023-02-16T05:14:50.785716",
     "exception": false,
     "start_time": "2023-02-16T05:14:50.774163",
     "status": "completed"
    },
    "tags": []
   },
   "outputs": [],
   "source": [
    "# Uncomment the following for a hint\n",
    "#q1.hint()\n",
    "# Or uncomment the following to peek at the solution\n",
    "#q1.solution()"
   ]
  },
  {
   "cell_type": "markdown",
   "id": "6f0c8018",
   "metadata": {
    "papermill": {
     "duration": 0.004014,
     "end_time": "2023-02-16T05:14:50.793878",
     "exception": false,
     "start_time": "2023-02-16T05:14:50.789864",
     "status": "completed"
    },
    "tags": []
   },
   "source": [
    "# 2.\n",
    "The help for `round` says that `ndigits` (the second argument) may be negative.\n",
    "What do you think will happen when it is? Try some examples in the following cell."
   ]
  },
  {
   "cell_type": "code",
   "execution_count": 4,
   "id": "f9ee0d95",
   "metadata": {
    "execution": {
     "iopub.execute_input": "2023-02-16T05:14:50.804198Z",
     "iopub.status.busy": "2023-02-16T05:14:50.803832Z",
     "iopub.status.idle": "2023-02-16T05:14:50.809424Z",
     "shell.execute_reply": "2023-02-16T05:14:50.808570Z"
    },
    "papermill": {
     "duration": 0.013042,
     "end_time": "2023-02-16T05:14:50.811305",
     "exception": false,
     "start_time": "2023-02-16T05:14:50.798263",
     "status": "completed"
    },
    "tags": []
   },
   "outputs": [
    {
     "data": {
      "text/plain": [
       "338400"
      ]
     },
     "execution_count": 4,
     "metadata": {},
     "output_type": "execute_result"
    }
   ],
   "source": [
    "# Put your test code here\n",
    "round(338424, -2)"
   ]
  },
  {
   "cell_type": "markdown",
   "id": "cb90cdfa",
   "metadata": {
    "papermill": {
     "duration": 0.004342,
     "end_time": "2023-02-16T05:14:50.820590",
     "exception": false,
     "start_time": "2023-02-16T05:14:50.816248",
     "status": "completed"
    },
    "tags": []
   },
   "source": [
    "Can you think of a case where this would be useful?  Once you're ready, run the code cell below to see the answer and to receive credit for completing the problem."
   ]
  },
  {
   "cell_type": "code",
   "execution_count": 5,
   "id": "7c831414",
   "metadata": {
    "execution": {
     "iopub.execute_input": "2023-02-16T05:14:50.831203Z",
     "iopub.status.busy": "2023-02-16T05:14:50.830842Z",
     "iopub.status.idle": "2023-02-16T05:14:50.838855Z",
     "shell.execute_reply": "2023-02-16T05:14:50.837400Z"
    },
    "papermill": {
     "duration": 0.015748,
     "end_time": "2023-02-16T05:14:50.840839",
     "exception": false,
     "start_time": "2023-02-16T05:14:50.825091",
     "status": "completed"
    },
    "tags": []
   },
   "outputs": [
    {
     "data": {
      "application/javascript": [
       "parent.postMessage({\"jupyterEvent\": \"custom.exercise_interaction\", \"data\": {\"interactionType\": 3, \"questionType\": 4, \"questionId\": \"2_RoundNdigitsProblem\", \"learnToolsVersion\": \"0.3.4\", \"valueTowardsCompletion\": 0.0, \"failureMessage\": \"\", \"exceptionClass\": \"\", \"trace\": \"\", \"outcomeType\": 4}}, \"*\")"
      ],
      "text/plain": [
       "<IPython.core.display.Javascript object>"
      ]
     },
     "metadata": {},
     "output_type": "display_data"
    },
    {
     "data": {
      "text/markdown": [
       "<span style=\"color:#33cc99\">Solution:</span> As you've seen, `ndigits=-1` rounds to the nearest 10, `ndigits=-2` rounds to the nearest 100 and so on. Where might this be useful? Suppose we're dealing with large numbers:\n",
       "\n",
       "> The area of Finland is 338,424 km²  \n",
       "> The area of Greenland is 2,166,086 km²\n",
       "\n",
       "We probably don't care whether it's really 338,424, or 338,425, or 338,177. All those digits of accuracy are just distracting. We can chop them off by calling `round()` with `ndigits=-3`:\n",
       "\n",
       "> The area of Finland is 338,000 km²  \n",
       "> The area of Greenland is 2,166,000 km²\n",
       "\n",
       "(We'll talk about how we would get the commas later when we talk about string formatting :))\n"
      ],
      "text/plain": [
       "Solution: As you've seen, `ndigits=-1` rounds to the nearest 10, `ndigits=-2` rounds to the nearest 100 and so on. Where might this be useful? Suppose we're dealing with large numbers:\n",
       "\n",
       "> The area of Finland is 338,424 km²  \n",
       "> The area of Greenland is 2,166,086 km²\n",
       "\n",
       "We probably don't care whether it's really 338,424, or 338,425, or 338,177. All those digits of accuracy are just distracting. We can chop them off by calling `round()` with `ndigits=-3`:\n",
       "\n",
       "> The area of Finland is 338,000 km²  \n",
       "> The area of Greenland is 2,166,000 km²\n",
       "\n",
       "(We'll talk about how we would get the commas later when we talk about string formatting :))"
      ]
     },
     "metadata": {},
     "output_type": "display_data"
    }
   ],
   "source": [
    "# Check your answer (Run this code cell to receive credit!)\n",
    "q2.solution()"
   ]
  },
  {
   "cell_type": "markdown",
   "id": "260e9a0c",
   "metadata": {
    "papermill": {
     "duration": 0.005398,
     "end_time": "2023-02-16T05:14:50.851630",
     "exception": false,
     "start_time": "2023-02-16T05:14:50.846232",
     "status": "completed"
    },
    "tags": []
   },
   "source": [
    "# 3.\n",
    "\n",
    "In the previous exercise, the candy-sharing friends Alice, Bob and Carol tried to split candies evenly. For the sake of their friendship, any candies left over would be smashed. For example, if they collectively bring home 91 candies, they'll take 30 each and smash 1.\n",
    "\n",
    "Below is a simple function that will calculate the number of candies to smash for *any* number of total candies.\n",
    "\n",
    "Modify it so that it optionally takes a second argument representing the number of friends the candies are being split between. If no second argument is provided, it should assume 3 friends, as before.\n",
    "\n",
    "Update the docstring to reflect this new behaviour."
   ]
  },
  {
   "cell_type": "code",
   "execution_count": 6,
   "id": "79a48d22",
   "metadata": {
    "execution": {
     "iopub.execute_input": "2023-02-16T05:14:50.863458Z",
     "iopub.status.busy": "2023-02-16T05:14:50.863063Z",
     "iopub.status.idle": "2023-02-16T05:14:50.873000Z",
     "shell.execute_reply": "2023-02-16T05:14:50.871870Z"
    },
    "papermill": {
     "duration": 0.018686,
     "end_time": "2023-02-16T05:14:50.875518",
     "exception": false,
     "start_time": "2023-02-16T05:14:50.856832",
     "status": "completed"
    },
    "tags": []
   },
   "outputs": [
    {
     "data": {
      "application/javascript": [
       "parent.postMessage({\"jupyterEvent\": \"custom.exercise_interaction\", \"data\": {\"outcomeType\": 1, \"valueTowardsCompletion\": 0.16666666666666666, \"interactionType\": 1, \"questionType\": 2, \"questionId\": \"3_CandySmashingFunctionProblem\", \"learnToolsVersion\": \"0.3.4\", \"failureMessage\": \"\", \"exceptionClass\": \"\", \"trace\": \"\"}}, \"*\")"
      ],
      "text/plain": [
       "<IPython.core.display.Javascript object>"
      ]
     },
     "metadata": {},
     "output_type": "display_data"
    },
    {
     "data": {
      "text/markdown": [
       "<span style=\"color:#33cc33\">Correct</span>"
      ],
      "text/plain": [
       "Correct"
      ]
     },
     "metadata": {},
     "output_type": "display_data"
    }
   ],
   "source": [
    "def to_smash(total_candies, num_of_friends=3):\n",
    "    \"\"\"Return the number of leftover candies that must be smashed after distributing\n",
    "    the given number of candies evenly between 3 friends.\n",
    "    \n",
    "    >>> to_smash(91)\n",
    "    1\n",
    "    \"\"\"\n",
    "    return total_candies % num_of_friends\n",
    "\n",
    "# Check your answer\n",
    "q3.check()"
   ]
  },
  {
   "cell_type": "code",
   "execution_count": 7,
   "id": "b4851862",
   "metadata": {
    "execution": {
     "iopub.execute_input": "2023-02-16T05:14:50.887850Z",
     "iopub.status.busy": "2023-02-16T05:14:50.887469Z",
     "iopub.status.idle": "2023-02-16T05:14:50.892369Z",
     "shell.execute_reply": "2023-02-16T05:14:50.891175Z"
    },
    "papermill": {
     "duration": 0.013649,
     "end_time": "2023-02-16T05:14:50.894538",
     "exception": false,
     "start_time": "2023-02-16T05:14:50.880889",
     "status": "completed"
    },
    "tags": []
   },
   "outputs": [],
   "source": [
    "# q3.hint()"
   ]
  },
  {
   "cell_type": "code",
   "execution_count": 8,
   "id": "9caaf684",
   "metadata": {
    "execution": {
     "iopub.execute_input": "2023-02-16T05:14:50.906753Z",
     "iopub.status.busy": "2023-02-16T05:14:50.906397Z",
     "iopub.status.idle": "2023-02-16T05:14:50.911237Z",
     "shell.execute_reply": "2023-02-16T05:14:50.909673Z"
    },
    "papermill": {
     "duration": 0.013452,
     "end_time": "2023-02-16T05:14:50.913319",
     "exception": false,
     "start_time": "2023-02-16T05:14:50.899867",
     "status": "completed"
    },
    "tags": []
   },
   "outputs": [],
   "source": [
    "#q3.solution()"
   ]
  },
  {
   "cell_type": "markdown",
   "id": "1504f86f",
   "metadata": {
    "papermill": {
     "duration": 0.00475,
     "end_time": "2023-02-16T05:14:50.923348",
     "exception": false,
     "start_time": "2023-02-16T05:14:50.918598",
     "status": "completed"
    },
    "tags": []
   },
   "source": [
    "# 4. (Optional)\n",
    "\n",
    "It may not be fun, but reading and understanding error messages will be an important part of your Python career.\n",
    "\n",
    "Each code cell below contains some commented buggy code. For each cell...\n",
    "\n",
    "1. Read the code and predict what you think will happen when it's run.\n",
    "2. Then uncomment the code and run it to see what happens. (**Tip**: In the kernel editor, you can highlight several lines and press `ctrl`+`/` to toggle commenting.)\n",
    "3. Fix the code (so that it accomplishes its intended purpose without throwing an exception)\n",
    "\n",
    "<!-- TODO: should this be autochecked? Delta is probably pretty small. -->"
   ]
  },
  {
   "cell_type": "code",
   "execution_count": 9,
   "id": "10b92696",
   "metadata": {
    "execution": {
     "iopub.execute_input": "2023-02-16T05:14:50.935343Z",
     "iopub.status.busy": "2023-02-16T05:14:50.934990Z",
     "iopub.status.idle": "2023-02-16T05:14:50.941258Z",
     "shell.execute_reply": "2023-02-16T05:14:50.940363Z"
    },
    "papermill": {
     "duration": 0.014587,
     "end_time": "2023-02-16T05:14:50.943076",
     "exception": false,
     "start_time": "2023-02-16T05:14:50.928489",
     "status": "completed"
    },
    "tags": []
   },
   "outputs": [
    {
     "data": {
      "text/plain": [
       "10.0"
      ]
     },
     "execution_count": 9,
     "metadata": {},
     "output_type": "execute_result"
    }
   ],
   "source": [
    "round(9.9999,2)"
   ]
  },
  {
   "cell_type": "code",
   "execution_count": 10,
   "id": "a2077f39",
   "metadata": {
    "execution": {
     "iopub.execute_input": "2023-02-16T05:14:50.955324Z",
     "iopub.status.busy": "2023-02-16T05:14:50.954945Z",
     "iopub.status.idle": "2023-02-16T05:14:50.959907Z",
     "shell.execute_reply": "2023-02-16T05:14:50.958953Z"
    },
    "papermill": {
     "duration": 0.013452,
     "end_time": "2023-02-16T05:14:50.961794",
     "exception": false,
     "start_time": "2023-02-16T05:14:50.948342",
     "status": "completed"
    },
    "tags": []
   },
   "outputs": [],
   "source": [
    "x = -10\n",
    "y = 5\n",
    "# Which of the two variables above has the smallest absolute value?\n",
    "smallest_abs = abs(min(x, y))"
   ]
  },
  {
   "cell_type": "code",
   "execution_count": 11,
   "id": "932b85f2",
   "metadata": {
    "execution": {
     "iopub.execute_input": "2023-02-16T05:14:50.973954Z",
     "iopub.status.busy": "2023-02-16T05:14:50.973578Z",
     "iopub.status.idle": "2023-02-16T05:14:50.979714Z",
     "shell.execute_reply": "2023-02-16T05:14:50.978263Z"
    },
    "papermill": {
     "duration": 0.014594,
     "end_time": "2023-02-16T05:14:50.981779",
     "exception": false,
     "start_time": "2023-02-16T05:14:50.967185",
     "status": "completed"
    },
    "tags": []
   },
   "outputs": [
    {
     "name": "stdout",
     "output_type": "stream",
     "text": [
      "5\n"
     ]
    }
   ],
   "source": [
    "def f(x):\n",
    "    y = abs(x)\n",
    "    return y\n",
    "\n",
    "print(f(5))"
   ]
  },
  {
   "cell_type": "markdown",
   "id": "402abe1c",
   "metadata": {
    "papermill": {
     "duration": 0.004899,
     "end_time": "2023-02-16T05:14:50.992187",
     "exception": false,
     "start_time": "2023-02-16T05:14:50.987288",
     "status": "completed"
    },
    "tags": []
   },
   "source": [
    "# Keep Going\n",
    "\n",
    "Nice job with the code. Next up, you'll learn about *conditionals*, which you'll need to **[write interesting programs](https://www.kaggle.com/colinmorris/booleans-and-conditionals)**. "
   ]
  },
  {
   "cell_type": "markdown",
   "id": "12a06e8d",
   "metadata": {
    "papermill": {
     "duration": 0.005432,
     "end_time": "2023-02-16T05:14:51.003350",
     "exception": false,
     "start_time": "2023-02-16T05:14:50.997918",
     "status": "completed"
    },
    "tags": []
   },
   "source": [
    "---\n",
    "\n",
    "\n",
    "\n",
    "\n",
    "*Have questions or comments? Visit the [course discussion forum](https://www.kaggle.com/learn/python/discussion) to chat with other learners.*"
   ]
  }
 ],
 "metadata": {
  "kernelspec": {
   "display_name": "Python 3",
   "language": "python",
   "name": "python3"
  },
  "language_info": {
   "codemirror_mode": {
    "name": "ipython",
    "version": 3
   },
   "file_extension": ".py",
   "mimetype": "text/x-python",
   "name": "python",
   "nbconvert_exporter": "python",
   "pygments_lexer": "ipython3",
   "version": "3.7.12"
  },
  "papermill": {
   "default_parameters": {},
   "duration": 8.537922,
   "end_time": "2023-02-16T05:14:51.629934",
   "environment_variables": {},
   "exception": null,
   "input_path": "__notebook__.ipynb",
   "output_path": "__notebook__.ipynb",
   "parameters": {},
   "start_time": "2023-02-16T05:14:43.092012",
   "version": "2.3.4"
  }
 },
 "nbformat": 4,
 "nbformat_minor": 5
}
