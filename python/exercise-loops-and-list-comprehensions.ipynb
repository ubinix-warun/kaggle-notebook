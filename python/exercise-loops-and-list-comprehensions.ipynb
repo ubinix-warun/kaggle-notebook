{
 "cells": [
  {
   "cell_type": "markdown",
   "id": "a0f554b3",
   "metadata": {
    "papermill": {
     "duration": 0.006426,
     "end_time": "2023-04-28T03:11:16.557697",
     "exception": false,
     "start_time": "2023-04-28T03:11:16.551271",
     "status": "completed"
    },
    "tags": []
   },
   "source": [
    "**This notebook is an exercise in the [Python](https://www.kaggle.com/learn/python) course.  You can reference the tutorial at [this link](https://www.kaggle.com/colinmorris/loops-and-list-comprehensions).**\n",
    "\n",
    "---\n"
   ]
  },
  {
   "cell_type": "markdown",
   "id": "6b5c28e8",
   "metadata": {
    "papermill": {
     "duration": 0.004819,
     "end_time": "2023-04-28T03:11:16.567914",
     "exception": false,
     "start_time": "2023-04-28T03:11:16.563095",
     "status": "completed"
    },
    "tags": []
   },
   "source": [
    "With all you've learned, you can start writing much more interesting programs. See if you can solve the problems below.\n",
    "\n",
    "As always, run the setup code below before working on the questions."
   ]
  },
  {
   "cell_type": "code",
   "execution_count": 1,
   "id": "cfe11ee8",
   "metadata": {
    "execution": {
     "iopub.execute_input": "2023-04-28T03:11:16.580773Z",
     "iopub.status.busy": "2023-04-28T03:11:16.580180Z",
     "iopub.status.idle": "2023-04-28T03:11:16.624527Z",
     "shell.execute_reply": "2023-04-28T03:11:16.623180Z"
    },
    "papermill": {
     "duration": 0.05452,
     "end_time": "2023-04-28T03:11:16.627555",
     "exception": false,
     "start_time": "2023-04-28T03:11:16.573035",
     "status": "completed"
    },
    "tags": []
   },
   "outputs": [
    {
     "name": "stdout",
     "output_type": "stream",
     "text": [
      "Setup complete.\n"
     ]
    }
   ],
   "source": [
    "from learntools.core import binder; binder.bind(globals())\n",
    "from learntools.python.ex5 import *\n",
    "print('Setup complete.')"
   ]
  },
  {
   "cell_type": "markdown",
   "id": "3c263279",
   "metadata": {
    "papermill": {
     "duration": 0.004912,
     "end_time": "2023-04-28T03:11:16.637970",
     "exception": false,
     "start_time": "2023-04-28T03:11:16.633058",
     "status": "completed"
    },
    "tags": []
   },
   "source": [
    "# 1.\n",
    "\n",
    "Have you ever felt debugging involved a bit of luck? The following program has a bug. Try to identify the bug and fix it."
   ]
  },
  {
   "cell_type": "code",
   "execution_count": 2,
   "id": "e939ac10",
   "metadata": {
    "execution": {
     "iopub.execute_input": "2023-04-28T03:11:16.650454Z",
     "iopub.status.busy": "2023-04-28T03:11:16.649336Z",
     "iopub.status.idle": "2023-04-28T03:11:16.655696Z",
     "shell.execute_reply": "2023-04-28T03:11:16.654814Z"
    },
    "papermill": {
     "duration": 0.015174,
     "end_time": "2023-04-28T03:11:16.658145",
     "exception": false,
     "start_time": "2023-04-28T03:11:16.642971",
     "status": "completed"
    },
    "tags": []
   },
   "outputs": [],
   "source": [
    "def has_lucky_number(nums):\n",
    "    \"\"\"Return whether the given list of numbers is lucky. A lucky list contains\n",
    "    at least one number divisible by 7.\n",
    "    \"\"\"\n",
    "    for num in nums:\n",
    "        if num % 7 == 0:\n",
    "            return True\n",
    "        else:\n",
    "            return False"
   ]
  },
  {
   "cell_type": "markdown",
   "id": "cc9a3861",
   "metadata": {
    "papermill": {
     "duration": 0.004857,
     "end_time": "2023-04-28T03:11:16.668251",
     "exception": false,
     "start_time": "2023-04-28T03:11:16.663394",
     "status": "completed"
    },
    "tags": []
   },
   "source": [
    "Try to identify the bug and fix it in the cell below:"
   ]
  },
  {
   "cell_type": "code",
   "execution_count": 3,
   "id": "31c54ba2",
   "metadata": {
    "execution": {
     "iopub.execute_input": "2023-04-28T03:11:16.680441Z",
     "iopub.status.busy": "2023-04-28T03:11:16.679774Z",
     "iopub.status.idle": "2023-04-28T03:11:16.691221Z",
     "shell.execute_reply": "2023-04-28T03:11:16.690150Z"
    },
    "papermill": {
     "duration": 0.020338,
     "end_time": "2023-04-28T03:11:16.693511",
     "exception": false,
     "start_time": "2023-04-28T03:11:16.673173",
     "status": "completed"
    },
    "tags": []
   },
   "outputs": [
    {
     "data": {
      "application/javascript": [
       "parent.postMessage({\"jupyterEvent\": \"custom.exercise_interaction\", \"data\": {\"outcomeType\": 1, \"valueTowardsCompletion\": 0.25, \"interactionType\": 1, \"questionType\": 2, \"questionId\": \"1_EarlyExitDebugging\", \"learnToolsVersion\": \"0.3.4\", \"failureMessage\": \"\", \"exceptionClass\": \"\", \"trace\": \"\"}}, \"*\")"
      ],
      "text/plain": [
       "<IPython.core.display.Javascript object>"
      ]
     },
     "metadata": {},
     "output_type": "display_data"
    },
    {
     "data": {
      "text/markdown": [
       "<span style=\"color:#33cc33\">Correct:</span> \n",
       "\n",
       "Remember that `return` causes a function to exit immediately. So our original implementation always ran for just one iteration. We can only return `False` if we've looked at every element of the list (and confirmed that none of them are lucky). Though we can return early if the answer is `True`:\n",
       "\n",
       "```python\n",
       "def has_lucky_number(nums):\n",
       "    for num in nums:\n",
       "        if num % 7 == 0:\n",
       "            return True\n",
       "    # We've exhausted the list without finding a lucky number\n",
       "    return False\n",
       "```\n",
       "\n",
       "Here's a one-line version using a list comprehension with Python's `any` function (you can read about what it does by calling `help(any)`):\n",
       "\n",
       "```python\n",
       "def has_lucky_number(nums):\n",
       "    return any([num % 7 == 0 for num in nums])\n",
       "```\n"
      ],
      "text/plain": [
       "Correct: \n",
       "\n",
       "Remember that `return` causes a function to exit immediately. So our original implementation always ran for just one iteration. We can only return `False` if we've looked at every element of the list (and confirmed that none of them are lucky). Though we can return early if the answer is `True`:\n",
       "\n",
       "```python\n",
       "def has_lucky_number(nums):\n",
       "    for num in nums:\n",
       "        if num % 7 == 0:\n",
       "            return True\n",
       "    # We've exhausted the list without finding a lucky number\n",
       "    return False\n",
       "```\n",
       "\n",
       "Here's a one-line version using a list comprehension with Python's `any` function (you can read about what it does by calling `help(any)`):\n",
       "\n",
       "```python\n",
       "def has_lucky_number(nums):\n",
       "    return any([num % 7 == 0 for num in nums])\n",
       "```"
      ]
     },
     "metadata": {},
     "output_type": "display_data"
    }
   ],
   "source": [
    "def has_lucky_number(nums):\n",
    "    \"\"\"Return whether the given list of numbers is lucky. A lucky list contains\n",
    "    at least one number divisible by 7.\n",
    "    \"\"\"\n",
    "    for num in nums:\n",
    "        if num % 7 == 0:\n",
    "            return True\n",
    "        \n",
    "    return False\n",
    "\n",
    "# Check your answer\n",
    "q1.check()"
   ]
  },
  {
   "cell_type": "code",
   "execution_count": 4,
   "id": "fff1b7e2",
   "metadata": {
    "execution": {
     "iopub.execute_input": "2023-04-28T03:11:16.707385Z",
     "iopub.status.busy": "2023-04-28T03:11:16.706701Z",
     "iopub.status.idle": "2023-04-28T03:11:16.711241Z",
     "shell.execute_reply": "2023-04-28T03:11:16.710402Z"
    },
    "papermill": {
     "duration": 0.014296,
     "end_time": "2023-04-28T03:11:16.713414",
     "exception": false,
     "start_time": "2023-04-28T03:11:16.699118",
     "status": "completed"
    },
    "tags": []
   },
   "outputs": [],
   "source": [
    "#q1.hint()\n",
    "#q1.solution()"
   ]
  },
  {
   "cell_type": "markdown",
   "id": "57f8e85c",
   "metadata": {
    "papermill": {
     "duration": 0.005194,
     "end_time": "2023-04-28T03:11:16.724083",
     "exception": false,
     "start_time": "2023-04-28T03:11:16.718889",
     "status": "completed"
    },
    "tags": []
   },
   "source": [
    "# 2.\n",
    "Look at the Python expression below. What do you think we'll get when we run it? When you've made your prediction, uncomment the code and run the cell to see if you were right."
   ]
  },
  {
   "cell_type": "code",
   "execution_count": 5,
   "id": "8d0da61f",
   "metadata": {
    "execution": {
     "iopub.execute_input": "2023-04-28T03:11:16.737106Z",
     "iopub.status.busy": "2023-04-28T03:11:16.736381Z",
     "iopub.status.idle": "2023-04-28T03:11:16.741131Z",
     "shell.execute_reply": "2023-04-28T03:11:16.740302Z"
    },
    "papermill": {
     "duration": 0.01387,
     "end_time": "2023-04-28T03:11:16.743293",
     "exception": false,
     "start_time": "2023-04-28T03:11:16.729423",
     "status": "completed"
    },
    "tags": []
   },
   "outputs": [],
   "source": [
    "#[1, 2, 3, 4] > 2"
   ]
  },
  {
   "cell_type": "markdown",
   "id": "08a8a991",
   "metadata": {
    "papermill": {
     "duration": 0.005127,
     "end_time": "2023-04-28T03:11:16.754128",
     "exception": false,
     "start_time": "2023-04-28T03:11:16.749001",
     "status": "completed"
    },
    "tags": []
   },
   "source": [
    "R and Python have some libraries (like numpy and pandas) compare each element of the list to 2 (i.e. do an 'element-wise' comparison) and give us a list of booleans like `[False, False, True, True]`. \n",
    "\n",
    "Implement a function that reproduces this behaviour, returning a list of booleans corresponding to whether the corresponding element is greater than n."
   ]
  },
  {
   "cell_type": "code",
   "execution_count": 6,
   "id": "5d9fb994",
   "metadata": {
    "execution": {
     "iopub.execute_input": "2023-04-28T03:11:16.767136Z",
     "iopub.status.busy": "2023-04-28T03:11:16.766419Z",
     "iopub.status.idle": "2023-04-28T03:11:16.777057Z",
     "shell.execute_reply": "2023-04-28T03:11:16.776149Z"
    },
    "papermill": {
     "duration": 0.019756,
     "end_time": "2023-04-28T03:11:16.779254",
     "exception": false,
     "start_time": "2023-04-28T03:11:16.759498",
     "status": "completed"
    },
    "tags": []
   },
   "outputs": [
    {
     "data": {
      "application/javascript": [
       "parent.postMessage({\"jupyterEvent\": \"custom.exercise_interaction\", \"data\": {\"outcomeType\": 1, \"valueTowardsCompletion\": 0.25, \"interactionType\": 1, \"questionType\": 2, \"questionId\": \"2_ElementWiseComparison\", \"learnToolsVersion\": \"0.3.4\", \"failureMessage\": \"\", \"exceptionClass\": \"\", \"trace\": \"\"}}, \"*\")"
      ],
      "text/plain": [
       "<IPython.core.display.Javascript object>"
      ]
     },
     "metadata": {},
     "output_type": "display_data"
    },
    {
     "data": {
      "text/markdown": [
       "<span style=\"color:#33cc33\">Correct:</span> \n",
       "\n",
       "Here's one solution:\n",
       "```python\n",
       "def elementwise_greater_than(L, thresh):\n",
       "    res = []\n",
       "    for ele in L:\n",
       "        res.append(ele > thresh)\n",
       "    return res\n",
       "```\n",
       "\n",
       "And here's the list comprehension version:\n",
       "```python\n",
       "def elementwise_greater_than(L, thresh):\n",
       "    return [ele > thresh for ele in L]\n",
       "```\n"
      ],
      "text/plain": [
       "Correct: \n",
       "\n",
       "Here's one solution:\n",
       "```python\n",
       "def elementwise_greater_than(L, thresh):\n",
       "    res = []\n",
       "    for ele in L:\n",
       "        res.append(ele > thresh)\n",
       "    return res\n",
       "```\n",
       "\n",
       "And here's the list comprehension version:\n",
       "```python\n",
       "def elementwise_greater_than(L, thresh):\n",
       "    return [ele > thresh for ele in L]\n",
       "```"
      ]
     },
     "metadata": {},
     "output_type": "display_data"
    }
   ],
   "source": [
    "def elementwise_greater_than(L, thresh):\n",
    "    \"\"\"Return a list with the same length as L, where the value at index i is \n",
    "    True if L[i] is greater than thresh, and False otherwise.\n",
    "    \n",
    "    >>> elementwise_greater_than([1, 2, 3, 4], 2)\n",
    "    [False, False, True, True]\n",
    "    \"\"\"\n",
    "    r = []\n",
    "    \n",
    "    for l in L:\n",
    "        if l <= thresh: \n",
    "            r.append(False)\n",
    "        else:\n",
    "            r.append(True)\n",
    "        \n",
    "    return r\n",
    "    \n",
    "\n",
    "# Check your answer\n",
    "q2.check()"
   ]
  },
  {
   "cell_type": "code",
   "execution_count": 7,
   "id": "9c6f7488",
   "metadata": {
    "execution": {
     "iopub.execute_input": "2023-04-28T03:11:16.793913Z",
     "iopub.status.busy": "2023-04-28T03:11:16.793176Z",
     "iopub.status.idle": "2023-04-28T03:11:16.798130Z",
     "shell.execute_reply": "2023-04-28T03:11:16.797192Z"
    },
    "papermill": {
     "duration": 0.014469,
     "end_time": "2023-04-28T03:11:16.800453",
     "exception": false,
     "start_time": "2023-04-28T03:11:16.785984",
     "status": "completed"
    },
    "tags": []
   },
   "outputs": [],
   "source": [
    "#q2.solution()"
   ]
  },
  {
   "cell_type": "markdown",
   "id": "30c492b7",
   "metadata": {
    "papermill": {
     "duration": 0.005506,
     "end_time": "2023-04-28T03:11:16.811845",
     "exception": false,
     "start_time": "2023-04-28T03:11:16.806339",
     "status": "completed"
    },
    "tags": []
   },
   "source": [
    "# 3.\n",
    "\n",
    "Complete the body of the function below according to its docstring."
   ]
  },
  {
   "cell_type": "code",
   "execution_count": 8,
   "id": "8af1b387",
   "metadata": {
    "execution": {
     "iopub.execute_input": "2023-04-28T03:11:16.825619Z",
     "iopub.status.busy": "2023-04-28T03:11:16.824913Z",
     "iopub.status.idle": "2023-04-28T03:11:16.834828Z",
     "shell.execute_reply": "2023-04-28T03:11:16.833843Z"
    },
    "papermill": {
     "duration": 0.019484,
     "end_time": "2023-04-28T03:11:16.836933",
     "exception": false,
     "start_time": "2023-04-28T03:11:16.817449",
     "status": "completed"
    },
    "tags": []
   },
   "outputs": [
    {
     "data": {
      "application/javascript": [
       "parent.postMessage({\"jupyterEvent\": \"custom.exercise_interaction\", \"data\": {\"outcomeType\": 2, \"failureMessage\": \"Expected return value of `False` given `meals=['Spam', 'Eggs', 'Bacon', 'Spam']`, but got `True` instead.\", \"interactionType\": 1, \"questionType\": 2, \"questionId\": \"3_BoringMenu\", \"learnToolsVersion\": \"0.3.4\", \"valueTowardsCompletion\": 0.0, \"exceptionClass\": \"\", \"trace\": \"\"}}, \"*\")"
      ],
      "text/plain": [
       "<IPython.core.display.Javascript object>"
      ]
     },
     "metadata": {},
     "output_type": "display_data"
    },
    {
     "data": {
      "text/markdown": [
       "<span style=\"color:#cc3333\">Incorrect:</span> Expected return value of `False` given `meals=['Spam', 'Eggs', 'Bacon', 'Spam']`, but got `True` instead."
      ],
      "text/plain": [
       "Incorrect: Expected return value of `False` given `meals=['Spam', 'Eggs', 'Bacon', 'Spam']`, but got `True` instead."
      ]
     },
     "metadata": {},
     "output_type": "display_data"
    }
   ],
   "source": [
    "def menu_is_boring(meals):\n",
    "    \"\"\"Given a list of meals served over some period of time, return True if the\n",
    "    same meal has ever been served two days in a row, and False otherwise.\n",
    "    \"\"\"\n",
    "    \n",
    "    for m in meals:\n",
    "        if meals.count(m) > 1 :\n",
    "            return True\n",
    "    \n",
    "    return False\n",
    "\n",
    "# Check your answer\n",
    "q3.check()"
   ]
  },
  {
   "cell_type": "code",
   "execution_count": 9,
   "id": "19e75df9",
   "metadata": {
    "execution": {
     "iopub.execute_input": "2023-04-28T03:11:16.850873Z",
     "iopub.status.busy": "2023-04-28T03:11:16.850165Z",
     "iopub.status.idle": "2023-04-28T03:11:16.854639Z",
     "shell.execute_reply": "2023-04-28T03:11:16.853844Z"
    },
    "papermill": {
     "duration": 0.013969,
     "end_time": "2023-04-28T03:11:16.856846",
     "exception": false,
     "start_time": "2023-04-28T03:11:16.842877",
     "status": "completed"
    },
    "tags": []
   },
   "outputs": [],
   "source": [
    "#q3.hint()\n",
    "#q3.solution()"
   ]
  },
  {
   "cell_type": "markdown",
   "id": "50d29134",
   "metadata": {
    "papermill": {
     "duration": 0.005832,
     "end_time": "2023-04-28T03:11:16.868662",
     "exception": false,
     "start_time": "2023-04-28T03:11:16.862830",
     "status": "completed"
    },
    "tags": []
   },
   "source": [
    "# 4. <span title=\"A bit spicy\" style=\"color: darkgreen \">🌶️</span>\n",
    "\n",
    "Next to the Blackjack table, the Python Challenge Casino has a slot machine. You can get a result from the slot machine by calling `play_slot_machine()`. The number it returns is your winnings in dollars. Usually it returns 0.  But sometimes you'll get lucky and get a big payday. Try running it below:"
   ]
  },
  {
   "cell_type": "code",
   "execution_count": 10,
   "id": "dac07091",
   "metadata": {
    "execution": {
     "iopub.execute_input": "2023-04-28T03:11:16.882935Z",
     "iopub.status.busy": "2023-04-28T03:11:16.882246Z",
     "iopub.status.idle": "2023-04-28T03:11:16.889206Z",
     "shell.execute_reply": "2023-04-28T03:11:16.888023Z"
    },
    "papermill": {
     "duration": 0.01662,
     "end_time": "2023-04-28T03:11:16.891393",
     "exception": false,
     "start_time": "2023-04-28T03:11:16.874773",
     "status": "completed"
    },
    "tags": []
   },
   "outputs": [
    {
     "data": {
      "text/plain": [
       "0"
      ]
     },
     "execution_count": 10,
     "metadata": {},
     "output_type": "execute_result"
    }
   ],
   "source": [
    "play_slot_machine()"
   ]
  },
  {
   "cell_type": "markdown",
   "id": "c9d3d88d",
   "metadata": {
    "papermill": {
     "duration": 0.005998,
     "end_time": "2023-04-28T03:11:16.903710",
     "exception": false,
     "start_time": "2023-04-28T03:11:16.897712",
     "status": "completed"
    },
    "tags": []
   },
   "source": [
    "By the way, did we mention that each play costs $1? Don't worry, we'll send you the bill later.\n",
    "\n",
    "On average, how much money can you expect to gain (or lose) every time you play the machine?  The casino keeps it a secret, but you can estimate the average value of each pull using a technique called the **Monte Carlo method**. To estimate the average outcome, we simulate the scenario many times, and return the average result.\n",
    "\n",
    "Complete the following function to calculate the average value per play of the slot machine."
   ]
  },
  {
   "cell_type": "code",
   "execution_count": 11,
   "id": "e2fb8b7e",
   "metadata": {
    "execution": {
     "iopub.execute_input": "2023-04-28T03:11:16.918493Z",
     "iopub.status.busy": "2023-04-28T03:11:16.917815Z",
     "iopub.status.idle": "2023-04-28T03:11:16.923074Z",
     "shell.execute_reply": "2023-04-28T03:11:16.922274Z"
    },
    "papermill": {
     "duration": 0.015414,
     "end_time": "2023-04-28T03:11:16.925306",
     "exception": false,
     "start_time": "2023-04-28T03:11:16.909892",
     "status": "completed"
    },
    "tags": []
   },
   "outputs": [],
   "source": [
    "def estimate_average_slot_payout(n_runs):\n",
    "    \"\"\"Run the slot machine n_runs times and return the average net profit per run.\n",
    "    Example calls (note that return value is nondeterministic!):\n",
    "    >>> estimate_average_slot_payout(1)\n",
    "    -1\n",
    "    >>> estimate_average_slot_payout(1)\n",
    "    0.5\n",
    "    \"\"\"\n",
    "    pass"
   ]
  },
  {
   "cell_type": "markdown",
   "id": "13dcca07",
   "metadata": {
    "papermill": {
     "duration": 0.00602,
     "end_time": "2023-04-28T03:11:16.937732",
     "exception": false,
     "start_time": "2023-04-28T03:11:16.931712",
     "status": "completed"
    },
    "tags": []
   },
   "source": [
    "When you think you know the expected value per spin, run the code cell below to view the solution and get credit for answering the question."
   ]
  },
  {
   "cell_type": "code",
   "execution_count": 12,
   "id": "2e1029a2",
   "metadata": {
    "execution": {
     "iopub.execute_input": "2023-04-28T03:11:16.952387Z",
     "iopub.status.busy": "2023-04-28T03:11:16.951721Z",
     "iopub.status.idle": "2023-04-28T03:11:16.960863Z",
     "shell.execute_reply": "2023-04-28T03:11:16.959872Z"
    },
    "papermill": {
     "duration": 0.019091,
     "end_time": "2023-04-28T03:11:16.963040",
     "exception": false,
     "start_time": "2023-04-28T03:11:16.943949",
     "status": "completed"
    },
    "tags": []
   },
   "outputs": [
    {
     "data": {
      "application/javascript": [
       "parent.postMessage({\"jupyterEvent\": \"custom.exercise_interaction\", \"data\": {\"interactionType\": 3, \"questionType\": 4, \"questionId\": \"4_ExpectedSlotsPayout\", \"learnToolsVersion\": \"0.3.4\", \"valueTowardsCompletion\": 0.0, \"failureMessage\": \"\", \"exceptionClass\": \"\", \"trace\": \"\", \"outcomeType\": 4}}, \"*\")"
      ],
      "text/plain": [
       "<IPython.core.display.Javascript object>"
      ]
     },
     "metadata": {},
     "output_type": "display_data"
    },
    {
     "data": {
      "text/markdown": [
       "<span style=\"color:#33cc99\">Solution:</span> \n",
       "    \n",
       "The exact expected value of one pull of the slot machine is 0.025 - i.e. a little more than 2 cents.  See?  Not every game in the Python Challenge Casino is rigged against the player!\n",
       "\n",
       "In order to get this answer, you'll need to implement the `estimate_average_slot_payout(n_runs)` function to simulate pulling the slot machine `n_runs` times.  It should return the payout averaged over those `n_runs`.\n",
       "\n",
       "Then, once the function is defined, in order to estimate the average slot payout, we need only call the function.\n",
       "\n",
       "Because of the high variance of the outcome (there are some very rare high payout results that significantly affect the average) you might need to run your function with a very high value of `n_runs` to get a stable answer close to the true expectation.  For instance, you might use a value for `n_runs` of 1000000.\n",
       "\n",
       "Here's an example for how the function could look:\n",
       "```python\n",
       "def estimate_average_slot_payout(n_runs):\n",
       "    # Play slot machine n_runs times, calculate payout of each\n",
       "    payouts = [play_slot_machine()-1 for i in range(n_runs)]\n",
       "    # Calculate the average value\n",
       "    avg_payout = sum(payouts) / n_runs\n",
       "    return avg_payout\n",
       "    \n",
       "estimate_average_slot_payout(10000000)\n",
       "\n",
       "```\n",
       "\n",
       "This should return an answer close to 0.025!\n",
       "            \n"
      ],
      "text/plain": [
       "Solution: \n",
       "    \n",
       "The exact expected value of one pull of the slot machine is 0.025 - i.e. a little more than 2 cents.  See?  Not every game in the Python Challenge Casino is rigged against the player!\n",
       "\n",
       "In order to get this answer, you'll need to implement the `estimate_average_slot_payout(n_runs)` function to simulate pulling the slot machine `n_runs` times.  It should return the payout averaged over those `n_runs`.\n",
       "\n",
       "Then, once the function is defined, in order to estimate the average slot payout, we need only call the function.\n",
       "\n",
       "Because of the high variance of the outcome (there are some very rare high payout results that significantly affect the average) you might need to run your function with a very high value of `n_runs` to get a stable answer close to the true expectation.  For instance, you might use a value for `n_runs` of 1000000.\n",
       "\n",
       "Here's an example for how the function could look:\n",
       "```python\n",
       "def estimate_average_slot_payout(n_runs):\n",
       "    # Play slot machine n_runs times, calculate payout of each\n",
       "    payouts = [play_slot_machine()-1 for i in range(n_runs)]\n",
       "    # Calculate the average value\n",
       "    avg_payout = sum(payouts) / n_runs\n",
       "    return avg_payout\n",
       "    \n",
       "estimate_average_slot_payout(10000000)\n",
       "\n",
       "```\n",
       "\n",
       "This should return an answer close to 0.025!\n",
       "            "
      ]
     },
     "metadata": {},
     "output_type": "display_data"
    }
   ],
   "source": [
    "# Check your answer (Run this code cell to receive credit!)\n",
    "q4.solution()"
   ]
  },
  {
   "cell_type": "markdown",
   "id": "bc3bcb8f",
   "metadata": {
    "papermill": {
     "duration": 0.006245,
     "end_time": "2023-04-28T03:11:16.976166",
     "exception": false,
     "start_time": "2023-04-28T03:11:16.969921",
     "status": "completed"
    },
    "tags": []
   },
   "source": [
    "# Keep Going\n",
    "\n",
    "Many programmers report that dictionaries are their favorite data structure. You'll get to **[learn about them](https://www.kaggle.com/colinmorris/strings-and-dictionaries)** (as well as strings) in the next lesson."
   ]
  },
  {
   "cell_type": "markdown",
   "id": "888e3d6f",
   "metadata": {
    "papermill": {
     "duration": 0.006325,
     "end_time": "2023-04-28T03:11:16.989202",
     "exception": false,
     "start_time": "2023-04-28T03:11:16.982877",
     "status": "completed"
    },
    "tags": []
   },
   "source": [
    "---\n",
    "\n",
    "\n",
    "\n",
    "\n",
    "*Have questions or comments? Visit the [course discussion forum](https://www.kaggle.com/learn/python/discussion) to chat with other learners.*"
   ]
  }
 ],
 "metadata": {
  "kernelspec": {
   "display_name": "Python 3",
   "language": "python",
   "name": "python3"
  },
  "language_info": {
   "codemirror_mode": {
    "name": "ipython",
    "version": 3
   },
   "file_extension": ".py",
   "mimetype": "text/x-python",
   "name": "python",
   "nbconvert_exporter": "python",
   "pygments_lexer": "ipython3",
   "version": "3.7.12"
  },
  "papermill": {
   "default_parameters": {},
   "duration": 11.490067,
   "end_time": "2023-04-28T03:11:17.617666",
   "environment_variables": {},
   "exception": null,
   "input_path": "__notebook__.ipynb",
   "output_path": "__notebook__.ipynb",
   "parameters": {},
   "start_time": "2023-04-28T03:11:06.127599",
   "version": "2.4.0"
  }
 },
 "nbformat": 4,
 "nbformat_minor": 5
}
